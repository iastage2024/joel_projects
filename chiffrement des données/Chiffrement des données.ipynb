{
  "cells": [
    {
      "cell_type": "code",
      "execution_count": null,
      "metadata": {
        "id": "dUEHeXLufmWj"
      },
      "outputs": [],
      "source": []
    },
    {
      "cell_type": "code",
      "execution_count": null,
      "metadata": {
        "id": "WAqNrOMQfpgf"
      },
      "outputs": [],
      "source": []
    },
    {
      "cell_type": "markdown",
      "metadata": {
        "id": "xBBnFslaf51y"
      },
      "source": [
        "Description\n",
        "\n",
        "Ce programme utilise RSA pour chiffrer un fichier texte (source.txt) et sauvegarder son contenu chiffré dans un autre fichier (source_finale.txt). Ensuite, il copie ce fichier chiffré dans un répertoire de destination à l'aide de la bibliothèque shutil. Le processus comprend plusieurs étapes :\n",
        "\n",
        "    1. Lecture du contenu du fichier source.\n",
        "    2. Chiffrement du contenu à l'aide de la cryptographie RSA.\n",
        "    3. Sauvegarde du contenu chiffré dans un fichier de sortie.\n",
        "    4. Copie du fichier chiffré dans un répertoire de destination.\n",
        "\n",
        "Prérequis\n",
        "\n",
        "    - Python 3.x\n",
        "    - Bibliothèque rsa pour la cryptographie RSA\n",
        "    - Bibliothèque shutil pour la gestion des fichiers"
      ]
    },
    {
      "cell_type": "markdown",
      "metadata": {
        "id": "fl-45VI0qKOE"
      },
      "source": [
        "Apres analyse, on remarque que pour un meme fichier le chiffrement asymétrique RSA prend 22.9 secondes alors que le chiffrement symetrique AES ne dure que 0.001secondes.\n",
        "Par ailleurs, on remarque le chiffrement RSA neccéssite 2 clés de chiffrements.\n",
        "La methode choisie : RSA\n"
      ]
    },
    {
      "cell_type": "markdown",
      "metadata": {
        "id": "zO0KU1XHqMeC"
      },
      "source": []
    },
    {
      "cell_type": "markdown",
      "metadata": {
        "id": "DLC3c2urqHB5"
      },
      "source": []
    },
    {
      "cell_type": "code",
      "execution_count": null,
      "metadata": {
        "id": "N601mPhgfqYI"
      },
      "outputs": [],
      "source": [
        "import rsa\n",
        "import shutil\n",
        "\n",
        "# Fichiers de source et destination\n",
        "source = './source.txt'\n",
        "destination = 'destination/'\n",
        "\n",
        "def get_content(name):\n",
        "  fichier = open(name, \"r\")\n",
        "  content = fichier.read()\n",
        "  fichier.close()\n",
        "  return content\n",
        "\n",
        "message1 = get_content(source)\n",
        "\n",
        "def rsa_method(message):\n",
        "    # Générer les clés publique et privée\n",
        "    public_key, private_key = rsa.newkeys(2048)\n",
        "\n",
        "    # Chiffrement avec la clé publique\n",
        "    ciphertext = rsa.encrypt(message.encode('utf-8'), public_key)\n",
        "\n",
        "    return ciphertext\n",
        "\n",
        "crytp_message1 = rsa_method(message1)\n",
        "\n",
        "def ecrire_fichier(contenu):\n",
        "  # Écrire le message chiffré dans un fichier binaire\n",
        "  with open(\"source_finale.txt\", 'wb') as fichier:  # Ouverture en mode binaire ('wb')\n",
        "    fichier.write(contenu)\n",
        "\n",
        "ecrire_fichier(crytp_message1)\n",
        "\n",
        "source_crypt = './source_finale.txt'\n",
        "\n",
        "# Copier le fichier dans le répertoire de destination\n",
        "shutil.copy(source_crypt, destination)\n"
      ]
    },
    {
      "cell_type": "code",
      "execution_count": null,
      "metadata": {
        "id": "fGElZu8TpAlJ"
      },
      "outputs": [],
      "source": []
    },
    {
      "cell_type": "markdown",
      "metadata": {
        "id": "2A4IJ_bRpBBC"
      },
      "source": [
        "Chiffrement symétrique AES"
      ]
    },
    {
      "cell_type": "code",
      "execution_count": null,
      "metadata": {
        "id": "HR6DkpSEpJMA"
      },
      "outputs": [],
      "source": [
        "from Crypto.Cipher import AES\n",
        "from Crypto.Util.Padding import pad, unpad\n",
        "from Crypto.Random import get_random_bytes\n",
        "\n",
        "def aes_method (plaintext):\n",
        "  # Générer une clé et un IV (vecteur d'initialisation)\n",
        "  key = get_random_bytes(16)  # AES-128\n",
        "  cipher = AES.new(key, AES.MODE_CBC)\n",
        "\n",
        "  # Ensure the plaintext is bytes before encryption\n",
        "  if isinstance(plaintext, str):  # Check if plaintext is a string\n",
        "    plaintext = plaintext.encode('utf-8')  # Encode to bytes if it's a string\n",
        "\n",
        "  # Chiffrement\n",
        "  ciphertext = cipher.encrypt(pad(plaintext, AES.block_size))\n",
        "\n",
        "  # Déchiffrement\n",
        "  cipher2 = AES.new(key, AES.MODE_CBC, cipher.iv)\n",
        "  decrypted = unpad(cipher2.decrypt(ciphertext), AES.block_size)\n",
        "\n",
        "  print(f\"Chiffrement: {ciphertext}\")\n",
        "  print(f\"Déchiffrement: {decrypted.decode()}\")\n",
        "\n",
        "  return ciphertext"
      ]
    },
    {
      "cell_type": "code",
      "execution_count": null,
      "metadata": {
        "id": "NmdFm16ipV-e"
      },
      "outputs": [],
      "source": []
    },
    {
      "cell_type": "markdown",
      "metadata": {
        "id": "hh7zryHwpWVK"
      },
      "source": [
        "CHOIX DE METHODE DE CHIFFREMENT"
      ]
    },
    {
      "cell_type": "code",
      "execution_count": null,
      "metadata": {
        "id": "XNguu9ZrpakO"
      },
      "outputs": [],
      "source": [
        "\n",
        "def test_rsa(filename):\n",
        "  file_content = get_content(filename)\n",
        "  start_time = time.time()\n",
        "  rsa_method(file_content)\n",
        "  end_time = time.time()\n",
        "  execution_time = end_time - start_time\n",
        "  print(f\"Temps d'exécution rsa method : {execution_time} secondes\")\n",
        "\n",
        "def test_aes(filename):\n",
        "  file_content = get_content(filename)\n",
        "  start_time = time.time()\n",
        "  aes_method(file_content)\n",
        "  end_time = time.time()\n",
        "  execution_time = end_time - start_time\n",
        "  print(f\"Temps d'exécution aes method : {execution_time} secondes\")\n",
        "\n",
        "test_rsa(source)\n",
        "test_aes(source)"
      ]
    },
    {
      "cell_type": "markdown",
      "metadata": {
        "id": "WSZ0hiTpptoI"
      },
      "source": [
        "Conclusion:"
      ]
    },
    {
      "cell_type": "markdown",
      "metadata": {
        "id": "xMAUx8A0pyEn"
      },
      "source": [
        "    Apres analyse, on remarque que pour un meme fichier le chiffrement asymétrique RSA prend 22.9 secondes alors que le chiffrement symetrique AES ne dure que 0.001secondes.\n",
        "    Par ailleurs, on remarque le chiffrement RSA neccéssite 2 clés de chiffrements.\n",
        "    La methode choisie : RSA"
      ]
    }
  ],
  "metadata": {
    "colab": {
      "provenance": []
    },
    "kernelspec": {
      "display_name": "Python 3",
      "name": "python3"
    },
    "language_info": {
      "name": "python"
    }
  },
  "nbformat": 4,
  "nbformat_minor": 0
}
