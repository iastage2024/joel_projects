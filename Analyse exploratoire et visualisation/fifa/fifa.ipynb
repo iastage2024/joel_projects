{
 "cells": [
  {
   "cell_type": "markdown",
   "metadata": {},
   "source": [
    "# Analyse Exploratoire des Données sur le Dataset al_players_clean\n",
    "Le jeux de données contient des données détaillées sur les joueurs de football, issues du jeu vidéo EA Sports.\n",
    "- Analyser les postes: certains postes sont-ils plus présents dans certains ligues.\n",
    "- Calculer la puissance (Sprint.Speed*Strength). Analyser le rapport poids:puissance par rapport au poste. Déduire, si possible des directives de recrutement."
   ]
  },
  {
   "cell_type": "code",
   "execution_count": 86,
   "metadata": {},
   "outputs": [],
   "source": [
    "# Importation des bibliothèques nécessaires\n",
    "import pandas as pd\n",
    "import numpy as np\n",
    "import matplotlib.pyplot as plt\n",
    "import seaborn as sns\n",
    "\n",
    "# Configuration des graphiques\n",
    "plt.style.use('ggplot')"
   ]
  },
  {
   "cell_type": "code",
   "execution_count": 87,
   "metadata": {},
   "outputs": [
    {
     "data": {
      "text/html": [
       "<div>\n",
       "<style scoped>\n",
       "    .dataframe tbody tr th:only-of-type {\n",
       "        vertical-align: middle;\n",
       "    }\n",
       "\n",
       "    .dataframe tbody tr th {\n",
       "        vertical-align: top;\n",
       "    }\n",
       "\n",
       "    .dataframe thead th {\n",
       "        text-align: right;\n",
       "    }\n",
       "</style>\n",
       "<table border=\"1\" class=\"dataframe\">\n",
       "  <thead>\n",
       "    <tr style=\"text-align: right;\">\n",
       "      <th></th>\n",
       "      <th>Name</th>\n",
       "      <th>OVR</th>\n",
       "      <th>PAC</th>\n",
       "      <th>SHO</th>\n",
       "      <th>PAS</th>\n",
       "      <th>DRI</th>\n",
       "      <th>DEF</th>\n",
       "      <th>PHY</th>\n",
       "      <th>Acceleration</th>\n",
       "      <th>Sprint.Speed</th>\n",
       "      <th>...</th>\n",
       "      <th>Nation</th>\n",
       "      <th>League</th>\n",
       "      <th>Team</th>\n",
       "      <th>url</th>\n",
       "      <th>GK.Diving</th>\n",
       "      <th>GK.Handling</th>\n",
       "      <th>GK.Kicking</th>\n",
       "      <th>GK.Positioning</th>\n",
       "      <th>GK.Reflexes</th>\n",
       "      <th>gender</th>\n",
       "    </tr>\n",
       "  </thead>\n",
       "  <tbody>\n",
       "    <tr>\n",
       "      <th>0</th>\n",
       "      <td>Kylian Mbappé</td>\n",
       "      <td>91</td>\n",
       "      <td>97</td>\n",
       "      <td>90</td>\n",
       "      <td>80</td>\n",
       "      <td>92</td>\n",
       "      <td>36</td>\n",
       "      <td>78</td>\n",
       "      <td>97</td>\n",
       "      <td>97</td>\n",
       "      <td>...</td>\n",
       "      <td>France</td>\n",
       "      <td>LALIGA EA SPORTS</td>\n",
       "      <td>Real Madrid</td>\n",
       "      <td>https://www.ea.com/games/ea-sports-fc/ratings/...</td>\n",
       "      <td>NaN</td>\n",
       "      <td>NaN</td>\n",
       "      <td>NaN</td>\n",
       "      <td>NaN</td>\n",
       "      <td>NaN</td>\n",
       "      <td>M</td>\n",
       "    </tr>\n",
       "    <tr>\n",
       "      <th>1</th>\n",
       "      <td>Rodri</td>\n",
       "      <td>91</td>\n",
       "      <td>66</td>\n",
       "      <td>80</td>\n",
       "      <td>86</td>\n",
       "      <td>84</td>\n",
       "      <td>87</td>\n",
       "      <td>85</td>\n",
       "      <td>65</td>\n",
       "      <td>66</td>\n",
       "      <td>...</td>\n",
       "      <td>Spain</td>\n",
       "      <td>Premier League</td>\n",
       "      <td>Manchester City</td>\n",
       "      <td>https://www.ea.com/games/ea-sports-fc/ratings/...</td>\n",
       "      <td>NaN</td>\n",
       "      <td>NaN</td>\n",
       "      <td>NaN</td>\n",
       "      <td>NaN</td>\n",
       "      <td>NaN</td>\n",
       "      <td>M</td>\n",
       "    </tr>\n",
       "    <tr>\n",
       "      <th>2</th>\n",
       "      <td>Erling Haaland</td>\n",
       "      <td>91</td>\n",
       "      <td>88</td>\n",
       "      <td>92</td>\n",
       "      <td>70</td>\n",
       "      <td>81</td>\n",
       "      <td>45</td>\n",
       "      <td>88</td>\n",
       "      <td>80</td>\n",
       "      <td>94</td>\n",
       "      <td>...</td>\n",
       "      <td>Norway</td>\n",
       "      <td>Premier League</td>\n",
       "      <td>Manchester City</td>\n",
       "      <td>https://www.ea.com/games/ea-sports-fc/ratings/...</td>\n",
       "      <td>NaN</td>\n",
       "      <td>NaN</td>\n",
       "      <td>NaN</td>\n",
       "      <td>NaN</td>\n",
       "      <td>NaN</td>\n",
       "      <td>M</td>\n",
       "    </tr>\n",
       "    <tr>\n",
       "      <th>3</th>\n",
       "      <td>Jude Bellingham</td>\n",
       "      <td>90</td>\n",
       "      <td>80</td>\n",
       "      <td>87</td>\n",
       "      <td>83</td>\n",
       "      <td>88</td>\n",
       "      <td>78</td>\n",
       "      <td>83</td>\n",
       "      <td>81</td>\n",
       "      <td>80</td>\n",
       "      <td>...</td>\n",
       "      <td>England</td>\n",
       "      <td>LALIGA EA SPORTS</td>\n",
       "      <td>Real Madrid</td>\n",
       "      <td>https://www.ea.com/games/ea-sports-fc/ratings/...</td>\n",
       "      <td>NaN</td>\n",
       "      <td>NaN</td>\n",
       "      <td>NaN</td>\n",
       "      <td>NaN</td>\n",
       "      <td>NaN</td>\n",
       "      <td>M</td>\n",
       "    </tr>\n",
       "    <tr>\n",
       "      <th>4</th>\n",
       "      <td>Vini Jr.</td>\n",
       "      <td>90</td>\n",
       "      <td>95</td>\n",
       "      <td>84</td>\n",
       "      <td>81</td>\n",
       "      <td>91</td>\n",
       "      <td>29</td>\n",
       "      <td>69</td>\n",
       "      <td>95</td>\n",
       "      <td>95</td>\n",
       "      <td>...</td>\n",
       "      <td>Brazil</td>\n",
       "      <td>LALIGA EA SPORTS</td>\n",
       "      <td>Real Madrid</td>\n",
       "      <td>https://www.ea.com/games/ea-sports-fc/ratings/...</td>\n",
       "      <td>NaN</td>\n",
       "      <td>NaN</td>\n",
       "      <td>NaN</td>\n",
       "      <td>NaN</td>\n",
       "      <td>NaN</td>\n",
       "      <td>M</td>\n",
       "    </tr>\n",
       "  </tbody>\n",
       "</table>\n",
       "<p>5 rows × 55 columns</p>\n",
       "</div>"
      ],
      "text/plain": [
       "              Name  OVR  PAC  SHO  PAS  DRI  DEF  PHY  Acceleration  \\\n",
       "0    Kylian Mbappé   91   97   90   80   92   36   78            97   \n",
       "1            Rodri   91   66   80   86   84   87   85            65   \n",
       "2   Erling Haaland   91   88   92   70   81   45   88            80   \n",
       "3  Jude Bellingham   90   80   87   83   88   78   83            81   \n",
       "4         Vini Jr.   90   95   84   81   91   29   69            95   \n",
       "\n",
       "   Sprint.Speed  ...   Nation            League             Team  \\\n",
       "0            97  ...   France  LALIGA EA SPORTS      Real Madrid   \n",
       "1            66  ...    Spain    Premier League  Manchester City   \n",
       "2            94  ...   Norway    Premier League  Manchester City   \n",
       "3            80  ...  England  LALIGA EA SPORTS      Real Madrid   \n",
       "4            95  ...   Brazil  LALIGA EA SPORTS      Real Madrid   \n",
       "\n",
       "                                                 url  GK.Diving  GK.Handling  \\\n",
       "0  https://www.ea.com/games/ea-sports-fc/ratings/...        NaN          NaN   \n",
       "1  https://www.ea.com/games/ea-sports-fc/ratings/...        NaN          NaN   \n",
       "2  https://www.ea.com/games/ea-sports-fc/ratings/...        NaN          NaN   \n",
       "3  https://www.ea.com/games/ea-sports-fc/ratings/...        NaN          NaN   \n",
       "4  https://www.ea.com/games/ea-sports-fc/ratings/...        NaN          NaN   \n",
       "\n",
       "   GK.Kicking  GK.Positioning  GK.Reflexes  gender  \n",
       "0         NaN             NaN          NaN       M  \n",
       "1         NaN             NaN          NaN       M  \n",
       "2         NaN             NaN          NaN       M  \n",
       "3         NaN             NaN          NaN       M  \n",
       "4         NaN             NaN          NaN       M  \n",
       "\n",
       "[5 rows x 55 columns]"
      ]
     },
     "execution_count": 87,
     "metadata": {},
     "output_type": "execute_result"
    }
   ],
   "source": [
    "# Charger le jeu de données Titanic\n",
    "df = pd.read_csv('all_players_clean.csv')  # Assurez-vous que le fichier est dans le bon répertoire\n",
    "\n",
    "# Afficher les 5 premières lignes du dataset\n",
    "df.head()"
   ]
  },
  {
   "cell_type": "markdown",
   "metadata": {},
   "source": [
    "## Aperçu des Données\n",
    "\n",
    "Examinez la structure du dataset : combien de lignes et de colonnes contient-il ? Quels types de données sont présents ? Utilisez ces informations"
   ]
  },
  {
   "cell_type": "code",
   "execution_count": 12,
   "metadata": {},
   "outputs": [
    {
     "name": "stdout",
     "output_type": "stream",
     "text": [
      "<class 'pandas.core.frame.DataFrame'>\n",
      "RangeIndex: 17737 entries, 0 to 17736\n",
      "Data columns (total 55 columns):\n",
      " #   Column                 Non-Null Count  Dtype  \n",
      "---  ------                 --------------  -----  \n",
      " 0   Name                   17737 non-null  object \n",
      " 1   OVR                    17737 non-null  int64  \n",
      " 2   PAC                    17737 non-null  int64  \n",
      " 3   SHO                    17737 non-null  int64  \n",
      " 4   PAS                    17737 non-null  int64  \n",
      " 5   DRI                    17737 non-null  int64  \n",
      " 6   DEF                    17737 non-null  int64  \n",
      " 7   PHY                    17737 non-null  int64  \n",
      " 8   Acceleration           17737 non-null  int64  \n",
      " 9   Sprint.Speed           17737 non-null  int64  \n",
      " 10  Positioning            16620 non-null  float64\n",
      " 11  Finishing              16684 non-null  float64\n",
      " 12  Shot.Power             17737 non-null  int64  \n",
      " 13  Long.Shots             16739 non-null  float64\n",
      " 14  Volleys                16681 non-null  float64\n",
      " 15  Penalties              17737 non-null  int64  \n",
      " 16  Vision                 17737 non-null  int64  \n",
      " 17  Crossing               17658 non-null  float64\n",
      " 18  Free.Kick.Accuracy     17669 non-null  float64\n",
      " 19  Short.Passing          17737 non-null  int64  \n",
      " 20  Long.Passing           17737 non-null  int64  \n",
      " 21  Curve                  17695 non-null  float64\n",
      " 22  Dribbling              17309 non-null  float64\n",
      " 23  Agility                17737 non-null  int64  \n",
      " 24  Balance                17737 non-null  int64  \n",
      " 25  Reactions              17737 non-null  int64  \n",
      " 26  Ball.Control           17737 non-null  int64  \n",
      " 27  Composure              17737 non-null  int64  \n",
      " 28  Interceptions          17330 non-null  float64\n",
      " 29  Heading.Accuracy       17651 non-null  float64\n",
      " 30  Def.Awareness          17010 non-null  float64\n",
      " 31  Standing.Tackle        17703 non-null  float64\n",
      " 32  Sliding.Tackle         17672 non-null  float64\n",
      " 33  Jumping                17737 non-null  int64  \n",
      " 34  Stamina                17737 non-null  int64  \n",
      " 35  Strength               17737 non-null  int64  \n",
      " 36  Aggression             17737 non-null  int64  \n",
      " 37  Position               17737 non-null  object \n",
      " 38  Weak.foot              17737 non-null  int64  \n",
      " 39  Skill.moves            17737 non-null  int64  \n",
      " 40  Preferred.foot         17737 non-null  object \n",
      " 41  Height                 17737 non-null  int64  \n",
      " 42  Weight                 17737 non-null  int64  \n",
      " 43  Alternative.positions  9778 non-null   object \n",
      " 44  Age                    17737 non-null  int64  \n",
      " 45  Nation                 17737 non-null  object \n",
      " 46  League                 17737 non-null  object \n",
      " 47  Team                   17737 non-null  object \n",
      " 48  url                    17737 non-null  object \n",
      " 49  GK.Diving              1999 non-null   float64\n",
      " 50  GK.Handling            1999 non-null   float64\n",
      " 51  GK.Kicking             1999 non-null   float64\n",
      " 52  GK.Positioning         1999 non-null   float64\n",
      " 53  GK.Reflexes            1999 non-null   float64\n",
      " 54  gender                 17737 non-null  object \n",
      "dtypes: float64(18), int64(28), object(9)\n",
      "memory usage: 7.4+ MB\n"
     ]
    }
   ],
   "source": [
    "# Dimensions du dataset\n",
    "df.shape\n",
    "# Types de données et aperçu des colonnes\n",
    "df.info()\n"
   ]
  },
  {
   "cell_type": "markdown",
   "metadata": {},
   "source": [
    "Le jeu de données présenté contient 17 737 observations (c'est-à-dire des joueurs de football individuels) et 55 variables (représentant différentes caractéristiques et performances des joueurs). La population étudiée est constituée de joueurs de football issus du jeu vidéo EA Sports. Chaque observation représente un joueur, avec des attributs liés à ses performances et ses statistiques dans le jeu."
   ]
  },
  {
   "cell_type": "markdown",
   "metadata": {},
   "source": [
    "## Analyse Univariée\n",
    "Comme nous avons plusieurs varibales, nous allons juste faire une étude univariée sur les variables que nous utiliserons"
   ]
  },
  {
   "cell_type": "markdown",
   "metadata": {},
   "source": [
    "## Création d'une fonction qui permettra de faire la description d'une variable catégorielle"
   ]
  },
  {
   "cell_type": "code",
   "execution_count": 13,
   "metadata": {},
   "outputs": [],
   "source": [
    "\n",
    "# Fonction qui génère un tableau et un graphique pour une variable catégorielle\n",
    "def analyse_categorielle(df, variable, titre_graphique=\"Répartition des catégories\", titre_x=\"Catégories\", titre_y=\"Fréquence (%)\"):\n",
    "    # Calcul des effectifs pour la variable choisie, triés par ordre décroissant\n",
    "    effectifs = df[variable].value_counts().sort_values(ascending=False)\n",
    "\n",
    "    # Calcul des fréquences en pourcentage\n",
    "    frequences = (effectifs / effectifs.sum()) * 100\n",
    "\n",
    "    # Créer un tableau avec les informations demandées\n",
    "    tableau = pd.DataFrame({\n",
    "        'Effectif': effectifs,\n",
    "        'Fréquence (%)': frequences.round(2)\n",
    "    })\n",
    "\n",
    "    # Ajouter une ligne 'Total' dans le tableau\n",
    "    tableau.loc['Total'] = [effectifs.sum(), frequences.sum().round(2)]\n",
    "\n",
    "    # Afficher le tableau\n",
    "    print(tableau)\n",
    "\n",
    "    # Tracer un diagramme des fréquences en pourcentage\n",
    "    plt.figure(figsize=(8, 6))\n",
    "    sns.barplot(x=effectifs.index, y=frequences.values, palette='Blues_d')\n",
    "    plt.title(titre_graphique)\n",
    "    plt.xlabel(titre_x)\n",
    "    plt.ylabel(titre_y)\n",
    "    plt.xticks(rotation=0)\n",
    "    plt.show()\n",
    "\n",
    "\n"
   ]
  },
  {
   "cell_type": "markdown",
   "metadata": {},
   "source": [
    "### Variable Position"
   ]
  },
  {
   "cell_type": "code",
   "execution_count": 14,
   "metadata": {},
   "outputs": [
    {
     "name": "stdout",
     "output_type": "stream",
     "text": [
      "          Effectif  Fréquence (%)\n",
      "Position                         \n",
      "CB          3185.0          17.96\n",
      "ST          2425.0          13.67\n",
      "CM          2139.0          12.06\n",
      "GK          1999.0          11.27\n",
      "CDM         1447.0           8.16\n",
      "RB          1404.0           7.92\n",
      "LB          1333.0           7.52\n",
      "LM          1035.0           5.84\n",
      "CAM         1024.0           5.77\n",
      "RM           961.0           5.42\n",
      "RW           402.0           2.27\n",
      "LW           383.0           2.16\n",
      "Total      17737.0         100.00\n"
     ]
    },
    {
     "name": "stderr",
     "output_type": "stream",
     "text": [
      "C:\\Users\\samba\\AppData\\Local\\Temp\\ipykernel_2368\\3354903562.py:23: FutureWarning: \n",
      "\n",
      "Passing `palette` without assigning `hue` is deprecated and will be removed in v0.14.0. Assign the `x` variable to `hue` and set `legend=False` for the same effect.\n",
      "\n",
      "  sns.barplot(x=effectifs.index, y=frequences.values, palette='Blues_d')\n"
     ]
    },
    {
     "data": {
      "image/png": "[encoded data removed]",
      "text/plain": [
       "<Figure size 800x600 with 1 Axes>"
      ]
     },
     "metadata": {},
     "output_type": "display_data"
    }
   ],
   "source": [
    "# Utilisation avec la variable 'Position'\n",
    "analyse_categorielle(df, 'Position', titre_graphique=\"Répartition des positions des joueurs\", titre_x=\"Position\", titre_y=\"Fréquence (%)\")"
   ]
  },
  {
   "cell_type": "markdown",
   "metadata": {},
   "source": [
    "Dans le jeu EA Sports, nous avons plus de défenseurs centraux (CB) avec 3185 joueurs, soit 17,96 % des joueurs, suivis des attaquants (ST) avec 13,67 % des joueurs. Les milieux droits (RM), ailiers droits (RW) et ailiers gauches (LW) occupent les dernières positions avec respectivement 5,42 %, 2,27 % et 2,16 % des joueurs."
   ]
  },
  {
   "cell_type": "markdown",
   "metadata": {},
   "source": [
    "### Variable ligue"
   ]
  },
  {
   "cell_type": "code",
   "execution_count": 15,
   "metadata": {},
   "outputs": [
    {
     "name": "stdout",
     "output_type": "stream",
     "text": [
      "                         Effectif  Fréquence (%)\n",
      "League                                          \n",
      "Sudamericana                826.0           4.66\n",
      "MLS                         762.0           4.30\n",
      "EFL Championship            683.0           3.85\n",
      "EFL League One              615.0           3.47\n",
      "Premier League              597.0           3.37\n",
      "Libertadores                574.0           3.24\n",
      "EFL League Two              562.0           3.17\n",
      "Serie A Enilive             537.0           3.03\n",
      "LALIGA EA SPORTS            529.0           2.98\n",
      "Bundesliga 2                503.0           2.84\n",
      "LALIGA HYPERMOTION          496.0           2.80\n",
      "3. Liga                     496.0           2.80\n",
      "Bundesliga                  485.0           2.73\n",
      "Ligue 1 McDonald's          464.0           2.62\n",
      "CSL                         449.0           2.53\n",
      "PKO BP Ekstraklasa          444.0           2.50\n",
      "K League 1                  435.0           2.45\n",
      "Eredivisie                  431.0           2.43\n",
      "Serie BKT                   420.0           2.37\n",
      "Liga Portugal               394.0           2.22\n",
      "1A Pro League               392.0           2.21\n",
      "ROSHN Saudi League          389.0           2.19\n",
      "Primera División            385.0           2.17\n",
      "Trendyol Süper Lig          381.0           2.15\n",
      "Eliteserien                 375.0           2.11\n",
      "Allsvenskan                 373.0           2.10\n",
      "SUPERLIGA                   371.0           2.09\n",
      "Ligue 2 BKT                 361.0           2.04\n",
      "NWSL                        347.0           1.96\n",
      "Liga F                      327.0           1.84\n",
      "Ö. Bundesliga               320.0           1.80\n",
      "CSSL                        320.0           1.80\n",
      "Scottish Prem               310.0           1.75\n",
      "3F Superliga                299.0           1.69\n",
      "GPFBL                       289.0           1.63\n",
      "ISL                         266.0           1.50\n",
      "Barclays WSL                255.0           1.44\n",
      "SSE Airtricity PD           233.0           1.31\n",
      "A-League                    225.0           1.27\n",
      "Arkema PL                   198.0           1.12\n",
      "Hellas Liga                 113.0           0.64\n",
      "Česká Liga                   77.0           0.43\n",
      "Ukrayina Liha                56.0           0.32\n",
      "Liga Hrvatska                54.0           0.30\n",
      "Calcio A Femminile           41.0           0.23\n",
      "Magyar Liga                  32.0           0.18\n",
      "Liga Cyprus                  28.0           0.16\n",
      "Finnliiga                    28.0           0.16\n",
      "United Emirates League       27.0           0.15\n",
      "Scottish Women's League      24.0           0.14\n",
      "Liga Colombia                23.0           0.13\n",
      "Liga Azerbaijan              21.0           0.12\n",
      "Nederland Vrouwen Liga       21.0           0.12\n",
      "Sverige Liga                 21.0           0.12\n",
      "Liga Portugal Feminino       20.0           0.11\n",
      "Ceska Liga Žen               18.0           0.10\n",
      "Schweizer Damen Liga         15.0           0.08\n",
      "Total                     17737.0         100.00\n"
     ]
    },
    {
     "name": "stderr",
     "output_type": "stream",
     "text": [
      "C:\\Users\\samba\\AppData\\Local\\Temp\\ipykernel_2368\\3354903562.py:23: FutureWarning: \n",
      "\n",
      "Passing `palette` without assigning `hue` is deprecated and will be removed in v0.14.0. Assign the `x` variable to `hue` and set `legend=False` for the same effect.\n",
      "\n",
      "  sns.barplot(x=effectifs.index, y=frequences.values, palette='Blues_d')\n"
     ]
    },
    {
     "data": {
      "image/png": "[encoded data removed]",
      "text/plain": [
       "<Figure size 800x600 with 1 Axes>"
      ]
     },
     "metadata": {},
     "output_type": "display_data"
    }
   ],
   "source": [
    "# Utilisation avec la variable 'Leadue'\n",
    "analyse_categorielle(df, 'League', titre_graphique=\"Répartition des ligues des joueurs\", titre_x=\"Ligues\", titre_y=\"Fréquence (%)\")"
   ]
  },
  {
   "cell_type": "markdown",
   "metadata": {},
   "source": [
    "### Fonction pour obtenir le nombre de modalités qui ont un fréquence supérireur ou égal à un seuil"
   ]
  },
  {
   "cell_type": "code",
   "execution_count": 76,
   "metadata": {},
   "outputs": [],
   "source": [
    "\n",
    "# Fonction pour obtenir le nombre de ligues avec une fréquence >= seuil (le seuil peut être un float)\n",
    "def count_leagues_above_threshold(df, variable, seuil=2.0):\n",
    "    \"\"\"\n",
    "    Compte le nombre de catégories dans une variable dont la fréquence est supérieure ou égale au seuil.\n",
    "\n",
    "    Parameters:\n",
    "    df (DataFrame): Le DataFrame contenant les données.\n",
    "    variable (str): Le nom de la variable catégorielle à analyser.\n",
    "    seuil (float): Le seuil de fréquence minimum en pourcentage (par exemple, 2.0 pour 2%).\n",
    "\n",
    "    Returns:\n",
    "    int: Le nombre de catégories au-dessus du seuil de fréquence.\n",
    "    \"\"\"\n",
    "    # Calcul des effectifs pour la variable choisie, triés par ordre décroissant\n",
    "    effectifs = df[variable].value_counts().sort_values(ascending=False)\n",
    "    \n",
    "    # Calcul des fréquences en pourcentage\n",
    "    frequences = (effectifs / effectifs.sum()) * 100\n",
    "    \n",
    "    # Filtrer les ligues avec une fréquence >= seuil\n",
    "    ligues_above_threshold = frequences[frequences >= seuil]\n",
    "    \n",
    "    # Retourner le nombre de ligues au-dessus du seuil\n",
    "    return len(ligues_above_threshold)\n",
    "\n",
    "\n"
   ]
  },
  {
   "cell_type": "code",
   "execution_count": 44,
   "metadata": {},
   "outputs": [
    {
     "name": "stdout",
     "output_type": "stream",
     "text": [
      "Nombre de ligues avec une fréquence >= 2% : 28\n"
     ]
    }
   ],
   "source": [
    "# Utilisation avec la variable 'League'\n",
    "nombre_ligues = count_leagues_above_threshold(df, 'League', seuil=2.0)\n",
    "print(f\"Nombre de ligues avec une fréquence >= 2% : {nombre_ligues}\")"
   ]
  },
  {
   "cell_type": "markdown",
   "metadata": {},
   "source": [
    "### Fonction pour recupérer que les ligues qui ont une fréquence données\n",
    "Nous avons choisi le seuil de 2%, car une ligue qui regroupe au moins 2% des joueurs compte environ 354 joueurs, ce qui correspond à une ligue d'environ 14 équipes. Ce seuil nous permet d'obtenir une meilleure représentation dans les graphes et d'assurer que les ligues sélectionnées disposent d'un effectif suffisamment significatif pour être analysées de manière pertinente."
   ]
  },
  {
   "cell_type": "code",
   "execution_count": 77,
   "metadata": {},
   "outputs": [],
   "source": [
    "import pandas as pd\n",
    "\n",
    "# Fonction généralisée pour filtrer les lignes d'un DataFrame selon la fréquence d'une variable\n",
    "def filter_by_frequency(df_source, variable, seuil=2.0):\n",
    "    \"\"\"\n",
    "    Filtre les lignes du DataFrame df_source selon la fréquence de la variable choisie et \n",
    "    stocke le résultat dans df_target.\n",
    "    \n",
    "    Parameters:\n",
    "    df_source (DataFrame): Le DataFrame source à analyser\n",
    "    df_target (DataFrame): Le DataFrame cible où les résultats filtrés seront stockés\n",
    "    variable (str): Le nom de la variable catégorielle à analyser\n",
    "    seuil (float): Le seuil de fréquence minimum (en pourcentage) pour filtrer les lignes\n",
    "    \n",
    "    Returns:\n",
    "    DataFrame: Un nouveau DataFrame contenant les lignes filtrées\n",
    "    \"\"\"\n",
    "    # Calcul des effectifs pour la variable choisie, triés par ordre décroissant\n",
    "    effectifs = df_source[variable].value_counts().sort_values(ascending=False)\n",
    "    \n",
    "    # Calcul des fréquences en pourcentage\n",
    "    frequences = (effectifs / effectifs.sum()) * 100\n",
    "    \n",
    "    # Obtenir les catégories de la variable qui ont une fréquence >= seuil\n",
    "    categories_above_threshold = frequences[frequences >= seuil].index\n",
    "    \n",
    "    # Filtrer le DataFrame source pour garder uniquement les lignes correspondantes aux catégories\n",
    "    df_target = df_source[df_source[variable].isin(categories_above_threshold)]\n",
    "    \n",
    "    return df_target\n",
    "\n",
    "\n"
   ]
  },
  {
   "cell_type": "code",
   "execution_count": 46,
   "metadata": {},
   "outputs": [
    {
     "name": "stdout",
     "output_type": "stream",
     "text": [
      "                  Name  OVR  PAC  SHO  PAS  DRI  DEF  PHY  Acceleration  \\\n",
      "0        Kylian Mbappé   91   97   90   80   92   36   78            97   \n",
      "1                Rodri   91   66   80   86   84   87   85            65   \n",
      "2       Erling Haaland   91   88   92   70   81   45   88            80   \n",
      "3      Jude Bellingham   90   80   87   83   88   78   83            81   \n",
      "4             Vini Jr.   90   95   84   81   91   29   69            95   \n",
      "...                ...  ...  ...  ...  ...  ...  ...  ...           ...   \n",
      "16154    Park Jin Hong   47   65   36   43   47   36   58            68   \n",
      "16157    Ousmane Sylla   47   67   38   46   45   40   55            66   \n",
      "16158         Wei Feng   47   57   47   38   50   43   49            55   \n",
      "16159       Won Hui Do   47   66   35   46   46   41   64            69   \n",
      "16160        Wu Yuhang   47   56   34   43   45   43   54            51   \n",
      "\n",
      "       Sprint.Speed  ...          Nation            League             Team  \\\n",
      "0                97  ...          France  LALIGA EA SPORTS      Real Madrid   \n",
      "1                66  ...           Spain    Premier League  Manchester City   \n",
      "2                94  ...          Norway    Premier League  Manchester City   \n",
      "3                80  ...         England  LALIGA EA SPORTS      Real Madrid   \n",
      "4                95  ...          Brazil  LALIGA EA SPORTS      Real Madrid   \n",
      "...             ...  ...             ...               ...              ...   \n",
      "16154            62  ...  Korea Republic        K League 1   Incheon United   \n",
      "16157            67  ...         Senegal               MLS   Houston Dynamo   \n",
      "16158            59  ...        China PR               CSL  Changchun Yatai   \n",
      "16159            63  ...  Korea Republic        K League 1      Jeju United   \n",
      "16160            60  ...        China PR               CSL     Zhejiang Pro   \n",
      "\n",
      "                                                     url  GK.Diving  \\\n",
      "0      https://www.ea.com/games/ea-sports-fc/ratings/...        NaN   \n",
      "1      https://www.ea.com/games/ea-sports-fc/ratings/...        NaN   \n",
      "2      https://www.ea.com/games/ea-sports-fc/ratings/...        NaN   \n",
      "3      https://www.ea.com/games/ea-sports-fc/ratings/...        NaN   \n",
      "4      https://www.ea.com/games/ea-sports-fc/ratings/...        NaN   \n",
      "...                                                  ...        ...   \n",
      "16154  https://www.ea.com/games/ea-sports-fc/ratings/...        NaN   \n",
      "16157  https://www.ea.com/games/ea-sports-fc/ratings/...        NaN   \n",
      "16158  https://www.ea.com/games/ea-sports-fc/ratings/...        NaN   \n",
      "16159  https://www.ea.com/games/ea-sports-fc/ratings/...        NaN   \n",
      "16160  https://www.ea.com/games/ea-sports-fc/ratings/...        NaN   \n",
      "\n",
      "       GK.Handling  GK.Kicking  GK.Positioning  GK.Reflexes  gender  \n",
      "0              NaN         NaN             NaN          NaN       M  \n",
      "1              NaN         NaN             NaN          NaN       M  \n",
      "2              NaN         NaN             NaN          NaN       M  \n",
      "3              NaN         NaN             NaN          NaN       M  \n",
      "4              NaN         NaN             NaN          NaN       M  \n",
      "...            ...         ...             ...          ...     ...  \n",
      "16154          NaN         NaN             NaN          NaN       M  \n",
      "16157          NaN         NaN             NaN          NaN       M  \n",
      "16158          NaN         NaN             NaN          NaN       M  \n",
      "16159          NaN         NaN             NaN          NaN       M  \n",
      "16160          NaN         NaN             NaN          NaN       M  \n",
      "\n",
      "[13729 rows x 55 columns]\n"
     ]
    }
   ],
   "source": [
    "# utilisation avec un DataFrame source et une variable\n",
    "df_2 = filter_by_frequency(df, 'League', seuil=2.0)\n",
    "\n",
    "# Affichage du DataFrame filtré\n",
    "print(df_2)"
   ]
  },
  {
   "cell_type": "code",
   "execution_count": 88,
   "metadata": {},
   "outputs": [
    {
     "name": "stdout",
     "output_type": "stream",
     "text": [
      "                    Effectif  Fréquence (%)\n",
      "League                                     \n",
      "Sudamericana             826           6.02\n",
      "MLS                      762           5.55\n",
      "EFL Championship         683           4.97\n",
      "EFL League One           615           4.48\n",
      "Premier League           597           4.35\n",
      "Libertadores             574           4.18\n",
      "EFL League Two           562           4.09\n",
      "Serie A Enilive          537           3.91\n",
      "LALIGA EA SPORTS         529           3.85\n",
      "Bundesliga 2             503           3.66\n",
      "3. Liga                  496           3.61\n",
      "LALIGA HYPERMOTION       496           3.61\n",
      "Bundesliga               485           3.53\n",
      "Ligue 1 McDonald's       464           3.38\n",
      "CSL                      449           3.27\n",
      "PKO BP Ekstraklasa       444           3.23\n",
      "K League 1               435           3.17\n",
      "Eredivisie               431           3.14\n",
      "Serie BKT                420           3.06\n",
      "Liga Portugal            394           2.87\n",
      "1A Pro League            392           2.86\n",
      "ROSHN Saudi League       389           2.83\n",
      "Primera División         385           2.80\n",
      "Trendyol Süper Lig       381           2.78\n",
      "Eliteserien              375           2.73\n",
      "Allsvenskan              373           2.72\n",
      "SUPERLIGA                371           2.70\n",
      "Ligue 2 BKT              361           2.63\n"
     ]
    },
    {
     "data": {
      "application/vnd.plotly.v1+json": {
       "config": {
        "plotlyServerURL": "https://plot.ly"
       },
       "data": [
        {
         "alignmentgroup": "True",
         "customdata": [
          [
           826
          ],
          [
           762
          ],
          [
           683
          ],
          [
           615
          ],
          [
           597
          ],
          [
           574
          ],
          [
           562
          ],
          [
           537
          ],
          [
           529
          ],
          [
           503
          ],
          [
           496
          ],
          [
           496
          ],
          [
           485
          ],
          [
           464
          ],
          [
           449
          ],
          [
           444
          ],
          [
           435
          ],
          [
           431
          ],
          [
           420
          ],
          [
           394
          ],
          [
           392
          ],
          [
           389
          ],
          [
           385
          ],
          [
           381
          ],
          [
           375
          ],
          [
           373
          ],
          [
           371
          ],
          [
           361
          ]
         ],
         "hovertemplate": "Ligues=%{x}<br>Fréquence (%)=%{y:.2f}<br>Effectif=%{customdata[0]}<extra></extra>",
         "legendgroup": "",
         "marker": {
          "color": "#636efa",
          "pattern": {
           "shape": ""
          }
         },
         "name": "",
         "offsetgroup": "",
         "orientation": "v",
         "showlegend": false,
         "text": [
          826,
          762,
          683,
          615,
          597,
          574,
          562,
          537,
          529,
          503,
          496,
          496,
          485,
          464,
          449,
          444,
          435,
          431,
          420,
          394,
          392,
          389,
          385,
          381,
          375,
          373,
          371,
          361
         ],
         "textposition": "auto",
         "type": "bar",
         "x": [
          "Sudamericana",
          "MLS",
          "EFL Championship",
          "EFL League One",
          "Premier League",
          "Libertadores",
          "EFL League Two",
          "Serie A Enilive",
          "LALIGA EA SPORTS",
          "Bundesliga 2",
          "3. Liga",
          "LALIGA HYPERMOTION",
          "Bundesliga",
          "Ligue 1 McDonald's",
          "CSL",
          "PKO BP Ekstraklasa",
          "K League 1",
          "Eredivisie",
          "Serie BKT",
          "Liga Portugal",
          "1A Pro League",
          "ROSHN Saudi League",
          "Primera División",
          "Trendyol Süper Lig",
          "Eliteserien",
          "Allsvenskan",
          "SUPERLIGA",
          "Ligue 2 BKT"
         ],
         "xaxis": "x",
         "y": [
          6.02,
          5.55,
          4.97,
          4.48,
          4.35,
          4.18,
          4.09,
          3.91,
          3.85,
          3.66,
          3.61,
          3.61,
          3.53,
          3.38,
          3.27,
          3.23,
          3.17,
          3.14,
          3.06,
          2.87,
          2.86,
          2.83,
          2.8,
          2.78,
          2.73,
          2.72,
          2.7,
          2.63
         ],
         "yaxis": "y"
        }
       ],
       "layout": {
        "barmode": "relative",
        "font": {
         "size": 10
        },
        "legend": {
         "tracegroupgap": 0
        },
        "showlegend": false,
        "template": {
         "data": {
          "bar": [
           {
            "error_x": {
             "color": "#2a3f5f"
            },
            "error_y": {
             "color": "#2a3f5f"
            },
            "marker": {
             "line": {
              "color": "#E5ECF6",
              "width": 0.5
             },
             "pattern": {
              "fillmode": "overlay",
              "size": 10,
              "solidity": 0.2
             }
            },
            "type": "bar"
           }
          ],
          "barpolar": [
           {
            "marker": {
             "line": {
              "color": "#E5ECF6",
              "width": 0.5
             },
             "pattern": {
              "fillmode": "overlay",
              "size": 10,
              "solidity": 0.2
             }
            },
            "type": "barpolar"
           }
          ],
          "carpet": [
           {
            "aaxis": {
             "endlinecolor": "#2a3f5f",
             "gridcolor": "white",
             "linecolor": "white",
             "minorgridcolor": "white",
             "startlinecolor": "#2a3f5f"
            },
            "baxis": {
             "endlinecolor": "#2a3f5f",
             "gridcolor": "white",
             "linecolor": "white",
             "minorgridcolor": "white",
             "startlinecolor": "#2a3f5f"
            },
            "type": "carpet"
           }
          ],
          "choropleth": [
           {
            "colorbar": {
             "outlinewidth": 0,
             "ticks": ""
            },
            "type": "choropleth"
           }
          ],
          "contour": [
           {
            "colorbar": {
             "outlinewidth": 0,
             "ticks": ""
            },
            "colorscale": [
             [
              0,
              "#0d0887"
             ],
             [
              0.1111111111111111,
              "#46039f"
             ],
             [
              0.2222222222222222,
              "#7201a8"
             ],
             [
              0.3333333333333333,
              "#9c179e"
             ],
             [
              0.4444444444444444,
              "#bd3786"
             ],
             [
              0.5555555555555556,
              "#d8576b"
             ],
             [
              0.6666666666666666,
              "#ed7953"
             ],
             [
              0.7777777777777778,
              "#fb9f3a"
             ],
             [
              0.8888888888888888,
              "#fdca26"
             ],
             [
              1,
              "#f0f921"
             ]
            ],
            "type": "contour"
           }
          ],
          "contourcarpet": [
           {
            "colorbar": {
             "outlinewidth": 0,
             "ticks": ""
            },
            "type": "contourcarpet"
           }
          ],
          "heatmap": [
           {
            "colorbar": {
             "outlinewidth": 0,
             "ticks": ""
            },
            "colorscale": [
             [
              0,
              "#0d0887"
             ],
             [
              0.1111111111111111,
              "#46039f"
             ],
             [
              0.2222222222222222,
              "#7201a8"
             ],
             [
              0.3333333333333333,
              "#9c179e"
             ],
             [
              0.4444444444444444,
              "#bd3786"
             ],
             [
              0.5555555555555556,
              "#d8576b"
             ],
             [
              0.6666666666666666,
              "#ed7953"
             ],
             [
              0.7777777777777778,
              "#fb9f3a"
             ],
             [
              0.8888888888888888,
              "#fdca26"
             ],
             [
              1,
              "#f0f921"
             ]
            ],
            "type": "heatmap"
           }
          ],
          "heatmapgl": [
           {
            "colorbar": {
             "outlinewidth": 0,
             "ticks": ""
            },
            "colorscale": [
             [
              0,
              "#0d0887"
             ],
             [
              0.1111111111111111,
              "#46039f"
             ],
             [
              0.2222222222222222,
              "#7201a8"
             ],
             [
              0.3333333333333333,
              "#9c179e"
             ],
             [
              0.4444444444444444,
              "#bd3786"
             ],
             [
              0.5555555555555556,
              "#d8576b"
             ],
             [
              0.6666666666666666,
              "#ed7953"
             ],
             [
              0.7777777777777778,
              "#fb9f3a"
             ],
             [
              0.8888888888888888,
              "#fdca26"
             ],
             [
              1,
              "#f0f921"
             ]
            ],
            "type": "heatmapgl"
           }
          ],
          "histogram": [
           {
            "marker": {
             "pattern": {
              "fillmode": "overlay",
              "size": 10,
              "solidity": 0.2
             }
            },
            "type": "histogram"
           }
          ],
          "histogram2d": [
           {
            "colorbar": {
             "outlinewidth": 0,
             "ticks": ""
            },
            "colorscale": [
             [
              0,
              "#0d0887"
             ],
             [
              0.1111111111111111,
              "#46039f"
             ],
             [
              0.2222222222222222,
              "#7201a8"
             ],
             [
              0.3333333333333333,
              "#9c179e"
             ],
             [
              0.4444444444444444,
              "#bd3786"
             ],
             [
              0.5555555555555556,
              "#d8576b"
             ],
             [
              0.6666666666666666,
              "#ed7953"
             ],
             [
              0.7777777777777778,
              "#fb9f3a"
             ],
             [
              0.8888888888888888,
              "#fdca26"
             ],
             [
              1,
              "#f0f921"
             ]
            ],
            "type": "histogram2d"
           }
          ],
          "histogram2dcontour": [
           {
            "colorbar": {
             "outlinewidth": 0,
             "ticks": ""
            },
            "colorscale": [
             [
              0,
              "#0d0887"
             ],
             [
              0.1111111111111111,
              "#46039f"
             ],
             [
              0.2222222222222222,
              "#7201a8"
             ],
             [
              0.3333333333333333,
              "#9c179e"
             ],
             [
              0.4444444444444444,
              "#bd3786"
             ],
             [
              0.5555555555555556,
              "#d8576b"
             ],
             [
              0.6666666666666666,
              "#ed7953"
             ],
             [
              0.7777777777777778,
              "#fb9f3a"
             ],
             [
              0.8888888888888888,
              "#fdca26"
             ],
             [
              1,
              "#f0f921"
             ]
            ],
            "type": "histogram2dcontour"
           }
          ],
          "mesh3d": [
           {
            "colorbar": {
             "outlinewidth": 0,
             "ticks": ""
            },
            "type": "mesh3d"
           }
          ],
          "parcoords": [
           {
            "line": {
             "colorbar": {
              "outlinewidth": 0,
              "ticks": ""
             }
            },
            "type": "parcoords"
           }
          ],
          "pie": [
           {
            "automargin": true,
            "type": "pie"
           }
          ],
          "scatter": [
           {
            "fillpattern": {
             "fillmode": "overlay",
             "size": 10,
             "solidity": 0.2
            },
            "type": "scatter"
           }
          ],
          "scatter3d": [
           {
            "line": {
             "colorbar": {
              "outlinewidth": 0,
              "ticks": ""
             }
            },
            "marker": {
             "colorbar": {
              "outlinewidth": 0,
              "ticks": ""
             }
            },
            "type": "scatter3d"
           }
          ],
          "scattercarpet": [
           {
            "marker": {
             "colorbar": {
              "outlinewidth": 0,
              "ticks": ""
             }
            },
            "type": "scattercarpet"
           }
          ],
          "scattergeo": [
           {
            "marker": {
             "colorbar": {
              "outlinewidth": 0,
              "ticks": ""
             }
            },
            "type": "scattergeo"
           }
          ],
          "scattergl": [
           {
            "marker": {
             "colorbar": {
              "outlinewidth": 0,
              "ticks": ""
             }
            },
            "type": "scattergl"
           }
          ],
          "scattermapbox": [
           {
            "marker": {
             "colorbar": {
              "outlinewidth": 0,
              "ticks": ""
             }
            },
            "type": "scattermapbox"
           }
          ],
          "scatterpolar": [
           {
            "marker": {
             "colorbar": {
              "outlinewidth": 0,
              "ticks": ""
             }
            },
            "type": "scatterpolar"
           }
          ],
          "scatterpolargl": [
           {
            "marker": {
             "colorbar": {
              "outlinewidth": 0,
              "ticks": ""
             }
            },
            "type": "scatterpolargl"
           }
          ],
          "scatterternary": [
           {
            "marker": {
             "colorbar": {
              "outlinewidth": 0,
              "ticks": ""
             }
            },
            "type": "scatterternary"
           }
          ],
          "surface": [
           {
            "colorbar": {
             "outlinewidth": 0,
             "ticks": ""
            },
            "colorscale": [
             [
              0,
              "#0d0887"
             ],
             [
              0.1111111111111111,
              "#46039f"
             ],
             [
              0.2222222222222222,
              "#7201a8"
             ],
             [
              0.3333333333333333,
              "#9c179e"
             ],
             [
              0.4444444444444444,
              "#bd3786"
             ],
             [
              0.5555555555555556,
              "#d8576b"
             ],
             [
              0.6666666666666666,
              "#ed7953"
             ],
             [
              0.7777777777777778,
              "#fb9f3a"
             ],
             [
              0.8888888888888888,
              "#fdca26"
             ],
             [
              1,
              "#f0f921"
             ]
            ],
            "type": "surface"
           }
          ],
          "table": [
           {
            "cells": {
             "fill": {
              "color": "#EBF0F8"
             },
             "line": {
              "color": "white"
             }
            },
            "header": {
             "fill": {
              "color": "#C8D4E3"
             },
             "line": {
              "color": "white"
             }
            },
            "type": "table"
           }
          ]
         },
         "layout": {
          "annotationdefaults": {
           "arrowcolor": "#2a3f5f",
           "arrowhead": 0,
           "arrowwidth": 1
          },
          "autotypenumbers": "strict",
          "coloraxis": {
           "colorbar": {
            "outlinewidth": 0,
            "ticks": ""
           }
          },
          "colorscale": {
           "diverging": [
            [
             0,
             "#8e0152"
            ],
            [
             0.1,
             "#c51b7d"
            ],
            [
             0.2,
             "#de77ae"
            ],
            [
             0.3,
             "#f1b6da"
            ],
            [
             0.4,
             "#fde0ef"
            ],
            [
             0.5,
             "#f7f7f7"
            ],
            [
             0.6,
             "#e6f5d0"
            ],
            [
             0.7,
             "#b8e186"
            ],
            [
             0.8,
             "#7fbc41"
            ],
            [
             0.9,
             "#4d9221"
            ],
            [
             1,
             "#276419"
            ]
           ],
           "sequential": [
            [
             0,
             "#0d0887"
            ],
            [
             0.1111111111111111,
             "#46039f"
            ],
            [
             0.2222222222222222,
             "#7201a8"
            ],
            [
             0.3333333333333333,
             "#9c179e"
            ],
            [
             0.4444444444444444,
             "#bd3786"
            ],
            [
             0.5555555555555556,
             "#d8576b"
            ],
            [
             0.6666666666666666,
             "#ed7953"
            ],
            [
             0.7777777777777778,
             "#fb9f3a"
            ],
            [
             0.8888888888888888,
             "#fdca26"
            ],
            [
             1,
             "#f0f921"
            ]
           ],
           "sequentialminus": [
            [
             0,
             "#0d0887"
            ],
            [
             0.1111111111111111,
             "#46039f"
            ],
            [
             0.2222222222222222,
             "#7201a8"
            ],
            [
             0.3333333333333333,
             "#9c179e"
            ],
            [
             0.4444444444444444,
             "#bd3786"
            ],
            [
             0.5555555555555556,
             "#d8576b"
            ],
            [
             0.6666666666666666,
             "#ed7953"
            ],
            [
             0.7777777777777778,
             "#fb9f3a"
            ],
            [
             0.8888888888888888,
             "#fdca26"
            ],
            [
             1,
             "#f0f921"
            ]
           ]
          },
          "colorway": [
           "#636efa",
           "#EF553B",
           "#00cc96",
           "#ab63fa",
           "#FFA15A",
           "#19d3f3",
           "#FF6692",
           "#B6E880",
           "#FF97FF",
           "#FECB52"
          ],
          "font": {
           "color": "#2a3f5f"
          },
          "geo": {
           "bgcolor": "white",
           "lakecolor": "white",
           "landcolor": "#E5ECF6",
           "showlakes": true,
           "showland": true,
           "subunitcolor": "white"
          },
          "hoverlabel": {
           "align": "left"
          },
          "hovermode": "closest",
          "mapbox": {
           "style": "light"
          },
          "paper_bgcolor": "white",
          "plot_bgcolor": "#E5ECF6",
          "polar": {
           "angularaxis": {
            "gridcolor": "white",
            "linecolor": "white",
            "ticks": ""
           },
           "bgcolor": "#E5ECF6",
           "radialaxis": {
            "gridcolor": "white",
            "linecolor": "white",
            "ticks": ""
           }
          },
          "scene": {
           "xaxis": {
            "backgroundcolor": "#E5ECF6",
            "gridcolor": "white",
            "gridwidth": 2,
            "linecolor": "white",
            "showbackground": true,
            "ticks": "",
            "zerolinecolor": "white"
           },
           "yaxis": {
            "backgroundcolor": "#E5ECF6",
            "gridcolor": "white",
            "gridwidth": 2,
            "linecolor": "white",
            "showbackground": true,
            "ticks": "",
            "zerolinecolor": "white"
           },
           "zaxis": {
            "backgroundcolor": "#E5ECF6",
            "gridcolor": "white",
            "gridwidth": 2,
            "linecolor": "white",
            "showbackground": true,
            "ticks": "",
            "zerolinecolor": "white"
           }
          },
          "shapedefaults": {
           "line": {
            "color": "#2a3f5f"
           }
          },
          "ternary": {
           "aaxis": {
            "gridcolor": "white",
            "linecolor": "white",
            "ticks": ""
           },
           "baxis": {
            "gridcolor": "white",
            "linecolor": "white",
            "ticks": ""
           },
           "bgcolor": "#E5ECF6",
           "caxis": {
            "gridcolor": "white",
            "linecolor": "white",
            "ticks": ""
           }
          },
          "title": {
           "x": 0.05
          },
          "xaxis": {
           "automargin": true,
           "gridcolor": "white",
           "linecolor": "white",
           "ticks": "",
           "title": {
            "standoff": 15
           },
           "zerolinecolor": "white",
           "zerolinewidth": 2
          },
          "yaxis": {
           "automargin": true,
           "gridcolor": "white",
           "linecolor": "white",
           "ticks": "",
           "title": {
            "standoff": 15
           },
           "zerolinecolor": "white",
           "zerolinewidth": 2
          }
         }
        },
        "title": {
         "text": "Répartition des ligues des joueurs"
        },
        "xaxis": {
         "anchor": "y",
         "domain": [
          0,
          1
         ],
         "tickangle": -45,
         "title": {
          "text": "Ligues"
         }
        },
        "yaxis": {
         "anchor": "x",
         "domain": [
          0,
          1
         ],
         "title": {
          "text": "Fréquence (%)"
         }
        }
       }
      }
     },
     "metadata": {},
     "output_type": "display_data"
    }
   ],
   "source": [
    "\n",
    "# df_2 contient les données filtrées\n",
    "\n",
    "# Calcul des effectifs et fréquences pour la variable 'League' dans df_2\n",
    "effectifs_league = df_2['League'].value_counts().sort_values(ascending=False)\n",
    "frequences_league = (effectifs_league / effectifs_league.sum()) * 100\n",
    "\n",
    "# Créer un tableau avec les informations demandées\n",
    "tableau_league = pd.DataFrame({\n",
    "    'Effectif': effectifs_league,\n",
    "    'Fréquence (%)': frequences_league.round(2)\n",
    "})\n",
    "\n",
    "# Afficher le tableau des ligues\n",
    "print(tableau_league)\n",
    "\n",
    "# Créer un graphique interactif avec Plotly Express\n",
    "fig = px.bar(\n",
    "    tableau_league.reset_index(),\n",
    "    x='League',\n",
    "    y='Fréquence (%)',\n",
    "    text='Effectif',\n",
    "    hover_data={'Fréquence (%)': ':.2f', 'Effectif': True},\n",
    "    labels={'League': 'Ligues'},\n",
    "    title=\"Répartition des ligues des joueurs\"\n",
    ")\n",
    "\n",
    "# Personnalisation des écritures et inclinaison des labels de l'axe x\n",
    "fig.update_layout(\n",
    "    xaxis_tickangle=-45,  # Incliner les labels à 45 degrés\n",
    "    font=dict(size=10),  # Diminuer la taille des écritures\n",
    "    showlegend=False\n",
    ")\n",
    "\n",
    "# Afficher le graphique interactif\n",
    "fig.show()\n"
   ]
  },
  {
   "cell_type": "markdown",
   "metadata": {},
   "source": [
    "## Analyse Bivariée"
   ]
  },
  {
   "cell_type": "markdown",
   "metadata": {},
   "source": [
    "### Analyser les postes: certains postes sont-ils plus présents dans certains ligues."
   ]
  },
  {
   "cell_type": "code",
   "execution_count": 57,
   "metadata": {},
   "outputs": [
    {
     "name": "stdout",
     "output_type": "stream",
     "text": [
      "Tableau croisé des effectifs de postes par ligue :\n",
      "Postes              CAM    CB   CDM    CM    GK    LB   LM   LW    RB   RM  \\\n",
      "Ligues                                                                       \n",
      "1A Pro League        23    73    33    40    49    24   27   12    25   24   \n",
      "3. Liga              49   104    41    38    57    33   27    6    43   21   \n",
      "Allsvenskan          19    67    22    61    41    29   15   20    27    7   \n",
      "Bundesliga           40    93    36    48    61    32   27    4    37   28   \n",
      "Bundesliga 2         43    88    46    36    63    39   25    8    35   27   \n",
      "CSL                  11    80    32    57    55    40   32    9    45   30   \n",
      "EFL Championship     39   126    60    66    76    60   51    5    51   34   \n",
      "EFL League One       37   121    44    89    62    52   22    3    55   21   \n",
      "EFL League Two       30   115    40    83    52    44   30    6    41   24   \n",
      "Eliteserien          11    72    18    57    40    34   11   20    32   11   \n",
      "Eredivisie           38    67    31    40    61    30   29   10    34   28   \n",
      "K League 1           16    84    27    58    47    29   24   10    36   20   \n",
      "LALIGA EA SPORTS     26    94    33    73    54    42   43    6    44   37   \n",
      "LALIGA HYPERMOTION   12    87    38    70    53    38   46    4    35   38   \n",
      "Libertadores         35    98    55    65    69    44   31   17    41   28   \n",
      "Liga Portugal        22    72    31    48    45    27   25   13    31   24   \n",
      "Ligue 1 McDonald's   23    83    42    48    54    37   32    8    42   32   \n",
      "Ligue 2 BKT          12    63    29    42    45    35   30    3    32   23   \n",
      "MLS                  39   143    66    80    85    56   50   16    69   41   \n",
      "PKO BP Ekstraklasa   47    84    40    39    44    24   34    9    31   32   \n",
      "Premier League       32   108    63    61    69    43   29   23    51   33   \n",
      "Primera División     24    69    27    39    35    28   29    6    35   28   \n",
      "ROSHN Saudi League   19    66    44    32    46    37   29   10    29   32   \n",
      "SUPERLIGA            21    63    31    48    41    27   15   17    29   19   \n",
      "Serie A Enilive      32   100    36    82    61    38   24   11    36   29   \n",
      "Serie BKT            25    80    33    68    43    20   17    9    31   14   \n",
      "Sudamericana         56   139    79    85   100    62   52   16    65   51   \n",
      "Trendyol Süper Lig   26    59    38    38    44    34   23    6    27   35   \n",
      "All                 807  2498  1115  1591  1552  1038  829  287  1089  771   \n",
      "\n",
      "Postes               RW    ST    All  \n",
      "Ligues                                \n",
      "1A Pro League         9    53    392  \n",
      "3. Liga               9    68    496  \n",
      "Allsvenskan          18    47    373  \n",
      "Bundesliga            3    76    485  \n",
      "Bundesliga 2         10    83    503  \n",
      "CSL                   7    51    449  \n",
      "EFL Championship      9   106    683  \n",
      "EFL League One        4   105    615  \n",
      "EFL League Two        4    93    562  \n",
      "Eliteserien          21    48    375  \n",
      "Eredivisie           15    48    431  \n",
      "K League 1           25    59    435  \n",
      "LALIGA EA SPORTS      8    69    529  \n",
      "LALIGA HYPERMOTION    1    74    496  \n",
      "Libertadores         18    73    574  \n",
      "Liga Portugal        12    44    394  \n",
      "Ligue 1 McDonald's    8    55    464  \n",
      "Ligue 2 BKT           3    44    361  \n",
      "MLS                  17   100    762  \n",
      "PKO BP Ekstraklasa    8    52    444  \n",
      "Premier League       21    64    597  \n",
      "Primera División      7    58    385  \n",
      "ROSHN Saudi League    6    39    389  \n",
      "SUPERLIGA            16    44    371  \n",
      "Serie A Enilive      13    75    537  \n",
      "Serie BKT             9    71    420  \n",
      "Sudamericana         17   104    826  \n",
      "Trendyol Süper Lig    7    44    381  \n",
      "All                 305  1847  13729  \n",
      "\n",
      "Fréquences des postes par ligue (%):\n",
      "Postes                CAM     CB    CDM     CM     GK    LB    LM    LW  \\\n",
      "Ligues                                                                    \n",
      "1A Pro League        5.87  18.62   8.42  10.20  12.50  6.12  6.89  3.06   \n",
      "3. Liga              9.88  20.97   8.27   7.66  11.49  6.65  5.44  1.21   \n",
      "Allsvenskan          5.09  17.96   5.90  16.35  10.99  7.77  4.02  5.36   \n",
      "Bundesliga           8.25  19.18   7.42   9.90  12.58  6.60  5.57  0.82   \n",
      "Bundesliga 2         8.55  17.50   9.15   7.16  12.52  7.75  4.97  1.59   \n",
      "CSL                  2.45  17.82   7.13  12.69  12.25  8.91  7.13  2.00   \n",
      "EFL Championship     5.71  18.45   8.78   9.66  11.13  8.78  7.47  0.73   \n",
      "EFL League One       6.02  19.67   7.15  14.47  10.08  8.46  3.58  0.49   \n",
      "EFL League Two       5.34  20.46   7.12  14.77   9.25  7.83  5.34  1.07   \n",
      "Eliteserien          2.93  19.20   4.80  15.20  10.67  9.07  2.93  5.33   \n",
      "Eredivisie           8.82  15.55   7.19   9.28  14.15  6.96  6.73  2.32   \n",
      "K League 1           3.68  19.31   6.21  13.33  10.80  6.67  5.52  2.30   \n",
      "LALIGA EA SPORTS     4.91  17.77   6.24  13.80  10.21  7.94  8.13  1.13   \n",
      "LALIGA HYPERMOTION   2.42  17.54   7.66  14.11  10.69  7.66  9.27  0.81   \n",
      "Libertadores         6.10  17.07   9.58  11.32  12.02  7.67  5.40  2.96   \n",
      "Liga Portugal        5.58  18.27   7.87  12.18  11.42  6.85  6.35  3.30   \n",
      "Ligue 1 McDonald's   4.96  17.89   9.05  10.34  11.64  7.97  6.90  1.72   \n",
      "Ligue 2 BKT          3.32  17.45   8.03  11.63  12.47  9.70  8.31  0.83   \n",
      "MLS                  5.12  18.77   8.66  10.50  11.15  7.35  6.56  2.10   \n",
      "PKO BP Ekstraklasa  10.59  18.92   9.01   8.78   9.91  5.41  7.66  2.03   \n",
      "Premier League       5.36  18.09  10.55  10.22  11.56  7.20  4.86  3.85   \n",
      "Primera División     6.23  17.92   7.01  10.13   9.09  7.27  7.53  1.56   \n",
      "ROSHN Saudi League   4.88  16.97  11.31   8.23  11.83  9.51  7.46  2.57   \n",
      "SUPERLIGA            5.66  16.98   8.36  12.94  11.05  7.28  4.04  4.58   \n",
      "Serie A Enilive      5.96  18.62   6.70  15.27  11.36  7.08  4.47  2.05   \n",
      "Serie BKT            5.95  19.05   7.86  16.19  10.24  4.76  4.05  2.14   \n",
      "Sudamericana         6.78  16.83   9.56  10.29  12.11  7.51  6.30  1.94   \n",
      "Trendyol Süper Lig   6.82  15.49   9.97   9.97  11.55  8.92  6.04  1.57   \n",
      "All                  5.88  18.20   8.12  11.59  11.30  7.56  6.04  2.09   \n",
      "\n",
      "Postes                 RB    RM    RW     ST  Total  \n",
      "Ligues                                               \n",
      "1A Pro League        6.38  6.12  2.30  13.52    392  \n",
      "3. Liga              8.67  4.23  1.81  13.71    496  \n",
      "Allsvenskan          7.24  1.88  4.83  12.60    373  \n",
      "Bundesliga           7.63  5.77  0.62  15.67    485  \n",
      "Bundesliga 2         6.96  5.37  1.99  16.50    503  \n",
      "CSL                 10.02  6.68  1.56  11.36    449  \n",
      "EFL Championship     7.47  4.98  1.32  15.52    683  \n",
      "EFL League One       8.94  3.41  0.65  17.07    615  \n",
      "EFL League Two       7.30  4.27  0.71  16.55    562  \n",
      "Eliteserien          8.53  2.93  5.60  12.80    375  \n",
      "Eredivisie           7.89  6.50  3.48  11.14    431  \n",
      "K League 1           8.28  4.60  5.75  13.56    435  \n",
      "LALIGA EA SPORTS     8.32  6.99  1.51  13.04    529  \n",
      "LALIGA HYPERMOTION   7.06  7.66  0.20  14.92    496  \n",
      "Libertadores         7.14  4.88  3.14  12.72    574  \n",
      "Liga Portugal        7.87  6.09  3.05  11.17    394  \n",
      "Ligue 1 McDonald's   9.05  6.90  1.72  11.85    464  \n",
      "Ligue 2 BKT          8.86  6.37  0.83  12.19    361  \n",
      "MLS                  9.06  5.38  2.23  13.12    762  \n",
      "PKO BP Ekstraklasa   6.98  7.21  1.80  11.71    444  \n",
      "Premier League       8.54  5.53  3.52  10.72    597  \n",
      "Primera División     9.09  7.27  1.82  15.06    385  \n",
      "ROSHN Saudi League   7.46  8.23  1.54  10.03    389  \n",
      "SUPERLIGA            7.82  5.12  4.31  11.86    371  \n",
      "Serie A Enilive      6.70  5.40  2.42  13.97    537  \n",
      "Serie BKT            7.38  3.33  2.14  16.90    420  \n",
      "Sudamericana         7.87  6.17  2.06  12.59    826  \n",
      "Trendyol Süper Lig   7.09  9.19  1.84  11.55    381  \n",
      "All                  7.93  5.62  2.22  13.45  13729  \n"
     ]
    }
   ],
   "source": [
    "\n",
    "# Créer un tableau croisé des effectifs de postes par ligue avec les totaux\n",
    "tableau_poste_ligue = pd.crosstab(df_2['League'], df_2['Position'], margins=True)\n",
    "tableau_poste_ligue.columns.name = 'Postes'\n",
    "tableau_poste_ligue.index.name = 'Ligues'\n",
    "\n",
    "# Calculer les fréquences des postes par ligue (en pourcentage)\n",
    "frequence_poste_ligue = tableau_poste_ligue.div(tableau_poste_ligue['All'], axis=0) * 100\n",
    "frequence_poste_ligue = frequence_poste_ligue.drop(columns='All')  # Supprimer la colonne 'All' pour les pourcentages\n",
    "frequence_poste_ligue['Total'] = tableau_poste_ligue['All']  # Ajouter la colonne Total pour les pourcentages\n",
    "\n",
    "# Afficher le tableau croisé des effectifs\n",
    "print(\"Tableau croisé des effectifs de postes par ligue :\")\n",
    "print(tableau_poste_ligue)\n",
    "\n",
    "# Afficher les fréquences (en pourcentage)\n",
    "print(\"\\nFréquences des postes par ligue (%):\")\n",
    "print(frequence_poste_ligue.round(2))\n"
   ]
  },
  {
   "cell_type": "markdown",
   "metadata": {},
   "source": [
    "#### Tableau plus detaillés et meilleurs visualisation"
   ]
  },
  {
   "cell_type": "code",
   "execution_count": 90,
   "metadata": {},
   "outputs": [
    {
     "data": {
      "application/vnd.plotly.v1+json": {
       "config": {
        "plotlyServerURL": "https://plot.ly"
       },
       "data": [
        {
         "alignmentgroup": "True",
         "customdata": [
          [
           106
          ],
          [
           105
          ],
          [
           104
          ],
          [
           100
          ],
          [
           93
          ],
          [
           83
          ],
          [
           76
          ],
          [
           75
          ],
          [
           74
          ],
          [
           73
          ],
          [
           71
          ],
          [
           69
          ],
          [
           68
          ],
          [
           64
          ],
          [
           59
          ],
          [
           58
          ],
          [
           55
          ],
          [
           53
          ],
          [
           52
          ],
          [
           51
          ],
          [
           48
          ],
          [
           48
          ],
          [
           47
          ],
          [
           44
          ],
          [
           44
          ],
          [
           44
          ],
          [
           44
          ],
          [
           39
          ]
         ],
         "hovertemplate": "Ligues=%{x}<br>Fréquence (%)=%{y:.2f}<br>Effectif=%{customdata[0]}<extra></extra>",
         "legendgroup": "",
         "marker": {
          "color": "#636efa",
          "pattern": {
           "shape": ""
          }
         },
         "name": "",
         "offsetgroup": "",
         "orientation": "v",
         "showlegend": false,
         "text": [
          106,
          105,
          104,
          100,
          93,
          83,
          76,
          75,
          74,
          73,
          71,
          69,
          68,
          64,
          59,
          58,
          55,
          53,
          52,
          51,
          48,
          48,
          47,
          44,
          44,
          44,
          44,
          39
         ],
         "textposition": "auto",
         "type": "bar",
         "x": [
          "EFL Championship",
          "EFL League One",
          "Sudamericana",
          "MLS",
          "EFL League Two",
          "Bundesliga 2",
          "Bundesliga",
          "Serie A Enilive",
          "LALIGA HYPERMOTION",
          "Libertadores",
          "Serie BKT",
          "LALIGA EA SPORTS",
          "3. Liga",
          "Premier League",
          "K League 1",
          "Primera División",
          "Ligue 1 McDonald's",
          "1A Pro League",
          "PKO BP Ekstraklasa",
          "CSL",
          "Eredivisie",
          "Eliteserien",
          "Allsvenskan",
          "Trendyol Süper Lig",
          "Liga Portugal",
          "Ligue 2 BKT",
          "SUPERLIGA",
          "ROSHN Saudi League"
         ],
         "xaxis": "x",
         "y": [
          5.74,
          5.68,
          5.63,
          5.41,
          5.04,
          4.49,
          4.11,
          4.06,
          4.01,
          3.95,
          3.84,
          3.74,
          3.68,
          3.47,
          3.19,
          3.14,
          2.98,
          2.87,
          2.82,
          2.76,
          2.6,
          2.6,
          2.54,
          2.38,
          2.38,
          2.38,
          2.38,
          2.11
         ],
         "yaxis": "y"
        }
       ],
       "layout": {
        "barmode": "relative",
        "font": {
         "size": 10
        },
        "legend": {
         "tracegroupgap": 0
        },
        "showlegend": false,
        "template": {
         "data": {
          "bar": [
           {
            "error_x": {
             "color": "#2a3f5f"
            },
            "error_y": {
             "color": "#2a3f5f"
            },
            "marker": {
             "line": {
              "color": "#E5ECF6",
              "width": 0.5
             },
             "pattern": {
              "fillmode": "overlay",
              "size": 10,
              "solidity": 0.2
             }
            },
            "type": "bar"
           }
          ],
          "barpolar": [
           {
            "marker": {
             "line": {
              "color": "#E5ECF6",
              "width": 0.5
             },
             "pattern": {
              "fillmode": "overlay",
              "size": 10,
              "solidity": 0.2
             }
            },
            "type": "barpolar"
           }
          ],
          "carpet": [
           {
            "aaxis": {
             "endlinecolor": "#2a3f5f",
             "gridcolor": "white",
             "linecolor": "white",
             "minorgridcolor": "white",
             "startlinecolor": "#2a3f5f"
            },
            "baxis": {
             "endlinecolor": "#2a3f5f",
             "gridcolor": "white",
             "linecolor": "white",
             "minorgridcolor": "white",
             "startlinecolor": "#2a3f5f"
            },
            "type": "carpet"
           }
          ],
          "choropleth": [
           {
            "colorbar": {
             "outlinewidth": 0,
             "ticks": ""
            },
            "type": "choropleth"
           }
          ],
          "contour": [
           {
            "colorbar": {
             "outlinewidth": 0,
             "ticks": ""
            },
            "colorscale": [
             [
              0,
              "#0d0887"
             ],
             [
              0.1111111111111111,
              "#46039f"
             ],
             [
              0.2222222222222222,
              "#7201a8"
             ],
             [
              0.3333333333333333,
              "#9c179e"
             ],
             [
              0.4444444444444444,
              "#bd3786"
             ],
             [
              0.5555555555555556,
              "#d8576b"
             ],
             [
              0.6666666666666666,
              "#ed7953"
             ],
             [
              0.7777777777777778,
              "#fb9f3a"
             ],
             [
              0.8888888888888888,
              "#fdca26"
             ],
             [
              1,
              "#f0f921"
             ]
            ],
            "type": "contour"
           }
          ],
          "contourcarpet": [
           {
            "colorbar": {
             "outlinewidth": 0,
             "ticks": ""
            },
            "type": "contourcarpet"
           }
          ],
          "heatmap": [
           {
            "colorbar": {
             "outlinewidth": 0,
             "ticks": ""
            },
            "colorscale": [
             [
              0,
              "#0d0887"
             ],
             [
              0.1111111111111111,
              "#46039f"
             ],
             [
              0.2222222222222222,
              "#7201a8"
             ],
             [
              0.3333333333333333,
              "#9c179e"
             ],
             [
              0.4444444444444444,
              "#bd3786"
             ],
             [
              0.5555555555555556,
              "#d8576b"
             ],
             [
              0.6666666666666666,
              "#ed7953"
             ],
             [
              0.7777777777777778,
              "#fb9f3a"
             ],
             [
              0.8888888888888888,
              "#fdca26"
             ],
             [
              1,
              "#f0f921"
             ]
            ],
            "type": "heatmap"
           }
          ],
          "heatmapgl": [
           {
            "colorbar": {
             "outlinewidth": 0,
             "ticks": ""
            },
            "colorscale": [
             [
              0,
              "#0d0887"
             ],
             [
              0.1111111111111111,
              "#46039f"
             ],
             [
              0.2222222222222222,
              "#7201a8"
             ],
             [
              0.3333333333333333,
              "#9c179e"
             ],
             [
              0.4444444444444444,
              "#bd3786"
             ],
             [
              0.5555555555555556,
              "#d8576b"
             ],
             [
              0.6666666666666666,
              "#ed7953"
             ],
             [
              0.7777777777777778,
              "#fb9f3a"
             ],
             [
              0.8888888888888888,
              "#fdca26"
             ],
             [
              1,
              "#f0f921"
             ]
            ],
            "type": "heatmapgl"
           }
          ],
          "histogram": [
           {
            "marker": {
             "pattern": {
              "fillmode": "overlay",
              "size": 10,
              "solidity": 0.2
             }
            },
            "type": "histogram"
           }
          ],
          "histogram2d": [
           {
            "colorbar": {
             "outlinewidth": 0,
             "ticks": ""
            },
            "colorscale": [
             [
              0,
              "#0d0887"
             ],
             [
              0.1111111111111111,
              "#46039f"
             ],
             [
              0.2222222222222222,
              "#7201a8"
             ],
             [
              0.3333333333333333,
              "#9c179e"
             ],
             [
              0.4444444444444444,
              "#bd3786"
             ],
             [
              0.5555555555555556,
              "#d8576b"
             ],
             [
              0.6666666666666666,
              "#ed7953"
             ],
             [
              0.7777777777777778,
              "#fb9f3a"
             ],
             [
              0.8888888888888888,
              "#fdca26"
             ],
             [
              1,
              "#f0f921"
             ]
            ],
            "type": "histogram2d"
           }
          ],
          "histogram2dcontour": [
           {
            "colorbar": {
             "outlinewidth": 0,
             "ticks": ""
            },
            "colorscale": [
             [
              0,
              "#0d0887"
             ],
             [
              0.1111111111111111,
              "#46039f"
             ],
             [
              0.2222222222222222,
              "#7201a8"
             ],
             [
              0.3333333333333333,
              "#9c179e"
             ],
             [
              0.4444444444444444,
              "#bd3786"
             ],
             [
              0.5555555555555556,
              "#d8576b"
             ],
             [
              0.6666666666666666,
              "#ed7953"
             ],
             [
              0.7777777777777778,
              "#fb9f3a"
             ],
             [
              0.8888888888888888,
              "#fdca26"
             ],
             [
              1,
              "#f0f921"
             ]
            ],
            "type": "histogram2dcontour"
           }
          ],
          "mesh3d": [
           {
            "colorbar": {
             "outlinewidth": 0,
             "ticks": ""
            },
            "type": "mesh3d"
           }
          ],
          "parcoords": [
           {
            "line": {
             "colorbar": {
              "outlinewidth": 0,
              "ticks": ""
             }
            },
            "type": "parcoords"
           }
          ],
          "pie": [
           {
            "automargin": true,
            "type": "pie"
           }
          ],
          "scatter": [
           {
            "fillpattern": {
             "fillmode": "overlay",
             "size": 10,
             "solidity": 0.2
            },
            "type": "scatter"
           }
          ],
          "scatter3d": [
           {
            "line": {
             "colorbar": {
              "outlinewidth": 0,
              "ticks": ""
             }
            },
            "marker": {
             "colorbar": {
              "outlinewidth": 0,
              "ticks": ""
             }
            },
            "type": "scatter3d"
           }
          ],
          "scattercarpet": [
           {
            "marker": {
             "colorbar": {
              "outlinewidth": 0,
              "ticks": ""
             }
            },
            "type": "scattercarpet"
           }
          ],
          "scattergeo": [
           {
            "marker": {
             "colorbar": {
              "outlinewidth": 0,
              "ticks": ""
             }
            },
            "type": "scattergeo"
           }
          ],
          "scattergl": [
           {
            "marker": {
             "colorbar": {
              "outlinewidth": 0,
              "ticks": ""
             }
            },
            "type": "scattergl"
           }
          ],
          "scattermapbox": [
           {
            "marker": {
             "colorbar": {
              "outlinewidth": 0,
              "ticks": ""
             }
            },
            "type": "scattermapbox"
           }
          ],
          "scatterpolar": [
           {
            "marker": {
             "colorbar": {
              "outlinewidth": 0,
              "ticks": ""
             }
            },
            "type": "scatterpolar"
           }
          ],
          "scatterpolargl": [
           {
            "marker": {
             "colorbar": {
              "outlinewidth": 0,
              "ticks": ""
             }
            },
            "type": "scatterpolargl"
           }
          ],
          "scatterternary": [
           {
            "marker": {
             "colorbar": {
              "outlinewidth": 0,
              "ticks": ""
             }
            },
            "type": "scatterternary"
           }
          ],
          "surface": [
           {
            "colorbar": {
             "outlinewidth": 0,
             "ticks": ""
            },
            "colorscale": [
             [
              0,
              "#0d0887"
             ],
             [
              0.1111111111111111,
              "#46039f"
             ],
             [
              0.2222222222222222,
              "#7201a8"
             ],
             [
              0.3333333333333333,
              "#9c179e"
             ],
             [
              0.4444444444444444,
              "#bd3786"
             ],
             [
              0.5555555555555556,
              "#d8576b"
             ],
             [
              0.6666666666666666,
              "#ed7953"
             ],
             [
              0.7777777777777778,
              "#fb9f3a"
             ],
             [
              0.8888888888888888,
              "#fdca26"
             ],
             [
              1,
              "#f0f921"
             ]
            ],
            "type": "surface"
           }
          ],
          "table": [
           {
            "cells": {
             "fill": {
              "color": "#EBF0F8"
             },
             "line": {
              "color": "white"
             }
            },
            "header": {
             "fill": {
              "color": "#C8D4E3"
             },
             "line": {
              "color": "white"
             }
            },
            "type": "table"
           }
          ]
         },
         "layout": {
          "annotationdefaults": {
           "arrowcolor": "#2a3f5f",
           "arrowhead": 0,
           "arrowwidth": 1
          },
          "autotypenumbers": "strict",
          "coloraxis": {
           "colorbar": {
            "outlinewidth": 0,
            "ticks": ""
           }
          },
          "colorscale": {
           "diverging": [
            [
             0,
             "#8e0152"
            ],
            [
             0.1,
             "#c51b7d"
            ],
            [
             0.2,
             "#de77ae"
            ],
            [
             0.3,
             "#f1b6da"
            ],
            [
             0.4,
             "#fde0ef"
            ],
            [
             0.5,
             "#f7f7f7"
            ],
            [
             0.6,
             "#e6f5d0"
            ],
            [
             0.7,
             "#b8e186"
            ],
            [
             0.8,
             "#7fbc41"
            ],
            [
             0.9,
             "#4d9221"
            ],
            [
             1,
             "#276419"
            ]
           ],
           "sequential": [
            [
             0,
             "#0d0887"
            ],
            [
             0.1111111111111111,
             "#46039f"
            ],
            [
             0.2222222222222222,
             "#7201a8"
            ],
            [
             0.3333333333333333,
             "#9c179e"
            ],
            [
             0.4444444444444444,
             "#bd3786"
            ],
            [
             0.5555555555555556,
             "#d8576b"
            ],
            [
             0.6666666666666666,
             "#ed7953"
            ],
            [
             0.7777777777777778,
             "#fb9f3a"
            ],
            [
             0.8888888888888888,
             "#fdca26"
            ],
            [
             1,
             "#f0f921"
            ]
           ],
           "sequentialminus": [
            [
             0,
             "#0d0887"
            ],
            [
             0.1111111111111111,
             "#46039f"
            ],
            [
             0.2222222222222222,
             "#7201a8"
            ],
            [
             0.3333333333333333,
             "#9c179e"
            ],
            [
             0.4444444444444444,
             "#bd3786"
            ],
            [
             0.5555555555555556,
             "#d8576b"
            ],
            [
             0.6666666666666666,
             "#ed7953"
            ],
            [
             0.7777777777777778,
             "#fb9f3a"
            ],
            [
             0.8888888888888888,
             "#fdca26"
            ],
            [
             1,
             "#f0f921"
            ]
           ]
          },
          "colorway": [
           "#636efa",
           "#EF553B",
           "#00cc96",
           "#ab63fa",
           "#FFA15A",
           "#19d3f3",
           "#FF6692",
           "#B6E880",
           "#FF97FF",
           "#FECB52"
          ],
          "font": {
           "color": "#2a3f5f"
          },
          "geo": {
           "bgcolor": "white",
           "lakecolor": "white",
           "landcolor": "#E5ECF6",
           "showlakes": true,
           "showland": true,
           "subunitcolor": "white"
          },
          "hoverlabel": {
           "align": "left"
          },
          "hovermode": "closest",
          "mapbox": {
           "style": "light"
          },
          "paper_bgcolor": "white",
          "plot_bgcolor": "#E5ECF6",
          "polar": {
           "angularaxis": {
            "gridcolor": "white",
            "linecolor": "white",
            "ticks": ""
           },
           "bgcolor": "#E5ECF6",
           "radialaxis": {
            "gridcolor": "white",
            "linecolor": "white",
            "ticks": ""
           }
          },
          "scene": {
           "xaxis": {
            "backgroundcolor": "#E5ECF6",
            "gridcolor": "white",
            "gridwidth": 2,
            "linecolor": "white",
            "showbackground": true,
            "ticks": "",
            "zerolinecolor": "white"
           },
           "yaxis": {
            "backgroundcolor": "#E5ECF6",
            "gridcolor": "white",
            "gridwidth": 2,
            "linecolor": "white",
            "showbackground": true,
            "ticks": "",
            "zerolinecolor": "white"
           },
           "zaxis": {
            "backgroundcolor": "#E5ECF6",
            "gridcolor": "white",
            "gridwidth": 2,
            "linecolor": "white",
            "showbackground": true,
            "ticks": "",
            "zerolinecolor": "white"
           }
          },
          "shapedefaults": {
           "line": {
            "color": "#2a3f5f"
           }
          },
          "ternary": {
           "aaxis": {
            "gridcolor": "white",
            "linecolor": "white",
            "ticks": ""
           },
           "baxis": {
            "gridcolor": "white",
            "linecolor": "white",
            "ticks": ""
           },
           "bgcolor": "#E5ECF6",
           "caxis": {
            "gridcolor": "white",
            "linecolor": "white",
            "ticks": ""
           }
          },
          "title": {
           "x": 0.05
          },
          "xaxis": {
           "automargin": true,
           "gridcolor": "white",
           "linecolor": "white",
           "ticks": "",
           "title": {
            "standoff": 15
           },
           "zerolinecolor": "white",
           "zerolinewidth": 2
          },
          "yaxis": {
           "automargin": true,
           "gridcolor": "white",
           "linecolor": "white",
           "ticks": "",
           "title": {
            "standoff": 15
           },
           "zerolinecolor": "white",
           "zerolinewidth": 2
          }
         }
        },
        "title": {
         "text": "Répartition du poste ST dans les ligues"
        },
        "updatemenus": [
         {
          "buttons": [
           {
            "args": [
             {
              "text": [
               [
                106,
                105,
                104,
                100,
                93,
                83,
                76,
                75,
                74,
                73,
                71,
                69,
                68,
                64,
                59,
                58,
                55,
                53,
                52,
                51,
                48,
                48,
                47,
                44,
                44,
                44,
                44,
                39
               ]
              ],
              "x": [
               [
                "EFL Championship",
                "EFL League One",
                "Sudamericana",
                "MLS",
                "EFL League Two",
                "Bundesliga 2",
                "Bundesliga",
                "Serie A Enilive",
                "LALIGA HYPERMOTION",
                "Libertadores",
                "Serie BKT",
                "LALIGA EA SPORTS",
                "3. Liga",
                "Premier League",
                "K League 1",
                "Primera División",
                "Ligue 1 McDonald's",
                "1A Pro League",
                "PKO BP Ekstraklasa",
                "CSL",
                "Eredivisie",
                "Eliteserien",
                "Allsvenskan",
                "Trendyol Süper Lig",
                "Liga Portugal",
                "Ligue 2 BKT",
                "SUPERLIGA",
                "ROSHN Saudi League"
               ]
              ],
              "y": [
               [
                5.74,
                5.68,
                5.63,
                5.41,
                5.04,
                4.49,
                4.11,
                4.06,
                4.01,
                3.95,
                3.84,
                3.74,
                3.68,
                3.47,
                3.19,
                3.14,
                2.98,
                2.87,
                2.82,
                2.76,
                2.6,
                2.6,
                2.54,
                2.38,
                2.38,
                2.38,
                2.38,
                2.11
               ]
              ]
             },
             {
              "title": "Répartition du poste ST dans les ligues"
             }
            ],
            "label": "ST",
            "method": "update"
           },
           {
            "args": [
             {
              "text": [
               [
                79,
                66,
                63,
                60,
                55,
                46,
                44,
                44,
                42,
                41,
                40,
                40,
                38,
                38,
                36,
                36,
                33,
                33,
                33,
                32,
                31,
                31,
                31,
                29,
                27,
                27,
                22,
                18
               ]
              ],
              "x": [
               [
                "Sudamericana",
                "MLS",
                "Premier League",
                "EFL Championship",
                "Libertadores",
                "Bundesliga 2",
                "ROSHN Saudi League",
                "EFL League One",
                "Ligue 1 McDonald's",
                "3. Liga",
                "PKO BP Ekstraklasa",
                "EFL League Two",
                "LALIGA HYPERMOTION",
                "Trendyol Süper Lig",
                "Serie A Enilive",
                "Bundesliga",
                "1A Pro League",
                "Serie BKT",
                "LALIGA EA SPORTS",
                "CSL",
                "Liga Portugal",
                "Eredivisie",
                "SUPERLIGA",
                "Ligue 2 BKT",
                "Primera División",
                "K League 1",
                "Allsvenskan",
                "Eliteserien"
               ]
              ],
              "y": [
               [
                7.09,
                5.92,
                5.65,
                5.38,
                4.93,
                4.13,
                3.95,
                3.95,
                3.77,
                3.68,
                3.59,
                3.59,
                3.41,
                3.41,
                3.23,
                3.23,
                2.96,
                2.96,
                2.96,
                2.87,
                2.78,
                2.78,
                2.78,
                2.6,
                2.42,
                2.42,
                1.97,
                1.61
               ]
              ]
             },
             {
              "title": "Répartition du poste CDM dans les ligues"
             }
            ],
            "label": "CDM",
            "method": "update"
           },
           {
            "args": [
             {
              "text": [
               [
                56,
                49,
                47,
                43,
                40,
                39,
                39,
                38,
                37,
                35,
                32,
                32,
                30,
                26,
                26,
                25,
                24,
                23,
                23,
                22,
                21,
                19,
                19,
                16,
                12,
                12,
                11,
                11
               ]
              ],
              "x": [
               [
                "Sudamericana",
                "3. Liga",
                "PKO BP Ekstraklasa",
                "Bundesliga 2",
                "Bundesliga",
                "MLS",
                "EFL Championship",
                "Eredivisie",
                "EFL League One",
                "Libertadores",
                "Serie A Enilive",
                "Premier League",
                "EFL League Two",
                "LALIGA EA SPORTS",
                "Trendyol Süper Lig",
                "Serie BKT",
                "Primera División",
                "1A Pro League",
                "Ligue 1 McDonald's",
                "Liga Portugal",
                "SUPERLIGA",
                "ROSHN Saudi League",
                "Allsvenskan",
                "K League 1",
                "LALIGA HYPERMOTION",
                "Ligue 2 BKT",
                "CSL",
                "Eliteserien"
               ]
              ],
              "y": [
               [
                6.94,
                6.07,
                5.82,
                5.33,
                4.96,
                4.83,
                4.83,
                4.71,
                4.58,
                4.34,
                3.97,
                3.97,
                3.72,
                3.22,
                3.22,
                3.1,
                2.97,
                2.85,
                2.85,
                2.73,
                2.6,
                2.35,
                2.35,
                1.98,
                1.49,
                1.49,
                1.36,
                1.36
               ]
              ]
             },
             {
              "title": "Répartition du poste CAM dans les ligues"
             }
            ],
            "label": "CAM",
            "method": "update"
           },
           {
            "args": [
             {
              "text": [
               [
                23,
                20,
                20,
                17,
                17,
                16,
                16,
                13,
                12,
                11,
                10,
                10,
                10,
                9,
                9,
                9,
                8,
                8,
                6,
                6,
                6,
                6,
                6,
                5,
                4,
                4,
                3,
                3
               ]
              ],
              "x": [
               [
                "Premier League",
                "Eliteserien",
                "Allsvenskan",
                "SUPERLIGA",
                "Libertadores",
                "Sudamericana",
                "MLS",
                "Liga Portugal",
                "1A Pro League",
                "Serie A Enilive",
                "Eredivisie",
                "ROSHN Saudi League",
                "K League 1",
                "CSL",
                "PKO BP Ekstraklasa",
                "Serie BKT",
                "Ligue 1 McDonald's",
                "Bundesliga 2",
                "3. Liga",
                "LALIGA EA SPORTS",
                "Primera División",
                "Trendyol Süper Lig",
                "EFL League Two",
                "EFL Championship",
                "Bundesliga",
                "LALIGA HYPERMOTION",
                "EFL League One",
                "Ligue 2 BKT"
               ]
              ],
              "y": [
               [
                8.01,
                6.97,
                6.97,
                5.92,
                5.92,
                5.57,
                5.57,
                4.53,
                4.18,
                3.83,
                3.48,
                3.48,
                3.48,
                3.14,
                3.14,
                3.14,
                2.79,
                2.79,
                2.09,
                2.09,
                2.09,
                2.09,
                2.09,
                1.74,
                1.39,
                1.39,
                1.05,
                1.05
               ]
              ]
             },
             {
              "title": "Répartition du poste LW dans les ligues"
             }
            ],
            "label": "LW",
            "method": "update"
           },
           {
            "args": [
             {
              "text": [
               [
                89,
                85,
                83,
                82,
                80,
                73,
                70,
                68,
                66,
                65,
                61,
                61,
                58,
                57,
                57,
                48,
                48,
                48,
                48,
                42,
                40,
                40,
                39,
                39,
                38,
                38,
                36,
                32
               ]
              ],
              "x": [
               [
                "EFL League One",
                "Sudamericana",
                "EFL League Two",
                "Serie A Enilive",
                "MLS",
                "LALIGA EA SPORTS",
                "LALIGA HYPERMOTION",
                "Serie BKT",
                "EFL Championship",
                "Libertadores",
                "Premier League",
                "Allsvenskan",
                "K League 1",
                "Eliteserien",
                "CSL",
                "Liga Portugal",
                "Bundesliga",
                "SUPERLIGA",
                "Ligue 1 McDonald's",
                "Ligue 2 BKT",
                "1A Pro League",
                "Eredivisie",
                "PKO BP Ekstraklasa",
                "Primera División",
                "3. Liga",
                "Trendyol Süper Lig",
                "Bundesliga 2",
                "ROSHN Saudi League"
               ]
              ],
              "y": [
               [
                5.59,
                5.34,
                5.22,
                5.15,
                5.03,
                4.59,
                4.4,
                4.27,
                4.15,
                4.09,
                3.83,
                3.83,
                3.65,
                3.58,
                3.58,
                3.02,
                3.02,
                3.02,
                3.02,
                2.64,
                2.51,
                2.51,
                2.45,
                2.45,
                2.39,
                2.39,
                2.26,
                2.01
               ]
              ]
             },
             {
              "title": "Répartition du poste CM dans les ligues"
             }
            ],
            "label": "CM",
            "method": "update"
           },
           {
            "args": [
             {
              "text": [
               [
                100,
                85,
                76,
                69,
                69,
                63,
                62,
                61,
                61,
                61,
                57,
                55,
                54,
                54,
                53,
                52,
                49,
                47,
                46,
                45,
                45,
                44,
                44,
                43,
                41,
                41,
                40,
                35
               ]
              ],
              "x": [
               [
                "Sudamericana",
                "MLS",
                "EFL Championship",
                "Libertadores",
                "Premier League",
                "Bundesliga 2",
                "EFL League One",
                "Bundesliga",
                "Serie A Enilive",
                "Eredivisie",
                "3. Liga",
                "CSL",
                "Ligue 1 McDonald's",
                "LALIGA EA SPORTS",
                "LALIGA HYPERMOTION",
                "EFL League Two",
                "1A Pro League",
                "K League 1",
                "ROSHN Saudi League",
                "Liga Portugal",
                "Ligue 2 BKT",
                "PKO BP Ekstraklasa",
                "Trendyol Süper Lig",
                "Serie BKT",
                "Allsvenskan",
                "SUPERLIGA",
                "Eliteserien",
                "Primera División"
               ]
              ],
              "y": [
               [
                6.44,
                5.48,
                4.9,
                4.45,
                4.45,
                4.06,
                3.99,
                3.93,
                3.93,
                3.93,
                3.67,
                3.54,
                3.48,
                3.48,
                3.41,
                3.35,
                3.16,
                3.03,
                2.96,
                2.9,
                2.9,
                2.84,
                2.84,
                2.77,
                2.64,
                2.64,
                2.58,
                2.26
               ]
              ]
             },
             {
              "title": "Répartition du poste GK dans les ligues"
             }
            ],
            "label": "GK",
            "method": "update"
           },
           {
            "args": [
             {
              "text": [
               [
                143,
                139,
                126,
                121,
                115,
                108,
                104,
                100,
                98,
                94,
                93,
                88,
                87,
                84,
                84,
                83,
                80,
                80,
                73,
                72,
                72,
                69,
                67,
                67,
                66,
                63,
                63,
                59
               ]
              ],
              "x": [
               [
                "MLS",
                "Sudamericana",
                "EFL Championship",
                "EFL League One",
                "EFL League Two",
                "Premier League",
                "3. Liga",
                "Serie A Enilive",
                "Libertadores",
                "LALIGA EA SPORTS",
                "Bundesliga",
                "Bundesliga 2",
                "LALIGA HYPERMOTION",
                "K League 1",
                "PKO BP Ekstraklasa",
                "Ligue 1 McDonald's",
                "CSL",
                "Serie BKT",
                "1A Pro League",
                "Eliteserien",
                "Liga Portugal",
                "Primera División",
                "Allsvenskan",
                "Eredivisie",
                "ROSHN Saudi League",
                "Ligue 2 BKT",
                "SUPERLIGA",
                "Trendyol Süper Lig"
               ]
              ],
              "y": [
               [
                5.72,
                5.56,
                5.04,
                4.84,
                4.6,
                4.32,
                4.16,
                4,
                3.92,
                3.76,
                3.72,
                3.52,
                3.48,
                3.36,
                3.36,
                3.32,
                3.2,
                3.2,
                2.92,
                2.88,
                2.88,
                2.76,
                2.68,
                2.68,
                2.64,
                2.52,
                2.52,
                2.36
               ]
              ]
             },
             {
              "title": "Répartition du poste CB dans les ligues"
             }
            ],
            "label": "CB",
            "method": "update"
           },
           {
            "args": [
             {
              "text": [
               [
                25,
                21,
                21,
                18,
                18,
                17,
                17,
                16,
                15,
                13,
                12,
                10,
                9,
                9,
                9,
                9,
                8,
                8,
                8,
                7,
                7,
                7,
                6,
                4,
                4,
                3,
                3,
                1
               ]
              ],
              "x": [
               [
                "K League 1",
                "Premier League",
                "Eliteserien",
                "Libertadores",
                "Allsvenskan",
                "MLS",
                "Sudamericana",
                "SUPERLIGA",
                "Eredivisie",
                "Serie A Enilive",
                "Liga Portugal",
                "Bundesliga 2",
                "Serie BKT",
                "3. Liga",
                "1A Pro League",
                "EFL Championship",
                "Ligue 1 McDonald's",
                "PKO BP Ekstraklasa",
                "LALIGA EA SPORTS",
                "Trendyol Süper Lig",
                "CSL",
                "Primera División",
                "ROSHN Saudi League",
                "EFL League One",
                "EFL League Two",
                "Ligue 2 BKT",
                "Bundesliga",
                "LALIGA HYPERMOTION"
               ]
              ],
              "y": [
               [
                8.2,
                6.89,
                6.89,
                5.9,
                5.9,
                5.57,
                5.57,
                5.25,
                4.92,
                4.26,
                3.93,
                3.28,
                2.95,
                2.95,
                2.95,
                2.95,
                2.62,
                2.62,
                2.62,
                2.3,
                2.3,
                2.3,
                1.97,
                1.31,
                1.31,
                0.98,
                0.98,
                0.33
               ]
              ]
             },
             {
              "title": "Répartition du poste RW dans les ligues"
             }
            ],
            "label": "RW",
            "method": "update"
           },
           {
            "args": [
             {
              "text": [
               [
                62,
                60,
                56,
                52,
                44,
                44,
                43,
                42,
                40,
                39,
                38,
                38,
                37,
                37,
                35,
                34,
                34,
                33,
                32,
                30,
                29,
                29,
                28,
                27,
                27,
                24,
                24,
                20
               ]
              ],
              "x": [
               [
                "Sudamericana",
                "EFL Championship",
                "MLS",
                "EFL League One",
                "EFL League Two",
                "Libertadores",
                "Premier League",
                "LALIGA EA SPORTS",
                "CSL",
                "Bundesliga 2",
                "Serie A Enilive",
                "LALIGA HYPERMOTION",
                "Ligue 1 McDonald's",
                "ROSHN Saudi League",
                "Ligue 2 BKT",
                "Eliteserien",
                "Trendyol Süper Lig",
                "3. Liga",
                "Bundesliga",
                "Eredivisie",
                "K League 1",
                "Allsvenskan",
                "Primera División",
                "Liga Portugal",
                "SUPERLIGA",
                "1A Pro League",
                "PKO BP Ekstraklasa",
                "Serie BKT"
               ]
              ],
              "y": [
               [
                5.97,
                5.78,
                5.39,
                5.01,
                4.24,
                4.24,
                4.14,
                4.05,
                3.85,
                3.76,
                3.66,
                3.66,
                3.56,
                3.56,
                3.37,
                3.28,
                3.28,
                3.18,
                3.08,
                2.89,
                2.79,
                2.79,
                2.7,
                2.6,
                2.6,
                2.31,
                2.31,
                1.93
               ]
              ]
             },
             {
              "title": "Répartition du poste LB dans les ligues"
             }
            ],
            "label": "LB",
            "method": "update"
           },
           {
            "args": [
             {
              "text": [
               [
                52,
                51,
                50,
                46,
                43,
                34,
                32,
                32,
                31,
                30,
                30,
                29,
                29,
                29,
                29,
                27,
                27,
                27,
                25,
                25,
                24,
                24,
                23,
                22,
                17,
                15,
                15,
                11
               ]
              ],
              "x": [
               [
                "Sudamericana",
                "EFL Championship",
                "MLS",
                "LALIGA HYPERMOTION",
                "LALIGA EA SPORTS",
                "PKO BP Ekstraklasa",
                "CSL",
                "Ligue 1 McDonald's",
                "Libertadores",
                "EFL League Two",
                "Ligue 2 BKT",
                "Primera División",
                "Eredivisie",
                "Premier League",
                "ROSHN Saudi League",
                "Bundesliga",
                "1A Pro League",
                "3. Liga",
                "Bundesliga 2",
                "Liga Portugal",
                "K League 1",
                "Serie A Enilive",
                "Trendyol Süper Lig",
                "EFL League One",
                "Serie BKT",
                "SUPERLIGA",
                "Allsvenskan",
                "Eliteserien"
               ]
              ],
              "y": [
               [
                6.27,
                6.15,
                6.03,
                5.55,
                5.19,
                4.1,
                3.86,
                3.86,
                3.74,
                3.62,
                3.62,
                3.5,
                3.5,
                3.5,
                3.5,
                3.26,
                3.26,
                3.26,
                3.02,
                3.02,
                2.9,
                2.9,
                2.77,
                2.65,
                2.05,
                1.81,
                1.81,
                1.33
               ]
              ]
             },
             {
              "title": "Répartition du poste LM dans les ligues"
             }
            ],
            "label": "LM",
            "method": "update"
           },
           {
            "args": [
             {
              "text": [
               [
                69,
                65,
                55,
                51,
                51,
                45,
                44,
                43,
                42,
                41,
                41,
                37,
                36,
                36,
                35,
                35,
                35,
                34,
                32,
                32,
                31,
                31,
                31,
                29,
                29,
                27,
                27,
                25
               ]
              ],
              "x": [
               [
                "MLS",
                "Sudamericana",
                "EFL League One",
                "EFL Championship",
                "Premier League",
                "CSL",
                "LALIGA EA SPORTS",
                "3. Liga",
                "Ligue 1 McDonald's",
                "Libertadores",
                "EFL League Two",
                "Bundesliga",
                "K League 1",
                "Serie A Enilive",
                "Bundesliga 2",
                "LALIGA HYPERMOTION",
                "Primera División",
                "Eredivisie",
                "Ligue 2 BKT",
                "Eliteserien",
                "PKO BP Ekstraklasa",
                "Serie BKT",
                "Liga Portugal",
                "SUPERLIGA",
                "ROSHN Saudi League",
                "Allsvenskan",
                "Trendyol Süper Lig",
                "1A Pro League"
               ]
              ],
              "y": [
               [
                6.34,
                5.97,
                5.05,
                4.68,
                4.68,
                4.13,
                4.04,
                3.95,
                3.86,
                3.76,
                3.76,
                3.4,
                3.31,
                3.31,
                3.21,
                3.21,
                3.21,
                3.12,
                2.94,
                2.94,
                2.85,
                2.85,
                2.85,
                2.66,
                2.66,
                2.48,
                2.48,
                2.3
               ]
              ]
             },
             {
              "title": "Répartition du poste RB dans les ligues"
             }
            ],
            "label": "RB",
            "method": "update"
           },
           {
            "args": [
             {
              "text": [
               [
                51,
                41,
                38,
                37,
                35,
                34,
                33,
                32,
                32,
                32,
                30,
                29,
                28,
                28,
                28,
                28,
                27,
                24,
                24,
                24,
                23,
                21,
                21,
                20,
                19,
                14,
                11,
                7
               ]
              ],
              "x": [
               [
                "Sudamericana",
                "MLS",
                "LALIGA HYPERMOTION",
                "LALIGA EA SPORTS",
                "Trendyol Süper Lig",
                "EFL Championship",
                "Premier League",
                "ROSHN Saudi League",
                "PKO BP Ekstraklasa",
                "Ligue 1 McDonald's",
                "CSL",
                "Serie A Enilive",
                "Eredivisie",
                "Libertadores",
                "Bundesliga",
                "Primera División",
                "Bundesliga 2",
                "1A Pro League",
                "Liga Portugal",
                "EFL League Two",
                "Ligue 2 BKT",
                "EFL League One",
                "3. Liga",
                "K League 1",
                "SUPERLIGA",
                "Serie BKT",
                "Eliteserien",
                "Allsvenskan"
               ]
              ],
              "y": [
               [
                6.61,
                5.32,
                4.93,
                4.8,
                4.54,
                4.41,
                4.28,
                4.15,
                4.15,
                4.15,
                3.89,
                3.76,
                3.63,
                3.63,
                3.63,
                3.63,
                3.5,
                3.11,
                3.11,
                3.11,
                2.98,
                2.72,
                2.72,
                2.59,
                2.46,
                1.82,
                1.43,
                0.91
               ]
              ]
             },
             {
              "title": "Répartition du poste RM dans les ligues"
             }
            ],
            "label": "RM",
            "method": "update"
           }
          ],
          "direction": "down",
          "showactive": true
         }
        ],
        "xaxis": {
         "anchor": "y",
         "domain": [
          0,
          1
         ],
         "tickangle": -45,
         "title": {
          "text": "Ligues"
         }
        },
        "yaxis": {
         "anchor": "x",
         "domain": [
          0,
          1
         ],
         "title": {
          "text": "Fréquence (%)"
         }
        }
       }
      }
     },
     "metadata": {},
     "output_type": "display_data"
    }
   ],
   "source": [
    "import plotly.express as px\n",
    "\n",
    "\n",
    "# Fonction pour calculer les effectifs et fréquences pour un poste spécifique\n",
    "def calculer_effectifs_frequences_par_poste(df, poste):\n",
    "    df_poste = df[df['Position'] == poste]\n",
    "    effectifs_poste_ligue = df_poste['League'].value_counts().sort_values(ascending=False)\n",
    "    frequences_poste_ligue = (effectifs_poste_ligue / df_poste['League'].value_counts().sum()) * 100\n",
    "    return pd.DataFrame({\n",
    "        'League': effectifs_poste_ligue.index,\n",
    "        'Effectif': effectifs_poste_ligue.values,\n",
    "        'Fréquence (%)': frequences_poste_ligue.values.round(2)\n",
    "    })\n",
    "\n",
    "# Créer un tableau pour chaque poste\n",
    "postes = df_2['Position'].unique()\n",
    "tableaux_par_poste = {poste: calculer_effectifs_frequences_par_poste(df_2, poste) for poste in postes}\n",
    "\n",
    "# Graphique interactif\n",
    "fig = px.bar(\n",
    "    tableaux_par_poste[postes[0]],  # Par défaut on affiche le premier poste\n",
    "    x='League',\n",
    "    y='Fréquence (%)',\n",
    "    text='Effectif',\n",
    "    hover_data={'Fréquence (%)': ':.2f', 'Effectif': True},\n",
    "    labels={'League': 'Ligues', 'Fréquence (%)': 'Fréquence (%)'},\n",
    "    title=f\"Répartition du poste {postes[0]} dans les ligues\"\n",
    ")\n",
    "\n",
    "# Ajouter un dropdown pour changer de poste\n",
    "buttons = [\n",
    "    {\n",
    "        'label': poste,\n",
    "        'method': 'update',\n",
    "        'args': [\n",
    "            {'x': [tableaux_par_poste[poste]['League']],\n",
    "             'y': [tableaux_par_poste[poste]['Fréquence (%)']],\n",
    "             'text': [tableaux_par_poste[poste]['Effectif']]},\n",
    "            {'title': f\"Répartition du poste {poste} dans les ligues\"}\n",
    "        ]\n",
    "    }\n",
    "    for poste in postes\n",
    "]\n",
    "\n",
    "# Mise à jour du layout avec le dropdown\n",
    "fig.update_layout(\n",
    "    xaxis_tickangle=-45,  # Incliner les labels à 45 degrés\n",
    "    font=dict(size=10),  # Diminuer la taille des écritures\n",
    "    showlegend=False,  # Masquer la légende pour le moment\n",
    "    updatemenus=[\n",
    "        {\n",
    "            'buttons': buttons,\n",
    "            'direction': 'down',\n",
    "            'showactive': True,\n",
    "        }\n",
    "    ]\n",
    ")\n",
    "\n",
    "# Afficher le graphique interactif avec le filtre\n",
    "fig.show()\n"
   ]
  },
  {
   "cell_type": "markdown",
   "metadata": {},
   "source": [
    "La ligue Sudamericana figure souvent parmi les ligues les plus représentées par poste, ce qui peut s'expliquer par son effectif élevé de joueurs.\n",
    "\n",
    "Nous avons également noté que les postes défensifs sont davantage représentés dans les championnats américains (comme la MLS et la Sudamericana), tandis que les postes offensifs sont plus présents dans les ligues européennes."
   ]
  },
  {
   "cell_type": "markdown",
   "metadata": {},
   "source": [
    "#### Cette fois ci on filtrera par équipe"
   ]
  },
  {
   "cell_type": "code",
   "execution_count": 91,
   "metadata": {},
   "outputs": [
    {
     "name": "stdout",
     "output_type": "stream",
     "text": [
      "Tableau croisé des effectifs de ligues par poste :\n",
      "Ligues  1A Pro League  3. Liga  Allsvenskan  Bundesliga  Bundesliga 2  CSL  \\\n",
      "Postes                                                                       \n",
      "CAM                23       49           19          40            43   11   \n",
      "CB                 73      104           67          93            88   80   \n",
      "CDM                33       41           22          36            46   32   \n",
      "CM                 40       38           61          48            36   57   \n",
      "GK                 49       57           41          61            63   55   \n",
      "LB                 24       33           29          32            39   40   \n",
      "LM                 27       27           15          27            25   32   \n",
      "LW                 12        6           20           4             8    9   \n",
      "RB                 25       43           27          37            35   45   \n",
      "RM                 24       21            7          28            27   30   \n",
      "RW                  9        9           18           3            10    7   \n",
      "ST                 53       68           47          76            83   51   \n",
      "All               392      496          373         485           503  449   \n",
      "\n",
      "Ligues  EFL Championship  EFL League One  EFL League Two  Eliteserien  ...  \\\n",
      "Postes                                                                 ...   \n",
      "CAM                   39              37              30           11  ...   \n",
      "CB                   126             121             115           72  ...   \n",
      "CDM                   60              44              40           18  ...   \n",
      "CM                    66              89              83           57  ...   \n",
      "GK                    76              62              52           40  ...   \n",
      "LB                    60              52              44           34  ...   \n",
      "LM                    51              22              30           11  ...   \n",
      "LW                     5               3               6           20  ...   \n",
      "RB                    51              55              41           32  ...   \n",
      "RM                    34              21              24           11  ...   \n",
      "RW                     9               4               4           21  ...   \n",
      "ST                   106             105              93           48  ...   \n",
      "All                  683             615             562          375  ...   \n",
      "\n",
      "Ligues  PKO BP Ekstraklasa  Premier League  Primera División  \\\n",
      "Postes                                                         \n",
      "CAM                     47              32                24   \n",
      "CB                      84             108                69   \n",
      "CDM                     40              63                27   \n",
      "CM                      39              61                39   \n",
      "GK                      44              69                35   \n",
      "LB                      24              43                28   \n",
      "LM                      34              29                29   \n",
      "LW                       9              23                 6   \n",
      "RB                      31              51                35   \n",
      "RM                      32              33                28   \n",
      "RW                       8              21                 7   \n",
      "ST                      52              64                58   \n",
      "All                    444             597               385   \n",
      "\n",
      "Ligues  ROSHN Saudi League  SUPERLIGA  Serie A Enilive  Serie BKT  \\\n",
      "Postes                                                              \n",
      "CAM                     19         21               32         25   \n",
      "CB                      66         63              100         80   \n",
      "CDM                     44         31               36         33   \n",
      "CM                      32         48               82         68   \n",
      "GK                      46         41               61         43   \n",
      "LB                      37         27               38         20   \n",
      "LM                      29         15               24         17   \n",
      "LW                      10         17               11          9   \n",
      "RB                      29         29               36         31   \n",
      "RM                      32         19               29         14   \n",
      "RW                       6         16               13          9   \n",
      "ST                      39         44               75         71   \n",
      "All                    389        371              537        420   \n",
      "\n",
      "Ligues  Sudamericana  Trendyol Süper Lig    All  \n",
      "Postes                                           \n",
      "CAM               56                  26    807  \n",
      "CB               139                  59   2498  \n",
      "CDM               79                  38   1115  \n",
      "CM                85                  38   1591  \n",
      "GK               100                  44   1552  \n",
      "LB                62                  34   1038  \n",
      "LM                52                  23    829  \n",
      "LW                16                   6    287  \n",
      "RB                65                  27   1089  \n",
      "RM                51                  35    771  \n",
      "RW                17                   7    305  \n",
      "ST               104                  44   1847  \n",
      "All              826                 381  13729  \n",
      "\n",
      "[13 rows x 29 columns]\n",
      "\n",
      "Fréquences des ligues par poste (%):\n",
      "Ligues  1A Pro League  3. Liga  Allsvenskan  Bundesliga  Bundesliga 2   CSL  \\\n",
      "Postes                                                                        \n",
      "CAM              2.85     6.07         2.35        4.96          5.33  1.36   \n",
      "CB               2.92     4.16         2.68        3.72          3.52  3.20   \n",
      "CDM              2.96     3.68         1.97        3.23          4.13  2.87   \n",
      "CM               2.51     2.39         3.83        3.02          2.26  3.58   \n",
      "GK               3.16     3.67         2.64        3.93          4.06  3.54   \n",
      "LB               2.31     3.18         2.79        3.08          3.76  3.85   \n",
      "LM               3.26     3.26         1.81        3.26          3.02  3.86   \n",
      "LW               4.18     2.09         6.97        1.39          2.79  3.14   \n",
      "RB               2.30     3.95         2.48        3.40          3.21  4.13   \n",
      "RM               3.11     2.72         0.91        3.63          3.50  3.89   \n",
      "RW               2.95     2.95         5.90        0.98          3.28  2.30   \n",
      "ST               2.87     3.68         2.54        4.11          4.49  2.76   \n",
      "All              2.86     3.61         2.72        3.53          3.66  3.27   \n",
      "\n",
      "Ligues  EFL Championship  EFL League One  EFL League Two  Eliteserien  ...  \\\n",
      "Postes                                                                 ...   \n",
      "CAM                 4.83            4.58            3.72         1.36  ...   \n",
      "CB                  5.04            4.84            4.60         2.88  ...   \n",
      "CDM                 5.38            3.95            3.59         1.61  ...   \n",
      "CM                  4.15            5.59            5.22         3.58  ...   \n",
      "GK                  4.90            3.99            3.35         2.58  ...   \n",
      "LB                  5.78            5.01            4.24         3.28  ...   \n",
      "LM                  6.15            2.65            3.62         1.33  ...   \n",
      "LW                  1.74            1.05            2.09         6.97  ...   \n",
      "RB                  4.68            5.05            3.76         2.94  ...   \n",
      "RM                  4.41            2.72            3.11         1.43  ...   \n",
      "RW                  2.95            1.31            1.31         6.89  ...   \n",
      "ST                  5.74            5.68            5.04         2.60  ...   \n",
      "All                 4.97            4.48            4.09         2.73  ...   \n",
      "\n",
      "Ligues  PKO BP Ekstraklasa  Premier League  Primera División  \\\n",
      "Postes                                                         \n",
      "CAM                   5.82            3.97              2.97   \n",
      "CB                    3.36            4.32              2.76   \n",
      "CDM                   3.59            5.65              2.42   \n",
      "CM                    2.45            3.83              2.45   \n",
      "GK                    2.84            4.45              2.26   \n",
      "LB                    2.31            4.14              2.70   \n",
      "LM                    4.10            3.50              3.50   \n",
      "LW                    3.14            8.01              2.09   \n",
      "RB                    2.85            4.68              3.21   \n",
      "RM                    4.15            4.28              3.63   \n",
      "RW                    2.62            6.89              2.30   \n",
      "ST                    2.82            3.47              3.14   \n",
      "All                   3.23            4.35              2.80   \n",
      "\n",
      "Ligues  ROSHN Saudi League  SUPERLIGA  Serie A Enilive  Serie BKT  \\\n",
      "Postes                                                              \n",
      "CAM                   2.35       2.60             3.97       3.10   \n",
      "CB                    2.64       2.52             4.00       3.20   \n",
      "CDM                   3.95       2.78             3.23       2.96   \n",
      "CM                    2.01       3.02             5.15       4.27   \n",
      "GK                    2.96       2.64             3.93       2.77   \n",
      "LB                    3.56       2.60             3.66       1.93   \n",
      "LM                    3.50       1.81             2.90       2.05   \n",
      "LW                    3.48       5.92             3.83       3.14   \n",
      "RB                    2.66       2.66             3.31       2.85   \n",
      "RM                    4.15       2.46             3.76       1.82   \n",
      "RW                    1.97       5.25             4.26       2.95   \n",
      "ST                    2.11       2.38             4.06       3.84   \n",
      "All                   2.83       2.70             3.91       3.06   \n",
      "\n",
      "Ligues  Sudamericana  Trendyol Süper Lig  Total  \n",
      "Postes                                           \n",
      "CAM             6.94                3.22    807  \n",
      "CB              5.56                2.36   2498  \n",
      "CDM             7.09                3.41   1115  \n",
      "CM              5.34                2.39   1591  \n",
      "GK              6.44                2.84   1552  \n",
      "LB              5.97                3.28   1038  \n",
      "LM              6.27                2.77    829  \n",
      "LW              5.57                2.09    287  \n",
      "RB              5.97                2.48   1089  \n",
      "RM              6.61                4.54    771  \n",
      "RW              5.57                2.30    305  \n",
      "ST              5.63                2.38   1847  \n",
      "All             6.02                2.78  13729  \n",
      "\n",
      "[13 rows x 29 columns]\n"
     ]
    }
   ],
   "source": [
    "\n",
    "# Créer un tableau croisé des effectifs de ligues par poste avec les totaux\n",
    "tableau_ligue_poste = pd.crosstab(df_2['Position'], df_2['League'], margins=True)\n",
    "tableau_ligue_poste.columns.name = 'Ligues'\n",
    "tableau_ligue_poste.index.name = 'Postes'\n",
    "\n",
    "# Calculer les fréquences des ligues par poste (en pourcentage)\n",
    "frequence_ligue_poste = tableau_ligue_poste.div(tableau_ligue_poste['All'], axis=0) * 100\n",
    "frequence_ligue_poste = frequence_ligue_poste.drop(columns='All')  # Supprimer la colonne 'All' pour les pourcentages\n",
    "frequence_ligue_poste['Total'] = tableau_ligue_poste['All']  # Ajouter la colonne Total pour les pourcentages\n",
    "\n",
    "# Afficher le tableau croisé des effectifs\n",
    "print(\"Tableau croisé des effectifs de ligues par poste :\")\n",
    "print(tableau_ligue_poste)\n",
    "\n",
    "# Afficher les fréquences (en pourcentage)\n",
    "print(\"\\nFréquences des ligues par poste (%):\")\n",
    "print(frequence_ligue_poste.round(2))\n"
   ]
  },
  {
   "cell_type": "code",
   "execution_count": 83,
   "metadata": {},
   "outputs": [
    {
     "data": {
      "application/vnd.plotly.v1+json": {
       "config": {
        "plotlyServerURL": "https://plot.ly"
       },
       "data": [
        {
         "alignmentgroup": "True",
         "customdata": [
          [
           94
          ],
          [
           73
          ],
          [
           69
          ],
          [
           54
          ],
          [
           44
          ],
          [
           43
          ],
          [
           42
          ],
          [
           37
          ],
          [
           33
          ],
          [
           26
          ],
          [
           8
          ],
          [
           6
          ]
         ],
         "hovertemplate": "Postes=%{x}<br>Fréquence (%)=%{y:.2f}<br>Effectif=%{customdata[0]}<extra></extra>",
         "legendgroup": "",
         "marker": {
          "color": "#636efa",
          "pattern": {
           "shape": ""
          }
         },
         "name": "",
         "offsetgroup": "",
         "orientation": "v",
         "showlegend": false,
         "text": [
          94,
          73,
          69,
          54,
          44,
          43,
          42,
          37,
          33,
          26,
          8,
          6
         ],
         "textposition": "auto",
         "type": "bar",
         "x": [
          "CB",
          "CM",
          "ST",
          "GK",
          "RB",
          "LM",
          "LB",
          "RM",
          "CDM",
          "CAM",
          "RW",
          "LW"
         ],
         "xaxis": "x",
         "y": [
          17.77,
          13.8,
          13.04,
          10.21,
          8.32,
          8.13,
          7.94,
          6.99,
          6.24,
          4.91,
          1.51,
          1.13
         ],
         "yaxis": "y"
        }
       ],
       "layout": {
        "barmode": "relative",
        "font": {
         "size": 10
        },
        "legend": {
         "tracegroupgap": 0
        },
        "showlegend": false,
        "template": {
         "data": {
          "bar": [
           {
            "error_x": {
             "color": "#2a3f5f"
            },
            "error_y": {
             "color": "#2a3f5f"
            },
            "marker": {
             "line": {
              "color": "#E5ECF6",
              "width": 0.5
             },
             "pattern": {
              "fillmode": "overlay",
              "size": 10,
              "solidity": 0.2
             }
            },
            "type": "bar"
           }
          ],
          "barpolar": [
           {
            "marker": {
             "line": {
              "color": "#E5ECF6",
              "width": 0.5
             },
             "pattern": {
              "fillmode": "overlay",
              "size": 10,
              "solidity": 0.2
             }
            },
            "type": "barpolar"
           }
          ],
          "carpet": [
           {
            "aaxis": {
             "endlinecolor": "#2a3f5f",
             "gridcolor": "white",
             "linecolor": "white",
             "minorgridcolor": "white",
             "startlinecolor": "#2a3f5f"
            },
            "baxis": {
             "endlinecolor": "#2a3f5f",
             "gridcolor": "white",
             "linecolor": "white",
             "minorgridcolor": "white",
             "startlinecolor": "#2a3f5f"
            },
            "type": "carpet"
           }
          ],
          "choropleth": [
           {
            "colorbar": {
             "outlinewidth": 0,
             "ticks": ""
            },
            "type": "choropleth"
           }
          ],
          "contour": [
           {
            "colorbar": {
             "outlinewidth": 0,
             "ticks": ""
            },
            "colorscale": [
             [
              0,
              "#0d0887"
             ],
             [
              0.1111111111111111,
              "#46039f"
             ],
             [
              0.2222222222222222,
              "#7201a8"
             ],
             [
              0.3333333333333333,
              "#9c179e"
             ],
             [
              0.4444444444444444,
              "#bd3786"
             ],
             [
              0.5555555555555556,
              "#d8576b"
             ],
             [
              0.6666666666666666,
              "#ed7953"
             ],
             [
              0.7777777777777778,
              "#fb9f3a"
             ],
             [
              0.8888888888888888,
              "#fdca26"
             ],
             [
              1,
              "#f0f921"
             ]
            ],
            "type": "contour"
           }
          ],
          "contourcarpet": [
           {
            "colorbar": {
             "outlinewidth": 0,
             "ticks": ""
            },
            "type": "contourcarpet"
           }
          ],
          "heatmap": [
           {
            "colorbar": {
             "outlinewidth": 0,
             "ticks": ""
            },
            "colorscale": [
             [
              0,
              "#0d0887"
             ],
             [
              0.1111111111111111,
              "#46039f"
             ],
             [
              0.2222222222222222,
              "#7201a8"
             ],
             [
              0.3333333333333333,
              "#9c179e"
             ],
             [
              0.4444444444444444,
              "#bd3786"
             ],
             [
              0.5555555555555556,
              "#d8576b"
             ],
             [
              0.6666666666666666,
              "#ed7953"
             ],
             [
              0.7777777777777778,
              "#fb9f3a"
             ],
             [
              0.8888888888888888,
              "#fdca26"
             ],
             [
              1,
              "#f0f921"
             ]
            ],
            "type": "heatmap"
           }
          ],
          "heatmapgl": [
           {
            "colorbar": {
             "outlinewidth": 0,
             "ticks": ""
            },
            "colorscale": [
             [
              0,
              "#0d0887"
             ],
             [
              0.1111111111111111,
              "#46039f"
             ],
             [
              0.2222222222222222,
              "#7201a8"
             ],
             [
              0.3333333333333333,
              "#9c179e"
             ],
             [
              0.4444444444444444,
              "#bd3786"
             ],
             [
              0.5555555555555556,
              "#d8576b"
             ],
             [
              0.6666666666666666,
              "#ed7953"
             ],
             [
              0.7777777777777778,
              "#fb9f3a"
             ],
             [
              0.8888888888888888,
              "#fdca26"
             ],
             [
              1,
              "#f0f921"
             ]
            ],
            "type": "heatmapgl"
           }
          ],
          "histogram": [
           {
            "marker": {
             "pattern": {
              "fillmode": "overlay",
              "size": 10,
              "solidity": 0.2
             }
            },
            "type": "histogram"
           }
          ],
          "histogram2d": [
           {
            "colorbar": {
             "outlinewidth": 0,
             "ticks": ""
            },
            "colorscale": [
             [
              0,
              "#0d0887"
             ],
             [
              0.1111111111111111,
              "#46039f"
             ],
             [
              0.2222222222222222,
              "#7201a8"
             ],
             [
              0.3333333333333333,
              "#9c179e"
             ],
             [
              0.4444444444444444,
              "#bd3786"
             ],
             [
              0.5555555555555556,
              "#d8576b"
             ],
             [
              0.6666666666666666,
              "#ed7953"
             ],
             [
              0.7777777777777778,
              "#fb9f3a"
             ],
             [
              0.8888888888888888,
              "#fdca26"
             ],
             [
              1,
              "#f0f921"
             ]
            ],
            "type": "histogram2d"
           }
          ],
          "histogram2dcontour": [
           {
            "colorbar": {
             "outlinewidth": 0,
             "ticks": ""
            },
            "colorscale": [
             [
              0,
              "#0d0887"
             ],
             [
              0.1111111111111111,
              "#46039f"
             ],
             [
              0.2222222222222222,
              "#7201a8"
             ],
             [
              0.3333333333333333,
              "#9c179e"
             ],
             [
              0.4444444444444444,
              "#bd3786"
             ],
             [
              0.5555555555555556,
              "#d8576b"
             ],
             [
              0.6666666666666666,
              "#ed7953"
             ],
             [
              0.7777777777777778,
              "#fb9f3a"
             ],
             [
              0.8888888888888888,
              "#fdca26"
             ],
             [
              1,
              "#f0f921"
             ]
            ],
            "type": "histogram2dcontour"
           }
          ],
          "mesh3d": [
           {
            "colorbar": {
             "outlinewidth": 0,
             "ticks": ""
            },
            "type": "mesh3d"
           }
          ],
          "parcoords": [
           {
            "line": {
             "colorbar": {
              "outlinewidth": 0,
              "ticks": ""
             }
            },
            "type": "parcoords"
           }
          ],
          "pie": [
           {
            "automargin": true,
            "type": "pie"
           }
          ],
          "scatter": [
           {
            "fillpattern": {
             "fillmode": "overlay",
             "size": 10,
             "solidity": 0.2
            },
            "type": "scatter"
           }
          ],
          "scatter3d": [
           {
            "line": {
             "colorbar": {
              "outlinewidth": 0,
              "ticks": ""
             }
            },
            "marker": {
             "colorbar": {
              "outlinewidth": 0,
              "ticks": ""
             }
            },
            "type": "scatter3d"
           }
          ],
          "scattercarpet": [
           {
            "marker": {
             "colorbar": {
              "outlinewidth": 0,
              "ticks": ""
             }
            },
            "type": "scattercarpet"
           }
          ],
          "scattergeo": [
           {
            "marker": {
             "colorbar": {
              "outlinewidth": 0,
              "ticks": ""
             }
            },
            "type": "scattergeo"
           }
          ],
          "scattergl": [
           {
            "marker": {
             "colorbar": {
              "outlinewidth": 0,
              "ticks": ""
             }
            },
            "type": "scattergl"
           }
          ],
          "scattermapbox": [
           {
            "marker": {
             "colorbar": {
              "outlinewidth": 0,
              "ticks": ""
             }
            },
            "type": "scattermapbox"
           }
          ],
          "scatterpolar": [
           {
            "marker": {
             "colorbar": {
              "outlinewidth": 0,
              "ticks": ""
             }
            },
            "type": "scatterpolar"
           }
          ],
          "scatterpolargl": [
           {
            "marker": {
             "colorbar": {
              "outlinewidth": 0,
              "ticks": ""
             }
            },
            "type": "scatterpolargl"
           }
          ],
          "scatterternary": [
           {
            "marker": {
             "colorbar": {
              "outlinewidth": 0,
              "ticks": ""
             }
            },
            "type": "scatterternary"
           }
          ],
          "surface": [
           {
            "colorbar": {
             "outlinewidth": 0,
             "ticks": ""
            },
            "colorscale": [
             [
              0,
              "#0d0887"
             ],
             [
              0.1111111111111111,
              "#46039f"
             ],
             [
              0.2222222222222222,
              "#7201a8"
             ],
             [
              0.3333333333333333,
              "#9c179e"
             ],
             [
              0.4444444444444444,
              "#bd3786"
             ],
             [
              0.5555555555555556,
              "#d8576b"
             ],
             [
              0.6666666666666666,
              "#ed7953"
             ],
             [
              0.7777777777777778,
              "#fb9f3a"
             ],
             [
              0.8888888888888888,
              "#fdca26"
             ],
             [
              1,
              "#f0f921"
             ]
            ],
            "type": "surface"
           }
          ],
          "table": [
           {
            "cells": {
             "fill": {
              "color": "#EBF0F8"
             },
             "line": {
              "color": "white"
             }
            },
            "header": {
             "fill": {
              "color": "#C8D4E3"
             },
             "line": {
              "color": "white"
             }
            },
            "type": "table"
           }
          ]
         },
         "layout": {
          "annotationdefaults": {
           "arrowcolor": "#2a3f5f",
           "arrowhead": 0,
           "arrowwidth": 1
          },
          "autotypenumbers": "strict",
          "coloraxis": {
           "colorbar": {
            "outlinewidth": 0,
            "ticks": ""
           }
          },
          "colorscale": {
           "diverging": [
            [
             0,
             "#8e0152"
            ],
            [
             0.1,
             "#c51b7d"
            ],
            [
             0.2,
             "#de77ae"
            ],
            [
             0.3,
             "#f1b6da"
            ],
            [
             0.4,
             "#fde0ef"
            ],
            [
             0.5,
             "#f7f7f7"
            ],
            [
             0.6,
             "#e6f5d0"
            ],
            [
             0.7,
             "#b8e186"
            ],
            [
             0.8,
             "#7fbc41"
            ],
            [
             0.9,
             "#4d9221"
            ],
            [
             1,
             "#276419"
            ]
           ],
           "sequential": [
            [
             0,
             "#0d0887"
            ],
            [
             0.1111111111111111,
             "#46039f"
            ],
            [
             0.2222222222222222,
             "#7201a8"
            ],
            [
             0.3333333333333333,
             "#9c179e"
            ],
            [
             0.4444444444444444,
             "#bd3786"
            ],
            [
             0.5555555555555556,
             "#d8576b"
            ],
            [
             0.6666666666666666,
             "#ed7953"
            ],
            [
             0.7777777777777778,
             "#fb9f3a"
            ],
            [
             0.8888888888888888,
             "#fdca26"
            ],
            [
             1,
             "#f0f921"
            ]
           ],
           "sequentialminus": [
            [
             0,
             "#0d0887"
            ],
            [
             0.1111111111111111,
             "#46039f"
            ],
            [
             0.2222222222222222,
             "#7201a8"
            ],
            [
             0.3333333333333333,
             "#9c179e"
            ],
            [
             0.4444444444444444,
             "#bd3786"
            ],
            [
             0.5555555555555556,
             "#d8576b"
            ],
            [
             0.6666666666666666,
             "#ed7953"
            ],
            [
             0.7777777777777778,
             "#fb9f3a"
            ],
            [
             0.8888888888888888,
             "#fdca26"
            ],
            [
             1,
             "#f0f921"
            ]
           ]
          },
          "colorway": [
           "#636efa",
           "#EF553B",
           "#00cc96",
           "#ab63fa",
           "#FFA15A",
           "#19d3f3",
           "#FF6692",
           "#B6E880",
           "#FF97FF",
           "#FECB52"
          ],
          "font": {
           "color": "#2a3f5f"
          },
          "geo": {
           "bgcolor": "white",
           "lakecolor": "white",
           "landcolor": "#E5ECF6",
           "showlakes": true,
           "showland": true,
           "subunitcolor": "white"
          },
          "hoverlabel": {
           "align": "left"
          },
          "hovermode": "closest",
          "mapbox": {
           "style": "light"
          },
          "paper_bgcolor": "white",
          "plot_bgcolor": "#E5ECF6",
          "polar": {
           "angularaxis": {
            "gridcolor": "white",
            "linecolor": "white",
            "ticks": ""
           },
           "bgcolor": "#E5ECF6",
           "radialaxis": {
            "gridcolor": "white",
            "linecolor": "white",
            "ticks": ""
           }
          },
          "scene": {
           "xaxis": {
            "backgroundcolor": "#E5ECF6",
            "gridcolor": "white",
            "gridwidth": 2,
            "linecolor": "white",
            "showbackground": true,
            "ticks": "",
            "zerolinecolor": "white"
           },
           "yaxis": {
            "backgroundcolor": "#E5ECF6",
            "gridcolor": "white",
            "gridwidth": 2,
            "linecolor": "white",
            "showbackground": true,
            "ticks": "",
            "zerolinecolor": "white"
           },
           "zaxis": {
            "backgroundcolor": "#E5ECF6",
            "gridcolor": "white",
            "gridwidth": 2,
            "linecolor": "white",
            "showbackground": true,
            "ticks": "",
            "zerolinecolor": "white"
           }
          },
          "shapedefaults": {
           "line": {
            "color": "#2a3f5f"
           }
          },
          "ternary": {
           "aaxis": {
            "gridcolor": "white",
            "linecolor": "white",
            "ticks": ""
           },
           "baxis": {
            "gridcolor": "white",
            "linecolor": "white",
            "ticks": ""
           },
           "bgcolor": "#E5ECF6",
           "caxis": {
            "gridcolor": "white",
            "linecolor": "white",
            "ticks": ""
           }
          },
          "title": {
           "x": 0.05
          },
          "xaxis": {
           "automargin": true,
           "gridcolor": "white",
           "linecolor": "white",
           "ticks": "",
           "title": {
            "standoff": 15
           },
           "zerolinecolor": "white",
           "zerolinewidth": 2
          },
          "yaxis": {
           "automargin": true,
           "gridcolor": "white",
           "linecolor": "white",
           "ticks": "",
           "title": {
            "standoff": 15
           },
           "zerolinecolor": "white",
           "zerolinewidth": 2
          }
         }
        },
        "title": {
         "text": "Répartition des ligues dans le poste LALIGA EA SPORTS"
        },
        "updatemenus": [
         {
          "buttons": [
           {
            "args": [
             {
              "text": [
               [
                94,
                73,
                69,
                54,
                44,
                43,
                42,
                37,
                33,
                26,
                8,
                6
               ]
              ],
              "x": [
               [
                "CB",
                "CM",
                "ST",
                "GK",
                "RB",
                "LM",
                "LB",
                "RM",
                "CDM",
                "CAM",
                "RW",
                "LW"
               ]
              ],
              "y": [
               [
                17.77,
                13.8,
                13.04,
                10.21,
                8.32,
                8.13,
                7.94,
                6.99,
                6.24,
                4.91,
                1.51,
                1.13
               ]
              ]
             },
             {
              "title": "Répartition des ligues dans le poste LALIGA EA SPORTS"
             }
            ],
            "label": "LALIGA EA SPORTS",
            "method": "update"
           },
           {
            "args": [
             {
              "text": [
               [
                108,
                69,
                64,
                63,
                61,
                51,
                43,
                33,
                32,
                29,
                23,
                21
               ]
              ],
              "x": [
               [
                "CB",
                "GK",
                "ST",
                "CDM",
                "CM",
                "RB",
                "LB",
                "RM",
                "CAM",
                "LM",
                "LW",
                "RW"
               ]
              ],
              "y": [
               [
                18.09,
                11.56,
                10.72,
                10.55,
                10.22,
                8.54,
                7.2,
                5.53,
                5.36,
                4.86,
                3.85,
                3.52
               ]
              ]
             },
             {
              "title": "Répartition des ligues dans le poste Premier League"
             }
            ],
            "label": "Premier League",
            "method": "update"
           },
           {
            "args": [
             {
              "text": [
               [
                93,
                76,
                61,
                48,
                40,
                37,
                36,
                32,
                28,
                27,
                4,
                3
               ]
              ],
              "x": [
               [
                "CB",
                "ST",
                "GK",
                "CM",
                "CAM",
                "RB",
                "CDM",
                "LB",
                "RM",
                "LM",
                "LW",
                "RW"
               ]
              ],
              "y": [
               [
                19.18,
                15.67,
                12.58,
                9.9,
                8.25,
                7.63,
                7.42,
                6.6,
                5.77,
                5.57,
                0.82,
                0.62
               ]
              ]
             },
             {
              "title": "Répartition des ligues dans le poste Bundesliga"
             }
            ],
            "label": "Bundesliga",
            "method": "update"
           },
           {
            "args": [
             {
              "text": [
               [
                83,
                55,
                54,
                48,
                42,
                42,
                37,
                32,
                32,
                23,
                8,
                8
               ]
              ],
              "x": [
               [
                "CB",
                "ST",
                "GK",
                "CM",
                "RB",
                "CDM",
                "LB",
                "LM",
                "RM",
                "CAM",
                "RW",
                "LW"
               ]
              ],
              "y": [
               [
                17.89,
                11.85,
                11.64,
                10.34,
                9.05,
                9.05,
                7.97,
                6.9,
                6.9,
                4.96,
                1.72,
                1.72
               ]
              ]
             },
             {
              "title": "Répartition des ligues dans le poste Ligue 1 McDonald's"
             }
            ],
            "label": "Ligue 1 McDonald's",
            "method": "update"
           },
           {
            "args": [
             {
              "text": [
               [
                100,
                82,
                75,
                61,
                38,
                36,
                36,
                32,
                29,
                24,
                13,
                11
               ]
              ],
              "x": [
               [
                "CB",
                "CM",
                "ST",
                "GK",
                "LB",
                "CDM",
                "RB",
                "CAM",
                "RM",
                "LM",
                "RW",
                "LW"
               ]
              ],
              "y": [
               [
                18.62,
                15.27,
                13.97,
                11.36,
                7.08,
                6.7,
                6.7,
                5.96,
                5.4,
                4.47,
                2.42,
                2.05
               ]
              ]
             },
             {
              "title": "Répartition des ligues dans le poste Serie A Enilive"
             }
            ],
            "label": "Serie A Enilive",
            "method": "update"
           },
           {
            "args": [
             {
              "text": [
               [
                143,
                100,
                85,
                80,
                69,
                66,
                56,
                50,
                41,
                39,
                17,
                16
               ]
              ],
              "x": [
               [
                "CB",
                "ST",
                "GK",
                "CM",
                "RB",
                "CDM",
                "LB",
                "LM",
                "RM",
                "CAM",
                "RW",
                "LW"
               ]
              ],
              "y": [
               [
                18.77,
                13.12,
                11.15,
                10.5,
                9.06,
                8.66,
                7.35,
                6.56,
                5.38,
                5.12,
                2.23,
                2.1
               ]
              ]
             },
             {
              "title": "Répartition des ligues dans le poste MLS"
             }
            ],
            "label": "MLS",
            "method": "update"
           },
           {
            "args": [
             {
              "text": [
               [
                66,
                46,
                44,
                39,
                37,
                32,
                32,
                29,
                29,
                19,
                10,
                6
               ]
              ],
              "x": [
               [
                "CB",
                "GK",
                "CDM",
                "ST",
                "LB",
                "RM",
                "CM",
                "LM",
                "RB",
                "CAM",
                "LW",
                "RW"
               ]
              ],
              "y": [
               [
                16.97,
                11.83,
                11.31,
                10.03,
                9.51,
                8.23,
                8.23,
                7.46,
                7.46,
                4.88,
                2.57,
                1.54
               ]
              ]
             },
             {
              "title": "Répartition des ligues dans le poste ROSHN Saudi League"
             }
            ],
            "label": "ROSHN Saudi League",
            "method": "update"
           },
           {
            "args": [
             {
              "text": [
               [
                72,
                48,
                45,
                44,
                31,
                31,
                27,
                25,
                24,
                22,
                13,
                12
               ]
              ],
              "x": [
               [
                "CB",
                "CM",
                "GK",
                "ST",
                "RB",
                "CDM",
                "LB",
                "LM",
                "RM",
                "CAM",
                "LW",
                "RW"
               ]
              ],
              "y": [
               [
                18.27,
                12.18,
                11.42,
                11.17,
                7.87,
                7.87,
                6.85,
                6.35,
                6.09,
                5.58,
                3.3,
                3.05
               ]
              ]
             },
             {
              "title": "Répartition des ligues dans le poste Liga Portugal"
             }
            ],
            "label": "Liga Portugal",
            "method": "update"
           },
           {
            "args": [
             {
              "text": [
               [
                98,
                73,
                69,
                65,
                55,
                44,
                41,
                35,
                31,
                28,
                18,
                17
               ]
              ],
              "x": [
               [
                "CB",
                "ST",
                "GK",
                "CM",
                "CDM",
                "LB",
                "RB",
                "CAM",
                "LM",
                "RM",
                "RW",
                "LW"
               ]
              ],
              "y": [
               [
                17.07,
                12.72,
                12.02,
                11.32,
                9.58,
                7.67,
                7.14,
                6.1,
                5.4,
                4.88,
                3.14,
                2.96
               ]
              ]
             },
             {
              "title": "Répartition des ligues dans le poste Libertadores"
             }
            ],
            "label": "Libertadores",
            "method": "update"
           },
           {
            "args": [
             {
              "text": [
               [
                80,
                71,
                68,
                43,
                33,
                31,
                25,
                20,
                17,
                14,
                9,
                9
               ]
              ],
              "x": [
               [
                "CB",
                "ST",
                "CM",
                "GK",
                "CDM",
                "RB",
                "CAM",
                "LB",
                "LM",
                "RM",
                "RW",
                "LW"
               ]
              ],
              "y": [
               [
                19.05,
                16.9,
                16.19,
                10.24,
                7.86,
                7.38,
                5.95,
                4.76,
                4.05,
                3.33,
                2.14,
                2.14
               ]
              ]
             },
             {
              "title": "Répartition des ligues dans le poste Serie BKT"
             }
            ],
            "label": "Serie BKT",
            "method": "update"
           },
           {
            "args": [
             {
              "text": [
               [
                59,
                44,
                44,
                38,
                38,
                35,
                34,
                27,
                26,
                23,
                7,
                6
               ]
              ],
              "x": [
               [
                "CB",
                "ST",
                "GK",
                "CDM",
                "CM",
                "RM",
                "LB",
                "RB",
                "CAM",
                "LM",
                "RW",
                "LW"
               ]
              ],
              "y": [
               [
                15.49,
                11.55,
                11.55,
                9.97,
                9.97,
                9.19,
                8.92,
                7.09,
                6.82,
                6.04,
                1.84,
                1.57
               ]
              ]
             },
             {
              "title": "Répartition des ligues dans le poste Trendyol Süper Lig"
             }
            ],
            "label": "Trendyol Süper Lig",
            "method": "update"
           },
           {
            "args": [
             {
              "text": [
               [
                67,
                61,
                48,
                40,
                38,
                34,
                31,
                30,
                29,
                28,
                15,
                10
               ]
              ],
              "x": [
               [
                "CB",
                "GK",
                "ST",
                "CM",
                "CAM",
                "RB",
                "CDM",
                "LB",
                "LM",
                "RM",
                "RW",
                "LW"
               ]
              ],
              "y": [
               [
                15.55,
                14.15,
                11.14,
                9.28,
                8.82,
                7.89,
                7.19,
                6.96,
                6.73,
                6.5,
                3.48,
                2.32
               ]
              ]
             },
             {
              "title": "Répartition des ligues dans le poste Eredivisie"
             }
            ],
            "label": "Eredivisie",
            "method": "update"
           },
           {
            "args": [
             {
              "text": [
               [
                73,
                53,
                49,
                40,
                33,
                27,
                25,
                24,
                24,
                23,
                12,
                9
               ]
              ],
              "x": [
               [
                "CB",
                "ST",
                "GK",
                "CM",
                "CDM",
                "LM",
                "RB",
                "RM",
                "LB",
                "CAM",
                "LW",
                "RW"
               ]
              ],
              "y": [
               [
                18.62,
                13.52,
                12.5,
                10.2,
                8.42,
                6.89,
                6.38,
                6.12,
                6.12,
                5.87,
                3.06,
                2.3
               ]
              ]
             },
             {
              "title": "Répartition des ligues dans le poste 1A Pro League"
             }
            ],
            "label": "1A Pro League",
            "method": "update"
           },
           {
            "args": [
             {
              "text": [
               [
                69,
                58,
                39,
                35,
                35,
                29,
                28,
                28,
                27,
                24,
                7,
                6
               ]
              ],
              "x": [
               [
                "CB",
                "ST",
                "CM",
                "GK",
                "RB",
                "LM",
                "RM",
                "LB",
                "CDM",
                "CAM",
                "RW",
                "LW"
               ]
              ],
              "y": [
               [
                17.92,
                15.06,
                10.13,
                9.09,
                9.09,
                7.53,
                7.27,
                7.27,
                7.01,
                6.23,
                1.82,
                1.56
               ]
              ]
             },
             {
              "title": "Répartition des ligues dans le poste Primera División"
             }
            ],
            "label": "Primera División",
            "method": "update"
           },
           {
            "args": [
             {
              "text": [
               [
                80,
                57,
                55,
                51,
                45,
                40,
                32,
                32,
                30,
                11,
                9,
                7
               ]
              ],
              "x": [
               [
                "CB",
                "CM",
                "GK",
                "ST",
                "RB",
                "LB",
                "LM",
                "CDM",
                "RM",
                "CAM",
                "LW",
                "RW"
               ]
              ],
              "y": [
               [
                17.82,
                12.69,
                12.25,
                11.36,
                10.02,
                8.91,
                7.13,
                7.13,
                6.68,
                2.45,
                2,
                1.56
               ]
              ]
             },
             {
              "title": "Répartition des ligues dans le poste CSL"
             }
            ],
            "label": "CSL",
            "method": "update"
           },
           {
            "args": [
             {
              "text": [
               [
                139,
                104,
                100,
                85,
                79,
                65,
                62,
                56,
                52,
                51,
                17,
                16
               ]
              ],
              "x": [
               [
                "CB",
                "ST",
                "GK",
                "CM",
                "CDM",
                "RB",
                "LB",
                "CAM",
                "LM",
                "RM",
                "RW",
                "LW"
               ]
              ],
              "y": [
               [
                16.83,
                12.59,
                12.11,
                10.29,
                9.56,
                7.87,
                7.51,
                6.78,
                6.3,
                6.17,
                2.06,
                1.94
               ]
              ]
             },
             {
              "title": "Répartition des ligues dans le poste Sudamericana"
             }
            ],
            "label": "Sudamericana",
            "method": "update"
           },
           {
            "args": [
             {
              "text": [
               [
                87,
                74,
                70,
                53,
                46,
                38,
                38,
                38,
                35,
                12,
                4,
                1
               ]
              ],
              "x": [
               [
                "CB",
                "ST",
                "CM",
                "GK",
                "LM",
                "CDM",
                "LB",
                "RM",
                "RB",
                "CAM",
                "LW",
                "RW"
               ]
              ],
              "y": [
               [
                17.54,
                14.92,
                14.11,
                10.69,
                9.27,
                7.66,
                7.66,
                7.66,
                7.06,
                2.42,
                0.81,
                0.2
               ]
              ]
             },
             {
              "title": "Répartition des ligues dans le poste LALIGA HYPERMOTION"
             }
            ],
            "label": "LALIGA HYPERMOTION",
            "method": "update"
           },
           {
            "args": [
             {
              "text": [
               [
                126,
                106,
                76,
                66,
                60,
                60,
                51,
                51,
                39,
                34,
                9,
                5
               ]
              ],
              "x": [
               [
                "CB",
                "ST",
                "GK",
                "CM",
                "LB",
                "CDM",
                "LM",
                "RB",
                "CAM",
                "RM",
                "RW",
                "LW"
               ]
              ],
              "y": [
               [
                18.45,
                15.52,
                11.13,
                9.66,
                8.78,
                8.78,
                7.47,
                7.47,
                5.71,
                4.98,
                1.32,
                0.73
               ]
              ]
             },
             {
              "title": "Répartition des ligues dans le poste EFL Championship"
             }
            ],
            "label": "EFL Championship",
            "method": "update"
           },
           {
            "args": [
             {
              "text": [
               [
                63,
                45,
                44,
                42,
                35,
                32,
                30,
                29,
                23,
                12,
                3,
                3
               ]
              ],
              "x": [
               [
                "CB",
                "GK",
                "ST",
                "CM",
                "LB",
                "RB",
                "LM",
                "CDM",
                "RM",
                "CAM",
                "RW",
                "LW"
               ]
              ],
              "y": [
               [
                17.45,
                12.47,
                12.19,
                11.63,
                9.7,
                8.86,
                8.31,
                8.03,
                6.37,
                3.32,
                0.83,
                0.83
               ]
              ]
             },
             {
              "title": "Répartition des ligues dans le poste Ligue 2 BKT"
             }
            ],
            "label": "Ligue 2 BKT",
            "method": "update"
           },
           {
            "args": [
             {
              "text": [
               [
                88,
                83,
                63,
                46,
                43,
                39,
                36,
                35,
                27,
                25,
                10,
                8
               ]
              ],
              "x": [
               [
                "CB",
                "ST",
                "GK",
                "CDM",
                "CAM",
                "LB",
                "CM",
                "RB",
                "RM",
                "LM",
                "RW",
                "LW"
               ]
              ],
              "y": [
               [
                17.5,
                16.5,
                12.52,
                9.15,
                8.55,
                7.75,
                7.16,
                6.96,
                5.37,
                4.97,
                1.99,
                1.59
               ]
              ]
             },
             {
              "title": "Répartition des ligues dans le poste Bundesliga 2"
             }
            ],
            "label": "Bundesliga 2",
            "method": "update"
           },
           {
            "args": [
             {
              "text": [
               [
                72,
                57,
                48,
                40,
                34,
                32,
                21,
                20,
                18,
                11,
                11,
                11
               ]
              ],
              "x": [
               [
                "CB",
                "CM",
                "ST",
                "GK",
                "LB",
                "RB",
                "RW",
                "LW",
                "CDM",
                "CAM",
                "LM",
                "RM"
               ]
              ],
              "y": [
               [
                19.2,
                15.2,
                12.8,
                10.67,
                9.07,
                8.53,
                5.6,
                5.33,
                4.8,
                2.93,
                2.93,
                2.93
               ]
              ]
             },
             {
              "title": "Répartition des ligues dans le poste Eliteserien"
             }
            ],
            "label": "Eliteserien",
            "method": "update"
           },
           {
            "args": [
             {
              "text": [
               [
                84,
                59,
                58,
                47,
                36,
                29,
                27,
                25,
                24,
                20,
                16,
                10
               ]
              ],
              "x": [
               [
                "CB",
                "ST",
                "CM",
                "GK",
                "RB",
                "LB",
                "CDM",
                "RW",
                "LM",
                "RM",
                "CAM",
                "LW"
               ]
              ],
              "y": [
               [
                19.31,
                13.56,
                13.33,
                10.8,
                8.28,
                6.67,
                6.21,
                5.75,
                5.52,
                4.6,
                3.68,
                2.3
               ]
              ]
             },
             {
              "title": "Répartition des ligues dans le poste K League 1"
             }
            ],
            "label": "K League 1",
            "method": "update"
           },
           {
            "args": [
             {
              "text": [
               [
                84,
                52,
                47,
                44,
                40,
                39,
                34,
                32,
                31,
                24,
                9,
                8
               ]
              ],
              "x": [
               [
                "CB",
                "ST",
                "CAM",
                "GK",
                "CDM",
                "CM",
                "LM",
                "RM",
                "RB",
                "LB",
                "LW",
                "RW"
               ]
              ],
              "y": [
               [
                18.92,
                11.71,
                10.59,
                9.91,
                9.01,
                8.78,
                7.66,
                7.21,
                6.98,
                5.41,
                2.03,
                1.8
               ]
              ]
             },
             {
              "title": "Répartition des ligues dans le poste PKO BP Ekstraklasa"
             }
            ],
            "label": "PKO BP Ekstraklasa",
            "method": "update"
           },
           {
            "args": [
             {
              "text": [
               [
                67,
                61,
                47,
                41,
                29,
                27,
                22,
                20,
                19,
                18,
                15,
                7
               ]
              ],
              "x": [
               [
                "CB",
                "CM",
                "ST",
                "GK",
                "LB",
                "RB",
                "CDM",
                "LW",
                "CAM",
                "RW",
                "LM",
                "RM"
               ]
              ],
              "y": [
               [
                17.96,
                16.35,
                12.6,
                10.99,
                7.77,
                7.24,
                5.9,
                5.36,
                5.09,
                4.83,
                4.02,
                1.88
               ]
              ]
             },
             {
              "title": "Répartition des ligues dans le poste Allsvenskan"
             }
            ],
            "label": "Allsvenskan",
            "method": "update"
           },
           {
            "args": [
             {
              "text": [
               [
                63,
                48,
                44,
                41,
                31,
                29,
                27,
                21,
                19,
                17,
                16,
                15
               ]
              ],
              "x": [
               [
                "CB",
                "CM",
                "ST",
                "GK",
                "CDM",
                "RB",
                "LB",
                "CAM",
                "RM",
                "LW",
                "RW",
                "LM"
               ]
              ],
              "y": [
               [
                16.98,
                12.94,
                11.86,
                11.05,
                8.36,
                7.82,
                7.28,
                5.66,
                5.12,
                4.58,
                4.31,
                4.04
               ]
              ]
             },
             {
              "title": "Répartition des ligues dans le poste SUPERLIGA"
             }
            ],
            "label": "SUPERLIGA",
            "method": "update"
           },
           {
            "args": [
             {
              "text": [
               [
                121,
                105,
                89,
                62,
                55,
                52,
                44,
                37,
                22,
                21,
                4,
                3
               ]
              ],
              "x": [
               [
                "CB",
                "ST",
                "CM",
                "GK",
                "RB",
                "LB",
                "CDM",
                "CAM",
                "LM",
                "RM",
                "RW",
                "LW"
               ]
              ],
              "y": [
               [
                19.67,
                17.07,
                14.47,
                10.08,
                8.94,
                8.46,
                7.15,
                6.02,
                3.58,
                3.41,
                0.65,
                0.49
               ]
              ]
             },
             {
              "title": "Répartition des ligues dans le poste EFL League One"
             }
            ],
            "label": "EFL League One",
            "method": "update"
           },
           {
            "args": [
             {
              "text": [
               [
                104,
                68,
                57,
                49,
                43,
                41,
                38,
                33,
                27,
                21,
                9,
                6
               ]
              ],
              "x": [
               [
                "CB",
                "ST",
                "GK",
                "CAM",
                "RB",
                "CDM",
                "CM",
                "LB",
                "LM",
                "RM",
                "RW",
                "LW"
               ]
              ],
              "y": [
               [
                20.97,
                13.71,
                11.49,
                9.88,
                8.67,
                8.27,
                7.66,
                6.65,
                5.44,
                4.23,
                1.81,
                1.21
               ]
              ]
             },
             {
              "title": "Répartition des ligues dans le poste 3. Liga"
             }
            ],
            "label": "3. Liga",
            "method": "update"
           },
           {
            "args": [
             {
              "text": [
               [
                115,
                93,
                83,
                52,
                44,
                41,
                40,
                30,
                30,
                24,
                6,
                4
               ]
              ],
              "x": [
               [
                "CB",
                "ST",
                "CM",
                "GK",
                "LB",
                "RB",
                "CDM",
                "LM",
                "CAM",
                "RM",
                "LW",
                "RW"
               ]
              ],
              "y": [
               [
                20.46,
                16.55,
                14.77,
                9.25,
                7.83,
                7.3,
                7.12,
                5.34,
                5.34,
                4.27,
                1.07,
                0.71
               ]
              ]
             },
             {
              "title": "Répartition des ligues dans le poste EFL League Two"
             }
            ],
            "label": "EFL League Two",
            "method": "update"
           }
          ],
          "direction": "down",
          "showactive": true
         }
        ],
        "xaxis": {
         "anchor": "y",
         "domain": [
          0,
          1
         ],
         "tickangle": -45,
         "title": {
          "text": "Postes"
         }
        },
        "yaxis": {
         "anchor": "x",
         "domain": [
          0,
          1
         ],
         "title": {
          "text": "Fréquence (%)"
         }
        }
       }
      }
     },
     "metadata": {},
     "output_type": "display_data"
    }
   ],
   "source": [
    "import plotly.express as px\n",
    "\n",
    "# Fonction pour calculer les effectifs et fréquences pour une ligue spécifique\n",
    "def calculer_effectifs_frequences_par_ligue(df, ligue):\n",
    "    df_ligue = df[df['League'] == ligue]\n",
    "    effectifs_ligue_poste = df_ligue['Position'].value_counts().sort_values(ascending=False)\n",
    "    frequences_ligue_poste = (effectifs_ligue_poste / df_ligue['Position'].value_counts().sum()) * 100\n",
    "    return pd.DataFrame({\n",
    "        'Position': effectifs_ligue_poste.index,\n",
    "        'Effectif': effectifs_ligue_poste.values,\n",
    "        'Fréquence (%)': frequences_ligue_poste.values.round(2)\n",
    "    })\n",
    "\n",
    "# Créer un tableau pour chaque ligue\n",
    "ligues = df_2['League'].unique()\n",
    "tableaux_par_ligue = {ligue: calculer_effectifs_frequences_par_ligue(df_2, ligue) for ligue in ligues}\n",
    "\n",
    "# Graphique interactif\n",
    "fig = px.bar(\n",
    "    tableaux_par_ligue[ligues[0]],  # Par défaut on affiche la première ligue\n",
    "    x='Position',\n",
    "    y='Fréquence (%)',\n",
    "    text='Effectif',\n",
    "    hover_data={'Fréquence (%)': ':.2f', 'Effectif': True},\n",
    "    labels={'Position': 'Postes', 'Fréquence (%)': 'Fréquence (%)'},\n",
    "    title=f\"Répartition des ligues dans le poste {ligues[0]}\"\n",
    ")\n",
    "\n",
    "# Ajouter un dropdown pour changer de ligue\n",
    "buttons = [\n",
    "    {\n",
    "        'label': ligue,\n",
    "        'method': 'update',\n",
    "        'args': [\n",
    "            {'x': [tableaux_par_ligue[ligue]['Position']],\n",
    "             'y': [tableaux_par_ligue[ligue]['Fréquence (%)']],\n",
    "             'text': [tableaux_par_ligue[ligue]['Effectif']]},\n",
    "            {'title': f\"Répartition des ligues dans le poste {ligue}\"}\n",
    "        ]\n",
    "    }\n",
    "    for ligue in ligues\n",
    "]\n",
    "\n",
    "# Mise à jour du layout avec le dropdown\n",
    "fig.update_layout(\n",
    "    xaxis_tickangle=-45,  # Incliner les labels à 45 degrés\n",
    "    font=dict(size=10),  # Diminuer la taille des écritures\n",
    "    showlegend=False,  # Masquer la légende pour le moment\n",
    "    updatemenus=[\n",
    "        {\n",
    "            'buttons': buttons,\n",
    "            'direction': 'down',\n",
    "            'showactive': True,\n",
    "        }\n",
    "    ]\n",
    ")\n",
    "\n",
    "# Afficher le graphique interactif avec le filtre\n",
    "fig.show()\n"
   ]
  },
  {
   "cell_type": "markdown",
   "metadata": {},
   "source": [
    "- Les défenseurs centraux (CB) sont les joueurs les plus représentés dans presque toutes les ligues. Cela peut s'expliquer par les différentes tactiques de jeu utilisées. En effet, dans la majorité des formations, on retrouve au minimum deux défenseurs centraux. Parfois, selon les systèmes comme le 3-4-3, le 5-3-2, ou encore le 3-5-2 (souvent utilisés en Série A, mais aussi dans d'autres ligues), une équipe peut aligner trois défenseurs centraux. Cette position clé est donc fortement demandée quel que soit le championnat.\n",
    "\n",
    "- Juste derrière les défenseurs centraux, on retrouve les gardiens de but (GK) et les avant-centres (ST). Cela s'explique par le fait que chaque équipe, quelle que soit la composition, aligne toujours au moins un gardien de but et un avant-centre. De plus, il est courant que chaque équipe inclut deux gardiens remplaçants et un ou deux attaquants supplémentaires sur le banc. Ces postes sont donc indispensables dans toutes les formations.\n",
    "\n",
    "- Les milieux de terrain (CM, CDM) sont également bien représentés dans toutes les ligues. En effet, la majorité des formations tactiques incluent plusieurs milieux de terrain, allant parfois jusqu'à quatre ou cinq joueurs dans des systèmes tels que le 4-4-2, le 4-2-3-1, ou encore le 4-3-3. Le rôle du milieu de terrain, essentiel pour la transition entre la défense et l'attaque, fait de ces joueurs des éléments centraux dans presque toutes les équipes.\n",
    "\n",
    "- En revanche, les ailiers (LW, RW) sont souvent les moins représentés. Cela peut s'expliquer par le fait que certaines formations, comme le 4-4-2, n’utilisent pas nécessairement d'ailiers naturels. Cependant, leur fréquence peut augmenter dans des ligues où des systèmes de jeu comme le 4-3-3 ou le 3-4-3 sont privilégiés, car ces compositions exploitent pleinement la largeur du terrain et requièrent l'utilisation d'ailiers offensifs."
   ]
  },
  {
   "cell_type": "markdown",
   "metadata": {},
   "source": [
    "### Calculer la puissance (Sprint.Speed*Strength). Analyser le rapport poids:puissance par rapport au poste. Déduire, si possible des directives de recrutement."
   ]
  },
  {
   "cell_type": "markdown",
   "metadata": {},
   "source": [
    "#### Calcul de la puissance (Sprint.Speed * Strength)"
   ]
  },
  {
   "cell_type": "code",
   "execution_count": 63,
   "metadata": {},
   "outputs": [
    {
     "name": "stderr",
     "output_type": "stream",
     "text": [
      "C:\\Users\\samba\\AppData\\Local\\Temp\\ipykernel_2368\\399395743.py:2: SettingWithCopyWarning:\n",
      "\n",
      "\n",
      "A value is trying to be set on a copy of a slice from a DataFrame.\n",
      "Try using .loc[row_indexer,col_indexer] = value instead\n",
      "\n",
      "See the caveats in the documentation: https://pandas.pydata.org/pandas-docs/stable/user_guide/indexing.html#returning-a-view-versus-a-copy\n",
      "\n"
     ]
    }
   ],
   "source": [
    "# Calculer la puissance pour chaque joueur\n",
    "df_2['Puissance'] = df_2['Sprint.Speed'] * df_2['Strength']\n"
   ]
  },
  {
   "cell_type": "markdown",
   "metadata": {},
   "source": [
    "#### Calcul du rapport poids/puissance"
   ]
  },
  {
   "cell_type": "code",
   "execution_count": 84,
   "metadata": {},
   "outputs": [
    {
     "name": "stderr",
     "output_type": "stream",
     "text": [
      "C:\\Users\\samba\\AppData\\Local\\Temp\\ipykernel_2368\\4176790158.py:1: SettingWithCopyWarning:\n",
      "\n",
      "\n",
      "A value is trying to be set on a copy of a slice from a DataFrame.\n",
      "Try using .loc[row_indexer,col_indexer] = value instead\n",
      "\n",
      "See the caveats in the documentation: https://pandas.pydata.org/pandas-docs/stable/user_guide/indexing.html#returning-a-view-versus-a-copy\n",
      "\n"
     ]
    }
   ],
   "source": [
    "\n",
    "df_2['Rapport Poids/Puissance'] = df_2['Weight'] / df_2['Puissance']\n"
   ]
  },
  {
   "cell_type": "markdown",
   "metadata": {},
   "source": [
    "#### Analyse du rapport poids/puissance par poste"
   ]
  },
  {
   "cell_type": "code",
   "execution_count": 81,
   "metadata": {},
   "outputs": [
    {
     "name": "stdout",
     "output_type": "stream",
     "text": [
      "   Position  Rapport Poids/Puissance\n",
      "4        GK                 0.044098\n",
      "0       CAM                 0.019241\n",
      "3        CM                 0.018664\n",
      "2       CDM                 0.018382\n",
      "1        CB                 0.017896\n",
      "7        LW                 0.017580\n",
      "10       RW                 0.017559\n",
      "6        LM                 0.016923\n",
      "9        RM                 0.016729\n",
      "5        LB                 0.016263\n",
      "8        RB                 0.016096\n",
      "11       ST                 0.015966\n"
     ]
    }
   ],
   "source": [
    "# Calculer la moyenne du rapport poids/puissance par poste\n",
    "rapport_poids_puissance_par_poste = df_2.groupby('Position')['Rapport Poids/Puissance'].mean().reset_index()\n",
    "\n",
    "# Afficher les résultats\n",
    "print(rapport_poids_puissance_par_poste.sort_values(by='Rapport Poids/Puissance', ascending=False))\n"
   ]
  },
  {
   "cell_type": "markdown",
   "metadata": {},
   "source": [
    "#### Visualisation du rapport poids/puissance par poste"
   ]
  },
  {
   "cell_type": "code",
   "execution_count": 78,
   "metadata": {},
   "outputs": [
    {
     "data": {
      "application/vnd.plotly.v1+json": {
       "config": {
        "plotlyServerURL": "https://plot.ly"
       },
       "data": [
        {
         "alignmentgroup": "True",
         "hovertemplate": "Poste=%{x}<br>Rapport Poids/Puissance (moyenne)=%{y}<extra></extra>",
         "legendgroup": "",
         "marker": {
          "color": "#636efa",
          "pattern": {
           "shape": ""
          }
         },
         "name": "",
         "offsetgroup": "",
         "orientation": "v",
         "showlegend": false,
         "textposition": "auto",
         "type": "bar",
         "x": [
          "GK",
          "CAM",
          "CM",
          "CDM",
          "CB",
          "LW",
          "RW",
          "LM",
          "RM",
          "LB",
          "RB",
          "ST"
         ],
         "xaxis": "x",
         "y": [
          0.04409826906588299,
          0.019240666861769957,
          0.018663580743848295,
          0.01838220863278251,
          0.01789616209315132,
          0.01757982346770953,
          0.017558851848018604,
          0.01692273241964876,
          0.016729147643030587,
          0.016262546460995075,
          0.016096062711956263,
          0.015966115726903964
         ],
         "yaxis": "y"
        }
       ],
       "layout": {
        "barmode": "relative",
        "legend": {
         "tracegroupgap": 0
        },
        "template": {
         "data": {
          "bar": [
           {
            "error_x": {
             "color": "#2a3f5f"
            },
            "error_y": {
             "color": "#2a3f5f"
            },
            "marker": {
             "line": {
              "color": "#E5ECF6",
              "width": 0.5
             },
             "pattern": {
              "fillmode": "overlay",
              "size": 10,
              "solidity": 0.2
             }
            },
            "type": "bar"
           }
          ],
          "barpolar": [
           {
            "marker": {
             "line": {
              "color": "#E5ECF6",
              "width": 0.5
             },
             "pattern": {
              "fillmode": "overlay",
              "size": 10,
              "solidity": 0.2
             }
            },
            "type": "barpolar"
           }
          ],
          "carpet": [
           {
            "aaxis": {
             "endlinecolor": "#2a3f5f",
             "gridcolor": "white",
             "linecolor": "white",
             "minorgridcolor": "white",
             "startlinecolor": "#2a3f5f"
            },
            "baxis": {
             "endlinecolor": "#2a3f5f",
             "gridcolor": "white",
             "linecolor": "white",
             "minorgridcolor": "white",
             "startlinecolor": "#2a3f5f"
            },
            "type": "carpet"
           }
          ],
          "choropleth": [
           {
            "colorbar": {
             "outlinewidth": 0,
             "ticks": ""
            },
            "type": "choropleth"
           }
          ],
          "contour": [
           {
            "colorbar": {
             "outlinewidth": 0,
             "ticks": ""
            },
            "colorscale": [
             [
              0,
              "#0d0887"
             ],
             [
              0.1111111111111111,
              "#46039f"
             ],
             [
              0.2222222222222222,
              "#7201a8"
             ],
             [
              0.3333333333333333,
              "#9c179e"
             ],
             [
              0.4444444444444444,
              "#bd3786"
             ],
             [
              0.5555555555555556,
              "#d8576b"
             ],
             [
              0.6666666666666666,
              "#ed7953"
             ],
             [
              0.7777777777777778,
              "#fb9f3a"
             ],
             [
              0.8888888888888888,
              "#fdca26"
             ],
             [
              1,
              "#f0f921"
             ]
            ],
            "type": "contour"
           }
          ],
          "contourcarpet": [
           {
            "colorbar": {
             "outlinewidth": 0,
             "ticks": ""
            },
            "type": "contourcarpet"
           }
          ],
          "heatmap": [
           {
            "colorbar": {
             "outlinewidth": 0,
             "ticks": ""
            },
            "colorscale": [
             [
              0,
              "#0d0887"
             ],
             [
              0.1111111111111111,
              "#46039f"
             ],
             [
              0.2222222222222222,
              "#7201a8"
             ],
             [
              0.3333333333333333,
              "#9c179e"
             ],
             [
              0.4444444444444444,
              "#bd3786"
             ],
             [
              0.5555555555555556,
              "#d8576b"
             ],
             [
              0.6666666666666666,
              "#ed7953"
             ],
             [
              0.7777777777777778,
              "#fb9f3a"
             ],
             [
              0.8888888888888888,
              "#fdca26"
             ],
             [
              1,
              "#f0f921"
             ]
            ],
            "type": "heatmap"
           }
          ],
          "heatmapgl": [
           {
            "colorbar": {
             "outlinewidth": 0,
             "ticks": ""
            },
            "colorscale": [
             [
              0,
              "#0d0887"
             ],
             [
              0.1111111111111111,
              "#46039f"
             ],
             [
              0.2222222222222222,
              "#7201a8"
             ],
             [
              0.3333333333333333,
              "#9c179e"
             ],
             [
              0.4444444444444444,
              "#bd3786"
             ],
             [
              0.5555555555555556,
              "#d8576b"
             ],
             [
              0.6666666666666666,
              "#ed7953"
             ],
             [
              0.7777777777777778,
              "#fb9f3a"
             ],
             [
              0.8888888888888888,
              "#fdca26"
             ],
             [
              1,
              "#f0f921"
             ]
            ],
            "type": "heatmapgl"
           }
          ],
          "histogram": [
           {
            "marker": {
             "pattern": {
              "fillmode": "overlay",
              "size": 10,
              "solidity": 0.2
             }
            },
            "type": "histogram"
           }
          ],
          "histogram2d": [
           {
            "colorbar": {
             "outlinewidth": 0,
             "ticks": ""
            },
            "colorscale": [
             [
              0,
              "#0d0887"
             ],
             [
              0.1111111111111111,
              "#46039f"
             ],
             [
              0.2222222222222222,
              "#7201a8"
             ],
             [
              0.3333333333333333,
              "#9c179e"
             ],
             [
              0.4444444444444444,
              "#bd3786"
             ],
             [
              0.5555555555555556,
              "#d8576b"
             ],
             [
              0.6666666666666666,
              "#ed7953"
             ],
             [
              0.7777777777777778,
              "#fb9f3a"
             ],
             [
              0.8888888888888888,
              "#fdca26"
             ],
             [
              1,
              "#f0f921"
             ]
            ],
            "type": "histogram2d"
           }
          ],
          "histogram2dcontour": [
           {
            "colorbar": {
             "outlinewidth": 0,
             "ticks": ""
            },
            "colorscale": [
             [
              0,
              "#0d0887"
             ],
             [
              0.1111111111111111,
              "#46039f"
             ],
             [
              0.2222222222222222,
              "#7201a8"
             ],
             [
              0.3333333333333333,
              "#9c179e"
             ],
             [
              0.4444444444444444,
              "#bd3786"
             ],
             [
              0.5555555555555556,
              "#d8576b"
             ],
             [
              0.6666666666666666,
              "#ed7953"
             ],
             [
              0.7777777777777778,
              "#fb9f3a"
             ],
             [
              0.8888888888888888,
              "#fdca26"
             ],
             [
              1,
              "#f0f921"
             ]
            ],
            "type": "histogram2dcontour"
           }
          ],
          "mesh3d": [
           {
            "colorbar": {
             "outlinewidth": 0,
             "ticks": ""
            },
            "type": "mesh3d"
           }
          ],
          "parcoords": [
           {
            "line": {
             "colorbar": {
              "outlinewidth": 0,
              "ticks": ""
             }
            },
            "type": "parcoords"
           }
          ],
          "pie": [
           {
            "automargin": true,
            "type": "pie"
           }
          ],
          "scatter": [
           {
            "fillpattern": {
             "fillmode": "overlay",
             "size": 10,
             "solidity": 0.2
            },
            "type": "scatter"
           }
          ],
          "scatter3d": [
           {
            "line": {
             "colorbar": {
              "outlinewidth": 0,
              "ticks": ""
             }
            },
            "marker": {
             "colorbar": {
              "outlinewidth": 0,
              "ticks": ""
             }
            },
            "type": "scatter3d"
           }
          ],
          "scattercarpet": [
           {
            "marker": {
             "colorbar": {
              "outlinewidth": 0,
              "ticks": ""
             }
            },
            "type": "scattercarpet"
           }
          ],
          "scattergeo": [
           {
            "marker": {
             "colorbar": {
              "outlinewidth": 0,
              "ticks": ""
             }
            },
            "type": "scattergeo"
           }
          ],
          "scattergl": [
           {
            "marker": {
             "colorbar": {
              "outlinewidth": 0,
              "ticks": ""
             }
            },
            "type": "scattergl"
           }
          ],
          "scattermapbox": [
           {
            "marker": {
             "colorbar": {
              "outlinewidth": 0,
              "ticks": ""
             }
            },
            "type": "scattermapbox"
           }
          ],
          "scatterpolar": [
           {
            "marker": {
             "colorbar": {
              "outlinewidth": 0,
              "ticks": ""
             }
            },
            "type": "scatterpolar"
           }
          ],
          "scatterpolargl": [
           {
            "marker": {
             "colorbar": {
              "outlinewidth": 0,
              "ticks": ""
             }
            },
            "type": "scatterpolargl"
           }
          ],
          "scatterternary": [
           {
            "marker": {
             "colorbar": {
              "outlinewidth": 0,
              "ticks": ""
             }
            },
            "type": "scatterternary"
           }
          ],
          "surface": [
           {
            "colorbar": {
             "outlinewidth": 0,
             "ticks": ""
            },
            "colorscale": [
             [
              0,
              "#0d0887"
             ],
             [
              0.1111111111111111,
              "#46039f"
             ],
             [
              0.2222222222222222,
              "#7201a8"
             ],
             [
              0.3333333333333333,
              "#9c179e"
             ],
             [
              0.4444444444444444,
              "#bd3786"
             ],
             [
              0.5555555555555556,
              "#d8576b"
             ],
             [
              0.6666666666666666,
              "#ed7953"
             ],
             [
              0.7777777777777778,
              "#fb9f3a"
             ],
             [
              0.8888888888888888,
              "#fdca26"
             ],
             [
              1,
              "#f0f921"
             ]
            ],
            "type": "surface"
           }
          ],
          "table": [
           {
            "cells": {
             "fill": {
              "color": "#EBF0F8"
             },
             "line": {
              "color": "white"
             }
            },
            "header": {
             "fill": {
              "color": "#C8D4E3"
             },
             "line": {
              "color": "white"
             }
            },
            "type": "table"
           }
          ]
         },
         "layout": {
          "annotationdefaults": {
           "arrowcolor": "#2a3f5f",
           "arrowhead": 0,
           "arrowwidth": 1
          },
          "autotypenumbers": "strict",
          "coloraxis": {
           "colorbar": {
            "outlinewidth": 0,
            "ticks": ""
           }
          },
          "colorscale": {
           "diverging": [
            [
             0,
             "#8e0152"
            ],
            [
             0.1,
             "#c51b7d"
            ],
            [
             0.2,
             "#de77ae"
            ],
            [
             0.3,
             "#f1b6da"
            ],
            [
             0.4,
             "#fde0ef"
            ],
            [
             0.5,
             "#f7f7f7"
            ],
            [
             0.6,
             "#e6f5d0"
            ],
            [
             0.7,
             "#b8e186"
            ],
            [
             0.8,
             "#7fbc41"
            ],
            [
             0.9,
             "#4d9221"
            ],
            [
             1,
             "#276419"
            ]
           ],
           "sequential": [
            [
             0,
             "#0d0887"
            ],
            [
             0.1111111111111111,
             "#46039f"
            ],
            [
             0.2222222222222222,
             "#7201a8"
            ],
            [
             0.3333333333333333,
             "#9c179e"
            ],
            [
             0.4444444444444444,
             "#bd3786"
            ],
            [
             0.5555555555555556,
             "#d8576b"
            ],
            [
             0.6666666666666666,
             "#ed7953"
            ],
            [
             0.7777777777777778,
             "#fb9f3a"
            ],
            [
             0.8888888888888888,
             "#fdca26"
            ],
            [
             1,
             "#f0f921"
            ]
           ],
           "sequentialminus": [
            [
             0,
             "#0d0887"
            ],
            [
             0.1111111111111111,
             "#46039f"
            ],
            [
             0.2222222222222222,
             "#7201a8"
            ],
            [
             0.3333333333333333,
             "#9c179e"
            ],
            [
             0.4444444444444444,
             "#bd3786"
            ],
            [
             0.5555555555555556,
             "#d8576b"
            ],
            [
             0.6666666666666666,
             "#ed7953"
            ],
            [
             0.7777777777777778,
             "#fb9f3a"
            ],
            [
             0.8888888888888888,
             "#fdca26"
            ],
            [
             1,
             "#f0f921"
            ]
           ]
          },
          "colorway": [
           "#636efa",
           "#EF553B",
           "#00cc96",
           "#ab63fa",
           "#FFA15A",
           "#19d3f3",
           "#FF6692",
           "#B6E880",
           "#FF97FF",
           "#FECB52"
          ],
          "font": {
           "color": "#2a3f5f"
          },
          "geo": {
           "bgcolor": "white",
           "lakecolor": "white",
           "landcolor": "#E5ECF6",
           "showlakes": true,
           "showland": true,
           "subunitcolor": "white"
          },
          "hoverlabel": {
           "align": "left"
          },
          "hovermode": "closest",
          "mapbox": {
           "style": "light"
          },
          "paper_bgcolor": "white",
          "plot_bgcolor": "#E5ECF6",
          "polar": {
           "angularaxis": {
            "gridcolor": "white",
            "linecolor": "white",
            "ticks": ""
           },
           "bgcolor": "#E5ECF6",
           "radialaxis": {
            "gridcolor": "white",
            "linecolor": "white",
            "ticks": ""
           }
          },
          "scene": {
           "xaxis": {
            "backgroundcolor": "#E5ECF6",
            "gridcolor": "white",
            "gridwidth": 2,
            "linecolor": "white",
            "showbackground": true,
            "ticks": "",
            "zerolinecolor": "white"
           },
           "yaxis": {
            "backgroundcolor": "#E5ECF6",
            "gridcolor": "white",
            "gridwidth": 2,
            "linecolor": "white",
            "showbackground": true,
            "ticks": "",
            "zerolinecolor": "white"
           },
           "zaxis": {
            "backgroundcolor": "#E5ECF6",
            "gridcolor": "white",
            "gridwidth": 2,
            "linecolor": "white",
            "showbackground": true,
            "ticks": "",
            "zerolinecolor": "white"
           }
          },
          "shapedefaults": {
           "line": {
            "color": "#2a3f5f"
           }
          },
          "ternary": {
           "aaxis": {
            "gridcolor": "white",
            "linecolor": "white",
            "ticks": ""
           },
           "baxis": {
            "gridcolor": "white",
            "linecolor": "white",
            "ticks": ""
           },
           "bgcolor": "#E5ECF6",
           "caxis": {
            "gridcolor": "white",
            "linecolor": "white",
            "ticks": ""
           }
          },
          "title": {
           "x": 0.05
          },
          "xaxis": {
           "automargin": true,
           "gridcolor": "white",
           "linecolor": "white",
           "ticks": "",
           "title": {
            "standoff": 15
           },
           "zerolinecolor": "white",
           "zerolinewidth": 2
          },
          "yaxis": {
           "automargin": true,
           "gridcolor": "white",
           "linecolor": "white",
           "ticks": "",
           "title": {
            "standoff": 15
           },
           "zerolinecolor": "white",
           "zerolinewidth": 2
          }
         }
        },
        "title": {
         "text": "Rapport Poids/Puissance par Poste (trié)"
        },
        "xaxis": {
         "anchor": "y",
         "domain": [
          0,
          1
         ],
         "title": {
          "text": "Poste"
         }
        },
        "yaxis": {
         "anchor": "x",
         "domain": [
          0,
          1
         ],
         "title": {
          "text": "Rapport Poids/Puissance (moyenne)"
         }
        }
       }
      }
     },
     "metadata": {},
     "output_type": "display_data"
    }
   ],
   "source": [
    "import plotly.express as px\n",
    "\n",
    "# Trier le rapport poids/puissance par ordre décroissant\n",
    "rapport_poids_puissance_par_poste = rapport_poids_puissance_par_poste.sort_values(by='Rapport Poids/Puissance', ascending=False)\n",
    "\n",
    "# Créer un graphique pour visualiser le rapport poids/puissance par poste (trié)\n",
    "fig = px.bar(\n",
    "    rapport_poids_puissance_par_poste,\n",
    "    x='Position',\n",
    "    y='Rapport Poids/Puissance',\n",
    "    title='Rapport Poids/Puissance par Poste (trié)',\n",
    "    labels={'Position': 'Poste', 'Rapport Poids/Puissance': 'Rapport Poids/Puissance (moyenne)'}\n",
    ")\n",
    "\n",
    "# Afficher le graphique interactif\n",
    "fig.show()\n",
    "\n"
   ]
  },
  {
   "cell_type": "markdown",
   "metadata": {},
   "source": [
    "Sur la base des résultats que nous avons obtenus, voici une analyse préliminaire du rapport poids/puissance par poste. Cependant, il est important de garder à l'esprit que ces résultats ne constituent pas des conclusions définitives pour notre recrutement sans tests statistiques ou analyses approfondies.\n",
    "\n",
    "##### Observations sur le rapport poids/puissance par poste :\n",
    "\n",
    "- **Les gardiens de but (GK)** ont de loin le plus haut rapport poids/puissance (0.044). Cela est compréhensible, car les gardiens ont souvent une constitution plus robuste et la force est un attribut clé pour eux, tandis que la vitesse de sprint n'est pas aussi importante que pour les autres postes. Ils bénéficient donc d'un bon équilibre entre force et poids.\n",
    "\n",
    "- Les milieux offensifs (CAM), défenseurs centraux (CB) et milieux défensifs (CDM) présentent un rapport poids/puissance moyen (entre 0.017 et 0.019). Ces positions nécessitent un équilibre entre vitesse et force, car les joueurs à ces postes doivent couvrir de grandes zones du terrain tout en étant capables de résister aux duels physiques.\n",
    "\n",
    "- Les ailiers (LW, RW), attaquants (ST) et milieux latéraux (LM, RM) montrent un rapport poids/puissance plus faible (autour de 0.016). Ces postes demandent généralement plus de vitesse que de force, car les joueurs doivent souvent courir le long du terrain et battre les défenseurs en vitesse plutôt qu'en puissance physique.\n",
    "\n",
    "- Les défenseurs latéraux (RB, LB), qui présentent également un rapport poids/puissance relativement bas (environ 0.016), occupent des postes où la vitesse est cruciale pour couvrir les espaces latéraux, tandis que la force physique joue un rôle secondaire par rapport à la rapidité.\n",
    "\n",
    "##### Interprétation préliminaire pour le recrutement :\n",
    "\n",
    "- Gardiens (GK) : Étant donné que les gardiens présentent un rapport poids/puissance élevé, il pourrait être pertinent pour nous de recruter des gardiens avec une bonne force et une répartition de poids adéquate. La vitesse de sprint reste toutefois moins pertinente pour ce poste.\n",
    "\n",
    "- Milieux et défenseurs centraux (CAM, CB, CDM) : Un bon équilibre entre vitesse et force semble important pour ces postes. Nous pourrions nous concentrer sur le recrutement de joueurs ayant une bonne puissance physique, sans sacrifier trop de vitesse.\n",
    "\n",
    "- Ailiers (LW, RW), attaquants (ST) : Ces postes semblent plus dépendants de la vitesse que de la force. Nous pourrions favoriser des joueurs plus légers avec une bonne vitesse, en fonction de notre style de jeu (par exemple, des contres rapides).\n",
    "\n",
    "- Défenseurs latéraux (RB, LB) : Comme pour les ailiers, la vitesse est essentielle pour ces postes. Nous pourrions chercher à recruter des défenseurs rapides, capables de suivre les ailiers adverses efficacement.\n",
    "\n",
    "##### Impact de la taille\n",
    "\n",
    "Comme nous l'avons observé dans le rapport poids/puissance, la variable puissance (qui prend en compte la vitesse et la force) joue un rôle important. Nous avons noté que ce sont les gardiens (GK) et les milieux (CM, CDM) qui présentent les rapports poids/puissance les plus élevés.\n",
    "\n",
    "Cela peut être partiellement expliqué par la taille des joueurs dans ces postes, notamment les gardiens, qui ont souvent une taille plus élevée. En effet, la taille est un facteur qui augmente naturellement le poids, et donc, par extension, affecte le rapport poids/puissance. Les gardiens, de par leur rôle de dernier rempart, ont besoin d'une grande envergure pour couvrir plus de surface dans les cages, ce qui explique leur robustesse et leur constitution plus massive.\n",
    "\n",
    "##### Limites de notre analyse :\n",
    "\n",
    "Cette analyse est exploratoire et basée uniquement sur des moyennes simples du rapport poids/puissance.\n",
    "Il serait nécessaire d'approfondir cette analyse avec des tests statistiques, en tenant compte d'autres facteurs comme le style de jeu et les besoins spécifiques de notre équipe.\n",
    "\n",
    "##### Prochaines étapes :\n",
    "\n",
    "Tests statistiques : Effectuer des tests supplémentaires pour voir s'il existe des différences significatives dans le rapport poids/puissance entre les postes.\n",
    "Étude contextuelle : Analyser les besoins spécifiques de notre équipe ou du style de jeu (par exemple, équipes qui privilégient la possession vs. équipes qui misent sur des contre-attaques rapides).\n",
    "Prise en compte d'autres attributs : Intégrer d'autres données (comme les passes, la précision des tirs, etc.) dans l'analyse pour avoir une vue plus complète.\n",
    "\n",
    "- En conclusion, ces résultats nous offrent une première vue sur les postes où un certain rapport poids/puissance pourrait être un facteur important pour le recrutement. Cependant, nous devrions compléter cette analyse avec des tests plus robustes avant de tirer des conclusions définitives."
   ]
  },
  {
   "cell_type": "code",
   "execution_count": 72,
   "metadata": {},
   "outputs": [],
   "source": [
    "#pip install prince\n"
   ]
  },
  {
   "cell_type": "markdown",
   "metadata": {},
   "source": [
    "# **TP NOTE**\n",
    "Question 1\n",
    "Analyser la variable \"Finishing\". Certains postes possède t-il une meilleur capacité \"Finishing\" que d'autre ?.\n",
    "Nous attendons ici, au minimum, une analyse univariée pour \"Finishing\" et \"Position\" ainsi qu'une analyse bivariée entre les deux variables.\n",
    "Proposer une interpretation aux résultats obtenus\n",
    "\n",
    "Question 2\n",
    "Effectuer une corrélation entre les postes et les variables \"Finishing\", \"Dribbling\", \"Agility\" et \"Interception\".\n",
    "Proposer une matrice de correlation et une interprétation de celle-ci."
   ]
  },
  {
   "cell_type": "markdown",
   "metadata": {},
   "source": [
    "## Aperçu des Données"
   ]
  },
  {
   "cell_type": "code",
   "execution_count": 92,
   "metadata": {},
   "outputs": [
    {
     "name": "stdout",
     "output_type": "stream",
     "text": [
      "<class 'pandas.core.frame.DataFrame'>\n",
      "RangeIndex: 17737 entries, 0 to 17736\n",
      "Data columns (total 55 columns):\n",
      " #   Column                 Non-Null Count  Dtype  \n",
      "---  ------                 --------------  -----  \n",
      " 0   Name                   17737 non-null  object \n",
      " 1   OVR                    17737 non-null  int64  \n",
      " 2   PAC                    17737 non-null  int64  \n",
      " 3   SHO                    17737 non-null  int64  \n",
      " 4   PAS                    17737 non-null  int64  \n",
      " 5   DRI                    17737 non-null  int64  \n",
      " 6   DEF                    17737 non-null  int64  \n",
      " 7   PHY                    17737 non-null  int64  \n",
      " 8   Acceleration           17737 non-null  int64  \n",
      " 9   Sprint.Speed           17737 non-null  int64  \n",
      " 10  Positioning            16620 non-null  float64\n",
      " 11  Finishing              16684 non-null  float64\n",
      " 12  Shot.Power             17737 non-null  int64  \n",
      " 13  Long.Shots             16739 non-null  float64\n",
      " 14  Volleys                16681 non-null  float64\n",
      " 15  Penalties              17737 non-null  int64  \n",
      " 16  Vision                 17737 non-null  int64  \n",
      " 17  Crossing               17658 non-null  float64\n",
      " 18  Free.Kick.Accuracy     17669 non-null  float64\n",
      " 19  Short.Passing          17737 non-null  int64  \n",
      " 20  Long.Passing           17737 non-null  int64  \n",
      " 21  Curve                  17695 non-null  float64\n",
      " 22  Dribbling              17309 non-null  float64\n",
      " 23  Agility                17737 non-null  int64  \n",
      " 24  Balance                17737 non-null  int64  \n",
      " 25  Reactions              17737 non-null  int64  \n",
      " 26  Ball.Control           17737 non-null  int64  \n",
      " 27  Composure              17737 non-null  int64  \n",
      " 28  Interceptions          17330 non-null  float64\n",
      " 29  Heading.Accuracy       17651 non-null  float64\n",
      " 30  Def.Awareness          17010 non-null  float64\n",
      " 31  Standing.Tackle        17703 non-null  float64\n",
      " 32  Sliding.Tackle         17672 non-null  float64\n",
      " 33  Jumping                17737 non-null  int64  \n",
      " 34  Stamina                17737 non-null  int64  \n",
      " 35  Strength               17737 non-null  int64  \n",
      " 36  Aggression             17737 non-null  int64  \n",
      " 37  Position               17737 non-null  object \n",
      " 38  Weak.foot              17737 non-null  int64  \n",
      " 39  Skill.moves            17737 non-null  int64  \n",
      " 40  Preferred.foot         17737 non-null  object \n",
      " 41  Height                 17737 non-null  int64  \n",
      " 42  Weight                 17737 non-null  int64  \n",
      " 43  Alternative.positions  9778 non-null   object \n",
      " 44  Age                    17737 non-null  int64  \n",
      " 45  Nation                 17737 non-null  object \n",
      " 46  League                 17737 non-null  object \n",
      " 47  Team                   17737 non-null  object \n",
      " 48  url                    17737 non-null  object \n",
      " 49  GK.Diving              1999 non-null   float64\n",
      " 50  GK.Handling            1999 non-null   float64\n",
      " 51  GK.Kicking             1999 non-null   float64\n",
      " 52  GK.Positioning         1999 non-null   float64\n",
      " 53  GK.Reflexes            1999 non-null   float64\n",
      " 54  gender                 17737 non-null  object \n",
      "dtypes: float64(18), int64(28), object(9)\n",
      "memory usage: 7.4+ MB\n"
     ]
    }
   ],
   "source": [
    "# Dimensions du dataset\n",
    "df.shape\n",
    "# Types de données et aperçu des colonnes\n",
    "df.info()"
   ]
  },
  {
   "cell_type": "markdown",
   "metadata": {},
   "source": [
    "Le jeu de données présenté contient 17 737 observations (c'est-à-dire des joueurs de football individuels) et 55 variables (représentant différentes caractéristiques et performances des joueurs). La population étudiée est constituée de joueurs de football issus du jeu vidéo EA Sports. Chaque observation représente un joueur, avec des attributs liés à ses performances et ses statistiques dans le jeu."
   ]
  },
  {
   "cell_type": "markdown",
   "metadata": {},
   "source": [
    "# Question 1"
   ]
  },
  {
   "cell_type": "markdown",
   "metadata": {},
   "source": [
    "# Etude Univariée"
   ]
  },
  {
   "cell_type": "markdown",
   "metadata": {},
   "source": [
    "## Variable Position "
   ]
  },
  {
   "cell_type": "code",
   "execution_count": 93,
   "metadata": {},
   "outputs": [
    {
     "name": "stdout",
     "output_type": "stream",
     "text": [
      "          Effectif  Fréquence (%)\n",
      "Position                         \n",
      "CB          3185.0          17.96\n",
      "ST          2425.0          13.67\n",
      "CM          2139.0          12.06\n",
      "GK          1999.0          11.27\n",
      "CDM         1447.0           8.16\n",
      "RB          1404.0           7.92\n",
      "LB          1333.0           7.52\n",
      "LM          1035.0           5.84\n",
      "CAM         1024.0           5.77\n",
      "RM           961.0           5.42\n",
      "RW           402.0           2.27\n",
      "LW           383.0           2.16\n",
      "Total      17737.0         100.00\n"
     ]
    },
    {
     "name": "stderr",
     "output_type": "stream",
     "text": [
      "C:\\Users\\samba\\AppData\\Local\\Temp\\ipykernel_2368\\3354903562.py:23: FutureWarning:\n",
      "\n",
      "\n",
      "\n",
      "Passing `palette` without assigning `hue` is deprecated and will be removed in v0.14.0. Assign the `x` variable to `hue` and set `legend=False` for the same effect.\n",
      "\n",
      "\n"
     ]
    },
    {
     "data": {
      "image/png": "[encoded data removed]",
      "text/plain": [
       "<Figure size 800x600 with 1 Axes>"
      ]
     },
     "metadata": {},
     "output_type": "display_data"
    }
   ],
   "source": [
    "# Utilisation avec la variable 'Position'\n",
    "analyse_categorielle(df, 'Position', titre_graphique=\"Répartition des positions des joueurs\", titre_x=\"Position\", titre_y=\"Fréquence (%)\")"
   ]
  },
  {
   "cell_type": "markdown",
   "metadata": {},
   "source": [
    "Dans le jeu EA Sports, les défenseurs centraux (CB) sont les plus représentés avec 3185 joueurs, soit 17,96 % des joueurs. Cela peut s'expliquer par les différentes tactiques de jeu utilisées. En effet, dans la majorité des formations, on retrouve au minimum deux défenseurs centraux. Parfois, selon les systèmes tels que le 3-4-3, le 5-3-2, ou encore le 3-5-2 (souvent utilisés en Série A, mais aussi dans d'autres ligues), une équipe peut aligner trois défenseurs centraux. Cette position clé est donc très demandée, quel que soit le championnat.\n",
    "\n",
    "Les attaquants (ST) suivent, avec 13,67 % des joueurs.\n",
    "\n",
    "En revanche, les milieux droits (RM), les ailiers droits (RW), et les ailiers gauches (LW) occupent les dernières positions avec respectivement 5,42 %, 2,27 %, et 2,16 % des joueurs."
   ]
  },
  {
   "cell_type": "markdown",
   "metadata": {},
   "source": [
    "## Variable Finition"
   ]
  },
  {
   "cell_type": "code",
   "execution_count": 94,
   "metadata": {},
   "outputs": [],
   "source": [
    "def analyser_variable(df, variable, titre_boxplot=\"Boxplot de la variable\", xlabel=\"Valeur\", ylabel=\"Variable\"):\n",
    "    \"\"\"\n",
    "    Cette fonction calcule les résumés statistiques d'une variable dans un DataFrame et trace un boxplot.\n",
    "\n",
    "    Arguments:\n",
    "    df : pd.DataFrame - Le DataFrame contenant les données\n",
    "    variable : str - Le nom de la variable à analyser\n",
    "    titre_boxplot : str - Le titre du boxplot (par défaut : \"Boxplot de la variable\")\n",
    "    xlabel : str - L'étiquette de l'axe des x du boxplot (par défaut : \"Valeur\")\n",
    "    ylabel : str - L'étiquette de l'axe des y du boxplot (par défaut : \"Variable\")\n",
    "    \"\"\"\n",
    "\n",
    "    # Calcul des résumés statistiques pour la variable sélectionnée\n",
    "    resume_statistique = df[variable].describe(percentiles=[0.25, 0.5, 0.75])\n",
    "\n",
    "    # Extraire les valeurs spécifiques\n",
    "    min_value = resume_statistique['min']\n",
    "    q1_value = resume_statistique['25%']\n",
    "    median_value = resume_statistique['50%']\n",
    "    q3_value = resume_statistique['75%']\n",
    "    max_value = resume_statistique['max']\n",
    "    mean_value = resume_statistique['mean']\n",
    "\n",
    "    # Créer un tableau avec les informations demandées\n",
    "    tableau_statistiques = pd.DataFrame({\n",
    "        'Statistique': ['Min', 'Q1', 'Médiane', 'Q3', 'Max', 'Moyenne'],\n",
    "        'Valeur': [min_value, q1_value, median_value, q3_value, max_value, mean_value]\n",
    "    })\n",
    "\n",
    "    # Afficher le tableau\n",
    "    print(\"Résumé statistique pour la variable :\", variable)\n",
    "    print(tableau_statistiques)\n",
    "\n",
    "    # Créer le boxplot avec la moyenne indiquée par un point rouge\n",
    "    plt.figure(figsize=(8, 6))\n",
    "    sns.boxplot(x=df[variable], color=\"skyblue\")\n",
    "\n",
    "    # Ajouter un point rouge pour la moyenne\n",
    "    plt.scatter(x=mean_value, y=0, color='red', s=100, label='Moyenne')\n",
    "\n",
    "    # Titre et légendes\n",
    "    plt.title(titre_boxplot)\n",
    "    plt.xlabel(xlabel)\n",
    "    plt.ylabel(ylabel)\n",
    "    plt.legend()\n",
    "\n",
    "    # Afficher le boxplot\n",
    "    plt.show()"
   ]
  },
  {
   "cell_type": "code",
   "execution_count": 95,
   "metadata": {},
   "outputs": [
    {
     "name": "stdout",
     "output_type": "stream",
     "text": [
      "Résumé statistique pour la variable : Finishing\n",
      "  Statistique     Valeur\n",
      "0         Min  10.000000\n",
      "1          Q1  36.000000\n",
      "2     Médiane  54.000000\n",
      "3          Q3  64.000000\n",
      "4         Max  96.000000\n",
      "5     Moyenne  49.962959\n"
     ]
    },
    {
     "data": {
      "image/png": "[encoded data removed]",
      "text/plain": [
       "<Figure size 800x600 with 1 Axes>"
      ]
     },
     "metadata": {},
     "output_type": "display_data"
    }
   ],
   "source": [
    "# Exemple d'utilisation\n",
    "analyser_variable(df, 'Finishing', titre_boxplot=\"Distribution de la finition des joueurs\", xlabel=\"Note finition\", ylabel=\"Nombre de passagers\")"
   ]
  },
  {
   "cell_type": "markdown",
   "metadata": {},
   "source": [
    "Statistiques descriptives :\n",
    "\n",
    "- **Min (10)** : La note la plus basse de finition parmi les joueurs est de 10. Cela signifie qu'il existe des joueurs avec une très faible capacité de finition, probablement des joueurs qui ne sont pas spécialisés dans le tir (comme des défenseurs).\n",
    "Q1 (36) : Le premier quartile est de 36, ce qui signifie que 25 % des joueurs ont une note de finition inférieure à 36. Ce groupe de joueurs a des compétences de finition relativement faibles.\n",
    "- **Médiane (54)** : La médiane est de 54, ce qui signifie que 50 % des joueurs ont une note de finition inférieure ou égale à 54, et 50 % ont une note supérieure. Cela indique que la finition des joueurs est plutôt modérée en général, avec une répartition assez équilibrée.\n",
    "- **Q3 (64)** : Le troisième quartile est de 64, ce qui signifie que 75 % des joueurs ont une note de finition inférieure à 64. Les 25 % restants ont des compétences de finition plus élevées.\n",
    "- **Max (96)** : La note la plus élevée de finition est de 96, ce qui suggère qu'il existe des joueurs exceptionnels avec des capacités de tir et de finition très avancées (comme les attaquants).\n",
    "- **Moyenne (49.96)** : La moyenne est d'environ 50, ce qui est proche de la médiane (54). Cela indique une distribution symétrique des notes de finition.\n",
    "\n",
    "Boîte centrale : La boîte du boxplot s'étend de 36 (Q1) à 64 (Q3), ce qui montre que 50 % des joueurs ont une note de finition comprise dans cet intervalle. La boîte est assez large, indiquant une diversité de niveaux de finition parmi les joueurs.\n",
    "Ligne médiane : La ligne à l'intérieur de la boîte correspond à la médiane de 54. Cela reflète un niveau de finition médian, indiquant que la plupart des joueurs ont des compétences de finition moyennes.\n",
    "\n",
    "## Clonclusion\n",
    "La distribution des notes de finition montre que la plupart des joueurs ont une capacité de finition comprise entre 36 et 64, avec une note moyenne proche de 50.\n",
    "Quelques joueurs exceptionnels ont des notes très élevées (jusqu'à 96), tandis que d'autres ont des notes très basses (jusqu'à 10), mais ces valeurs extrêmes sont rares. Cela reflète la variabilité des compétences de finition en fonction des rôles et des spécialités des joueurs (par exemple, attaquants vs défenseurs).\n",
    "La moyenne proche de la médiane suggère qu'il n'y a pas de forte asymétrie dans la répartition des scores.\n"
   ]
  },
  {
   "cell_type": "markdown",
   "metadata": {},
   "source": [
    "Analyser la variable \"Finishing\". Certains postes possède t-il une meilleur capacité \"Finishing\" que d'autre ?.\n",
    "Nous attendons ici, au minimum, une analyse univariée pour \"Finishing\" et \"Position\" ainsi qu'une analyse bivariée entre les deux variables.\n",
    "Proposer une interpretation aux résultats obtenus\n",
    "J'ai déja fait l'analyse univarié des variables Finishing et Position il me faut une Analyse bivarié entre les deux variables je vous donnerez par la suite les résultats pour Proposer une interpretation aux résultats obtenus\n",
    "\n",
    "je n'ai pas besoin de tests mettez moi juste une étude bivarié entre les deux variables tout en faisant attention des conclusions qu'on en en tirer sachant qu'on pas pas fait de test\n"
   ]
  },
  {
   "cell_type": "code",
   "execution_count": 114,
   "metadata": {},
   "outputs": [],
   "source": [
    "\n",
    "\n",
    "def analyse_bivarie_boxplot(df, variable_x, variable_y, titre=\"Boxplot de la variable\", xlabel=\"Variable X\", ylabel=\"Variable Y\", palette=\"Set3\"):\n",
    "    \"\"\"\n",
    "    Cette fonction trace un boxplot pour une analyse bivariée entre deux variables d'un DataFrame.\n",
    "\n",
    "    Arguments:\n",
    "    df : pd.DataFrame - Le DataFrame contenant les données\n",
    "    variable_x : str - Le nom de la variable catégorielle (axe x)\n",
    "    variable_y : str - Le nom de la variable numérique (axe y)\n",
    "    titre : str - Le titre du graphique (par défaut : \"Boxplot de la variable\")\n",
    "    xlabel : str - L'étiquette de l'axe des x (par défaut : \"Variable X\")\n",
    "    ylabel : str - L'étiquette de l'axe des y (par défaut : \"Variable Y\")\n",
    "    palette : str - La palette de couleurs pour le graphique (par défaut : \"Set3\")\n",
    "    \"\"\"\n",
    "\n",
    "    # Créer un boxplot\n",
    "    plt.figure(figsize=(12, 8))\n",
    "    sns.boxplot(x=variable_x, y=variable_y, data=df, palette=palette)\n",
    "\n",
    "    # Ajouter un titre et des labels\n",
    "    plt.title(titre)\n",
    "    plt.xlabel(xlabel)\n",
    "    plt.ylabel(ylabel)\n",
    "\n",
    "    # Afficher le graphique\n",
    "    plt.show()\n",
    "\n",
    "\n"
   ]
  },
  {
   "cell_type": "code",
   "execution_count": 115,
   "metadata": {},
   "outputs": [
    {
     "name": "stderr",
     "output_type": "stream",
     "text": [
      "C:\\Users\\samba\\AppData\\Local\\Temp\\ipykernel_2368\\4197220650.py:17: FutureWarning:\n",
      "\n",
      "\n",
      "\n",
      "Passing `palette` without assigning `hue` is deprecated and will be removed in v0.14.0. Assign the `x` variable to `hue` and set `legend=False` for the same effect.\n",
      "\n",
      "\n"
     ]
    },
    {
     "data": {
      "image/png": "[encoded data removed]",
      "text/plain": [
       "<Figure size 1200x800 with 1 Axes>"
      ]
     },
     "metadata": {},
     "output_type": "display_data"
    }
   ],
   "source": [
    "\n",
    "analyse_bivarie_boxplot(df, 'Position', 'Finishing', \n",
    "                        titre=\"Distribution de la capacité de finition par poste\", \n",
    "                        xlabel=\"Poste\", \n",
    "                        ylabel=\"Note de finition (Finishing)\")"
   ]
  },
  {
   "cell_type": "markdown",
   "metadata": {},
   "source": [
    " Observation générale :\n",
    "\n",
    "Le graphique montre la répartition des notes de finition pour chaque poste, avec les médianes, les quartiles (Q1 et Q3), et les valeurs extrêmes (whiskers et outliers).\n",
    "Il est évident que certains postes, notamment les attaquants (ST) et les ailiers (RW, LW), ont des médianes plus élevées en termes de finition, ce qui reflète leur rôle dans l'équipe (marquer des buts).\n",
    "Les joueurs ayant des responsabilités plus défensives, comme les gardiens (GK), les défenseurs centraux (CB) et les latéraux (RB, LB), présentent des notes de finition bien plus faibles, ce qui est attendu puisqu'ils ne sont pas spécialisés dans la finition.\n",
    "\n",
    "Détails par poste :\n",
    "\n",
    " ST (Attaquant) :\n",
    "La médiane est assez élevée (environ 75), ce qui montre que les attaquants sont naturellement les joueurs ayant les meilleures capacités de finition.\n",
    "L'étendue des valeurs est assez large, allant d'environ 40 à près de 100, ce qui montre qu'il y a une grande diversité parmi les attaquants en termes de capacité de finition, des joueurs moyens aux grands buteurs.\n",
    "\n",
    " LW (Ailier gauche) et RW (Ailier droit) :\n",
    "Les ailiers, comme prévu, montrent aussi de bonnes capacités de finition, avec des médianes autour de 60 à 70. Cependant, ils sont légèrement moins spécialisés dans la finition que les attaquants purs (ST).\n",
    "La distribution pour ces postes est également large, reflétant une diversité dans le rôle des ailiers, certains étant plus concentrés sur les passes que sur les tirs.\n",
    "\n",
    "CAM (Milieu offensif central) :\n",
    "Les milieux offensifs ont une médiane plus basse que les ailiers ou les attaquants (environ 60), mais leur distribution reste assez élevée par rapport aux autres postes.\n",
    "Cela montre que bien que leur rôle principal ne soit pas de marquer, ils contribuent aux actions offensives et aux tirs, d'où une finition relativement bonne.\n",
    "\n",
    "\n",
    "CB (Défenseur central) :\n",
    "Les défenseurs centraux ont des notes de finition nettement plus faibles, avec une médiane autour de 40. Cela correspond à leur rôle strictement défensif, où les compétences de tir ne sont pas cruciales.\n",
    "\n",
    "Latéraux (LB, RB) :\n",
    "Les arrières latéraux montrent des résultats similaires aux défenseurs centraux, avec des médianes autour de 50-55. Leur rôle principal est également défensif, mais ils peuvent contribuer aux actions offensives en se projetant vers l'avant.\n",
    "\n",
    "Conclusion :\n",
    "\n",
    "Postes offensifs : Les attaquants (ST) et les ailiers (LW, RW) ont les meilleures notes de finition, ce qui est cohérent avec leurs rôles de buteurs principaux dans les équipes.\n",
    "Postes défensifs : Les défenseurs (CB, LB, RB) et les gardiens (GK) ont des notes de finition beaucoup plus faibles, comme attendu, car leur fonction principale est la défense, et non la contribution offensive.\n",
    "Milieux de terrain : Les milieux de terrain (CAM, CM, CDM) montrent une variation plus large, avec les milieux offensifs (CAM) ayant des compétences de finition supérieures aux milieux plus défensifs (CDM), ce qui correspond à leurs rôles respectifs sur le terrain."
   ]
  },
  {
   "cell_type": "code",
   "execution_count": 119,
   "metadata": {},
   "outputs": [
    {
     "name": "stdout",
     "output_type": "stream",
     "text": [
      "   Position  Finishing\n",
      "11       ST  68.355876\n",
      "7        LW  64.104439\n",
      "10       RW  63.798507\n",
      "0       CAM  62.373047\n",
      "6        LM  61.829952\n",
      "9        RM  61.612903\n",
      "3        CM  57.434783\n",
      "2       CDM  49.352453\n",
      "8        RB  43.500712\n",
      "5        LB  43.484621\n",
      "1        CB  32.693878\n",
      "4        GK  13.858351\n"
     ]
    }
   ],
   "source": [
    "# Calculer la moyenne de la variable 'Finishing' par poste\n",
    "moyenne_finition_par_poste = df.groupby('Position')['Finishing'].mean().reset_index()\n",
    "\n",
    "# Trier les résultats par ordre décroissant\n",
    "moyenne_finition_par_poste = moyenne_finition_par_poste.sort_values(by='Finishing', ascending=False)\n",
    "\n",
    "# Afficher les résultats sous forme de tableau\n",
    "print(moyenne_finition_par_poste)\n"
   ]
  },
  {
   "cell_type": "code",
   "execution_count": 117,
   "metadata": {},
   "outputs": [],
   "source": [
    "\n",
    "def representer_moyenne_par_categorie(df, variable_categorie, variable_moyenne, titre=\"Graphique des moyennes\", xlabel=\"Catégorie\", ylabel=\"Moyenne\"):\n",
    "    \"\"\"\n",
    "    Cette fonction calcule la moyenne d'une variable numérique par catégorie et crée un graphique interactif.\n",
    "\n",
    "    Arguments:\n",
    "    df : pd.DataFrame - Le DataFrame contenant les données\n",
    "    variable_categorie : str - La variable catégorielle (ex: Position)\n",
    "    variable_moyenne : str - La variable numérique à moyenniser (ex: Finishing)\n",
    "    titre : str - Le titre du graphique (par défaut : \"Graphique des moyennes\")\n",
    "    xlabel : str - Le label de l'axe des x (par défaut : \"Catégorie\")\n",
    "    ylabel : str - Le label de l'axe des y (par défaut : \"Moyenne\")\n",
    "    \"\"\"\n",
    "\n",
    "    # Calculer la moyenne de la variable par catégorie\n",
    "    moyenne_par_categorie = df.groupby(variable_categorie)[variable_moyenne].mean().reset_index()\n",
    "\n",
    "    # Trier par la moyenne (ordre décroissant)\n",
    "    moyenne_par_categorie = moyenne_par_categorie.sort_values(by=variable_moyenne, ascending=False)\n",
    "\n",
    "    \n",
    "\n",
    "    # Créer un graphique pour visualiser la moyenne par catégorie\n",
    "    fig = px.bar(\n",
    "        moyenne_par_categorie,\n",
    "        x=variable_categorie,\n",
    "        y=variable_moyenne,\n",
    "        title=titre,\n",
    "        labels={variable_categorie: xlabel, variable_moyenne: ylabel}\n",
    "    )\n",
    "\n",
    "    # Afficher le graphique interactif\n",
    "    fig.show()\n",
    "\n",
    "\n"
   ]
  },
  {
   "cell_type": "code",
   "execution_count": 118,
   "metadata": {},
   "outputs": [
    {
     "data": {
      "application/vnd.plotly.v1+json": {
       "config": {
        "plotlyServerURL": "https://plot.ly"
       },
       "data": [
        {
         "alignmentgroup": "True",
         "hovertemplate": "Poste=%{x}<br>Finition moyenne=%{y}<extra></extra>",
         "legendgroup": "",
         "marker": {
          "color": "#636efa",
          "pattern": {
           "shape": ""
          }
         },
         "name": "",
         "offsetgroup": "",
         "orientation": "v",
         "showlegend": false,
         "textposition": "auto",
         "type": "bar",
         "x": [
          "ST",
          "LW",
          "RW",
          "CAM",
          "LM",
          "RM",
          "CM",
          "CDM",
          "RB",
          "LB",
          "CB",
          "GK"
         ],
         "xaxis": "x",
         "y": [
          68.3558762886598,
          64.10443864229765,
          63.798507462686565,
          62.373046875,
          61.829951690821254,
          61.61290322580645,
          57.43478260869565,
          49.352453351762264,
          43.50071225071225,
          43.48462115528882,
          32.69387755102041,
          13.858350951374208
         ],
         "yaxis": "y"
        }
       ],
       "layout": {
        "barmode": "relative",
        "legend": {
         "tracegroupgap": 0
        },
        "template": {
         "data": {
          "bar": [
           {
            "error_x": {
             "color": "#2a3f5f"
            },
            "error_y": {
             "color": "#2a3f5f"
            },
            "marker": {
             "line": {
              "color": "#E5ECF6",
              "width": 0.5
             },
             "pattern": {
              "fillmode": "overlay",
              "size": 10,
              "solidity": 0.2
             }
            },
            "type": "bar"
           }
          ],
          "barpolar": [
           {
            "marker": {
             "line": {
              "color": "#E5ECF6",
              "width": 0.5
             },
             "pattern": {
              "fillmode": "overlay",
              "size": 10,
              "solidity": 0.2
             }
            },
            "type": "barpolar"
           }
          ],
          "carpet": [
           {
            "aaxis": {
             "endlinecolor": "#2a3f5f",
             "gridcolor": "white",
             "linecolor": "white",
             "minorgridcolor": "white",
             "startlinecolor": "#2a3f5f"
            },
            "baxis": {
             "endlinecolor": "#2a3f5f",
             "gridcolor": "white",
             "linecolor": "white",
             "minorgridcolor": "white",
             "startlinecolor": "#2a3f5f"
            },
            "type": "carpet"
           }
          ],
          "choropleth": [
           {
            "colorbar": {
             "outlinewidth": 0,
             "ticks": ""
            },
            "type": "choropleth"
           }
          ],
          "contour": [
           {
            "colorbar": {
             "outlinewidth": 0,
             "ticks": ""
            },
            "colorscale": [
             [
              0,
              "#0d0887"
             ],
             [
              0.1111111111111111,
              "#46039f"
             ],
             [
              0.2222222222222222,
              "#7201a8"
             ],
             [
              0.3333333333333333,
              "#9c179e"
             ],
             [
              0.4444444444444444,
              "#bd3786"
             ],
             [
              0.5555555555555556,
              "#d8576b"
             ],
             [
              0.6666666666666666,
              "#ed7953"
             ],
             [
              0.7777777777777778,
              "#fb9f3a"
             ],
             [
              0.8888888888888888,
              "#fdca26"
             ],
             [
              1,
              "#f0f921"
             ]
            ],
            "type": "contour"
           }
          ],
          "contourcarpet": [
           {
            "colorbar": {
             "outlinewidth": 0,
             "ticks": ""
            },
            "type": "contourcarpet"
           }
          ],
          "heatmap": [
           {
            "colorbar": {
             "outlinewidth": 0,
             "ticks": ""
            },
            "colorscale": [
             [
              0,
              "#0d0887"
             ],
             [
              0.1111111111111111,
              "#46039f"
             ],
             [
              0.2222222222222222,
              "#7201a8"
             ],
             [
              0.3333333333333333,
              "#9c179e"
             ],
             [
              0.4444444444444444,
              "#bd3786"
             ],
             [
              0.5555555555555556,
              "#d8576b"
             ],
             [
              0.6666666666666666,
              "#ed7953"
             ],
             [
              0.7777777777777778,
              "#fb9f3a"
             ],
             [
              0.8888888888888888,
              "#fdca26"
             ],
             [
              1,
              "#f0f921"
             ]
            ],
            "type": "heatmap"
           }
          ],
          "heatmapgl": [
           {
            "colorbar": {
             "outlinewidth": 0,
             "ticks": ""
            },
            "colorscale": [
             [
              0,
              "#0d0887"
             ],
             [
              0.1111111111111111,
              "#46039f"
             ],
             [
              0.2222222222222222,
              "#7201a8"
             ],
             [
              0.3333333333333333,
              "#9c179e"
             ],
             [
              0.4444444444444444,
              "#bd3786"
             ],
             [
              0.5555555555555556,
              "#d8576b"
             ],
             [
              0.6666666666666666,
              "#ed7953"
             ],
             [
              0.7777777777777778,
              "#fb9f3a"
             ],
             [
              0.8888888888888888,
              "#fdca26"
             ],
             [
              1,
              "#f0f921"
             ]
            ],
            "type": "heatmapgl"
           }
          ],
          "histogram": [
           {
            "marker": {
             "pattern": {
              "fillmode": "overlay",
              "size": 10,
              "solidity": 0.2
             }
            },
            "type": "histogram"
           }
          ],
          "histogram2d": [
           {
            "colorbar": {
             "outlinewidth": 0,
             "ticks": ""
            },
            "colorscale": [
             [
              0,
              "#0d0887"
             ],
             [
              0.1111111111111111,
              "#46039f"
             ],
             [
              0.2222222222222222,
              "#7201a8"
             ],
             [
              0.3333333333333333,
              "#9c179e"
             ],
             [
              0.4444444444444444,
              "#bd3786"
             ],
             [
              0.5555555555555556,
              "#d8576b"
             ],
             [
              0.6666666666666666,
              "#ed7953"
             ],
             [
              0.7777777777777778,
              "#fb9f3a"
             ],
             [
              0.8888888888888888,
              "#fdca26"
             ],
             [
              1,
              "#f0f921"
             ]
            ],
            "type": "histogram2d"
           }
          ],
          "histogram2dcontour": [
           {
            "colorbar": {
             "outlinewidth": 0,
             "ticks": ""
            },
            "colorscale": [
             [
              0,
              "#0d0887"
             ],
             [
              0.1111111111111111,
              "#46039f"
             ],
             [
              0.2222222222222222,
              "#7201a8"
             ],
             [
              0.3333333333333333,
              "#9c179e"
             ],
             [
              0.4444444444444444,
              "#bd3786"
             ],
             [
              0.5555555555555556,
              "#d8576b"
             ],
             [
              0.6666666666666666,
              "#ed7953"
             ],
             [
              0.7777777777777778,
              "#fb9f3a"
             ],
             [
              0.8888888888888888,
              "#fdca26"
             ],
             [
              1,
              "#f0f921"
             ]
            ],
            "type": "histogram2dcontour"
           }
          ],
          "mesh3d": [
           {
            "colorbar": {
             "outlinewidth": 0,
             "ticks": ""
            },
            "type": "mesh3d"
           }
          ],
          "parcoords": [
           {
            "line": {
             "colorbar": {
              "outlinewidth": 0,
              "ticks": ""
             }
            },
            "type": "parcoords"
           }
          ],
          "pie": [
           {
            "automargin": true,
            "type": "pie"
           }
          ],
          "scatter": [
           {
            "fillpattern": {
             "fillmode": "overlay",
             "size": 10,
             "solidity": 0.2
            },
            "type": "scatter"
           }
          ],
          "scatter3d": [
           {
            "line": {
             "colorbar": {
              "outlinewidth": 0,
              "ticks": ""
             }
            },
            "marker": {
             "colorbar": {
              "outlinewidth": 0,
              "ticks": ""
             }
            },
            "type": "scatter3d"
           }
          ],
          "scattercarpet": [
           {
            "marker": {
             "colorbar": {
              "outlinewidth": 0,
              "ticks": ""
             }
            },
            "type": "scattercarpet"
           }
          ],
          "scattergeo": [
           {
            "marker": {
             "colorbar": {
              "outlinewidth": 0,
              "ticks": ""
             }
            },
            "type": "scattergeo"
           }
          ],
          "scattergl": [
           {
            "marker": {
             "colorbar": {
              "outlinewidth": 0,
              "ticks": ""
             }
            },
            "type": "scattergl"
           }
          ],
          "scattermapbox": [
           {
            "marker": {
             "colorbar": {
              "outlinewidth": 0,
              "ticks": ""
             }
            },
            "type": "scattermapbox"
           }
          ],
          "scatterpolar": [
           {
            "marker": {
             "colorbar": {
              "outlinewidth": 0,
              "ticks": ""
             }
            },
            "type": "scatterpolar"
           }
          ],
          "scatterpolargl": [
           {
            "marker": {
             "colorbar": {
              "outlinewidth": 0,
              "ticks": ""
             }
            },
            "type": "scatterpolargl"
           }
          ],
          "scatterternary": [
           {
            "marker": {
             "colorbar": {
              "outlinewidth": 0,
              "ticks": ""
             }
            },
            "type": "scatterternary"
           }
          ],
          "surface": [
           {
            "colorbar": {
             "outlinewidth": 0,
             "ticks": ""
            },
            "colorscale": [
             [
              0,
              "#0d0887"
             ],
             [
              0.1111111111111111,
              "#46039f"
             ],
             [
              0.2222222222222222,
              "#7201a8"
             ],
             [
              0.3333333333333333,
              "#9c179e"
             ],
             [
              0.4444444444444444,
              "#bd3786"
             ],
             [
              0.5555555555555556,
              "#d8576b"
             ],
             [
              0.6666666666666666,
              "#ed7953"
             ],
             [
              0.7777777777777778,
              "#fb9f3a"
             ],
             [
              0.8888888888888888,
              "#fdca26"
             ],
             [
              1,
              "#f0f921"
             ]
            ],
            "type": "surface"
           }
          ],
          "table": [
           {
            "cells": {
             "fill": {
              "color": "#EBF0F8"
             },
             "line": {
              "color": "white"
             }
            },
            "header": {
             "fill": {
              "color": "#C8D4E3"
             },
             "line": {
              "color": "white"
             }
            },
            "type": "table"
           }
          ]
         },
         "layout": {
          "annotationdefaults": {
           "arrowcolor": "#2a3f5f",
           "arrowhead": 0,
           "arrowwidth": 1
          },
          "autotypenumbers": "strict",
          "coloraxis": {
           "colorbar": {
            "outlinewidth": 0,
            "ticks": ""
           }
          },
          "colorscale": {
           "diverging": [
            [
             0,
             "#8e0152"
            ],
            [
             0.1,
             "#c51b7d"
            ],
            [
             0.2,
             "#de77ae"
            ],
            [
             0.3,
             "#f1b6da"
            ],
            [
             0.4,
             "#fde0ef"
            ],
            [
             0.5,
             "#f7f7f7"
            ],
            [
             0.6,
             "#e6f5d0"
            ],
            [
             0.7,
             "#b8e186"
            ],
            [
             0.8,
             "#7fbc41"
            ],
            [
             0.9,
             "#4d9221"
            ],
            [
             1,
             "#276419"
            ]
           ],
           "sequential": [
            [
             0,
             "#0d0887"
            ],
            [
             0.1111111111111111,
             "#46039f"
            ],
            [
             0.2222222222222222,
             "#7201a8"
            ],
            [
             0.3333333333333333,
             "#9c179e"
            ],
            [
             0.4444444444444444,
             "#bd3786"
            ],
            [
             0.5555555555555556,
             "#d8576b"
            ],
            [
             0.6666666666666666,
             "#ed7953"
            ],
            [
             0.7777777777777778,
             "#fb9f3a"
            ],
            [
             0.8888888888888888,
             "#fdca26"
            ],
            [
             1,
             "#f0f921"
            ]
           ],
           "sequentialminus": [
            [
             0,
             "#0d0887"
            ],
            [
             0.1111111111111111,
             "#46039f"
            ],
            [
             0.2222222222222222,
             "#7201a8"
            ],
            [
             0.3333333333333333,
             "#9c179e"
            ],
            [
             0.4444444444444444,
             "#bd3786"
            ],
            [
             0.5555555555555556,
             "#d8576b"
            ],
            [
             0.6666666666666666,
             "#ed7953"
            ],
            [
             0.7777777777777778,
             "#fb9f3a"
            ],
            [
             0.8888888888888888,
             "#fdca26"
            ],
            [
             1,
             "#f0f921"
            ]
           ]
          },
          "colorway": [
           "#636efa",
           "#EF553B",
           "#00cc96",
           "#ab63fa",
           "#FFA15A",
           "#19d3f3",
           "#FF6692",
           "#B6E880",
           "#FF97FF",
           "#FECB52"
          ],
          "font": {
           "color": "#2a3f5f"
          },
          "geo": {
           "bgcolor": "white",
           "lakecolor": "white",
           "landcolor": "#E5ECF6",
           "showlakes": true,
           "showland": true,
           "subunitcolor": "white"
          },
          "hoverlabel": {
           "align": "left"
          },
          "hovermode": "closest",
          "mapbox": {
           "style": "light"
          },
          "paper_bgcolor": "white",
          "plot_bgcolor": "#E5ECF6",
          "polar": {
           "angularaxis": {
            "gridcolor": "white",
            "linecolor": "white",
            "ticks": ""
           },
           "bgcolor": "#E5ECF6",
           "radialaxis": {
            "gridcolor": "white",
            "linecolor": "white",
            "ticks": ""
           }
          },
          "scene": {
           "xaxis": {
            "backgroundcolor": "#E5ECF6",
            "gridcolor": "white",
            "gridwidth": 2,
            "linecolor": "white",
            "showbackground": true,
            "ticks": "",
            "zerolinecolor": "white"
           },
           "yaxis": {
            "backgroundcolor": "#E5ECF6",
            "gridcolor": "white",
            "gridwidth": 2,
            "linecolor": "white",
            "showbackground": true,
            "ticks": "",
            "zerolinecolor": "white"
           },
           "zaxis": {
            "backgroundcolor": "#E5ECF6",
            "gridcolor": "white",
            "gridwidth": 2,
            "linecolor": "white",
            "showbackground": true,
            "ticks": "",
            "zerolinecolor": "white"
           }
          },
          "shapedefaults": {
           "line": {
            "color": "#2a3f5f"
           }
          },
          "ternary": {
           "aaxis": {
            "gridcolor": "white",
            "linecolor": "white",
            "ticks": ""
           },
           "baxis": {
            "gridcolor": "white",
            "linecolor": "white",
            "ticks": ""
           },
           "bgcolor": "#E5ECF6",
           "caxis": {
            "gridcolor": "white",
            "linecolor": "white",
            "ticks": ""
           }
          },
          "title": {
           "x": 0.05
          },
          "xaxis": {
           "automargin": true,
           "gridcolor": "white",
           "linecolor": "white",
           "ticks": "",
           "title": {
            "standoff": 15
           },
           "zerolinecolor": "white",
           "zerolinewidth": 2
          },
          "yaxis": {
           "automargin": true,
           "gridcolor": "white",
           "linecolor": "white",
           "ticks": "",
           "title": {
            "standoff": 15
           },
           "zerolinecolor": "white",
           "zerolinewidth": 2
          }
         }
        },
        "title": {
         "text": "Finition moyenne par poste"
        },
        "xaxis": {
         "anchor": "y",
         "domain": [
          0,
          1
         ],
         "title": {
          "text": "Poste"
         }
        },
        "yaxis": {
         "anchor": "x",
         "domain": [
          0,
          1
         ],
         "title": {
          "text": "Finition moyenne"
         }
        }
       }
      }
     },
     "metadata": {},
     "output_type": "display_data"
    }
   ],
   "source": [
    "# Utilisation avec les variables 'Position' et 'Finishing'\n",
    "representer_moyenne_par_categorie(df, 'Position', 'Finishing', \n",
    "                                  titre=\"Finition moyenne par poste\", \n",
    "                                  xlabel=\"Poste\", \n",
    "                                  ylabel=\"Finition moyenne\")"
   ]
  },
  {
   "cell_type": "markdown",
   "metadata": {},
   "source": [
    "Les attaquants (ST) présentent la meilleure capacité de finition, avec une moyenne de 68.35. Cela est tout à fait cohérent avec leur rôle dans l'équipe, où ils sont les principaux responsables des buts marqués. Ils doivent avoir des compétences de finition élevées pour transformer les occasions en buts.\n",
    "\n",
    "Les ailiers (LW, RW) suivent avec des notes moyennes de 64.10 et 63.7 respectivement. Bien qu'ils ne soient pas les principaux buteurs, leur rôle offensif implique souvent de marquer, surtout lorsqu'ils entrent dans la surface de réparation.\n",
    "\n",
    "Les milieux offensifs (CAM) ont également une bonne capacité de finition, avec une moyenne de 62.7. Cela reflète leur rôle créatif mais aussi leur capacité à conclure des actions lorsqu'ils se trouvent dans des positions avancées.\n",
    "\n",
    "Les milieux latéraux (LM, RM) montrent une finition moyenne autour de 61. Bien qu'ils ne soient pas aussi focalisés sur la finition que les attaquants ou les ailiers, ils restent des contributeurs importants aux phases offensives.\n",
    "\n",
    "Les résultats montrent une cohérence générale avec les rôles des postes sur le terrain. Les joueurs offensifs, tels que les attaquants et les ailiers, ont naturellement des notes de finition plus élevées, tandis que les joueurs défensifs et les gardiens présentent les notes les plus faibles. Les milieux de terrain affichent des capacités de finition intermédiaires, avec les milieux offensifs étant plus enclins à marquer que les milieux défensifs."
   ]
  },
  {
   "cell_type": "markdown",
   "metadata": {},
   "source": [
    "# Question 2"
   ]
  },
  {
   "cell_type": "code",
   "execution_count": 116,
   "metadata": {},
   "outputs": [
    {
     "name": "stdout",
     "output_type": "stream",
     "text": [
      "               Position_CAM  Position_CB  Position_CDM  Position_CM  \\\n",
      "Position_CAM       1.000000    -0.115802     -0.073773    -0.091663   \n",
      "Position_CB       -0.115802     1.000000     -0.139433    -0.173246   \n",
      "Position_CDM      -0.073773    -0.139433      1.000000    -0.110368   \n",
      "Position_CM       -0.091663    -0.173246     -0.110368     1.000000   \n",
      "Position_GK       -0.088217    -0.166734     -0.106220    -0.131978   \n",
      "Position_LB       -0.070561    -0.133362     -0.084960    -0.105563   \n",
      "Position_LM       -0.061618    -0.116461     -0.074192    -0.092184   \n",
      "Position_LW       -0.036772    -0.069501     -0.044277    -0.055014   \n",
      "Position_RB       -0.072573    -0.137165     -0.087382    -0.108573   \n",
      "Position_RM       -0.059243    -0.111972     -0.071333    -0.088632   \n",
      "Position_RW       -0.037694    -0.071243     -0.045386    -0.056393   \n",
      "Position_ST       -0.098506    -0.186180     -0.118608    -0.147371   \n",
      "Finishing          0.175626    -0.464229     -0.010412     0.158575   \n",
      "Dribbling          0.159128    -0.247936      0.078872     0.182906   \n",
      "Agility            0.165008    -0.299927      0.031233     0.140992   \n",
      "Interceptions     -0.079341     0.401201      0.247786     0.230469   \n",
      "\n",
      "               Position_GK  Position_LB  Position_LM  Position_LW  \\\n",
      "Position_CAM     -0.088217    -0.070561    -0.061618    -0.036772   \n",
      "Position_CB      -0.166734    -0.133362    -0.116461    -0.069501   \n",
      "Position_CDM     -0.106220    -0.084960    -0.074192    -0.044277   \n",
      "Position_CM      -0.131978    -0.105563    -0.092184    -0.055014   \n",
      "Position_GK       1.000000    -0.101595    -0.088719    -0.052946   \n",
      "Position_LB      -0.101595     1.000000    -0.070962    -0.042349   \n",
      "Position_LM      -0.088719    -0.070962     1.000000    -0.036982   \n",
      "Position_LW      -0.052946    -0.042349    -0.036982     1.000000   \n",
      "Position_RB      -0.104492    -0.083578    -0.072985    -0.043556   \n",
      "Position_RM      -0.085300    -0.068227    -0.059580    -0.035556   \n",
      "Position_RW      -0.054273    -0.043410    -0.037909    -0.022623   \n",
      "Position_ST      -0.141831    -0.113444    -0.099066    -0.059121   \n",
      "Finishing        -0.489883    -0.105650     0.168899     0.119963   \n",
      "Dribbling        -0.780081     0.079180     0.157519     0.109085   \n",
      "Agility          -0.610937     0.110383     0.199761     0.131181   \n",
      "Interceptions    -0.510314     0.189313    -0.130177    -0.119733   \n",
      "\n",
      "               Position_RB  Position_RM  Position_RW  Position_ST  Finishing  \\\n",
      "Position_CAM     -0.072573    -0.059243    -0.037694    -0.098506   0.175626   \n",
      "Position_CB      -0.137165    -0.111972    -0.071243    -0.186180  -0.464229   \n",
      "Position_CDM     -0.087382    -0.071333    -0.045386    -0.118608  -0.010412   \n",
      "Position_CM      -0.108573    -0.088632    -0.056393    -0.147371   0.158575   \n",
      "Position_GK      -0.104492    -0.085300    -0.054273    -0.141831  -0.489883   \n",
      "Position_LB      -0.083578    -0.068227    -0.043410    -0.113444  -0.105650   \n",
      "Position_LM      -0.072985    -0.059580    -0.037909    -0.099066   0.168899   \n",
      "Position_LW      -0.043556    -0.035556    -0.022623    -0.059121   0.119963   \n",
      "Position_RB       1.000000    -0.070173    -0.044648    -0.116678  -0.108409   \n",
      "Position_RM      -0.070173     1.000000    -0.036448    -0.095248   0.159396   \n",
      "Position_RW      -0.044648    -0.036448     1.000000    -0.060603   0.120314   \n",
      "Position_ST      -0.116678    -0.095248    -0.060603     1.000000   0.419779   \n",
      "Finishing        -0.108409     0.159396     0.120314     0.419779   1.000000   \n",
      "Dribbling         0.073373     0.147907     0.105262     0.162319   0.804471   \n",
      "Agility           0.108264     0.191124     0.128142     0.083844   0.602226   \n",
      "Interceptions     0.199801    -0.109737    -0.111021    -0.427549  -0.151332   \n",
      "\n",
      "               Dribbling   Agility  Interceptions  \n",
      "Position_CAM    0.159128  0.165008      -0.079341  \n",
      "Position_CB    -0.247936 -0.299927       0.401201  \n",
      "Position_CDM    0.078872  0.031233       0.247786  \n",
      "Position_CM     0.182906  0.140992       0.230469  \n",
      "Position_GK    -0.780081 -0.610937      -0.510314  \n",
      "Position_LB     0.079180  0.110383       0.189313  \n",
      "Position_LM     0.157519  0.199761      -0.130177  \n",
      "Position_LW     0.109085  0.131181      -0.119733  \n",
      "Position_RB     0.073373  0.108264       0.199801  \n",
      "Position_RM     0.147907  0.191124      -0.109737  \n",
      "Position_RW     0.105262  0.128142      -0.111021  \n",
      "Position_ST     0.162319  0.083844      -0.427549  \n",
      "Finishing       0.804471  0.602226      -0.151332  \n",
      "Dribbling       1.000000  0.760399       0.285429  \n",
      "Agility         0.760399  1.000000       0.162097  \n",
      "Interceptions   0.285429  0.162097       1.000000  \n"
     ]
    },
    {
     "data": {
      "image/png": "[encoded data removed]",
      "text/plain": [
       "<Figure size 1200x800 with 2 Axes>"
      ]
     },
     "metadata": {},
     "output_type": "display_data"
    }
   ],
   "source": [
    "\n",
    "# Sélection des variables d'intérêt\n",
    "variables = ['Finishing', 'Dribbling', 'Agility', 'Interceptions']\n",
    "\n",
    "# Encodage des postes avec One-Hot Encoding (chaque poste sera une colonne avec des 0/1)\n",
    "df_encoded = pd.get_dummies(df['Position'], prefix='Position')\n",
    "\n",
    "# Fusionner les variables numériques avec les colonnes encodées\n",
    "df_corr = pd.concat([df_encoded, df[variables]], axis=1)\n",
    "\n",
    "# Calculer la matrice de corrélation\n",
    "correlation_matrix = df_corr.corr()\n",
    "\n",
    "# Afficher la matrice de corrélation sous forme de tableau\n",
    "print(correlation_matrix)\n",
    "\n",
    "# Visualiser la matrice de corrélation avec une heatmap\n",
    "plt.figure(figsize=(12, 8))\n",
    "sns.heatmap(correlation_matrix, annot=True, cmap='coolwarm', fmt=\".2f\", linewidths=0.5)\n",
    "plt.title(\"Matrice de corrélation entre les postes et les variables sélectionnées\")\n",
    "plt.show()\n"
   ]
  },
  {
   "cell_type": "markdown",
   "metadata": {},
   "source": [
    "**Postes fortement corrélés avec la Finishing (capacité de finition)** :\n",
    "\n",
    "Position ST (Attaquant) : Corrélation de 0.42 avec Finishing, ce qui est cohérent puisque les attaquants sont généralement les meilleurs buteurs dans une équipe.\n",
    "Les autres postes, comme les défenseurs (CB, GK), montrent des corrélations négatives avec Finishing, notamment GK (-0.49), ce qui est logique car ces postes ne sont pas impliqués dans la finalisation des actions offensives.\n",
    "\n",
    "**Postes corrélés avec le Dribbling** :\n",
    "\n",
    "Position ST (Attaquant) : Corrélation de 0.42 avec Dribbling, ce qui montre que les attaquants ont de bonnes compétences en dribble.\n",
    "Position CAM (Milieu offensif) et RW (Ailier droit) : Corrélations de 0.16 et 0.15 respectivement, ce qui reflète le fait que les joueurs offensifs doivent être capables de dribbler pour se déplacer dans les zones offensives.\n",
    "Les postes défensifs, tels que GK (-0.78) et CB (-0.25), montrent des corrélations négatives, car les joueurs à ces postes ne sont pas souvent impliqués dans des situations nécessitant de bonnes compétences en dribble.\n",
    "\n",
    "**Postes corrélés avec l’Agility** :\n",
    "\n",
    "Position ST (Attaquant) : Corrélation de 0.16 avec Agility, montrant que les attaquants doivent être agiles pour se déplacer rapidement autour des défenseurs.\n",
    "Position CAM (Milieu offensif) et RW (Ailier droit) : Corrélations de 0.17 et 0.16, indiquant que ces postes nécessitent une bonne agilité pour créer des occasions offensives.\n",
    "GK (-0.61) et CB (-0.30) présentent à nouveau des corrélations négatives, confirmant que l’agilité n’est pas une compétence clé pour les gardiens et défenseurs centraux.\n",
    "\n",
    "**Postes corrélés avec les Interceptions** :\n",
    "\n",
    "Position CB (Défenseur central) : Corrélation de 0.40 avec Interceptions, ce qui est attendu, car la capacité à intercepter des passes est essentielle pour les défenseurs centraux.\n",
    "Position CDM (Milieu défensif) : Corrélation de 0.25 avec Interceptions, ce qui est cohérent avec le rôle du milieu défensif, qui doit récupérer les ballons dans la zone médiane.\n",
    "Position GK (-0.51) et ST (-0.43) montrent des corrélations négatives, car ces postes sont rarement impliqués dans des situations d’interception.\n",
    "\n",
    "Conclusions générales :\n",
    "\n",
    "Postes offensifs (ST, RW, CAM) sont positivement corrélés avec des attributs telles que Finishing, Dribbling, et Agility, ce qui est logique, car ces compétences sont essentielles pour marquer des buts et créer des occasions.\n",
    "Postes défensifs (CB, CDM) sont fortement corrélés avec Interceptions, ce qui correspond à leur rôle clé dans la récupération du ballon et la protection de la défense.\n",
    "Les gardiens de but (GK) montrent des corrélations négatives avec presque toutes les variables offensives (Finishing, Dribbling, Agility), mais une corrélation négative forte avec Interceptions, car leur rôle est de protéger les cages, pas d’intercepter des passes.\n",
    "\n",
    "Cette matrice nous permet de confirmer des relations évidentes entre les postes et certaines Attributs clés, bien que des tests statistiques supplémentaires seraient nécessaires pour tirer des conclusions plus définitives."
   ]
  }
 ],
 "metadata": {
  "kernelspec": {
   "display_name": "base",
   "language": "python",
   "name": "python3"
  },
  "language_info": {
   "codemirror_mode": {
    "name": "ipython",
    "version": 3
   },
   "file_extension": ".py",
   "mimetype": "text/x-python",
   "name": "python",
   "nbconvert_exporter": "python",
   "pygments_lexer": "ipython3",
   "version": "3.12.4"
  }
 },
 "nbformat": 4,
 "nbformat_minor": 2
}
