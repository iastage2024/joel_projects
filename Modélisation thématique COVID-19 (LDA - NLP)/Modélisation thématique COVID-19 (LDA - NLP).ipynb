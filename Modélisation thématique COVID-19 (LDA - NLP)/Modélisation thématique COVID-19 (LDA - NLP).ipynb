{
 "cells": [
  {
   "cell_type": "markdown",
   "metadata": {},
   "source": [
    "### **<span style=\"color:#FCF16D\">0. Importation des librairies</span>**"
   ]
  },
  {
   "cell_type": "code",
   "execution_count": 2,
   "metadata": {},
   "outputs": [],
   "source": [
    "# lecture du notebook\n",
    "%matplotlib inline\n",
    "import warnings\n",
    "warnings.filterwarnings('ignore','int', category=DeprecationWarning)\n",
    "\n",
    "# typographie \n",
    "class color:\n",
    "   PURPLE = '\\033[95m'\n",
    "   CYAN = '\\033[96m'\n",
    "   DARKCYAN = '\\033[36m'\n",
    "   BLUE = '\\033[94m'\n",
    "   GREEN = '\\033[92m'\n",
    "   YELLOW = '\\033[93m'\n",
    "   RED = '\\033[91m'\n",
    "   BOLD = '\\033[1m'\n",
    "   UNDERLINE = '\\033[4m'\n",
    "   END = '\\033[0m'\n",
    "\n",
    "# librairies\n",
    "import json, requests, emoji, regex, re, string\n",
    "from collections import Counter\n",
    "import numpy as np\n",
    "import pandas as pd\n",
    "from sklearn.feature_extraction.text import TfidfVectorizer\n",
    "from sklearn.cluster import KMeans\n",
    "\n",
    "# visualisation\n",
    "import chart_studio\n",
    "import chart_studio.plotly as py \n",
    "import chart_studio.tools as tls\n",
    "import matplotlib.pyplot as plt \n",
    "import plotly.express as px\n",
    "import plotly.graph_objects as go\n",
    "import seaborn as sns\n",
    "\n",
    "# traitement du language\n",
    "import gensim as gs\n",
    "from gensim.corpora import Dictionary\n",
    "from gensim.models.ldamulticore import LdaMulticore\n",
    "from gensim.models.coherencemodel import CoherenceModel\n",
    "from gensim.parsing.preprocessing import STOPWORDS as SW\n",
    "from pprint import pprint\n",
    "import pyLDAvis.gensim\n",
    "import snscrape.modules.twitter as sntwitter\n",
    "import spacy as scy\n",
    "from spacy.tokenizer import Tokenizer\n",
    "from sklearn.decomposition import LatentDirichletAllocation, TruncatedSVD\n",
    "from sklearn.feature_extraction.text import CountVectorizer, TfidfVectorizer\n",
    "from sklearn.model_selection import GridSearchCV\n",
    "from wordcloud import STOPWORDS\n",
    "from nltk.corpus import stopwords\n",
    "stopwords = set(stopwords.words('french'))"
   ]
  },
  {
   "cell_type": "markdown",
   "metadata": {},
   "source": [
    "### **<span style=\"color:#FCF16D\">1. Récupération des données</span>**"
   ]
  },
  {
   "cell_type": "markdown",
   "metadata": {},
   "source": [
    "#### **<span style=\"color:#8EA3EB\">1.1. Scrapping tweet généraux</span>**"
   ]
  },
  {
   "cell_type": "code",
   "execution_count": 126,
   "metadata": {},
   "outputs": [],
   "source": [
    "# création de liste pour récupérer les tweets\n",
    "tweets_like = []\n",
    "tweets_base = []\n",
    "\n",
    "# création d'une boucle for pour analyser les tweets\n",
    "# paramètres (mots clef, date, langue etc)\n",
    "for i,tweet in enumerate(sntwitter.TwitterSearchScraper('#covid since:2021-01-01 until:2021-12-30 lang:fr').get_items()):\n",
    "    if i>1000000:\n",
    "        break\n",
    "\n",
    "    # définission du nombre de like\n",
    "    elif tweet.likeCount > 200:\n",
    "        tweets_like.append([tweet.date, tweet.id, tweet.content, tweet.user.username, tweet.likeCount, tweet.user.displayname, tweet.user.verified, tweet.lang])\n",
    "    else :\n",
    "        tweets_base.append([tweet.date, tweet.id, tweet.content, tweet.user.username, tweet.likeCount, tweet.user.displayname, tweet.user.verified, tweet.lang])"
   ]
  },
  {
   "cell_type": "code",
   "execution_count": 127,
   "metadata": {},
   "outputs": [],
   "source": [
    "# création de la liste de colonne\n",
    "cols_name = ['Datetime', 'Tweet Id', 'Text', 'Username', 'Like Count', 'Display Name', 'Vérifié', 'Language']\n",
    "\n",
    "# création des DataFrame finaux\n",
    "df_tweets_base = pd.DataFrame(tweets_base, columns=cols_name)\n",
    "df_tweets_like = pd.DataFrame(tweets_like, columns=cols_name)"
   ]
  },
  {
   "cell_type": "code",
   "execution_count": 128,
   "metadata": {},
   "outputs": [],
   "source": [
    "# enregistrement en csv du jeu de donnée final\n",
    "df_tweets_base.to_csv('Tweets_scrapé_base.csv')\n",
    "df_tweets_like.to_csv('Tweets_scrapé_like.csv')"
   ]
  },
  {
   "cell_type": "markdown",
   "metadata": {},
   "source": [
    "#### **<span style=\"color:#8EA3EB\">1.2. Scrapping tweet comptes vérifiés | influenceurs</span>**"
   ]
  },
  {
   "cell_type": "code",
   "execution_count": 130,
   "metadata": {},
   "outputs": [],
   "source": [
    "# création de liste pour récupérer les tweets de personne ou entreprise vérifiées\n",
    "tweets_influence = []\n",
    "\n",
    "# création d'une boucle for pour scraper uniquement les tweets souhaités\n",
    "# initialisation du compteur\n",
    "j = 0\n",
    "for i,tweet in enumerate(sntwitter.TwitterSearchScraper('#covid since:2021-01-01 until:2021-12-30 lang:fr').get_items()):\n",
    "    if j>1000000:\n",
    "        break\n",
    "    # condition pour récupérer uniquement les tweets de compte influents\n",
    "    elif tweet.user.verified == True:\n",
    "        tweets_influence.append([tweet.date, tweet.id, tweet.content, tweet.user.username, tweet.likeCount, tweet.user.displayname, tweet.user.verified, tweet.lang])\n",
    "        j = j + 1"
   ]
  },
  {
   "cell_type": "code",
   "execution_count": 131,
   "metadata": {},
   "outputs": [],
   "source": [
    "# création du DataFrame\n",
    "df_tweets_influence = pd.DataFrame(tweets_influence, columns=cols_name)"
   ]
  },
  {
   "cell_type": "code",
   "execution_count": 132,
   "metadata": {},
   "outputs": [],
   "source": [
    "# enregistrement en csv du jeu de donnée final\n",
    "df_tweets_influence.to_csv('Tweets_scrapé_influence.csv')"
   ]
  },
  {
   "cell_type": "markdown",
   "metadata": {},
   "source": [
    "#### **<span style=\"color:#8EA3EB\">1.3. Scrapping tweet Gouvernement français</span>**"
   ]
  },
  {
   "cell_type": "code",
   "execution_count": 2,
   "metadata": {},
   "outputs": [
    {
     "name": "stderr",
     "output_type": "stream",
     "text": [
      "C:\\Users\\Bastien\\anaconda3\\lib\\site-packages\\ipykernel\\ipkernel.py:287: DeprecationWarning: `should_run_async` will not call `transform_cell` automatically in the future. Please pass the result to `transformed_cell` argument and any exception that happen during thetransform in `preprocessing_exc_tuple` in IPython 7.17 and above.\n",
      "  and should_run_async(code)\n"
     ]
    }
   ],
   "source": [
    "tweets_gouv = []\n",
    "\n",
    "# création d'une boucle for pour analyser les tweets du gouvernement\n",
    "# paramètres (mots clef, date, langue etc)\n",
    "for i,tweet in enumerate(sntwitter.TwitterSearchScraper('covid from:gouvernementFR since:2021-01-01 until:2021-12-30 lang:fr').get_items()):\n",
    "    if i>1000000:\n",
    "        break\n",
    "    # récupération des tweets \n",
    "    tweets_gouv.append([tweet.date, tweet.id, tweet.content, tweet.user.username, tweet.likeCount, tweet.user.displayname, tweet.user.verified, tweet.lang])\n",
    "\n",
    "for i,tweet in enumerate(sntwitter.TwitterSearchScraper('covid from:olivierveran since:2021-01-01 until:2021-12-30 lang:fr').get_items()):\n",
    "    if i>1000000:\n",
    "        break\n",
    "    # récupération des tweets \n",
    "    tweets_gouv.append([tweet.date, tweet.id, tweet.content, tweet.user.username, tweet.likeCount, tweet.user.displayname, tweet.user.verified, tweet.lang])\n",
    "\n",
    "for i,tweet in enumerate(sntwitter.TwitterSearchScraper('covid from:JeanCASTEX since:2021-01-01 until:2021-12-30 lang:fr').get_items()):\n",
    "    if i>1000000:\n",
    "        break\n",
    "    # récupération des tweets \n",
    "    tweets_gouv.append([tweet.date, tweet.id, tweet.content, tweet.user.username, tweet.likeCount, tweet.user.displayname, tweet.user.verified, tweet.lang])\n",
    "\n",
    "for i,tweet in enumerate(sntwitter.TwitterSearchScraper('covid from:EmmanuelMacron since:2021-01-01 until:2021-12-30 lang:fr').get_items()):\n",
    "    if i>1000000:\n",
    "        break\n",
    "    # récupération des tweets \n",
    "    tweets_gouv.append([tweet.date, tweet.id, tweet.content, tweet.user.username, tweet.likeCount, tweet.user.displayname, tweet.user.verified, tweet.lang])\n",
    "\n",
    "for i,tweet in enumerate(sntwitter.TwitterSearchScraper('covid from:Sante_Gouv since:2021-01-01 until:2021-12-30 lang:fr').get_items()):\n",
    "    if i>1000000:\n",
    "        break\n",
    "    # récupération des tweets \n",
    "    tweets_gouv.append([tweet.date, tweet.id, tweet.content, tweet.user.username, tweet.likeCount, tweet.user.displayname, tweet.user.verified, tweet.lang])"
   ]
  },
  {
   "cell_type": "code",
   "execution_count": 4,
   "metadata": {},
   "outputs": [
    {
     "name": "stderr",
     "output_type": "stream",
     "text": [
      "C:\\Users\\Bastien\\anaconda3\\lib\\site-packages\\ipykernel\\ipkernel.py:287: DeprecationWarning: `should_run_async` will not call `transform_cell` automatically in the future. Please pass the result to `transformed_cell` argument and any exception that happen during thetransform in `preprocessing_exc_tuple` in IPython 7.17 and above.\n",
      "  and should_run_async(code)\n"
     ]
    }
   ],
   "source": [
    "# création du DataFrame\n",
    "cols_name = ['Datetime', 'Tweet Id', 'Text', 'Username', 'Like Count', 'Display Name', 'Vérifié', 'Language']\n",
    "df_tweets_gouv = pd.DataFrame(tweets_gouv, columns=cols_name)"
   ]
  },
  {
   "cell_type": "code",
   "execution_count": 5,
   "metadata": {},
   "outputs": [
    {
     "name": "stderr",
     "output_type": "stream",
     "text": [
      "C:\\Users\\Bastien\\anaconda3\\lib\\site-packages\\ipykernel\\ipkernel.py:287: DeprecationWarning: `should_run_async` will not call `transform_cell` automatically in the future. Please pass the result to `transformed_cell` argument and any exception that happen during thetransform in `preprocessing_exc_tuple` in IPython 7.17 and above.\n",
      "  and should_run_async(code)\n"
     ]
    }
   ],
   "source": [
    "# enregistrement en csv du jeu de donnée final\n",
    "df_tweets_gouv.to_csv('Tweets_scrapé_gouv.csv')"
   ]
  },
  {
   "cell_type": "markdown",
   "metadata": {},
   "source": [
    "#### **<span style=\"color:#8EA3EB\">1.4. Compilation des données</span>**"
   ]
  },
  {
   "cell_type": "code",
   "execution_count": 136,
   "metadata": {},
   "outputs": [],
   "source": [
    "# concaténation des dataframes\n",
    "df_tweet = pd.concat([df_tweets_base, df_tweets_like, df_tweets_influence, df_tweets_gouv], axis=0, ignore_index=True)"
   ]
  },
  {
   "cell_type": "code",
   "execution_count": 137,
   "metadata": {},
   "outputs": [],
   "source": [
    "# enregistrement en csv du jeu de donnée final\n",
    "df_tweet.to_csv('Tweets_finaux.csv')"
   ]
  },
  {
   "cell_type": "markdown",
   "metadata": {},
   "source": [
    "### **<span style=\"color:#FCF16D\">2. Data cleaning</span>**"
   ]
  },
  {
   "cell_type": "markdown",
   "metadata": {},
   "source": [
    "#### **<span style=\"color:#8EA3EB\">2.1. Chargement des données scrapées</span>**"
   ]
  },
  {
   "cell_type": "code",
   "execution_count": 32,
   "metadata": {},
   "outputs": [
    {
     "name": "stderr",
     "output_type": "stream",
     "text": [
      "C:\\Users\\Bastien\\anaconda3\\lib\\site-packages\\ipykernel\\ipkernel.py:287: DeprecationWarning: `should_run_async` will not call `transform_cell` automatically in the future. Please pass the result to `transformed_cell` argument and any exception that happen during thetransform in `preprocessing_exc_tuple` in IPython 7.17 and above.\n",
      "  and should_run_async(code)\n"
     ]
    }
   ],
   "source": [
    "# pour travailler avec les données scrapper précédemment\n",
    "df_tweet = pd.read_csv(r'Tweets_finaux.csv', header=0)\n",
    "df_tweet = pd.DataFrame(df_tweet)\n",
    "cols_sup = ['Unnamed: 0']\n",
    "df_tweet = df_tweet.drop(columns=cols_sup)"
   ]
  },
  {
   "cell_type": "markdown",
   "metadata": {},
   "source": [
    "#### **<span style=\"color:#8EA3EB\">2.2. Pipeline NLP</span>**"
   ]
  },
  {
   "cell_type": "code",
   "execution_count": 33,
   "metadata": {},
   "outputs": [
    {
     "name": "stderr",
     "output_type": "stream",
     "text": [
      "C:\\Users\\Bastien\\anaconda3\\lib\\site-packages\\ipykernel\\ipkernel.py:287: DeprecationWarning: `should_run_async` will not call `transform_cell` automatically in the future. Please pass the result to `transformed_cell` argument and any exception that happen during thetransform in `preprocessing_exc_tuple` in IPython 7.17 and above.\n",
      "  and should_run_async(code)\n"
     ]
    }
   ],
   "source": [
    "def nlp_pipeline(text):\n",
    "\n",
    "    # remplacement des nom d'utilisateur\n",
    "    text = re.sub(r'@\\S+', '', text)\n",
    "\n",
    "    # remplacement des syntaxe de base (minuscules, ponctuations, caractère spéciaux, chiffres)\n",
    "    text = text.lower()\n",
    "    text = text.replace('\\n', ' ').replace('\\r', '')\n",
    "    text = ' '.join(text.split())\n",
    "    text = re.sub(r\"[A-Za-z\\.]*[0-9]+[A-Za-z%°\\.]*\", \"\", text)\n",
    "    text = re.sub(r\"(\\s\\-\\s|-$)\", \"\", text)\n",
    "    text = re.sub(r\"[,\\!\\?\\%\\(\\)\\/\\\"]\", \"\", text)\n",
    "    text = re.sub(r\"\\&\\S*\\s\", \"\", text)\n",
    "    text = re.sub(r\"\\&\", \"\", text)\n",
    "    text = re.sub(r\"\\+\", \"\", text)\n",
    "    text = re.sub(r\"\\#\", \"\", text)\n",
    "    text = re.sub(r\"\\$\", \"\", text)\n",
    "    text = re.sub(r\"\\'\", \"\", text)\n",
    "    text = re.sub(r\"\\£\", \"\", text)\n",
    "    text = re.sub(r\"\\%\", \"\", text)\n",
    "    text = re.sub(r\"\\:\", \"\", text)\n",
    "    text = re.sub(r\"\\@\", \"\", text)\n",
    "    text = re.sub(r\"\\-\", \"\", text)\n",
    "\n",
    "    # suppression des emojis\n",
    "    text = emoji.get_emoji_regexp().sub(r'', text)\n",
    "\n",
    "    # remplacement des adresses internet et liens\n",
    "    text = re.sub(r'http\\S+', '', text)\n",
    "\n",
    "    return text"
   ]
  },
  {
   "cell_type": "code",
   "execution_count": 34,
   "metadata": {},
   "outputs": [
    {
     "name": "stderr",
     "output_type": "stream",
     "text": [
      "C:\\Users\\Bastien\\anaconda3\\lib\\site-packages\\ipykernel\\ipkernel.py:287: DeprecationWarning: `should_run_async` will not call `transform_cell` automatically in the future. Please pass the result to `transformed_cell` argument and any exception that happen during thetransform in `preprocessing_exc_tuple` in IPython 7.17 and above.\n",
      "  and should_run_async(code)\n"
     ]
    }
   ],
   "source": [
    "# application de la fonction\n",
    "nettoyage_nlp = lambda x: nlp_pipeline(x)\n",
    "\n",
    "# création d'une nouvelle colonne en appliquant le traitement de cleaning du texte\n",
    "df_tweet['Texte_clean'] = df_tweet['Text'].apply(nettoyage_nlp)"
   ]
  },
  {
   "cell_type": "markdown",
   "metadata": {},
   "source": [
    "#### **<span style=\"color:#8EA3EB\">2.3. Tokenisation</span>**"
   ]
  },
  {
   "cell_type": "code",
   "execution_count": 35,
   "metadata": {},
   "outputs": [
    {
     "name": "stderr",
     "output_type": "stream",
     "text": [
      "C:\\Users\\Bastien\\anaconda3\\lib\\site-packages\\ipykernel\\ipkernel.py:287: DeprecationWarning: `should_run_async` will not call `transform_cell` automatically in the future. Please pass the result to `transformed_cell` argument and any exception that happen during thetransform in `preprocessing_exc_tuple` in IPython 7.17 and above.\n",
      "  and should_run_async(code)\n"
     ]
    }
   ],
   "source": [
    "# après quelques recherches, j'ai du telecharger les référence spacy du language français\n",
    "# je le charge ci-dessous pour pouvoir l'utiliser\n",
    "nlp = scy.load('fr_core_news_lg')"
   ]
  },
  {
   "cell_type": "code",
   "execution_count": 36,
   "metadata": {},
   "outputs": [
    {
     "name": "stderr",
     "output_type": "stream",
     "text": [
      "C:\\Users\\Bastien\\anaconda3\\lib\\site-packages\\ipykernel\\ipkernel.py:287: DeprecationWarning: `should_run_async` will not call `transform_cell` automatically in the future. Please pass the result to `transformed_cell` argument and any exception that happen during thetransform in `preprocessing_exc_tuple` in IPython 7.17 and above.\n",
      "  and should_run_async(code)\n"
     ]
    }
   ],
   "source": [
    "# tokenisation\n",
    "tokenizer = Tokenizer(nlp.vocab)\n",
    "\n",
    "# je rajoute les stopswords qui me semble cohérent (avec ma connaissance de la langue française)\n",
    "custom_stopwords = ['bonjour','\\n','\\n\\n', \"l'\",'&amp;', ' ','  ', '.', '-', 'salut','|', 'il','=','le','la','les','d', 'nous', \"c'est\", 'cest', \"je\", 'veux', \"j'aime\", '$', '@']\n",
    "\n",
    "# j'ajoute mes stopword personnels à la liste définis par défault\n",
    "STOP_WORDS = nlp.Defaults.stop_words.union(custom_stopwords)\n",
    "\n",
    "# ALL_STOP_WORDS = spacy + gensim + ntlk | cette opération me permet d'avoir le maximum de STOPWORD pour le traitement de mes tweets\n",
    "ALL_STOP_WORDS = STOP_WORDS.union(SW).union(stopwords)"
   ]
  },
  {
   "cell_type": "code",
   "execution_count": 37,
   "metadata": {},
   "outputs": [
    {
     "name": "stderr",
     "output_type": "stream",
     "text": [
      "C:\\Users\\Bastien\\anaconda3\\lib\\site-packages\\ipykernel\\ipkernel.py:287: DeprecationWarning: `should_run_async` will not call `transform_cell` automatically in the future. Please pass the result to `transformed_cell` argument and any exception that happen during thetransform in `preprocessing_exc_tuple` in IPython 7.17 and above.\n",
      "  and should_run_async(code)\n"
     ]
    }
   ],
   "source": [
    "# initialisation de liste \n",
    "tokens = []\n",
    "\n",
    "# iteration de la boucle sur le texte traité précédemment\n",
    "for doc in tokenizer.pipe(df_tweet['Texte_clean']):\n",
    "    doc_tokens = []\n",
    "    # pour chaque ligne\n",
    "    for token in doc: \n",
    "        # si ce n'est pas un STOPWORD\n",
    "        if token.text.lower() not in STOP_WORDS:\n",
    "            doc_tokens.append(token.text.lower())   \n",
    "    tokens.append(doc_tokens)\n",
    "\n",
    "# création de la colonne 'token'\n",
    "df_tweet['tokens'] = tokens\n",
    "\n",
    "# création de la colonne en string à partir des token (pour lemmatiser)\n",
    "df_tweet['tokens_back_to_text'] = [' '.join(map(str, l)) for l in df_tweet['tokens']]"
   ]
  },
  {
   "cell_type": "markdown",
   "metadata": {},
   "source": [
    "#### **<span style=\"color:#8EA3EB\">2.4. Lemmatisation</span>**"
   ]
  },
  {
   "cell_type": "code",
   "execution_count": 38,
   "metadata": {},
   "outputs": [
    {
     "name": "stderr",
     "output_type": "stream",
     "text": [
      "C:\\Users\\Bastien\\anaconda3\\lib\\site-packages\\ipykernel\\ipkernel.py:287: DeprecationWarning: `should_run_async` will not call `transform_cell` automatically in the future. Please pass the result to `transformed_cell` argument and any exception that happen during thetransform in `preprocessing_exc_tuple` in IPython 7.17 and above.\n",
      "  and should_run_async(code)\n"
     ]
    }
   ],
   "source": [
    "def get_lemmas(text):\n",
    "    lemmas = []\n",
    "    doc = nlp(text)\n",
    "    \n",
    "    # itération sur chaque mot présent en utilisant le package spacy sur le vocabulaire et la grammaire\n",
    "    for token in doc: \n",
    "        # si ce n'est pas égal à de la ponctuation, stopword\n",
    "        if ((token.is_stop == False) and (token.is_punct == False)) and (token.pos_ != 'PRON'):\n",
    "            lemmas.append(token.lemma_)\n",
    "    \n",
    "    return lemmas\n",
    "\n",
    "# création de la nouvelle colonne lematiser en appliquant la fonction récemment créée\n",
    "df_tweet['lemmas'] = df_tweet['tokens_back_to_text'].apply(get_lemmas)"
   ]
  },
  {
   "cell_type": "code",
   "execution_count": 39,
   "metadata": {},
   "outputs": [
    {
     "name": "stderr",
     "output_type": "stream",
     "text": [
      "C:\\Users\\Bastien\\anaconda3\\lib\\site-packages\\ipykernel\\ipkernel.py:287: DeprecationWarning: `should_run_async` will not call `transform_cell` automatically in the future. Please pass the result to `transformed_cell` argument and any exception that happen during thetransform in `preprocessing_exc_tuple` in IPython 7.17 and above.\n",
      "  and should_run_async(code)\n"
     ]
    }
   ],
   "source": [
    "# repassage en string\n",
    "df_tweet['lemmas'] = [' '.join(map(str, l)) for l in df_tweet['lemmas']]"
   ]
  },
  {
   "cell_type": "code",
   "execution_count": 40,
   "metadata": {},
   "outputs": [
    {
     "name": "stderr",
     "output_type": "stream",
     "text": [
      "C:\\Users\\Bastien\\anaconda3\\lib\\site-packages\\ipykernel\\ipkernel.py:287: DeprecationWarning: `should_run_async` will not call `transform_cell` automatically in the future. Please pass the result to `transformed_cell` argument and any exception that happen during thetransform in `preprocessing_exc_tuple` in IPython 7.17 and above.\n",
      "  and should_run_async(code)\n"
     ]
    }
   ],
   "source": [
    "# on retokenise notre colonne lematiser pour regrouper à nouveau\n",
    "text_lemmas = []\n",
    "\n",
    "for doc in tokenizer.pipe(df_tweet['lemmas']):\n",
    "    doc_lemma = []    \n",
    "    for token in doc: \n",
    "        if token.text.lower() not in STOP_WORDS:\n",
    "            doc_lemma.append(token.text.lower())   \n",
    "    text_lemmas.append(doc_lemma)\n",
    "\n",
    "# création de la colonne du texte tokeniser et lematiser\n",
    "df_tweet['lemma_token'] = text_lemmas"
   ]
  },
  {
   "cell_type": "markdown",
   "metadata": {},
   "source": [
    "#### **<span style=\"color:#8EA3EB\">2.5. Enregistrement des données cleans</span>**"
   ]
  },
  {
   "cell_type": "code",
   "execution_count": 41,
   "metadata": {},
   "outputs": [
    {
     "name": "stderr",
     "output_type": "stream",
     "text": [
      "C:\\Users\\Bastien\\anaconda3\\lib\\site-packages\\ipykernel\\ipkernel.py:287: DeprecationWarning: `should_run_async` will not call `transform_cell` automatically in the future. Please pass the result to `transformed_cell` argument and any exception that happen during thetransform in `preprocessing_exc_tuple` in IPython 7.17 and above.\n",
      "  and should_run_async(code)\n"
     ]
    }
   ],
   "source": [
    "# enregistrement en csv du jeu de donnée final tokeniser et lemmaliser\n",
    "df_tweet.to_csv('Tweets_finaux_token.csv')"
   ]
  },
  {
   "cell_type": "markdown",
   "metadata": {},
   "source": [
    "### **<span style=\"color:#FCF16D\">3. Modelisations</span>**"
   ]
  },
  {
   "cell_type": "markdown",
   "metadata": {},
   "source": [
    "##### Informations supplémentaires"
   ]
  },
  {
   "cell_type": "code",
   "execution_count": 3,
   "metadata": {},
   "outputs": [
    {
     "name": "stderr",
     "output_type": "stream",
     "text": [
      "C:\\Users\\Bastien\\anaconda3\\lib\\site-packages\\ipykernel\\ipkernel.py:287: DeprecationWarning: `should_run_async` will not call `transform_cell` automatically in the future. Please pass the result to `transformed_cell` argument and any exception that happen during thetransform in `preprocessing_exc_tuple` in IPython 7.17 and above.\n",
      "  and should_run_async(code)\n"
     ]
    }
   ],
   "source": [
    "#df_tweet = pd.read_csv(r'Tweets_finaux_token.csv', header=0)\n",
    "#df_tweet = pd.DataFrame(df_tweet)\n",
    "#cols_sup = ['Unnamed: 0']\n",
    "#df_tweet = df_tweet.drop(columns=cols_sup)"
   ]
  },
  {
   "cell_type": "code",
   "execution_count": 42,
   "metadata": {},
   "outputs": [
    {
     "name": "stderr",
     "output_type": "stream",
     "text": [
      "C:\\Users\\Bastien\\anaconda3\\lib\\site-packages\\ipykernel\\ipkernel.py:287: DeprecationWarning: `should_run_async` will not call `transform_cell` automatically in the future. Please pass the result to `transformed_cell` argument and any exception that happen during thetransform in `preprocessing_exc_tuple` in IPython 7.17 and above.\n",
      "  and should_run_async(code)\n",
      "<ipython-input-42-8df6331207a2>:20: SettingWithCopyWarning: \n",
      "A value is trying to be set on a copy of a slice from a DataFrame\n",
      "\n",
      "See the caveats in the documentation: https://pandas.pydata.org/pandas-docs/stable/user_guide/indexing.html#returning-a-view-versus-a-copy\n",
      "  df_tweet['Famille'][i] = \"Base\"\n",
      "<ipython-input-42-8df6331207a2>:18: SettingWithCopyWarning: \n",
      "A value is trying to be set on a copy of a slice from a DataFrame\n",
      "\n",
      "See the caveats in the documentation: https://pandas.pydata.org/pandas-docs/stable/user_guide/indexing.html#returning-a-view-versus-a-copy\n",
      "  df_tweet['Famille'][i] = \"Certifié\"\n",
      "<ipython-input-42-8df6331207a2>:16: SettingWithCopyWarning: \n",
      "A value is trying to be set on a copy of a slice from a DataFrame\n",
      "\n",
      "See the caveats in the documentation: https://pandas.pydata.org/pandas-docs/stable/user_guide/indexing.html#returning-a-view-versus-a-copy\n",
      "  df_tweet['Famille'][i] = \"Gouvernement\"\n",
      "<ipython-input-42-8df6331207a2>:8: SettingWithCopyWarning: \n",
      "A value is trying to be set on a copy of a slice from a DataFrame\n",
      "\n",
      "See the caveats in the documentation: https://pandas.pydata.org/pandas-docs/stable/user_guide/indexing.html#returning-a-view-versus-a-copy\n",
      "  df_tweet['Famille'][i] = \"Gouvernement\"\n",
      "<ipython-input-42-8df6331207a2>:6: SettingWithCopyWarning: \n",
      "A value is trying to be set on a copy of a slice from a DataFrame\n",
      "\n",
      "See the caveats in the documentation: https://pandas.pydata.org/pandas-docs/stable/user_guide/indexing.html#returning-a-view-versus-a-copy\n",
      "  df_tweet['Famille'][i] = \"Liké +\"\n"
     ]
    }
   ],
   "source": [
    "# création d'une nouvelle colonne pour classer les familles de Tweets\n",
    "df_tweet['Famille'] = \"\"\n",
    "\n",
    "for i in range(len(df_tweet['Text'])):\n",
    "    if df_tweet['Like Count'][i] > 200:\n",
    "        df_tweet['Famille'][i] = \"Liké +\"\n",
    "    elif df_tweet['Username'][i] == \"gouvernementFR\":\n",
    "        df_tweet['Famille'][i] = \"Gouvernement\"\n",
    "    elif df_tweet['Username'][i] == \"olivierveran\":\n",
    "        df_tweet['Famille'][i] = \"Gouvernement\"\n",
    "    elif df_tweet['Username'][i] == \"JeanCASTEX\":\n",
    "        df_tweet['Famille'][i] = \"Gouvernement\"\n",
    "    elif df_tweet['Username'][i] == \"EmmanuelMacron\":\n",
    "        df_tweet['Famille'][i] = \"Gouvernement\"\n",
    "    elif df_tweet['Username'][i] == \"Sante_Gouv\":\n",
    "        df_tweet['Famille'][i] = \"Gouvernement\"\n",
    "    elif df_tweet['Vérifié'][i] == True:\n",
    "        df_tweet['Famille'][i] = \"Certifié\"\n",
    "    else:\n",
    "        df_tweet['Famille'][i] = \"Base\""
   ]
  },
  {
   "cell_type": "code",
   "execution_count": 43,
   "metadata": {},
   "outputs": [
    {
     "name": "stderr",
     "output_type": "stream",
     "text": [
      "C:\\Users\\Bastien\\anaconda3\\lib\\site-packages\\ipykernel\\ipkernel.py:287: DeprecationWarning: `should_run_async` will not call `transform_cell` automatically in the future. Please pass the result to `transformed_cell` argument and any exception that happen during thetransform in `preprocessing_exc_tuple` in IPython 7.17 and above.\n",
      "  and should_run_async(code)\n",
      "<ipython-input-43-e1a42c324091>:6: SettingWithCopyWarning: \n",
      "A value is trying to be set on a copy of a slice from a DataFrame\n",
      "\n",
      "See the caveats in the documentation: https://pandas.pydata.org/pandas-docs/stable/user_guide/indexing.html#returning-a-view-versus-a-copy\n",
      "  df_tweet['Jour_tweet'][i] = df_tweet['Datetime'][i].weekday()\n"
     ]
    }
   ],
   "source": [
    "df_tweet['Datetime'] = pd.to_datetime(df_tweet['Datetime'])\n",
    "\n",
    "df_tweet['Jour_tweet'] = \"\"\n",
    "\n",
    "for i in range(len(df_tweet['Text'])):\n",
    "    df_tweet['Jour_tweet'][i] = df_tweet['Datetime'][i].weekday()"
   ]
  },
  {
   "cell_type": "code",
   "execution_count": 44,
   "metadata": {},
   "outputs": [
    {
     "name": "stderr",
     "output_type": "stream",
     "text": [
      "C:\\Users\\Bastien\\anaconda3\\lib\\site-packages\\ipykernel\\ipkernel.py:287: DeprecationWarning: `should_run_async` will not call `transform_cell` automatically in the future. Please pass the result to `transformed_cell` argument and any exception that happen during thetransform in `preprocessing_exc_tuple` in IPython 7.17 and above.\n",
      "  and should_run_async(code)\n"
     ]
    },
    {
     "data": {
      "text/html": [
       "<style type=\"text/css\">\n",
       "#T_4e4a7_row0_col0 {\n",
       "  background-color: #810823;\n",
       "  color: #f1f1f1;\n",
       "}\n",
       "#T_4e4a7_row0_col1, #T_4e4a7_row4_col1 {\n",
       "  background-color: #a21328;\n",
       "  color: #f1f1f1;\n",
       "}\n",
       "#T_4e4a7_row0_col2 {\n",
       "  background-color: #c43b3c;\n",
       "  color: #f1f1f1;\n",
       "}\n",
       "#T_4e4a7_row0_col3, #T_4e4a7_row2_col2, #T_4e4a7_row3_col0 {\n",
       "  background-color: #8a0b25;\n",
       "  color: #f1f1f1;\n",
       "}\n",
       "#T_4e4a7_row0_col4, #T_4e4a7_row1_col0, #T_4e4a7_row4_col0 {\n",
       "  background-color: #870a24;\n",
       "  color: #f1f1f1;\n",
       "}\n",
       "#T_4e4a7_row1_col1 {\n",
       "  background-color: #a81529;\n",
       "  color: #f1f1f1;\n",
       "}\n",
       "#T_4e4a7_row1_col2, #T_4e4a7_row4_col2, #T_4e4a7_row6_col0, #T_4e4a7_row6_col1, #T_4e4a7_row6_col3, #T_4e4a7_row6_col4 {\n",
       "  background-color: #67001f;\n",
       "  color: #f1f1f1;\n",
       "}\n",
       "#T_4e4a7_row1_col3 {\n",
       "  background-color: #730421;\n",
       "  color: #f1f1f1;\n",
       "}\n",
       "#T_4e4a7_row1_col4, #T_4e4a7_row4_col4 {\n",
       "  background-color: #8d0c25;\n",
       "  color: #f1f1f1;\n",
       "}\n",
       "#T_4e4a7_row2_col0, #T_4e4a7_row3_col4 {\n",
       "  background-color: #900d26;\n",
       "  color: #f1f1f1;\n",
       "}\n",
       "#T_4e4a7_row2_col1 {\n",
       "  background-color: #b41c2d;\n",
       "  color: #f1f1f1;\n",
       "}\n",
       "#T_4e4a7_row2_col3, #T_4e4a7_row4_col3 {\n",
       "  background-color: #760521;\n",
       "  color: #f1f1f1;\n",
       "}\n",
       "#T_4e4a7_row2_col4 {\n",
       "  background-color: #960f27;\n",
       "  color: #f1f1f1;\n",
       "}\n",
       "#T_4e4a7_row3_col1 {\n",
       "  background-color: #b1182b;\n",
       "  color: #f1f1f1;\n",
       "}\n",
       "#T_4e4a7_row3_col2 {\n",
       "  background-color: #9f1228;\n",
       "  color: #f1f1f1;\n",
       "}\n",
       "#T_4e4a7_row3_col3, #T_4e4a7_row5_col2, #T_4e4a7_row6_col2 {\n",
       "  background-color: #790622;\n",
       "  color: #f1f1f1;\n",
       "}\n",
       "#T_4e4a7_row5_col0, #T_4e4a7_row5_col1, #T_4e4a7_row5_col3, #T_4e4a7_row5_col4 {\n",
       "  background-color: #6d0220;\n",
       "  color: #f1f1f1;\n",
       "}\n",
       "#T_4e4a7_row7_col0, #T_4e4a7_row7_col1, #T_4e4a7_row7_col2, #T_4e4a7_row7_col3, #T_4e4a7_row7_col4 {\n",
       "  background-color: #053061;\n",
       "  color: #f1f1f1;\n",
       "}\n",
       "</style>\n",
       "<table id=\"T_4e4a7_\">\n",
       "  <thead>\n",
       "    <tr>\n",
       "      <th class=\"index_name level0\" >Famille</th>\n",
       "      <th class=\"col_heading level0 col0\" >Base</th>\n",
       "      <th class=\"col_heading level0 col1\" >Certifié</th>\n",
       "      <th class=\"col_heading level0 col2\" >Gouvernement</th>\n",
       "      <th class=\"col_heading level0 col3\" >Liké +</th>\n",
       "      <th class=\"col_heading level0 col4\" >All</th>\n",
       "    </tr>\n",
       "    <tr>\n",
       "      <th class=\"index_name level0\" >Jour_tweet</th>\n",
       "      <th class=\"blank col0\" >&nbsp;</th>\n",
       "      <th class=\"blank col1\" >&nbsp;</th>\n",
       "      <th class=\"blank col2\" >&nbsp;</th>\n",
       "      <th class=\"blank col3\" >&nbsp;</th>\n",
       "      <th class=\"blank col4\" >&nbsp;</th>\n",
       "    </tr>\n",
       "  </thead>\n",
       "  <tbody>\n",
       "    <tr>\n",
       "      <th id=\"T_4e4a7_level0_row0\" class=\"row_heading level0 row0\" >0</th>\n",
       "      <td id=\"T_4e4a7_row0_col0\" class=\"data row0 col0\" >27764</td>\n",
       "      <td id=\"T_4e4a7_row0_col1\" class=\"data row0 col1\" >5774</td>\n",
       "      <td id=\"T_4e4a7_row0_col2\" class=\"data row0 col2\" >21</td>\n",
       "      <td id=\"T_4e4a7_row0_col3\" class=\"data row0 col3\" >456</td>\n",
       "      <td id=\"T_4e4a7_row0_col4\" class=\"data row0 col4\" >34015</td>\n",
       "    </tr>\n",
       "    <tr>\n",
       "      <th id=\"T_4e4a7_level0_row1\" class=\"row_heading level0 row1\" >1</th>\n",
       "      <td id=\"T_4e4a7_row1_col0\" class=\"data row1 col0\" >28836</td>\n",
       "      <td id=\"T_4e4a7_row1_col1\" class=\"data row1 col1\" >6068</td>\n",
       "      <td id=\"T_4e4a7_row1_col2\" class=\"data row1 col2\" >9</td>\n",
       "      <td id=\"T_4e4a7_row1_col3\" class=\"data row1 col3\" >386</td>\n",
       "      <td id=\"T_4e4a7_row1_col4\" class=\"data row1 col4\" >35299</td>\n",
       "    </tr>\n",
       "    <tr>\n",
       "      <th id=\"T_4e4a7_level0_row2\" class=\"row_heading level0 row2\" >2</th>\n",
       "      <td id=\"T_4e4a7_row2_col0\" class=\"data row2 col0\" >30816</td>\n",
       "      <td id=\"T_4e4a7_row2_col1\" class=\"data row2 col1\" >6736</td>\n",
       "      <td id=\"T_4e4a7_row2_col2\" class=\"data row2 col2\" >13</td>\n",
       "      <td id=\"T_4e4a7_row2_col3\" class=\"data row2 col3\" >396</td>\n",
       "      <td id=\"T_4e4a7_row2_col4\" class=\"data row2 col4\" >37961</td>\n",
       "    </tr>\n",
       "    <tr>\n",
       "      <th id=\"T_4e4a7_level0_row3\" class=\"row_heading level0 row3\" >3</th>\n",
       "      <td id=\"T_4e4a7_row3_col0\" class=\"data row3 col0\" >29868</td>\n",
       "      <td id=\"T_4e4a7_row3_col1\" class=\"data row3 col1\" >6508</td>\n",
       "      <td id=\"T_4e4a7_row3_col2\" class=\"data row3 col2\" >15</td>\n",
       "      <td id=\"T_4e4a7_row3_col3\" class=\"data row3 col3\" >408</td>\n",
       "      <td id=\"T_4e4a7_row3_col4\" class=\"data row3 col4\" >36799</td>\n",
       "    </tr>\n",
       "    <tr>\n",
       "      <th id=\"T_4e4a7_level0_row4\" class=\"row_heading level0 row4\" >4</th>\n",
       "      <td id=\"T_4e4a7_row4_col0\" class=\"data row4 col0\" >29184</td>\n",
       "      <td id=\"T_4e4a7_row4_col1\" class=\"data row4 col1\" >5798</td>\n",
       "      <td id=\"T_4e4a7_row4_col2\" class=\"data row4 col2\" >9</td>\n",
       "      <td id=\"T_4e4a7_row4_col3\" class=\"data row4 col3\" >395</td>\n",
       "      <td id=\"T_4e4a7_row4_col4\" class=\"data row4 col4\" >35386</td>\n",
       "    </tr>\n",
       "    <tr>\n",
       "      <th id=\"T_4e4a7_level0_row5\" class=\"row_heading level0 row5\" >5</th>\n",
       "      <td id=\"T_4e4a7_row5_col0\" class=\"data row5 col0\" >22911</td>\n",
       "      <td id=\"T_4e4a7_row5_col1\" class=\"data row5 col1\" >3342</td>\n",
       "      <td id=\"T_4e4a7_row5_col2\" class=\"data row5 col2\" >11</td>\n",
       "      <td id=\"T_4e4a7_row5_col3\" class=\"data row5 col3\" >369</td>\n",
       "      <td id=\"T_4e4a7_row5_col4\" class=\"data row5 col4\" >26633</td>\n",
       "    </tr>\n",
       "    <tr>\n",
       "      <th id=\"T_4e4a7_level0_row6\" class=\"row_heading level0 row6\" >6</th>\n",
       "      <td id=\"T_4e4a7_row6_col0\" class=\"data row6 col0\" >21437</td>\n",
       "      <td id=\"T_4e4a7_row6_col1\" class=\"data row6 col1\" >3036</td>\n",
       "      <td id=\"T_4e4a7_row6_col2\" class=\"data row6 col2\" >11</td>\n",
       "      <td id=\"T_4e4a7_row6_col3\" class=\"data row6 col3\" >343</td>\n",
       "      <td id=\"T_4e4a7_row6_col4\" class=\"data row6 col4\" >24827</td>\n",
       "    </tr>\n",
       "    <tr>\n",
       "      <th id=\"T_4e4a7_level0_row7\" class=\"row_heading level0 row7\" >All</th>\n",
       "      <td id=\"T_4e4a7_row7_col0\" class=\"data row7 col0\" >190816</td>\n",
       "      <td id=\"T_4e4a7_row7_col1\" class=\"data row7 col1\" >37262</td>\n",
       "      <td id=\"T_4e4a7_row7_col2\" class=\"data row7 col2\" >89</td>\n",
       "      <td id=\"T_4e4a7_row7_col3\" class=\"data row7 col3\" >2753</td>\n",
       "      <td id=\"T_4e4a7_row7_col4\" class=\"data row7 col4\" >230920</td>\n",
       "    </tr>\n",
       "  </tbody>\n",
       "</table>\n"
      ],
      "text/plain": [
       "<pandas.io.formats.style.Styler at 0x12a34b7f880>"
      ]
     },
     "execution_count": 44,
     "metadata": {},
     "output_type": "execute_result"
    }
   ],
   "source": [
    "pd.crosstab(df_tweet.Jour_tweet,df_tweet['Famille'],margins=True).style.background_gradient(cmap='RdBu')"
   ]
  },
  {
   "cell_type": "markdown",
   "metadata": {},
   "source": [
    "#### **<span style=\"color:#8EA3EB\">3.1. LDA</span>**"
   ]
  },
  {
   "cell_type": "markdown",
   "metadata": {},
   "source": [
    "##### **<span style=\"color:#6DEFA2\">3.1.1. Réglages et configuration pré-LDA</span>**"
   ]
  },
  {
   "cell_type": "code",
   "execution_count": 45,
   "metadata": {},
   "outputs": [
    {
     "name": "stderr",
     "output_type": "stream",
     "text": [
      "C:\\Users\\Bastien\\anaconda3\\lib\\site-packages\\ipykernel\\ipkernel.py:287: DeprecationWarning: `should_run_async` will not call `transform_cell` automatically in the future. Please pass the result to `transformed_cell` argument and any exception that happen during thetransform in `preprocessing_exc_tuple` in IPython 7.17 and above.\n",
      "  and should_run_async(code)\n"
     ]
    },
    {
     "name": "stdout",
     "output_type": "stream",
     "text": [
      "132469\n"
     ]
    }
   ],
   "source": [
    "# création du dictionnaire\n",
    "id2word = Dictionary(df_tweet['lemma_token'])\n",
    "print(len(id2word))"
   ]
  },
  {
   "cell_type": "code",
   "execution_count": 46,
   "metadata": {},
   "outputs": [
    {
     "name": "stderr",
     "output_type": "stream",
     "text": [
      "C:\\Users\\Bastien\\anaconda3\\lib\\site-packages\\ipykernel\\ipkernel.py:287: DeprecationWarning: `should_run_async` will not call `transform_cell` automatically in the future. Please pass the result to `transformed_cell` argument and any exception that happen during thetransform in `preprocessing_exc_tuple` in IPython 7.17 and above.\n",
      "  and should_run_async(code)\n"
     ]
    },
    {
     "name": "stdout",
     "output_type": "stream",
     "text": [
      "1589\n"
     ]
    }
   ],
   "source": [
    "# filtre des extremes (je décide de mettre 300 dans 'no_below', qui correspond à un peu moins de 0.1% de mon jeu de donnée)\n",
    "id2word.filter_extremes(no_below=300, no_above=0.99)\n",
    "print(len(id2word))"
   ]
  },
  {
   "cell_type": "code",
   "execution_count": 47,
   "metadata": {},
   "outputs": [
    {
     "name": "stderr",
     "output_type": "stream",
     "text": [
      "C:\\Users\\Bastien\\anaconda3\\lib\\site-packages\\ipykernel\\ipkernel.py:287: DeprecationWarning: `should_run_async` will not call `transform_cell` automatically in the future. Please pass the result to `transformed_cell` argument and any exception that happen during thetransform in `preprocessing_exc_tuple` in IPython 7.17 and above.\n",
      "  and should_run_async(code)\n"
     ]
    }
   ],
   "source": [
    "# création du corpus de référence\n",
    "corpus = [id2word.doc2bow(d) for d in df_tweet['lemma_token']]"
   ]
  },
  {
   "cell_type": "markdown",
   "metadata": {},
   "source": [
    "##### **<span style=\"color:#6DEFA2\">3.1.2. LDA et paramétrage</span>**"
   ]
  },
  {
   "cell_type": "code",
   "execution_count": 49,
   "metadata": {},
   "outputs": [
    {
     "name": "stderr",
     "output_type": "stream",
     "text": [
      "C:\\Users\\Bastien\\anaconda3\\lib\\site-packages\\ipykernel\\ipkernel.py:287: DeprecationWarning: `should_run_async` will not call `transform_cell` automatically in the future. Please pass the result to `transformed_cell` argument and any exception that happen during thetransform in `preprocessing_exc_tuple` in IPython 7.17 and above.\n",
      "  and should_run_async(code)\n"
     ]
    }
   ],
   "source": [
    "# initialisation du model LDA (topic= 10 --> choisis après analyse de la perplexcité et de la cohérence)\n",
    "base_model = LdaMulticore(corpus=corpus, num_topics=6, id2word=id2word, passes=5, random_state=69, alpha='symmetric')"
   ]
  },
  {
   "cell_type": "code",
   "execution_count": 50,
   "metadata": {},
   "outputs": [
    {
     "name": "stderr",
     "output_type": "stream",
     "text": [
      "C:\\Users\\Bastien\\anaconda3\\lib\\site-packages\\ipykernel\\ipkernel.py:287: DeprecationWarning: `should_run_async` will not call `transform_cell` automatically in the future. Please pass the result to `transformed_cell` argument and any exception that happen during thetransform in `preprocessing_exc_tuple` in IPython 7.17 and above.\n",
      "  and should_run_async(code)\n"
     ]
    }
   ],
   "source": [
    "# filtre par mot\n",
    "words = [re.findall(r'\"([^\"]*)\"',t[1]) for t in base_model.print_topics()]"
   ]
  },
  {
   "cell_type": "code",
   "execution_count": 51,
   "metadata": {},
   "outputs": [
    {
     "name": "stderr",
     "output_type": "stream",
     "text": [
      "C:\\Users\\Bastien\\anaconda3\\lib\\site-packages\\ipykernel\\ipkernel.py:287: DeprecationWarning: `should_run_async` will not call `transform_cell` automatically in the future. Please pass the result to `transformed_cell` argument and any exception that happen during thetransform in `preprocessing_exc_tuple` in IPython 7.17 and above.\n",
      "  and should_run_async(code)\n"
     ]
    }
   ],
   "source": [
    "# création des différents sujets\n",
    "topics = [' '.join(t[0:10]) for t in words]"
   ]
  },
  {
   "cell_type": "markdown",
   "metadata": {},
   "source": [
    "##### **<span style=\"color:#6DEFA2\">3.1.3. Evaluation du modèle</span>**"
   ]
  },
  {
   "cell_type": "code",
   "execution_count": 66,
   "metadata": {},
   "outputs": [
    {
     "name": "stdout",
     "output_type": "stream",
     "text": [
      "\u001b[1m\u001b[36m Topic0: \u001b[0m covid test ⁦ sanitaire crise mesure école travail positif fermer\n",
      "\u001b[1m\u001b[36m Topic1: \u001b[0m covid mettre patient santé malade hôpital situation jour place soignant\n",
      "\u001b[1m\u001b[36m Topic2: \u001b[0m covid macron crise confinement france français politique gouvernement sanitaire faire\n",
      "\u001b[1m\u001b[36m Topic3: \u001b[0m covid vaccin vaccination contre dose vacciner coronavirus france recevoir anticovid\n",
      "\u001b[1m\u001b[36m Topic4: \u001b[0m covid cas coronavirus france décès varier nombre mort jour semaine\n",
      "\u001b[1m\u001b[36m Topic5: \u001b[0m covid faire vacciner vaccin an non bien falloir virus risque\n"
     ]
    },
    {
     "name": "stderr",
     "output_type": "stream",
     "text": [
      "C:\\Users\\Bastien\\anaconda3\\lib\\site-packages\\ipykernel\\ipkernel.py:287: DeprecationWarning: `should_run_async` will not call `transform_cell` automatically in the future. Please pass the result to `transformed_cell` argument and any exception that happen during thetransform in `preprocessing_exc_tuple` in IPython 7.17 and above.\n",
      "  and should_run_async(code)\n"
     ]
    }
   ],
   "source": [
    "# affichage de mes sujets\n",
    "for id, t in enumerate(topics): \n",
    "    print(color.BOLD + color.DARKCYAN, f\"Topic{id}:\", color.END, t, end=\"\\n\")"
   ]
  },
  {
   "cell_type": "code",
   "execution_count": 53,
   "metadata": {},
   "outputs": [
    {
     "name": "stderr",
     "output_type": "stream",
     "text": [
      "C:\\Users\\Bastien\\anaconda3\\lib\\site-packages\\ipykernel\\ipkernel.py:287: DeprecationWarning: `should_run_async` will not call `transform_cell` automatically in the future. Please pass the result to `transformed_cell` argument and any exception that happen during thetransform in `preprocessing_exc_tuple` in IPython 7.17 and above.\n",
      "  and should_run_async(code)\n"
     ]
    },
    {
     "name": "stdout",
     "output_type": "stream",
     "text": [
      "\u001b[1m\u001b[91m Perplexcité:  \u001b[0m -6.4\n",
      "\u001b[1m\u001b[92m Cohérence:  \u001b[0m 0.41\n"
     ]
    }
   ],
   "source": [
    "# perplexcité (plus elle est faible, mieux est le modèle)\n",
    "base_perplexity = round(base_model.log_perplexity(corpus),2)\n",
    "print(color.BOLD + color.RED, 'Perplexcité: ', color.END, base_perplexity) \n",
    "\n",
    "# cohérence (plus elle est élevée, mieux elle le modèle)\n",
    "coherence_model = CoherenceModel(model=base_model, texts=df_tweet['lemma_token'], dictionary=id2word, coherence='c_v')\n",
    "coherence_lda_model_base = round(coherence_model.get_coherence(),2)\n",
    "print(color.BOLD + color.GREEN, 'Cohérence: ', color.END, coherence_lda_model_base) "
   ]
  },
  {
   "cell_type": "markdown",
   "metadata": {},
   "source": [
    "#### **<span style=\"color:#8EA3EB\">3.2. Prédictions nouvelles valeurs</span>**"
   ]
  },
  {
   "cell_type": "code",
   "execution_count": 76,
   "metadata": {},
   "outputs": [
    {
     "name": "stderr",
     "output_type": "stream",
     "text": [
      "C:\\Users\\Bastien\\anaconda3\\lib\\site-packages\\ipykernel\\ipkernel.py:287: DeprecationWarning: `should_run_async` will not call `transform_cell` automatically in the future. Please pass the result to `transformed_cell` argument and any exception that happen during thetransform in `preprocessing_exc_tuple` in IPython 7.17 and above.\n",
      "  and should_run_async(code)\n"
     ]
    }
   ],
   "source": [
    "# 4 phrases à prédire\n",
    "new_text = ['le confinement imposé par Macron et son gouvernement est une véritable atteinte aux libertés fondamentales',\n",
    "            'A l’heure d’aujourd’hui, nous ne pouvons pas dire que le vaccins pfizer soit totalement efficace',\n",
    "            'La France détient le record du nombre de cas de covid par jour',\n",
    "            'HELP ! Je ne peux plus emmener mon enfant à l’école car il y a la queue dans les centres de dépistages',\n",
    "            'Le covid est vraiment une maladie de merde: courage à nos soignants',\n",
    "            'Le port du masque et la vaccination obligatoire pour entrer à l’hôpital ? Ce gouvernement est au top !']\n",
    "\n",
    "# création du Df pour les phrases à prédire\n",
    "df_pred = pd.DataFrame(new_text, columns=['Texte_prediction'])"
   ]
  },
  {
   "cell_type": "code",
   "execution_count": 77,
   "metadata": {},
   "outputs": [
    {
     "name": "stderr",
     "output_type": "stream",
     "text": [
      "C:\\Users\\Bastien\\anaconda3\\lib\\site-packages\\ipykernel\\ipkernel.py:287: DeprecationWarning: `should_run_async` will not call `transform_cell` automatically in the future. Please pass the result to `transformed_cell` argument and any exception that happen during thetransform in `preprocessing_exc_tuple` in IPython 7.17 and above.\n",
      "  and should_run_async(code)\n"
     ]
    }
   ],
   "source": [
    "# cleaning du texte \n",
    "df_pred['Texte_clean'] = df_pred['Texte_prediction'].apply(nettoyage_nlp)\n",
    "\n",
    "# initialisation de liste \n",
    "tokens1 = []\n",
    "\n",
    "# iteration de la boucle sur le texte traité précédemment\n",
    "for doc in tokenizer.pipe(df_pred['Texte_prediction']):\n",
    "    doc_tokens = []\n",
    "    # pour chaque ligne\n",
    "    for token in doc: \n",
    "        # si ce n'est pas un STOPWORD\n",
    "        if token.text.lower() not in STOP_WORDS:\n",
    "            doc_tokens.append(token.text.lower())   \n",
    "    tokens1.append(doc_tokens)\n",
    "\n",
    "# création de la colonne 'token'\n",
    "df_pred['tokens'] = tokens1\n",
    "\n",
    "# création de la colonne en string à partir des token (pour lemmatiser)\n",
    "df_pred['tokens_back_to_text'] = [' '.join(map(str, l)) for l in df_pred['tokens']]\n",
    "\n",
    "# création de la nouvelle colonne lematiser en appliquant la fonction récemment créée\n",
    "df_pred['lemmas'] = df_pred['tokens_back_to_text'].apply(get_lemmas)\n",
    "\n",
    "# repassage en string\n",
    "df_pred['lemmas'] = [' '.join(map(str, l)) for l in df_pred['lemmas']]\n",
    "\n",
    "# on retokenise notre colonne lematiser pour regrouper à nouveau\n",
    "text_lemmas1 = []\n",
    "\n",
    "for doc in tokenizer.pipe(df_pred['lemmas']):\n",
    "    doc_lemma = []    \n",
    "    for token in doc: \n",
    "        if token.text.lower() not in STOP_WORDS:\n",
    "            doc_lemma.append(token.text.lower())   \n",
    "    text_lemmas1.append(doc_lemma)\n",
    "\n",
    "# création de la colonne du texte tokeniser et lematiser\n",
    "df_pred['lemma_token'] = text_lemmas1"
   ]
  },
  {
   "cell_type": "code",
   "execution_count": 78,
   "metadata": {},
   "outputs": [
    {
     "name": "stderr",
     "output_type": "stream",
     "text": [
      "C:\\Users\\Bastien\\anaconda3\\lib\\site-packages\\ipykernel\\ipkernel.py:287: DeprecationWarning: `should_run_async` will not call `transform_cell` automatically in the future. Please pass the result to `transformed_cell` argument and any exception that happen during thetransform in `preprocessing_exc_tuple` in IPython 7.17 and above.\n",
      "  and should_run_async(code)\n"
     ]
    },
    {
     "data": {
      "text/plain": [
       "[(0, 0.01897657),\n",
       " (1, 0.52742517),\n",
       " (2, 0.17907602),\n",
       " (3, 0.23739648),\n",
       " (4, 0.018531736),\n",
       " (5, 0.018594036)]"
      ]
     },
     "execution_count": 78,
     "metadata": {},
     "output_type": "execute_result"
    }
   ],
   "source": [
    "# prédictions\n",
    "base_model[id2word.doc2bow(df_pred['lemma_token'][5])]"
   ]
  },
  {
   "cell_type": "markdown",
   "metadata": {},
   "source": [
    "### **<span style=\"color:#FCF16D\">4. Analyse et visualisation</span>**"
   ]
  },
  {
   "cell_type": "markdown",
   "metadata": {},
   "source": [
    "#### **<span style=\"color:#8EA3EB\">4.1 Visualisation interactive du modèle</span>**"
   ]
  },
  {
   "cell_type": "markdown",
   "metadata": {},
   "source": [
    "##### **<span style=\"color:#6DEFA2\">4.1.1. Visualisation LDA</span>**"
   ]
  },
  {
   "cell_type": "code",
   "execution_count": 56,
   "metadata": {},
   "outputs": [
    {
     "name": "stderr",
     "output_type": "stream",
     "text": [
      "C:\\Users\\Bastien\\anaconda3\\lib\\site-packages\\ipykernel\\ipkernel.py:287: DeprecationWarning: `should_run_async` will not call `transform_cell` automatically in the future. Please pass the result to `transformed_cell` argument and any exception that happen during thetransform in `preprocessing_exc_tuple` in IPython 7.17 and above.\n",
      "  and should_run_async(code)\n",
      "C:\\Users\\Bastien\\anaconda3\\lib\\site-packages\\pyLDAvis\\_prepare.py:247: FutureWarning: In a future version of pandas all arguments of DataFrame.drop except for the argument 'labels' will be keyword-only\n",
      "  default_term_info = default_term_info.sort_values(\n"
     ]
    },
    {
     "data": {
      "text/html": [
       "\n",
       "<link rel=\"stylesheet\" type=\"text/css\" href=\"https://cdn.jsdelivr.net/gh/bmabey/pyLDAvis@3.2.2/pyLDAvis/js/ldavis.v1.0.0.css\">\n",
       "\n",
       "\n",
       "<div id=\"ldavis_el660012828358868166514918599\"></div>\n",
       "<script type=\"text/javascript\">\n",
       "\n",
       "var ldavis_el660012828358868166514918599_data = {\"mdsDat\": {\"x\": [-0.16797533574533632, -0.11039896936581164, -0.0004315094376509794, -0.08889103042034435, 0.07458808758739245, 0.293108757381751], \"y\": [-0.11433507730442015, -0.14563858428046836, -0.023929661640121214, 0.2089184402395337, 0.1771086413060268, -0.10212375832055066], \"topics\": [1, 2, 3, 4, 5, 6], \"cluster\": [1, 1, 1, 1, 1, 1], \"Freq\": [21.84883460714091, 21.337091311615207, 16.80186407518439, 15.741737821585122, 14.28613796877099, 9.984334215703383]}, \"tinfo\": {\"Term\": [\"vaccin\", \"vaccination\", \"contre\", \"cas\", \"mettre\", \"coronavirus\", \"vacciner\", \"dose\", \"macron\", \"patient\", \"faire\", \"d\\u00e9c\\u00e8s\", \"varier\", \"crise\", \"covid\", \"malade\", \"h\\u00f4pital\", \"sant\\u00e9\", \"france\", \"nombre\", \"test\", \"situation\", \"mort\", \"place\", \"bien\", \"soignant\", \"jour\", \"virus\", \"r\\u00e9animation\", \"masqu\", \"jai\", \"forme\", \"femme\", \"terme\", \"transmettre\", \"contaminer\", \"attraper\", \"vieux\", \"riche\", \"brevet\", \"participer\", \"engagement\", \"immunit\\u00e9\", \"pasteur\", \"essayer\", \"existe\", \"d\\u00e9confinemer\", \"m\\u00e8re\", \"merd\", \"sida\", \"jer\", \"prouver\", \"immunitaire\", \"emp\\u00eache\", \"covidlong\", \"sang\", \"choper\", \"putain\", \"mascarade\", \"daller\", \"g\\u00e9n\\u00e9ration\", \"n\", \"risquer\", \"merde\", \"contracter\", \"genre\", \"ben\", \"grippe\", \"s\\u00fbr\", \"science\", \"sympt\\u00f4me\", \"long\", \"quon\", \"mourir\", \"prot\\u00e9ger\", \"souffrir\", \"faire\", \"risque\", \"non\", \"jeune\", \"grave\", \"falloir\", \"enfant\", \"oui\", \"vacciner\", \"bien\", \"c\", \"virus\", \"vie\", \"maladie\", \"savoir\", \"traitement\", \"an\", \"vouloir\", \"covid\", \"bon\", \"aller\", \"voir\", \"vaccin\", \"m\\u00e9decin\", \"prendre\", \"pouvoir\", \"contre\", \"monde\", \"mort\", \"politique\", \"macron\", \"guerre\", \"loi\", \"lrem\", \"emmanuel\", \"raoult\", \"cdanslair\", \"podcast\", \"peuple\", \"livre\", \"\\u00e9mission\", \"barri\\u00e8re\", \"histoire\", \"gestion\", \"restaurer\", \"geste\", \"communication\", \"classique\", \"humour\", \"voter\", \"revue\", \"d\\u00e9mocratie\", \"policier\", \"limpact\", \"etudiant\", \"tirer\", \"moral\", \"enjeu\", \"universit\\u00e9\", \"libert\\u00e9\", \"dirigeant\", \"g\\u00e9rer\", \"directan\", \"wuhan\", \"radio\", \"dictature\", \"dette\", \"crise\", \"d\\u00e9bat\", \"retrouver\", \"social\", \"projet\", \"gouvernement\", \"fran\\u00e7ais\", \"confinement\", \"covid\", \"sortir\", \"sanitaire\", \"mesure\", \"couvrefeu\", \"temps\", \"pand\\u00e9mie\", \"voir\", \"france\", \"face\", \"grand\", \"bien\", \"bon\", \"monde\", \"pr\\u00e9sident\", \"prendre\", \"faire\", \"question\", \"falloir\", \"passer\", \"ann\\u00e9e\", \"pays\", \"\\u2066\", \"conseil\", \"travail\", \"d\\u00e9pistage\", \"restaurant\", \"covidle\", \"voyage\", \"bretagne\", \"salle\", \"\\u00e9l\\u00e8ve\", \"impact\", \"n\\u00e9gatif\", \"pr\\u00e9senter\", \"secteur\", \"scolaire\", \"r\\u00e9ouverture\", \"t\\u00e9l\\u00e9travail\", \"directeur\", \"protocole\", \"pcr\", \"rouvrir\", \"etat\", \"bar\", \"emploi\", \"voyageur\", \"gratuit\", \"conf\\u00e9rence\", \"d\\u00e9placement\", \"euro\", \"r\\u00e9union\", \"vendredi\", \"vacance\", \"aide\", \"\\u00e9cole\", \"fermeture\", \"certificat\", \"classe\", \"test\", \"fermer\", \"lundi\", \"entreprise\", \"partir\", \"tester\", \"\\u00e9tudiant\", \"national\", \"covid\", \"positif\", \"sanitaire\", \"mesure\", \"ministre\", \"crise\", \"centre\", \"restriction\", \"lieu\", \"annoncer\", \"sant\\u00e9\", \"devoir\", \"semaine\", \"dose\", \"astrazeneca\", \"vaccinationcovid\", \"juin\", \"moderna\", \"vaccinal\", \"pfizer\", \"isra\\u00ebl\", \"covid\\u30fc\", \"coronainfoch\", \"br\\u00e9sil\", \"enqu\\u00eate\", \"johnson\", \"gen\\u00e8ve\", \"festival\", \"barre\", \"administrer\", \"offrir\", \"pfizerbiontech\", \"tunisi\", \"parlement\", \"s\\u00e9n\\u00e9gal\", \"art\", \"confinemer\", \"lefficacit\\u00e9\", \"vigueur\", \"pasessentiel\", \"isra\\u00e9lien\", \"lutter\", \"recommande\", \"vaccination\", \"israel\", \"anticovid\", \"injection\", \"contre\", \"vaccin\", \"recevoir\", \"variantdelta\", \"lutte\", \"rappel\", \"campagne\", \"anti\", \"vacciner\", \"europ\\u00e9en\", \"covid\", \"million\", \"coronavirus\", \"centre\", \"france\", \"passsanitair\", \"an\", \"pays\", \"sant\\u00e9\", \"fran\\u00e7ais\", \"varier\", \"taux\", \"bilan\", \"anglais\", \"delta\", \"d\\u00e9tecter\", \"maire\", \"corona\", \"baisse\", \"ecole\", \"weekend\", \"pandemie\", \"record\", \"\\u00e9lev\\u00e9\", \"lci\", \"positivit\\u00e9\", \"reconfinement\", \"in\", \"the\", \"\\u00e9l\\u00e9ment\", \"incidence\", \"musique\", \"mutation\", \"eric\", \"tal\", \"chiffre\", \"dincidence\", \"statistique\", \"mus\\u00e9e\", \"z\\u00e9ro\", \"cas\", \"d\\u00e9c\\u00e8s\", \"nombre\", \"hausse\", \"qu\\u00e9bec\", \"d\\u00e9passer\", \"omicron\", \"couvrir\", \"infection\", \"bfmtv\", \"contamination\", \"coronavirus\", \"variant\", \"habitant\", \"semaine\", \"mort\", \"dernier\", \"     \", \"covid\", \"france\", \"vague\", \"jour\", \"fois\", \"confinement\", \"virus\", \"hospitalisation\", \"pand\\u00e9mie\", \"pays\", \"janvier\", \"heure\", \"mettre\", \"h\\u00f4pital\", \"malade\", \"soignant\", \"place\", \"r\\u00e9animation\", \"masqu\", \"soin\", \"lh\\u00f4pital\", \"patient\", \"lit\", \"infirmier\", \"port\", \"critique\", \"quarantaine\", \"gu\\u00e9rison\", \"inde\", \"hospitalier\", \"intensif\", \"manqu\", \"hospitaliser\", \"guadeloupe\", \"ext\\u00e9rieur\", \"lyc\\u00e9e\", \"reconfinemer\", \"olivier\", \"indien\", \"pr\\u00e9fet\", \"commerce\", \"flamb\\u00e9e\", \"actuel\", \"information\", \"rdc\", \"reporter\", \"air\", \"service\", \"personnel\", \"situation\", \"sant\\u00e9\", \"minist\\u00e8re\", \"covid\", \"masque\", \"jour\", \"urgence\", \"heure\", \"public\", \"m\\u00e9decin\", \"france\", \"mort\"], \"Freq\": [42404.0, 25804.0, 19992.0, 14560.0, 8873.0, 15047.0, 15981.0, 8427.0, 9330.0, 5973.0, 16811.0, 6310.0, 5933.0, 11228.0, 246338.0, 4603.0, 4314.0, 10553.0, 18963.0, 4727.0, 6988.0, 5806.0, 7968.0, 3266.0, 8887.0, 3225.0, 10861.0, 7618.0, 3148.0, 3105.0, 1952.0802590534463, 1853.355826375593, 2090.793893331722, 986.0881459918965, 920.9551040914492, 1630.4591361085445, 895.5172561109401, 866.1904836328224, 809.575246431039, 798.7268930456069, 754.488350321234, 728.7925051449655, 675.3563753825687, 618.1272971186494, 607.2295267476851, 623.0350637143955, 510.5898569084751, 474.17094157718253, 437.1398999687409, 420.52895967158315, 404.28802320773946, 394.6414483006403, 396.72779601631686, 380.19238420335574, 535.6705619430721, 337.999424078834, 332.34343963379524, 332.1265453145406, 327.61356898964675, 341.03547687976635, 761.8067408663194, 726.8394170080452, 539.2155421428497, 520.217127493676, 502.28546499591073, 513.5213078252053, 510.53326900390675, 1523.4090585769254, 1261.525640405444, 1028.5175385918874, 1363.6006590213756, 2236.501771829374, 985.9564712901736, 2840.2029465953365, 3235.537583736144, 827.4188832994757, 12420.203872773182, 4306.651524593112, 6030.869699615567, 3079.3811565709193, 2922.1748652882484, 5649.915976859609, 3383.7511268419557, 1843.6104434790202, 9337.349705008754, 5717.631900655809, 1533.1675361952164, 4876.610719281908, 3650.540700750559, 2550.983361499644, 3138.4427164276785, 2433.6681653308715, 6111.363161870665, 3333.2917598904887, 50262.61023568761, 3648.473813246325, 2151.877652356693, 2984.936203662241, 8967.285386551552, 2477.708624407664, 2849.945627406475, 2677.320613079598, 3323.9057543566296, 2454.7720761280757, 2302.155173028579, 4257.221054723555, 9325.588882943017, 1222.1039154898265, 1433.8427283727303, 1126.5445434484045, 1024.727669810441, 961.5545603098985, 948.2554283789216, 882.8368039513906, 863.9532666948684, 771.6699106340474, 766.6554855042069, 1307.487172089237, 914.4232064633617, 2832.6885103416694, 676.3518362983391, 1168.0059340447203, 623.5429580326745, 1052.9797490728595, 585.0611247004972, 583.9968774903548, 573.6525894727944, 546.0946153667907, 525.2737442488528, 519.1356482257173, 517.742921509984, 512.940259855631, 473.51165653491523, 474.52627405921373, 472.10497464166957, 2366.166824611344, 582.844230573934, 987.5090591466824, 542.2593266175943, 795.1345013260263, 1154.6259128302718, 752.5249802161937, 1050.885457524005, 8180.724388425188, 1171.2370397267816, 2721.1977046677393, 2220.7433197437654, 1141.3189659998877, 3990.4971170745594, 4562.38374226579, 5274.832598924695, 50650.42131806916, 2181.2076421519546, 3869.218809592762, 3002.24625143742, 2444.937965867099, 2563.2210355398443, 3095.628412802514, 2691.8733603113715, 5117.2265793115275, 2391.7276352039794, 2341.7045655924817, 3126.0565863270594, 2591.5542070701345, 2692.9859178087568, 1619.3402254613966, 2443.6814924299865, 3285.538587766688, 1891.479685414988, 2262.1129613912, 1969.2868537542895, 1695.9189322108102, 1904.120741920582, 3842.933566091898, 2071.4425446194664, 2681.216177774341, 1782.507819503199, 1567.7328451957812, 1192.8944600124287, 1107.920188433387, 1078.4569190205345, 1057.126937736601, 987.1875169551056, 1040.277185986696, 972.9071899098695, 1082.9493762988811, 960.8499946534289, 931.9838867147066, 931.6665248017288, 909.608233491865, 845.9903966828301, 894.7729426783795, 839.2346079072449, 775.4047436101388, 789.0277294984262, 771.8526238457932, 734.1130896073921, 715.3323132940593, 690.1505925500473, 688.4483786531658, 579.389846362601, 1495.8626396105506, 667.1920435547796, 1787.137898845043, 1209.799276571712, 1698.3154042814133, 2974.06905578551, 1328.071294325824, 808.60075175569, 1439.359431916882, 5725.793923771248, 2263.250298622738, 2176.00590235517, 1939.6509573244339, 1984.6174081341908, 1861.2727146458724, 1406.7211048160952, 1333.1777761766737, 38290.81210097781, 2557.3625543787334, 3652.712062214234, 3045.7693516686527, 1696.8122708492076, 3047.3207567189493, 1828.0428204637806, 1481.1426732091595, 1483.4237469236434, 1649.4315997757296, 2170.6522282613487, 1555.110776103801, 1509.9237463769405, 8426.19678823267, 2737.3694118494905, 1813.18700763796, 1645.3902921081972, 1522.3072999383546, 2348.3161405253977, 2919.001354274322, 1048.6998206536048, 2182.369642867267, 997.0185406927559, 962.8034372437771, 1084.2351605053602, 934.0336350606292, 787.0850786654801, 734.9315476274809, 704.6608301372969, 582.731809344575, 882.0088929639172, 542.9780700859781, 1597.211397454737, 499.5935309651624, 490.7446824166517, 487.88006443915464, 462.1744282152074, 457.7964278616486, 423.3687852209003, 411.5118538044819, 456.10730848256304, 1352.9261809215934, 401.0740342541947, 25702.92776256106, 1358.0194840403362, 3048.8894941999465, 1461.5054417383371, 16655.11048307329, 33403.802005977515, 3100.5131935236736, 566.2220030376994, 1815.0223998058855, 1168.4912070914793, 2182.6017624707497, 1609.0048703666548, 6631.5043218273, 1831.7023647575722, 40411.14720154409, 2909.756105344896, 4911.979970267952, 2028.2248546231126, 4678.202883061764, 1444.9930521649067, 2494.6913614999444, 2069.307927875397, 1732.0007053692543, 1534.9253215836761, 5932.345758668311, 2059.619223490106, 2141.7696558953317, 1360.3559007856927, 1334.5907602884715, 1151.2686033849607, 1133.9695945772391, 1413.0494110276557, 1724.9938174223503, 1020.9403115121755, 1213.9507450997332, 925.6241463233223, 946.2229126395353, 887.53684868675, 859.3812374295521, 847.0782431975383, 772.3244212102426, 757.469498530899, 728.2413080913864, 755.9737045014316, 568.7828488068691, 566.3129742978722, 525.0553707076939, 525.3291896265445, 506.2442929899825, 3410.86486067619, 499.31622245180796, 575.3016689569614, 480.12035763197684, 506.2522775347064, 14453.165939380131, 6291.0057995657235, 4693.992478099472, 1930.5887089376356, 1060.7165951837476, 912.5889523517341, 1270.3515304221808, 673.4784756712777, 1179.0546831169793, 803.9928923780948, 2736.2617533863545, 10134.515288690243, 3038.621444340911, 956.350101445894, 3804.928712647224, 4411.441253417393, 3086.9853606889296, 2847.8325489330437, 44084.52872767062, 7253.426805191092, 2225.1138966555313, 3874.190255121632, 1924.4289894394024, 3070.009199302342, 2620.3549763099427, 1326.4622898988275, 2050.474847197294, 1894.2790767476772, 1530.9647597887397, 1411.9030342660203, 8872.061986705168, 4313.238679885329, 4602.610157899801, 3224.496630887895, 3265.3143087759854, 3147.7046557707004, 3104.5251269360638, 2888.8928656770863, 1874.037257313825, 5970.326449650193, 1511.1432191033782, 1312.6884701093854, 1254.2297621963519, 1013.6425785861221, 1025.638285237463, 915.7132437833068, 914.144217169215, 1019.2584571839899, 875.0555175156619, 844.8448926619855, 2674.339043075195, 824.374979554077, 770.668658444692, 591.4403506826839, 559.0856712397529, 900.6411279665313, 551.4089432898693, 544.6582535368551, 1150.0360988474633, 527.2863107688715, 1594.848732580032, 1482.9623841124744, 1327.6376777332537, 716.8848310869205, 744.5102521226271, 2652.7239181574855, 1785.9193017185419, 3618.679352676514, 4946.274382976526, 1151.1631688760858, 22639.331996880002, 2504.8687814833797, 3468.813802701732, 1227.535413464334, 1871.1100666731638, 1569.2352920669357, 1679.1056232281128, 1329.7047009898592, 1235.9675423865447], \"Total\": [42404.0, 25804.0, 19992.0, 14560.0, 8873.0, 15047.0, 15981.0, 8427.0, 9330.0, 5973.0, 16811.0, 6310.0, 5933.0, 11228.0, 246338.0, 4603.0, 4314.0, 10553.0, 18963.0, 4727.0, 6988.0, 5806.0, 7968.0, 3266.0, 8887.0, 3225.0, 10861.0, 7618.0, 3148.0, 3105.0, 1952.9134998268285, 1854.1792896410166, 2091.8261695969445, 986.9110744806452, 921.7747098640353, 1631.9394901905846, 896.3366339594512, 867.0247788386181, 810.398099387233, 799.5580904130662, 755.3166488496325, 729.6180251941623, 676.1765551528765, 618.9587238443245, 608.0546297075615, 623.926365301549, 511.4296982052427, 475.057644258884, 437.9654490950269, 421.3498946106408, 405.12117760850566, 395.46318543197486, 397.56347438626045, 381.0119033817829, 536.914574778334, 338.8249937124256, 333.16186142830514, 332.945875149337, 328.4359440715672, 341.9143282487393, 764.5721691149429, 730.808610730159, 540.7631555591686, 521.6667120759677, 503.9133684103155, 515.3240830129059, 512.5523942090002, 1563.028605046371, 1289.9581586347729, 1068.413146781973, 1437.2017940200797, 2446.799811933339, 1028.0630752006105, 3182.928414907882, 3675.5550323234543, 860.0920967222273, 16811.275257000405, 5290.596321756227, 7980.893598698972, 3781.9399155467268, 3569.6824842332426, 7931.298097076648, 4525.506658220779, 2227.0467546033415, 15981.14204551973, 8887.839570469008, 1809.9433315156289, 7618.074978347747, 5467.049933517588, 3559.7626762102827, 4670.955552646037, 3354.095878981203, 11820.741619225468, 5461.265280963849, 246338.8515808293, 6803.435236963556, 3237.7007135585472, 5847.907118792121, 42404.22213942418, 4594.236047517853, 6914.945420531513, 6090.024504998649, 19992.96014242565, 7469.583929932136, 7968.826443804637, 4258.575177202708, 9330.620010435896, 1222.9604486684793, 1434.8625349220213, 1127.493298969162, 1025.6651205644278, 962.4355398212681, 949.1263711641323, 883.6891312479655, 864.8087112281569, 772.5207601842247, 767.5067381684919, 1309.067886734853, 915.5654645318009, 2836.257750188538, 677.2050675181046, 1169.5677457524623, 624.3978387741138, 1054.4915869853762, 585.9166998518795, 584.8609578883838, 574.5043855731144, 546.9451012366955, 526.1256521107945, 519.9873157995708, 518.5981419302307, 513.7919135310078, 474.3628272138408, 475.37983867576264, 472.9597708975869, 2374.571602204028, 584.143288704596, 995.1057411001722, 543.2613694812987, 801.3119458427408, 1181.0943892097448, 760.7037191296467, 1111.3261885957918, 11228.835001929057, 1291.6580024416764, 3651.8837618705215, 2883.591642408429, 1322.6216706215757, 6603.265125326254, 8340.798746701968, 10699.40339388752, 246338.8515808293, 3318.983916235683, 8022.77779927472, 6099.23025158256, 4403.076462839243, 4786.308861008232, 6764.461427910123, 5847.907118792121, 18963.9982902957, 5186.453426146153, 4991.732270434937, 8887.839570469008, 6803.435236963556, 7469.583929932136, 2554.429846320328, 6914.945420531513, 16811.275257000405, 4044.9684784602405, 7931.298097076648, 5199.062670034776, 3213.509858218705, 7075.281056517621, 3843.817652907439, 2072.329693516474, 2682.451197673426, 1783.3912375974257, 1568.6193275247888, 1193.805614193935, 1108.8045421516654, 1079.3490627115946, 1058.0109727495783, 988.0710240792539, 1041.2180603828056, 973.7998974797614, 1083.9458574307016, 961.7409732220656, 932.8677571829226, 932.5502529315237, 910.4932749239805, 846.8764543619225, 895.7196858298586, 840.1240485278054, 776.2901793394137, 789.9413950999668, 772.7580638493209, 734.9964822587965, 716.216719635677, 691.0350352322253, 689.3327358894983, 580.2739179211958, 1498.1555896861582, 668.2221068132777, 1792.8558567990447, 1212.5247535889232, 1715.046167538664, 3061.8934688172935, 1360.7646335806185, 813.6312485453765, 1529.702518637791, 6988.870448416399, 2539.731061189762, 2569.896963651009, 2288.743915120424, 2533.7182801902945, 2519.218011236333, 1706.8424257529246, 1590.4984896880278, 246338.8515808293, 4258.172369787026, 8022.77779927472, 6099.23025158256, 3023.564980869322, 11228.835001929057, 3857.083881118631, 2329.552695743899, 2505.5166005195606, 3534.172100897257, 10553.517221955926, 5752.979304217674, 5434.697542190909, 8427.050097335274, 2738.220114522693, 1814.0354662796287, 1646.2451588965791, 1523.1568403057893, 2349.8810991936934, 2921.0100939419563, 1049.5487595968375, 2184.186711521868, 997.8766781551321, 963.6585385938428, 1085.2225573641265, 934.8936136238073, 787.9388103454818, 735.8160474031484, 705.5969010353601, 583.5805193576404, 883.3070826153121, 543.8256189311523, 1599.7162345377867, 500.44837973599556, 491.5963660077846, 488.73244238113796, 463.0261215989754, 458.64660800386355, 424.2251342593667, 412.3605224144426, 457.05496892645345, 1355.7902283235464, 401.92553964129746, 25804.356367786982, 1363.8228643857353, 3098.8112112129384, 1494.5513636719481, 19992.96014242565, 42404.22213942418, 3494.2223591239663, 573.3865545144167, 2073.514449884066, 1333.2988718878344, 2895.597874188285, 2067.0246083767815, 15981.14204551973, 2688.939609303989, 246338.8515808293, 5480.233789417627, 15047.223548248361, 3857.083881118631, 18963.9982902957, 2346.101076070739, 11820.741619225468, 7075.281056517621, 10553.517221955926, 8340.798746701968, 5933.214109904884, 2060.4765495604274, 2142.6697369709564, 1361.220139036318, 1335.4476832780672, 1152.1263018299505, 1134.8322240733753, 1414.1494323228824, 1726.406452365327, 1021.8007752028784, 1215.077943859588, 926.498144551579, 947.1231190698969, 888.3952255322408, 860.2413693058128, 847.9322573535918, 773.1954160765052, 758.3250758484845, 729.0972485548102, 756.9155467046656, 569.6376801708719, 567.1745465296577, 525.9125144403837, 526.1881484703545, 507.0987155014048, 3416.691585529522, 500.1704610175714, 576.3219730412067, 480.9807218977706, 507.1597254801042, 14560.983812642615, 6310.7846799756535, 4727.280402164004, 1934.3431749138051, 1063.7415425805634, 914.8996150876256, 1278.063055687497, 674.9829847537397, 1197.0441529350069, 810.0580036117482, 3033.7258771059705, 15047.223548248361, 3772.5053580179783, 992.1709490747619, 5434.697542190909, 7968.826443804637, 4894.844490690501, 4499.603672310585, 246338.8515808293, 18963.9982902957, 3454.5179740582835, 10861.734591859948, 3639.3073787907992, 10699.40339388752, 7618.074978347747, 1744.3678755010826, 6764.461427910123, 7075.281056517621, 3775.62269259922, 4045.227555088484, 8873.295558233407, 4314.0761667065435, 4603.649141983706, 3225.3387397105816, 3266.1743549120815, 3148.544465622172, 3105.3641025283578, 2889.784081780305, 1874.8743513363456, 5973.362602320456, 1511.9791668516223, 1313.5314901346028, 1255.0658118337708, 1014.5132768571119, 1026.5583144883353, 916.548686120531, 915.0005468116796, 1020.236165827213, 875.9271440115137, 845.68942976135, 2677.022755016008, 825.2124411625147, 771.5068018393771, 592.2818190023089, 559.9259872063516, 901.9971045545733, 552.2498305692627, 545.4982050335875, 1151.8098689438593, 528.13961546688, 1597.565333746541, 1487.3111045801932, 1335.1185088116888, 718.7459630348096, 747.9467586647334, 2855.569072600171, 2172.3982726807917, 5806.647649271163, 10553.517221955926, 1422.249491214856, 246338.8515808293, 5558.860930757507, 10861.734591859948, 1679.2128863217886, 4045.227555088484, 3636.7920270582417, 4594.236047517853, 18963.9982902957, 7968.826443804637], \"Category\": [\"Default\", \"Default\", \"Default\", \"Default\", \"Default\", \"Default\", \"Default\", \"Default\", \"Default\", \"Default\", \"Default\", \"Default\", \"Default\", \"Default\", \"Default\", \"Default\", \"Default\", \"Default\", \"Default\", \"Default\", \"Default\", \"Default\", \"Default\", \"Default\", \"Default\", \"Default\", \"Default\", \"Default\", \"Default\", \"Default\", \"Topic1\", \"Topic1\", \"Topic1\", \"Topic1\", \"Topic1\", \"Topic1\", \"Topic1\", \"Topic1\", \"Topic1\", \"Topic1\", \"Topic1\", \"Topic1\", \"Topic1\", \"Topic1\", \"Topic1\", \"Topic1\", \"Topic1\", \"Topic1\", \"Topic1\", \"Topic1\", \"Topic1\", \"Topic1\", \"Topic1\", \"Topic1\", \"Topic1\", \"Topic1\", \"Topic1\", \"Topic1\", \"Topic1\", \"Topic1\", \"Topic1\", \"Topic1\", \"Topic1\", \"Topic1\", \"Topic1\", \"Topic1\", \"Topic1\", \"Topic1\", \"Topic1\", \"Topic1\", \"Topic1\", \"Topic1\", \"Topic1\", \"Topic1\", \"Topic1\", \"Topic1\", \"Topic1\", \"Topic1\", \"Topic1\", \"Topic1\", \"Topic1\", \"Topic1\", \"Topic1\", \"Topic1\", \"Topic1\", \"Topic1\", \"Topic1\", \"Topic1\", \"Topic1\", \"Topic1\", \"Topic1\", \"Topic1\", \"Topic1\", \"Topic1\", \"Topic1\", \"Topic1\", \"Topic1\", \"Topic1\", \"Topic1\", \"Topic1\", \"Topic1\", \"Topic1\", \"Topic1\", \"Topic1\", \"Topic1\", \"Topic2\", \"Topic2\", \"Topic2\", \"Topic2\", \"Topic2\", \"Topic2\", \"Topic2\", \"Topic2\", \"Topic2\", \"Topic2\", \"Topic2\", \"Topic2\", \"Topic2\", \"Topic2\", \"Topic2\", \"Topic2\", \"Topic2\", \"Topic2\", \"Topic2\", \"Topic2\", \"Topic2\", \"Topic2\", \"Topic2\", \"Topic2\", \"Topic2\", \"Topic2\", \"Topic2\", \"Topic2\", \"Topic2\", \"Topic2\", \"Topic2\", \"Topic2\", \"Topic2\", \"Topic2\", \"Topic2\", \"Topic2\", \"Topic2\", \"Topic2\", \"Topic2\", \"Topic2\", \"Topic2\", \"Topic2\", \"Topic2\", \"Topic2\", \"Topic2\", \"Topic2\", \"Topic2\", \"Topic2\", \"Topic2\", \"Topic2\", \"Topic2\", \"Topic2\", \"Topic2\", \"Topic2\", \"Topic2\", \"Topic2\", \"Topic2\", \"Topic2\", \"Topic2\", \"Topic2\", \"Topic2\", \"Topic2\", \"Topic2\", \"Topic2\", \"Topic2\", \"Topic2\", \"Topic2\", \"Topic2\", \"Topic3\", \"Topic3\", \"Topic3\", \"Topic3\", \"Topic3\", \"Topic3\", \"Topic3\", \"Topic3\", \"Topic3\", \"Topic3\", \"Topic3\", \"Topic3\", \"Topic3\", \"Topic3\", \"Topic3\", \"Topic3\", \"Topic3\", \"Topic3\", \"Topic3\", \"Topic3\", \"Topic3\", \"Topic3\", \"Topic3\", \"Topic3\", \"Topic3\", \"Topic3\", \"Topic3\", \"Topic3\", \"Topic3\", \"Topic3\", \"Topic3\", \"Topic3\", \"Topic3\", \"Topic3\", \"Topic3\", \"Topic3\", \"Topic3\", \"Topic3\", \"Topic3\", \"Topic3\", \"Topic3\", \"Topic3\", \"Topic3\", \"Topic3\", \"Topic3\", \"Topic3\", \"Topic3\", \"Topic3\", \"Topic3\", \"Topic3\", \"Topic3\", \"Topic3\", \"Topic3\", \"Topic3\", \"Topic3\", \"Topic3\", \"Topic3\", \"Topic3\", \"Topic4\", \"Topic4\", \"Topic4\", \"Topic4\", \"Topic4\", \"Topic4\", \"Topic4\", \"Topic4\", \"Topic4\", \"Topic4\", \"Topic4\", \"Topic4\", \"Topic4\", \"Topic4\", \"Topic4\", \"Topic4\", \"Topic4\", \"Topic4\", \"Topic4\", \"Topic4\", \"Topic4\", \"Topic4\", \"Topic4\", \"Topic4\", \"Topic4\", \"Topic4\", \"Topic4\", \"Topic4\", \"Topic4\", \"Topic4\", \"Topic4\", \"Topic4\", \"Topic4\", \"Topic4\", \"Topic4\", \"Topic4\", \"Topic4\", \"Topic4\", \"Topic4\", \"Topic4\", \"Topic4\", \"Topic4\", \"Topic4\", \"Topic4\", \"Topic4\", \"Topic4\", \"Topic4\", \"Topic4\", \"Topic4\", \"Topic4\", \"Topic4\", \"Topic4\", \"Topic4\", \"Topic4\", \"Topic5\", \"Topic5\", \"Topic5\", \"Topic5\", \"Topic5\", \"Topic5\", \"Topic5\", \"Topic5\", \"Topic5\", \"Topic5\", \"Topic5\", \"Topic5\", \"Topic5\", \"Topic5\", \"Topic5\", \"Topic5\", \"Topic5\", \"Topic5\", \"Topic5\", \"Topic5\", \"Topic5\", \"Topic5\", \"Topic5\", \"Topic5\", \"Topic5\", \"Topic5\", \"Topic5\", \"Topic5\", \"Topic5\", \"Topic5\", \"Topic5\", \"Topic5\", \"Topic5\", \"Topic5\", \"Topic5\", \"Topic5\", \"Topic5\", \"Topic5\", \"Topic5\", \"Topic5\", \"Topic5\", \"Topic5\", \"Topic5\", \"Topic5\", \"Topic5\", \"Topic5\", \"Topic5\", \"Topic5\", \"Topic5\", \"Topic5\", \"Topic5\", \"Topic5\", \"Topic5\", \"Topic5\", \"Topic5\", \"Topic5\", \"Topic5\", \"Topic5\", \"Topic5\", \"Topic5\", \"Topic6\", \"Topic6\", \"Topic6\", \"Topic6\", \"Topic6\", \"Topic6\", \"Topic6\", \"Topic6\", \"Topic6\", \"Topic6\", \"Topic6\", \"Topic6\", \"Topic6\", \"Topic6\", \"Topic6\", \"Topic6\", \"Topic6\", \"Topic6\", \"Topic6\", \"Topic6\", \"Topic6\", \"Topic6\", \"Topic6\", \"Topic6\", \"Topic6\", \"Topic6\", \"Topic6\", \"Topic6\", \"Topic6\", \"Topic6\", \"Topic6\", \"Topic6\", \"Topic6\", \"Topic6\", \"Topic6\", \"Topic6\", \"Topic6\", \"Topic6\", \"Topic6\", \"Topic6\", \"Topic6\", \"Topic6\", \"Topic6\", \"Topic6\", \"Topic6\", \"Topic6\", \"Topic6\", \"Topic6\", \"Topic6\"], \"logprob\": [30.0, 29.0, 28.0, 27.0, 26.0, 25.0, 24.0, 23.0, 22.0, 21.0, 20.0, 19.0, 18.0, 17.0, 16.0, 15.0, 14.0, 13.0, 12.0, 11.0, 10.0, 9.0, 8.0, 7.0, 6.0, 5.0, 4.0, 3.0, 2.0, 1.0, -5.4322, -5.4841, -5.3636, -6.1151, -6.1835, -5.6123, -6.2115, -6.2448, -6.3124, -6.3259, -6.3828, -6.4175, -6.4936, -6.5822, -6.6, -6.5743, -6.7733, -6.8473, -6.9286, -6.9674, -7.0068, -7.0309, -7.0256, -7.0682, -6.7254, -7.1858, -7.2027, -7.2034, -7.217, -7.1769, -6.3732, -6.4202, -6.7188, -6.7546, -6.7897, -6.7676, -6.7734, -5.6802, -5.8688, -6.073, -5.791, -5.2962, -6.1153, -5.0573, -4.9269, -6.2906, -3.5818, -4.641, -4.3042, -4.9764, -5.0288, -4.3695, -4.8821, -5.4894, -3.8671, -4.3576, -5.6738, -4.5167, -4.8063, -5.1646, -4.9574, -5.2117, -4.291, -4.8972, -2.1839, -4.8068, -5.3348, -5.0075, -3.9075, -5.1938, -5.0538, -5.1163, -4.9, -5.2031, -5.2673, -4.6288, -3.8447, -5.8769, -5.7171, -5.9583, -6.053, -6.1166, -6.1306, -6.202, -6.2237, -6.3366, -6.3431, -5.8093, -6.1669, -5.0362, -6.4685, -5.9221, -6.5498, -6.0258, -6.6135, -6.6153, -6.6332, -6.6824, -6.7213, -6.733, -6.7357, -6.745, -6.825, -6.8229, -6.828, -5.2162, -6.6173, -6.09, -6.6894, -6.3067, -5.9336, -6.3617, -6.0278, -3.9756, -5.9194, -5.0764, -5.2796, -5.9452, -4.6935, -4.5596, -4.4145, -2.1525, -5.2975, -4.7244, -4.9781, -5.1834, -5.1362, -4.9474, -5.0872, -4.4448, -5.2054, -5.2265, -4.9377, -5.1252, -5.0868, -5.5954, -5.1839, -4.8879, -5.4401, -5.2611, -5.3998, -5.5492, -5.4334, -4.4922, -5.1102, -4.8522, -5.2604, -5.3888, -5.6621, -5.736, -5.7629, -5.7829, -5.8514, -5.799, -5.8659, -5.7588, -5.8784, -5.9089, -5.9092, -5.9332, -6.0057, -5.9497, -6.0137, -6.0928, -6.0754, -6.0974, -6.1476, -6.1735, -6.2093, -6.2118, -6.3842, -5.4358, -6.2431, -5.2579, -5.648, -5.3088, -4.7485, -5.5547, -6.0509, -5.4743, -4.0935, -5.0217, -5.061, -5.176, -5.153, -5.2172, -5.4972, -5.5509, -2.1933, -4.8995, -4.543, -4.7247, -5.3097, -4.7242, -5.2352, -5.4457, -5.4441, -5.338, -5.0634, -5.3969, -5.4264, -3.6419, -4.7663, -5.1782, -5.2753, -5.3531, -4.9196, -4.7021, -5.7257, -4.9929, -5.7763, -5.8112, -5.6924, -5.8415, -6.0127, -6.0813, -6.1233, -6.3133, -5.8988, -6.384, -5.305, -6.4673, -6.4851, -6.491, -6.5451, -6.5546, -6.6328, -6.6612, -6.5583, -5.471, -6.6869, -2.5267, -5.4673, -4.6585, -5.3938, -2.9606, -2.2646, -4.6417, -6.3421, -5.1772, -5.6176, -4.9928, -5.2977, -3.8815, -5.168, -2.0742, -4.7052, -4.1816, -5.0661, -4.2304, -5.4052, -4.8591, -5.0461, -5.224, -5.3448, -3.8958, -4.9537, -4.9146, -5.3685, -5.3876, -5.5354, -5.5505, -5.3305, -5.131, -5.6555, -5.4824, -5.7536, -5.7315, -5.7956, -5.8278, -5.8422, -5.9346, -5.954, -5.9934, -5.956, -6.2405, -6.2449, -6.3205, -6.32, -6.357, -4.4493, -6.3708, -6.2291, -6.41, -6.357, -3.0054, -3.8371, -4.13, -5.0184, -5.6173, -5.7677, -5.437, -6.0716, -5.5116, -5.8944, -4.6697, -3.3603, -4.5649, -5.7209, -4.34, -4.1921, -4.5491, -4.6297, -1.8902, -3.6948, -4.8765, -4.3219, -5.0216, -4.5546, -4.713, -5.3938, -4.9582, -5.0374, -5.2504, -5.3313, -3.1351, -3.8563, -3.7914, -4.1472, -4.1346, -4.1713, -4.1851, -4.2571, -4.6899, -3.5312, -4.9051, -5.0459, -5.0915, -5.3044, -5.2927, -5.406, -5.4078, -5.2989, -5.4515, -5.4866, -4.3343, -5.5111, -5.5785, -5.8432, -5.8994, -5.4226, -5.9133, -5.9256, -5.1782, -5.958, -4.8512, -4.924, -5.0346, -5.6508, -5.613, -4.3424, -4.7381, -4.0319, -3.7194, -5.1772, -2.1983, -4.3998, -4.0742, -5.113, -4.6915, -4.8674, -4.7997, -5.033, -5.1061], \"loglift\": [30.0, 29.0, 28.0, 27.0, 26.0, 25.0, 24.0, 23.0, 22.0, 21.0, 20.0, 19.0, 18.0, 17.0, 16.0, 15.0, 14.0, 13.0, 12.0, 11.0, 10.0, 9.0, 8.0, 7.0, 6.0, 5.0, 4.0, 3.0, 2.0, 1.0, 1.5206, 1.5206, 1.5205, 1.5202, 1.5201, 1.5201, 1.5201, 1.5201, 1.52, 1.52, 1.5199, 1.5199, 1.5198, 1.5197, 1.5197, 1.5196, 1.5194, 1.5192, 1.5191, 1.5191, 1.519, 1.5189, 1.5189, 1.5189, 1.5187, 1.5186, 1.5186, 1.5186, 1.5185, 1.5184, 1.5174, 1.5156, 1.5182, 1.5182, 1.5178, 1.5175, 1.5171, 1.4953, 1.4987, 1.483, 1.4685, 1.4312, 1.4792, 1.4071, 1.3935, 1.4823, 1.2183, 1.3153, 1.2409, 1.3155, 1.3209, 1.1818, 1.2303, 1.3321, 0.9836, 1.0799, 1.3551, 1.0749, 1.1172, 1.1878, 1.1234, 1.2002, 0.8613, 1.0273, -0.0684, 0.8979, 1.1125, 0.8485, -0.0326, 0.9036, 0.6346, 0.6992, -0.2732, 0.4082, 0.2793, 1.5444, 1.5442, 1.544, 1.544, 1.5439, 1.5438, 1.5438, 1.5438, 1.5438, 1.5437, 1.5436, 1.5436, 1.5435, 1.5435, 1.5435, 1.5435, 1.5434, 1.5434, 1.5433, 1.5433, 1.5432, 1.5432, 1.5432, 1.5431, 1.5431, 1.5431, 1.5431, 1.5429, 1.5429, 1.5429, 1.5412, 1.5425, 1.5371, 1.5429, 1.537, 1.5221, 1.5339, 1.4888, 1.228, 1.4469, 1.2506, 1.2835, 1.3973, 1.0411, 0.9414, 0.8375, -0.037, 1.1249, 0.8155, 0.8359, 0.9564, 0.9202, 0.763, 0.7689, 0.2348, 0.7707, 0.7878, 0.4998, 0.5796, 0.5245, 1.0889, 0.5045, -0.0878, 0.7846, 0.2902, 0.5739, 0.9056, 0.2321, 1.7835, 1.7833, 1.7832, 1.7832, 1.7831, 1.7829, 1.7829, 1.7829, 1.7828, 1.7828, 1.7828, 1.7828, 1.7828, 1.7828, 1.7827, 1.7827, 1.7827, 1.7826, 1.7826, 1.7826, 1.7825, 1.7825, 1.7825, 1.7825, 1.7824, 1.7824, 1.7824, 1.7822, 1.7821, 1.7821, 1.7805, 1.7814, 1.7739, 1.7546, 1.7594, 1.7775, 1.7228, 1.5843, 1.6684, 1.6173, 1.6182, 1.5394, 1.481, 1.5903, 1.6072, -0.0778, 1.2738, 0.9969, 1.0893, 1.206, 0.4795, 1.037, 1.3308, 1.2595, 1.0216, 0.2022, 0.4755, 0.5029, 1.8488, 1.8485, 1.8484, 1.8483, 1.8483, 1.8482, 1.8482, 1.848, 1.848, 1.848, 1.848, 1.8479, 1.8479, 1.8478, 1.8477, 1.8475, 1.8474, 1.8474, 1.8473, 1.8473, 1.8471, 1.8471, 1.8471, 1.847, 1.847, 1.8468, 1.8468, 1.8468, 1.8467, 1.8467, 1.8449, 1.8446, 1.8326, 1.8265, 1.6662, 1.6103, 1.7293, 1.8363, 1.7157, 1.7169, 1.5662, 1.5984, 0.9693, 1.465, 0.0413, 1.2158, 0.7293, 1.2061, 0.4492, 1.3642, 0.2932, 0.6195, 0.0417, 0.1562, 1.9457, 1.9455, 1.9455, 1.9452, 1.9452, 1.9451, 1.9451, 1.9451, 1.9451, 1.945, 1.945, 1.9449, 1.9449, 1.9449, 1.9449, 1.9449, 1.9448, 1.9448, 1.9447, 1.9446, 1.9444, 1.9444, 1.9442, 1.9442, 1.9442, 1.9442, 1.9442, 1.9441, 1.9441, 1.9441, 1.9384, 1.9427, 1.9388, 1.9439, 1.943, 1.9434, 1.9398, 1.9436, 1.9307, 1.9384, 1.8427, 1.5506, 1.7295, 1.9091, 1.5894, 1.3545, 1.4849, 1.4884, 0.2253, 0.9848, 1.506, 0.915, 1.3087, 0.6974, 0.8787, 1.672, 0.7523, 0.6281, 1.0432, 0.8933, 2.304, 2.304, 2.3039, 2.3039, 2.3039, 2.3039, 2.3039, 2.3038, 2.3037, 2.3036, 2.3036, 2.3035, 2.3035, 2.3033, 2.3033, 2.3032, 2.3032, 2.3032, 2.3032, 2.3032, 2.3031, 2.3031, 2.3031, 2.3027, 2.3027, 2.3026, 2.3026, 2.3026, 2.3026, 2.3025, 2.3025, 2.3012, 2.2985, 2.3016, 2.2995, 2.2305, 2.1083, 1.8313, 1.5463, 2.0927, -0.0829, 1.507, 1.1627, 1.9908, 1.5331, 1.4636, 1.2976, -0.3534, 0.4405]}, \"token.table\": {\"Topic\": [2, 3, 4, 5, 6, 1, 6, 4, 3, 6, 2, 5, 6, 1, 2, 3, 4, 6, 1, 2, 3, 4, 5, 6, 5, 3, 4, 5, 6, 1, 2, 3, 5, 1, 2, 3, 4, 3, 4, 4, 4, 1, 5, 6, 3, 4, 2, 4, 1, 2, 2, 5, 1, 2, 4, 5, 6, 5, 1, 2, 3, 4, 5, 3, 1, 4, 1, 2, 2, 3, 4, 3, 4, 5, 6, 2, 3, 4, 3, 4, 2, 4, 5, 6, 1, 3, 5, 1, 2, 2, 5, 6, 2, 2, 3, 4, 5, 6, 4, 3, 3, 1, 3, 4, 5, 6, 1, 5, 1, 4, 1, 2, 3, 4, 5, 6, 5, 4, 4, 5, 2, 3, 5, 6, 2, 5, 1, 2, 3, 4, 5, 6, 3, 1, 5, 3, 4, 2, 3, 6, 1, 5, 1, 2, 3, 4, 5, 6, 2, 3, 1, 2, 3, 4, 5, 6, 2, 4, 5, 2, 3, 2, 3, 4, 2, 3, 1, 4, 5, 2, 4, 5, 3, 3, 5, 5, 2, 3, 1, 1, 3, 4, 5, 1, 2, 4, 2, 3, 5, 1, 3, 2, 1, 3, 3, 4, 1, 6, 1, 2, 3, 4, 5, 6, 1, 2, 3, 4, 6, 1, 2, 3, 5, 6, 1, 2, 3, 5, 6, 3, 5, 6, 4, 6, 1, 2, 3, 4, 5, 6, 1, 1, 2, 3, 4, 5, 6, 1, 2, 3, 4, 5, 6, 1, 2, 4, 2, 4, 2, 3, 1, 2, 3, 4, 5, 6, 1, 2, 3, 4, 5, 6, 3, 1, 4, 5, 6, 1, 5, 6, 2, 6, 1, 2, 2, 3, 6, 3, 4, 5, 6, 5, 6, 3, 4, 5, 6, 2, 6, 4, 5, 6, 1, 6, 2, 6, 1, 1, 3, 5, 5, 6, 6, 4, 5, 6, 1, 2, 4, 6, 1, 4, 6, 4, 5, 4, 4, 1, 2, 3, 4, 5, 6, 1, 1, 2, 3, 6, 4, 1, 2, 3, 4, 5, 6, 4, 5, 4, 6, 2, 4, 1, 2, 3, 4, 6, 2, 6, 2, 2, 1, 2, 3, 5, 6, 2, 3, 4, 5, 1, 3, 4, 1, 4, 6, 2, 4, 5, 6, 5, 6, 1, 5, 6, 6, 1, 6, 1, 2, 3, 4, 5, 6, 1, 1, 2, 1, 2, 3, 4, 5, 6, 2, 6, 1, 2, 3, 4, 5, 1, 2, 3, 4, 6, 3, 4, 6, 4, 1, 2, 3, 4, 5, 6, 2, 1, 2, 4, 5, 6, 1, 5, 6, 5, 5, 5, 1, 1, 2, 3, 4, 5, 6, 1, 2, 3, 4, 5, 4, 5, 6, 1, 2, 3, 4, 5, 6, 3, 1, 4, 3, 6, 4, 5, 6, 1, 2, 5, 1, 2, 3, 4, 5, 6, 4, 1, 1, 3, 4, 6, 4, 1, 2, 3, 4, 5, 6, 1, 2, 4, 5, 6, 1, 1, 6, 1, 2, 3, 4, 5, 6, 3, 3, 6, 2, 1, 4, 4, 6, 2, 2, 1, 2, 6, 1, 3, 4, 5, 5, 1, 2, 3, 4, 5, 6, 1, 2, 3, 4, 6, 2, 3, 3, 1, 3, 4, 1, 6, 3, 2, 3, 4, 5, 1, 2, 3, 4, 6, 1, 6, 1, 2, 3, 4, 5, 6, 1, 2, 5, 3, 5, 2, 3, 2, 1, 3, 4, 3, 6, 3, 4, 4, 5, 6, 5, 4, 6, 3, 2, 2, 3, 4, 5, 6, 2, 3, 2, 1, 1, 2, 3, 4, 5, 6, 1, 2, 3, 6, 3, 3, 3, 1, 2, 3, 4, 6, 1, 2, 3, 4, 5, 6, 1, 2, 3, 4, 5, 6, 1, 2, 5, 3, 3, 1, 3, 4, 5, 6, 3, 6, 1, 2, 3, 5, 6, 2, 3, 4, 6, 6, 1, 2, 3, 1, 6, 5, 1, 3, 5, 4, 1, 2, 5, 5, 1, 2, 3, 4, 5, 6, 1, 1, 3, 5, 1, 3, 5, 2, 1, 4, 6, 1, 3, 4, 5, 3, 2, 1, 2, 3, 6, 3, 5, 1, 2, 4, 6, 1, 4, 1, 3, 4, 5, 6, 4, 1, 4, 6, 2, 3, 4, 5, 6, 1, 5, 2, 4, 5, 3, 4, 5, 1, 2, 3, 6, 1, 4, 1, 2, 4, 5, 6, 1, 2, 3, 4, 5, 6, 2, 1, 2, 3, 4, 6, 3, 3, 5, 2, 4, 5, 3, 5, 5, 3, 5, 2, 2, 3, 3], \"Freq\": [0.06689478050084217, 0.1146767665728723, 0.18134930527803061, 0.6329446341076362, 0.004444835913677221, 0.0012519049817572635, 0.9983942229514177, 0.9990052454830409, 0.9900608112706799, 0.009329194923634205, 0.0013369935605914557, 0.0026739871211829114, 0.9960602026406344, 0.6646692175679028, 0.22855725882911154, 0.10655710040005875, 0.00030886116057988046, 0.00030886116057988046, 0.5169726398605109, 0.13983894185721232, 0.09364894654321479, 0.21106966723154552, 0.03629213917528378, 0.0021149265253661877, 0.9991036431203686, 0.46658735141431035, 0.252675867078823, 0.27644380978276606, 0.003961323783990506, 0.22094221935686334, 0.5277718366609018, 0.09366705355833221, 0.1577714157942672, 0.21963937834127803, 0.0014513615308895025, 0.0004837871769631675, 0.7784135677337365, 0.015812515400323596, 0.9839257031752375, 0.9985013428255971, 0.9995544132788222, 0.9996244335591148, 0.9991853295245741, 0.0005792378721881589, 0.9990190152846224, 0.9991540481052507, 0.9984203365189787, 0.0007639023232738933, 0.9969712477660045, 0.0019510200543366037, 0.00617239750450814, 0.9925215187249089, 0.6433509464998436, 0.3517165195450352, 0.00011251328200416992, 0.004725557844175137, 0.00011251328200416992, 0.9996874287439635, 0.5361997098436613, 0.38098400436260144, 0.04644712398865049, 0.00029396913916867397, 0.03601121954816256, 0.9987501145290242, 0.9993020014183361, 0.9993166266187983, 0.8469878439322632, 0.15249096211696325, 0.038334052179505876, 0.20790179650506788, 0.7539030261969488, 0.0007554434605201071, 0.003708540624371435, 0.9925840304451916, 0.002953097163851328, 0.998813254801096, 0.47393317240221483, 0.5257858170851705, 0.9943079268972814, 0.004916232024213999, 0.0008780423766387616, 0.0002926807922129205, 0.998334182238272, 0.0002926807922129205, 0.9965126217529098, 0.9407057793703824, 0.05883496882789049, 0.0009483243037138314, 0.9985854918106645, 0.0008681988468434813, 0.0008681988468434813, 0.9984286738700034, 0.9993628440884823, 0.4930181437044951, 0.045516556584661444, 0.06598498757447839, 0.2869318864782559, 0.1084172600373866, 0.997783879675229, 0.998066629045582, 0.9993583581219562, 0.09031798227642865, 0.003296276725417104, 0.0006592553450834208, 0.9018613120741197, 0.0036259043979588144, 0.9988115428284917, 0.0006127678176861913, 0.9962029814443074, 0.0019844680905265087, 0.16625852181570522, 5.001760584106655e-05, 0.0005501936642517321, 0.8330432252829635, 5.001760584106655e-05, 5.001760584106655e-05, 0.9991871917517272, 0.9991214564140802, 0.326438959602737, 0.6735461839523086, 0.5552935590910422, 0.00431516467187313, 0.21189729678198052, 0.22824949974907868, 0.0014815188272706448, 0.997062170753144, 0.2040400841257782, 0.20561109088137727, 0.15544036092672886, 0.16404639276618632, 0.17896080832192532, 0.09190186547805528, 0.9993251713810384, 0.9982966102592548, 0.0018624936758568186, 0.0004578363171632125, 0.9989988440501296, 0.7285706841889248, 0.2713549535171316, 0.9994940659044877, 0.9973258557094625, 0.9996647691379655, 0.002655855569002179, 0.0715038037808279, 0.18488840691899783, 0.02206403088094118, 0.630663549346902, 0.08805182694153378, 0.945716937821814, 0.05398954925719205, 0.3683308922120579, 0.1880764631304609, 0.2702947321329637, 0.04867043408181983, 0.09143088688227581, 0.033200188962955665, 0.9898729046067227, 0.009202005753316148, 0.9976598757647739, 0.9976781535515712, 0.9989650741174723, 0.9980427940768928, 0.001711908737696214, 0.9998753896887825, 0.9065867263520286, 0.09290384898569037, 0.9991598098296782, 0.00301071910443842, 0.9968649413695841, 0.9982720363806925, 0.002186032179944078, 0.9979236901444716, 0.9997806215544982, 0.9978046266050359, 0.9990224146188126, 0.9992163098499124, 0.9993515226840689, 0.9986442353360194, 0.9973441685868567, 0.7477615779998505, 0.17213542235871263, 0.06584898056854475, 0.014142062940895518, 0.9991529469217844, 0.9992009785757412, 0.9988734500994009, 0.1520484654053967, 0.8476265025473265, 0.9977419702936897, 0.9982655675065434, 0.9988082722265141, 0.9988466176758668, 0.0013349748275604477, 0.9985611710152149, 0.3183411025811654, 0.6813094625335222, 0.9985152650167279, 0.9993431012686229, 0.0007712399343711529, 0.4612014807539494, 0.2228883410332632, 0.00019280998359278822, 0.19878709308416465, 0.1160716101228585, 0.7387898782293849, 0.1954640531289661, 0.06436156588117507, 0.0009517421941763412, 0.0004163872099521493, 0.7123676264396747, 0.28519921610735294, 0.000378248297224606, 0.0006304138287076766, 0.0012608276574153532, 0.9996050486369507, 0.0003937424774147307, 0.8910392263895357, 0.0027561973419031154, 0.10552298394714785, 0.9759218951080438, 0.0029395237804459152, 0.020576666463121406, 0.9988909627534919, 0.9978422079436845, 0.3440215045578236, 0.1247490120361437, 0.0010991102382039092, 0.0002747775595509773, 0.5286720245760803, 0.0010991102382039092, 0.9993639829505134, 0.00010546299200118808, 0.2698270650350397, 0.030742462168346325, 0.24667793829077891, 0.38246154049230857, 0.07013288968079007, 0.10178881253257702, 0.5469500150454845, 0.15993672075201149, 0.1840351321996534, 0.000719355565601251, 0.006354307496144384, 0.9974305819259125, 0.0019405264239803746, 0.9988085237925136, 0.9986595511391658, 0.0008550167389890118, 0.9988513913489275, 0.0010577317945805798, 0.09268142174887493, 0.6042465241470768, 0.17506490774787486, 0.08086908368284185, 0.02922796470185108, 0.017869947330665426, 0.19351999419548815, 0.46917580373274664, 0.2131524573747406, 0.07312090877986872, 0.026243394657980278, 0.0246407446025311, 0.9985021957217011, 0.818560197694344, 0.17340477836166973, 0.0033616435223587024, 0.004482191363144936, 0.9743903566978012, 0.0249515587072976, 0.998530752686173, 0.9992146527146278, 0.9994013562739876, 0.9966358059855613, 0.002615842010460791, 0.9928593105167737, 0.0010049183304825643, 0.005024591652412822, 0.006047344971746285, 0.010078908286243807, 0.9635436321649079, 0.020157816572487615, 0.9982716743558422, 0.0015509140461250786, 0.12805212882237213, 0.06031799118273899, 0.3490532932378174, 0.4625203340282978, 0.9982901664682149, 0.9987883532571984, 0.0034396414221263137, 0.7601607542899153, 0.23561543741565247, 0.00074709861776578, 0.998870851952848, 0.9984354433793896, 0.9997505452697268, 0.9985826806973898, 0.9982599882472848, 0.9988301582260706, 0.9982526282056519, 0.9988805512818593, 0.9989065068702243, 0.9977368384740393, 0.014201648250248802, 0.9849260757084316, 0.9995953731306827, 0.000672354288837411, 0.000672354288837411, 0.000672354288837411, 0.9971014103458805, 0.021411107558979788, 0.9782199766008891, 0.9989415283932547, 0.9957304833803634, 0.003666165255450528, 0.997691811711551, 0.9994771471150627, 0.9995322374355498, 0.0013242848682419302, 0.36894576429220177, 0.21903671720721526, 0.405496026655679, 0.005297139472967721, 0.9972324882764112, 0.814132447568219, 0.0018509019593951064, 0.18323929398011554, 0.0005288291312557447, 0.9990441547457539, 0.12134341792771679, 0.02577857133517504, 0.12125135160151974, 0.05560806102302044, 0.3566649476873861, 0.31937808557757935, 0.9992436370185509, 0.9985569523274445, 0.9985901825227101, 0.9995336480358151, 0.9963902532161709, 0.003369028751364906, 0.14448118201449284, 0.1125516390278646, 0.5918939031146212, 0.0007982385746657063, 0.15006885203715278, 0.9981012694549047, 0.9993523939528471, 0.9993258949000923, 0.9993988727832607, 0.9142554242034352, 0.0004086971051423492, 0.03841752788338083, 0.0004086971051423492, 0.04700016709137016, 0.9995624816842699, 0.846726553934907, 0.025292842833533526, 0.1280206968035774, 0.007716367735413944, 0.11671006199813591, 0.8753254649860193, 0.0014751544584246103, 0.997941991124249, 0.9978357954588778, 0.9995048549366785, 0.00010717401403996124, 0.00010717401403996124, 0.00021434802807992248, 0.9992666545276727, 0.999858994036321, 0.7166208065071884, 0.00730385769078279, 0.2761420042322878, 0.9991847719303474, 0.9986726663770024, 0.9998827504549108, 0.3317226358006258, 0.11171353407385498, 0.09732209651200571, 0.008634862537109564, 0.00017989296952311592, 0.4506318886554054, 0.997795604431761, 0.9968050250526145, 0.0019169327404857971, 0.0032791023088217766, 0.4921932565541487, 0.4994072816335566, 0.0016395511544108883, 0.0027872369624985104, 0.0006558204617643554, 0.00011269769990610918, 0.9998539935670006, 0.22316566172078683, 0.007116484715544306, 0.02299171985022007, 0.5309992441598445, 0.21568422907111207, 0.000992206226418674, 0.19513389119567254, 0.5612579887441632, 0.14188549037787038, 0.1005435642770923, 0.004921780632187637, 0.18491832946647838, 0.8092813582354244, 0.9992404982368349, 0.32866623134955586, 0.36052878249464515, 0.05810229914692759, 0.09679253982310748, 0.1558319728272436, 0.00013387626531550137, 0.9992351272211362, 0.2888756602033527, 0.0010039119381523988, 0.0013803789149595483, 0.5535319448987788, 0.1551043944445456, 0.8922600919009965, 0.10713404624585908, 0.00031417608869753396, 0.9979291268678322, 0.9979609954139097, 0.9982648930852032, 0.9977736506892043, 0.5393715025458475, 0.003700288758385556, 0.00021766404461091504, 0.00021766404461091504, 0.09141889873658432, 0.3654579309017264, 0.9947884977349216, 0.004105041943885509, 0.8381020218770937, 0.0006287336998327785, 0.16032709345735852, 0.0014807668266929152, 0.9929599263566491, 0.005499991070573685, 0.7556797901657479, 0.1028706860762857, 0.007267356629018965, 0.08094331693700434, 0.0007517955133467895, 0.0525003866820508, 0.9991785812651741, 0.0011321091154835772, 0.9985202398565151, 0.0011086510089118554, 0.9988945590295817, 0.004694604052045362, 0.9936911910162682, 0.000782434008674227, 0.8280023740805721, 0.17152760677807946, 0.9994623361584603, 0.04390593444358777, 0.45768610450285435, 0.1915895321174739, 0.001182651432823913, 0.3030544296611277, 0.002365302865647826, 0.9991040439850518, 0.9982568253306241, 0.0007893537397732278, 0.7834335867249286, 0.21549357095809119, 0.0003946768698866139, 0.999125710646762, 0.21388470779725416, 0.3787221129971164, 0.12406082421693249, 0.04212297752481894, 0.17195407263556226, 0.06924325072572976, 0.004262390952374502, 0.3780740774756183, 0.6159154926181154, 0.00042623909523745017, 0.0017049563809498007, 0.9984510698251898, 0.00033481978797387347, 0.9994370671020122, 0.0720819421767277, 0.2691059174597834, 0.09822931335848185, 0.29242654581107763, 0.26769254604455345, 0.00028267428304599095, 0.9986620445757086, 0.17768380911280449, 0.8221328577084684, 0.9990648669264578, 0.0003423473277528055, 0.9993118497104392, 0.9984818314871318, 0.9996404494113074, 0.9992201655269967, 0.9978604880672927, 0.00023482032332158124, 0.9996301163799713, 0.9991507920750279, 0.08055099000540349, 0.6004923657254132, 0.006340748484390362, 0.31234057349034006, 0.9989005520836046, 0.4395713018564601, 0.3013124164761316, 0.2078809369257671, 0.049753494382707285, 0.0006568118070324394, 0.0006568118070324394, 0.41215075849158855, 0.3534373521941903, 0.1900231918098061, 0.010412229688208553, 0.033984360787902915, 0.862680557368895, 0.13684941357035058, 0.9991965278409709, 0.8804112498771117, 0.11780533720543553, 0.0016324065201676979, 0.9988287520835374, 0.9990866972081845, 0.9991273942104972, 0.6338009252171006, 0.23332016765249658, 0.130361771523962, 0.0019573839568162465, 0.0016498056406193042, 0.23867188267625933, 0.3250117112020029, 0.0032996112812386084, 0.431424175021948, 0.9971590723299614, 0.9994561297878011, 0.21483480146445885, 0.4674943723467108, 0.1715711763133883, 0.1416574697803624, 0.0007416621454469235, 0.0034610900120856432, 0.9590851220948652, 0.024317574089626398, 0.01653595038094595, 0.001880155958888414, 0.9974227361903036, 0.9779066013282781, 0.022013481934662536, 0.9995474607875048, 0.12150314038038763, 0.0022500581551923634, 0.8760226417548935, 0.004493983088692441, 0.994668256963927, 0.11247137692133843, 0.8874649868525967, 0.9976972360549085, 0.998453927620819, 0.9983462328459309, 0.9988141783815816, 0.0013913121623356777, 0.9975708203946808, 0.9996051766582743, 0.9982205279081549, 0.00987314004187202, 0.6357443653048896, 0.08842899341850592, 0.2652869802555178, 0.00042926695834226176, 0.7450949092109886, 0.2546630891459829, 0.9991220509611755, 0.9995087607096637, 0.8140859249246748, 0.00037802921983964464, 0.12096935034868629, 0.045741535600597, 0.01379806652414703, 0.005103394467835203, 0.9967395050105708, 0.00184923841374874, 0.9983380192436395, 0.9998270738659985, 0.9994099482255311, 0.9981711068807557, 0.9990444591071197, 0.9975651332465578, 0.48225192031988817, 0.45532857713325187, 0.05733674937894768, 0.004985804293821537, 0.05742161473326213, 0.10214604073012636, 0.2057134085576107, 0.164115902174934, 0.0019898579363011627, 0.46865892156883576, 0.6718111454137822, 0.17812201178593587, 0.14857773579259553, 0.001070444782367403, 0.0004281779129469612, 0.0002140889564734806, 0.9631105748738827, 0.0009359675168842397, 0.03556676564160111, 0.9990697961460872, 0.9992295501151592, 0.0005520086401699918, 0.2778443488855625, 0.008648135362663203, 0.7001309586156061, 0.012880201603966473, 0.07073896476125742, 0.9290617500575046, 0.9991695865713599, 0.09816335249333497, 0.1348454473724233, 0.14380070058234157, 0.6232511801287355, 0.77022001566941, 0.22922801907135526, 0.0003467897414090095, 0.9995849305085078, 0.9997286711539286, 0.30702167462014307, 0.6571288246776565, 0.03555304966160636, 0.9615249380289159, 0.03720531803739457, 0.9977061901106586, 0.9490664468102822, 0.006957965152568051, 0.04383518046117872, 0.9987868787301508, 0.9783263058203667, 0.021706130398550134, 0.9978333301429911, 0.9997687187653123, 0.33930112894091535, 0.5354857102682057, 0.09631639189763669, 0.0008357170663569344, 0.019221492526209492, 0.008775029196747811, 0.9990768423779978, 0.03705892131090891, 0.8193026387114456, 0.1436569768191218, 0.2607952138598637, 0.7387212983153826, 0.9984950587085809, 0.9984586882156914, 0.7256799113146761, 0.12194046167941763, 0.15235104136474917, 0.9991595453251808, 0.9994590031406033, 0.998302052277058, 0.0012502217310921204, 0.99945823331422, 0.997970713458852, 0.08218136075782531, 0.000595517106940763, 0.18639685447245885, 0.731295007323257, 0.9979177715082103, 0.0016494508619970417, 0.21146479165486623, 2.3582557338559858e-05, 0.7877517453372535, 0.0007546418348339154, 0.00042555344623314197, 0.9991994917554173, 0.001046334952717736, 0.002751473394183676, 0.9960721218408877, 3.875314639695318e-05, 0.00011625943919085954, 0.9994291918218378, 0.584251111303876, 0.4149891153654606, 0.0007508850097083124, 0.13084314610440467, 0.0002894759869566475, 0.0014473799347832375, 0.6440840709785407, 0.22318598594357522, 0.19430058553584348, 0.8055654562666144, 0.010464144917177582, 0.9871176705204185, 0.9997953706233427, 0.9967337827093921, 0.002231077297614756, 0.000557769324403689, 0.6678190330065062, 0.3241236172247409, 0.007133646203027593, 0.000731656020823343, 0.998818051267242, 0.9971120658338511, 0.6401879758156112, 0.015752010887404827, 0.00013126675739504024, 0.3439189043750054, 0.00013126675739504024, 0.5104390236308248, 0.4603356286814675, 0.0018810148274502757, 0.003420026959000501, 0.02188817253760321, 0.002052016175400301, 0.9985279272333508, 0.6102981321229216, 0.2766758108724076, 0.008606064269360131, 0.10400520223396924, 0.00018310775041191767, 0.9992744057937352, 0.9983011850989797, 0.9991128603189323, 0.9921229854671609, 0.006239767204195981, 0.9977132934224886, 0.9712944066433363, 0.028413790644912663, 0.999555124204991, 0.9989160454530565, 0.9987904242307459, 0.999339760625814, 0.17517727207191064, 0.8243291699169841, 0.9997872810363883], \"Term\": [\"     \", \"     \", \"     \", \"     \", \"     \", \"actuel\", \"actuel\", \"administrer\", \"aide\", \"aide\", \"air\", \"air\", \"air\", \"aller\", \"aller\", \"aller\", \"aller\", \"aller\", \"an\", \"an\", \"an\", \"an\", \"an\", \"an\", \"anglais\", \"annoncer\", \"annoncer\", \"annoncer\", \"annoncer\", \"ann\\u00e9e\", \"ann\\u00e9e\", \"ann\\u00e9e\", \"ann\\u00e9e\", \"anti\", \"anti\", \"anti\", \"anti\", \"anticovid\", \"anticovid\", \"art\", \"astrazeneca\", \"attraper\", \"baisse\", \"baisse\", \"bar\", \"barre\", \"barri\\u00e8re\", \"barri\\u00e8re\", \"ben\", \"ben\", \"bfmtv\", \"bfmtv\", \"bien\", \"bien\", \"bien\", \"bien\", \"bien\", \"bilan\", \"bon\", \"bon\", \"bon\", \"bon\", \"bon\", \"bretagne\", \"brevet\", \"br\\u00e9sil\", \"c\", \"c\", \"campagne\", \"campagne\", \"campagne\", \"cas\", \"cas\", \"cas\", \"cas\", \"cdanslair\", \"centre\", \"centre\", \"certificat\", \"certificat\", \"chiffre\", \"chiffre\", \"chiffre\", \"chiffre\", \"choper\", \"classe\", \"classe\", \"classique\", \"classique\", \"commerce\", \"commerce\", \"commerce\", \"communication\", \"confinement\", \"confinement\", \"confinement\", \"confinement\", \"confinement\", \"confinemer\", \"conf\\u00e9rence\", \"conseil\", \"contamination\", \"contamination\", \"contamination\", \"contamination\", \"contamination\", \"contaminer\", \"contaminer\", \"contracter\", \"contracter\", \"contre\", \"contre\", \"contre\", \"contre\", \"contre\", \"contre\", \"corona\", \"coronainfoch\", \"coronavirus\", \"coronavirus\", \"couvrefeu\", \"couvrefeu\", \"couvrefeu\", \"couvrefeu\", \"couvrir\", \"couvrir\", \"covid\", \"covid\", \"covid\", \"covid\", \"covid\", \"covid\", \"covidle\", \"covidlong\", \"covidlong\", \"covid\\u30fc\", \"covid\\u30fc\", \"crise\", \"crise\", \"critique\", \"daller\", \"delta\", \"dernier\", \"dernier\", \"dernier\", \"dernier\", \"dernier\", \"dernier\", \"dette\", \"dette\", \"devoir\", \"devoir\", \"devoir\", \"devoir\", \"devoir\", \"devoir\", \"dictature\", \"dictature\", \"dincidence\", \"directan\", \"directeur\", \"dirigeant\", \"dirigeant\", \"dose\", \"d\\u00e9bat\", \"d\\u00e9bat\", \"d\\u00e9confinemer\", \"d\\u00e9c\\u00e8s\", \"d\\u00e9c\\u00e8s\", \"d\\u00e9mocratie\", \"d\\u00e9passer\", \"d\\u00e9passer\", \"d\\u00e9pistage\", \"d\\u00e9placement\", \"d\\u00e9tecter\", \"ecole\", \"emmanuel\", \"emploi\", \"emp\\u00eache\", \"enfant\", \"enfant\", \"enfant\", \"enfant\", \"engagement\", \"enjeu\", \"enqu\\u00eate\", \"entreprise\", \"entreprise\", \"eric\", \"essayer\", \"etat\", \"etudiant\", \"euro\", \"euro\", \"europ\\u00e9en\", \"europ\\u00e9en\", \"existe\", \"ext\\u00e9rieur\", \"face\", \"face\", \"face\", \"face\", \"face\", \"face\", \"faire\", \"faire\", \"faire\", \"faire\", \"faire\", \"falloir\", \"falloir\", \"falloir\", \"falloir\", \"falloir\", \"femme\", \"fermer\", \"fermer\", \"fermer\", \"fermer\", \"fermeture\", \"fermeture\", \"fermeture\", \"festival\", \"flamb\\u00e9e\", \"fois\", \"fois\", \"fois\", \"fois\", \"fois\", \"fois\", \"forme\", \"france\", \"france\", \"france\", \"france\", \"france\", \"france\", \"fran\\u00e7ais\", \"fran\\u00e7ais\", \"fran\\u00e7ais\", \"fran\\u00e7ais\", \"fran\\u00e7ais\", \"fran\\u00e7ais\", \"genre\", \"genre\", \"gen\\u00e8ve\", \"geste\", \"geste\", \"gestion\", \"gestion\", \"gouvernement\", \"gouvernement\", \"gouvernement\", \"gouvernement\", \"gouvernement\", \"gouvernement\", \"grand\", \"grand\", \"grand\", \"grand\", \"grand\", \"grand\", \"gratuit\", \"grave\", \"grave\", \"grave\", \"grave\", \"grippe\", \"grippe\", \"guadeloupe\", \"guerre\", \"gu\\u00e9rison\", \"g\\u00e9n\\u00e9ration\", \"g\\u00e9n\\u00e9ration\", \"g\\u00e9rer\", \"g\\u00e9rer\", \"g\\u00e9rer\", \"habitant\", \"habitant\", \"habitant\", \"habitant\", \"hausse\", \"hausse\", \"heure\", \"heure\", \"heure\", \"heure\", \"histoire\", \"hospitalier\", \"hospitalisation\", \"hospitalisation\", \"hospitalisation\", \"hospitaliser\", \"hospitaliser\", \"humour\", \"h\\u00f4pital\", \"immunitaire\", \"immunit\\u00e9\", \"impact\", \"in\", \"incidence\", \"inde\", \"indien\", \"infection\", \"infection\", \"infirmier\", \"information\", \"information\", \"information\", \"information\", \"injection\", \"injection\", \"intensif\", \"israel\", \"israel\", \"isra\\u00e9lien\", \"isra\\u00ebl\", \"jai\", \"janvier\", \"janvier\", \"janvier\", \"janvier\", \"janvier\", \"jer\", \"jeune\", \"jeune\", \"jeune\", \"jeune\", \"johnson\", \"jour\", \"jour\", \"jour\", \"jour\", \"jour\", \"jour\", \"juin\", \"lci\", \"lefficacit\\u00e9\", \"lh\\u00f4pital\", \"libert\\u00e9\", \"libert\\u00e9\", \"lieu\", \"lieu\", \"lieu\", \"lieu\", \"lieu\", \"limpact\", \"lit\", \"livre\", \"loi\", \"long\", \"long\", \"long\", \"long\", \"long\", \"lrem\", \"lundi\", \"lundi\", \"lundi\", \"lutte\", \"lutte\", \"lutte\", \"lutter\", \"lutter\", \"lyc\\u00e9e\", \"macron\", \"macron\", \"macron\", \"macron\", \"maire\", \"malade\", \"maladie\", \"maladie\", \"maladie\", \"manqu\", \"mascarade\", \"masqu\", \"masque\", \"masque\", \"masque\", \"masque\", \"masque\", \"masque\", \"merd\", \"merde\", \"merde\", \"mesure\", \"mesure\", \"mesure\", \"mesure\", \"mesure\", \"mesure\", \"mettre\", \"mettre\", \"million\", \"million\", \"million\", \"million\", \"million\", \"ministre\", \"ministre\", \"ministre\", \"ministre\", \"ministre\", \"minist\\u00e8re\", \"minist\\u00e8re\", \"minist\\u00e8re\", \"moderna\", \"monde\", \"monde\", \"monde\", \"monde\", \"monde\", \"monde\", \"moral\", \"mort\", \"mort\", \"mort\", \"mort\", \"mort\", \"mourir\", \"mourir\", \"mourir\", \"musique\", \"mus\\u00e9e\", \"mutation\", \"m\\u00e8re\", \"m\\u00e9decin\", \"m\\u00e9decin\", \"m\\u00e9decin\", \"m\\u00e9decin\", \"m\\u00e9decin\", \"m\\u00e9decin\", \"n\", \"n\", \"national\", \"national\", \"national\", \"nombre\", \"nombre\", \"nombre\", \"non\", \"non\", \"non\", \"non\", \"non\", \"non\", \"n\\u00e9gatif\", \"offrir\", \"offrir\", \"olivier\", \"olivier\", \"omicron\", \"omicron\", \"omicron\", \"oui\", \"oui\", \"pandemie\", \"pand\\u00e9mie\", \"pand\\u00e9mie\", \"pand\\u00e9mie\", \"pand\\u00e9mie\", \"pand\\u00e9mie\", \"pand\\u00e9mie\", \"parlement\", \"participer\", \"partir\", \"partir\", \"partir\", \"partir\", \"pasessentiel\", \"passer\", \"passer\", \"passer\", \"passer\", \"passer\", \"passer\", \"passsanitair\", \"passsanitair\", \"passsanitair\", \"passsanitair\", \"passsanitair\", \"pasteur\", \"patient\", \"patient\", \"pays\", \"pays\", \"pays\", \"pays\", \"pays\", \"pays\", \"pcr\", \"personnel\", \"personnel\", \"peuple\", \"pfizer\", \"pfizer\", \"pfizerbiontech\", \"place\", \"podcast\", \"policier\", \"politique\", \"politique\", \"port\", \"positif\", \"positif\", \"positif\", \"positif\", \"positivit\\u00e9\", \"pouvoir\", \"pouvoir\", \"pouvoir\", \"pouvoir\", \"pouvoir\", \"pouvoir\", \"prendre\", \"prendre\", \"prendre\", \"prendre\", \"prendre\", \"projet\", \"projet\", \"protocole\", \"prot\\u00e9ger\", \"prot\\u00e9ger\", \"prot\\u00e9ger\", \"prouver\", \"pr\\u00e9fet\", \"pr\\u00e9senter\", \"pr\\u00e9sident\", \"pr\\u00e9sident\", \"pr\\u00e9sident\", \"pr\\u00e9sident\", \"public\", \"public\", \"public\", \"public\", \"public\", \"putain\", \"quarantaine\", \"question\", \"question\", \"question\", \"question\", \"question\", \"question\", \"quon\", \"quon\", \"quon\", \"qu\\u00e9bec\", \"qu\\u00e9bec\", \"radio\", \"radio\", \"raoult\", \"rappel\", \"rappel\", \"rappel\", \"rdc\", \"rdc\", \"recevoir\", \"recevoir\", \"recommande\", \"reconfinement\", \"reconfinemer\", \"record\", \"reporter\", \"reporter\", \"restaurant\", \"restaurer\", \"restriction\", \"restriction\", \"restriction\", \"restriction\", \"restriction\", \"retrouver\", \"retrouver\", \"revue\", \"riche\", \"risque\", \"risque\", \"risque\", \"risque\", \"risque\", \"risque\", \"risquer\", \"risquer\", \"rouvrir\", \"r\\u00e9animation\", \"r\\u00e9ouverture\", \"r\\u00e9union\", \"salle\", \"sang\", \"sanitaire\", \"sanitaire\", \"sanitaire\", \"sanitaire\", \"sant\\u00e9\", \"sant\\u00e9\", \"sant\\u00e9\", \"sant\\u00e9\", \"sant\\u00e9\", \"sant\\u00e9\", \"savoir\", \"savoir\", \"savoir\", \"savoir\", \"savoir\", \"savoir\", \"science\", \"science\", \"science\", \"scolaire\", \"secteur\", \"semaine\", \"semaine\", \"semaine\", \"semaine\", \"semaine\", \"service\", \"service\", \"sida\", \"situation\", \"situation\", \"situation\", \"situation\", \"social\", \"social\", \"social\", \"soignant\", \"soin\", \"sortir\", \"sortir\", \"sortir\", \"souffrir\", \"souffrir\", \"statistique\", \"sympt\\u00f4me\", \"sympt\\u00f4me\", \"sympt\\u00f4me\", \"s\\u00e9n\\u00e9gal\", \"s\\u00fbr\", \"s\\u00fbr\", \"tal\", \"taux\", \"temps\", \"temps\", \"temps\", \"temps\", \"temps\", \"temps\", \"terme\", \"test\", \"test\", \"test\", \"tester\", \"tester\", \"the\", \"tirer\", \"traitement\", \"traitement\", \"traitement\", \"transmettre\", \"travail\", \"tunisi\", \"tunisi\", \"t\\u00e9l\\u00e9travail\", \"universit\\u00e9\", \"urgence\", \"urgence\", \"urgence\", \"urgence\", \"vacance\", \"vacance\", \"vaccin\", \"vaccin\", \"vaccin\", \"vaccin\", \"vaccinal\", \"vaccinal\", \"vaccination\", \"vaccination\", \"vaccination\", \"vaccination\", \"vaccination\", \"vaccinationcovid\", \"vacciner\", \"vacciner\", \"vacciner\", \"vague\", \"vague\", \"vague\", \"vague\", \"vague\", \"variant\", \"variant\", \"variantdelta\", \"variantdelta\", \"varier\", \"vendredi\", \"vendredi\", \"vendredi\", \"vie\", \"vie\", \"vie\", \"vie\", \"vieux\", \"vigueur\", \"virus\", \"virus\", \"virus\", \"virus\", \"virus\", \"voir\", \"voir\", \"voir\", \"voir\", \"voir\", \"voir\", \"voter\", \"vouloir\", \"vouloir\", \"vouloir\", \"vouloir\", \"vouloir\", \"voyage\", \"voyageur\", \"weekend\", \"wuhan\", \"wuhan\", \"z\\u00e9ro\", \"\\u00e9cole\", \"\\u00e9cole\", \"\\u00e9lev\\u00e9\", \"\\u00e9l\\u00e8ve\", \"\\u00e9l\\u00e9ment\", \"\\u00e9mission\", \"\\u00e9tudiant\", \"\\u00e9tudiant\", \"\\u2066\"]}, \"R\": 30, \"lambda.step\": 0.01, \"plot.opts\": {\"xlab\": \"PC1\", \"ylab\": \"PC2\"}, \"topic.order\": [6, 3, 1, 4, 5, 2]};\n",
       "\n",
       "function LDAvis_load_lib(url, callback){\n",
       "  var s = document.createElement('script');\n",
       "  s.src = url;\n",
       "  s.async = true;\n",
       "  s.onreadystatechange = s.onload = callback;\n",
       "  s.onerror = function(){console.warn(\"failed to load library \" + url);};\n",
       "  document.getElementsByTagName(\"head\")[0].appendChild(s);\n",
       "}\n",
       "\n",
       "if(typeof(LDAvis) !== \"undefined\"){\n",
       "   // already loaded: just create the visualization\n",
       "   !function(LDAvis){\n",
       "       new LDAvis(\"#\" + \"ldavis_el660012828358868166514918599\", ldavis_el660012828358868166514918599_data);\n",
       "   }(LDAvis);\n",
       "}else if(typeof define === \"function\" && define.amd){\n",
       "   // require.js is available: use it to load d3/LDAvis\n",
       "   require.config({paths: {d3: \"https://d3js.org/d3.v5\"}});\n",
       "   require([\"d3\"], function(d3){\n",
       "      window.d3 = d3;\n",
       "      LDAvis_load_lib(\"https://cdn.jsdelivr.net/gh/bmabey/pyLDAvis@3.2.2/pyLDAvis/js/ldavis.v3.0.0.js\", function(){\n",
       "        new LDAvis(\"#\" + \"ldavis_el660012828358868166514918599\", ldavis_el660012828358868166514918599_data);\n",
       "      });\n",
       "    });\n",
       "}else{\n",
       "    // require.js not available: dynamically load d3 & LDAvis\n",
       "    LDAvis_load_lib(\"https://d3js.org/d3.v5.js\", function(){\n",
       "         LDAvis_load_lib(\"https://cdn.jsdelivr.net/gh/bmabey/pyLDAvis@3.2.2/pyLDAvis/js/ldavis.v3.0.0.js\", function(){\n",
       "                 new LDAvis(\"#\" + \"ldavis_el660012828358868166514918599\", ldavis_el660012828358868166514918599_data);\n",
       "            })\n",
       "         });\n",
       "}\n",
       "</script>"
      ],
      "text/plain": [
       "PreparedData(topic_coordinates=              x         y  topics  cluster       Freq\n",
       "topic                                                \n",
       "5     -0.167975 -0.114335       1        1  21.848835\n",
       "2     -0.110399 -0.145639       2        1  21.337091\n",
       "0     -0.000432 -0.023930       3        1  16.801864\n",
       "3     -0.088891  0.208918       4        1  15.741738\n",
       "4      0.074588  0.177109       5        1  14.286138\n",
       "1      0.293109 -0.102124       6        1   9.984334, topic_info=            Term          Freq         Total Category  logprob  loglift\n",
       "38        vaccin  42404.000000  42404.000000  Default  30.0000  30.0000\n",
       "71   vaccination  25804.000000  25804.000000  Default  29.0000  29.0000\n",
       "23        contre  19992.000000  19992.000000  Default  28.0000  28.0000\n",
       "119          cas  14560.000000  14560.000000  Default  27.0000  27.0000\n",
       "100       mettre   8873.000000   8873.000000  Default  26.0000  26.0000\n",
       "..           ...           ...           ...      ...      ...      ...\n",
       "600        heure   1871.110067   4045.227555   Topic6  -4.6915   1.5331\n",
       "217       public   1569.235292   3636.792027   Topic6  -4.8674   1.4636\n",
       "428      médecin   1679.105623   4594.236048   Topic6  -4.7997   1.2976\n",
       "82        france   1329.704701  18963.998290   Topic6  -5.0330  -0.3534\n",
       "361         mort   1235.967542   7968.826444   Topic6  -5.1061   0.4405\n",
       "\n",
       "[394 rows x 6 columns], token_table=      Topic      Freq      Term\n",
       "term                           \n",
       "124       2  0.066895          \n",
       "124       3  0.114677          \n",
       "124       4  0.181349          \n",
       "124       5  0.632945          \n",
       "124       6  0.004445          \n",
       "...     ...       ...       ...\n",
       "289       5  0.998790   élément\n",
       "552       2  0.999340  émission\n",
       "673       2  0.175177  étudiant\n",
       "673       3  0.824329  étudiant\n",
       "1125      3  0.999787         ⁦\n",
       "\n",
       "[739 rows x 3 columns], R=30, lambda_step=0.01, plot_opts={'xlab': 'PC1', 'ylab': 'PC2'}, topic_order=[6, 3, 1, 4, 5, 2])"
      ]
     },
     "execution_count": 56,
     "metadata": {},
     "output_type": "execute_result"
    }
   ],
   "source": [
    "#Creating Topic Distance Visualization \n",
    "pyLDAvis.enable_notebook()\n",
    "pyLDAvis.gensim.prepare(base_model, corpus, id2word)"
   ]
  },
  {
   "cell_type": "markdown",
   "metadata": {},
   "source": [
    "#### **<span style=\"color:#8EA3EB\">4.2 Visualisation de l'évolution de la quantité de tweet</span>**"
   ]
  },
  {
   "cell_type": "markdown",
   "metadata": {},
   "source": [
    "##### **<span style=\"color:#6DEFA2\">4.2.1. Préparation de la viz</span>**"
   ]
  },
  {
   "cell_type": "code",
   "execution_count": 79,
   "metadata": {},
   "outputs": [
    {
     "name": "stderr",
     "output_type": "stream",
     "text": [
      "C:\\Users\\Bastien\\anaconda3\\lib\\site-packages\\ipykernel\\ipkernel.py:287: DeprecationWarning: `should_run_async` will not call `transform_cell` automatically in the future. Please pass the result to `transformed_cell` argument and any exception that happen during thetransform in `preprocessing_exc_tuple` in IPython 7.17 and above.\n",
      "  and should_run_async(code)\n"
     ]
    }
   ],
   "source": [
    "# je crée une copie de mon Df\n",
    "tweet_ts = df_tweet.copy()"
   ]
  },
  {
   "cell_type": "code",
   "execution_count": 80,
   "metadata": {},
   "outputs": [
    {
     "name": "stderr",
     "output_type": "stream",
     "text": [
      "C:\\Users\\Bastien\\anaconda3\\lib\\site-packages\\ipykernel\\ipkernel.py:287: DeprecationWarning: `should_run_async` will not call `transform_cell` automatically in the future. Please pass the result to `transformed_cell` argument and any exception that happen during thetransform in `preprocessing_exc_tuple` in IPython 7.17 and above.\n",
      "  and should_run_async(code)\n"
     ]
    }
   ],
   "source": [
    "# j'initialise des reglages pour une analyse de timeserie\n",
    "tweet_ts['Datetime'] = pd.to_datetime(tweet_ts['Datetime'])\n",
    "tweet_ts = pd.DataFrame(tweet_ts, index=tweet_ts.set_index('Datetime',inplace = True))\n",
    "\n",
    "# je groupe mes tweets par semaine\n",
    "tweet_ts_count = tweet_ts.groupby([pd.Grouper(freq='W')]).count()"
   ]
  },
  {
   "cell_type": "markdown",
   "metadata": {},
   "source": [
    "##### **<span style=\"color:#6DEFA2\">4.2.2. Visualisation</span>**"
   ]
  },
  {
   "cell_type": "code",
   "execution_count": 81,
   "metadata": {},
   "outputs": [
    {
     "name": "stderr",
     "output_type": "stream",
     "text": [
      "C:\\Users\\Bastien\\anaconda3\\lib\\site-packages\\ipykernel\\ipkernel.py:287: DeprecationWarning: `should_run_async` will not call `transform_cell` automatically in the future. Please pass the result to `transformed_cell` argument and any exception that happen during thetransform in `preprocessing_exc_tuple` in IPython 7.17 and above.\n",
      "  and should_run_async(code)\n"
     ]
    },
    {
     "data": {
      "text/plain": [
       "Text(0, 0.5, 'Nombre tweet')"
      ]
     },
     "execution_count": 81,
     "metadata": {},
     "output_type": "execute_result"
    },
    {
     "data": {
      "image/png": "[encoded data removed]",
      "text/plain": [
       "<Figure size 432x288 with 1 Axes>"
      ]
     },
     "metadata": {},
     "output_type": "display_data"
    }
   ],
   "source": [
    "sns.set_theme(style=\"darkgrid\")\n",
    "\n",
    "# création d'un graphique du nombre de tweet par jour pour voir l'évolution\n",
    "p = sns.lineplot(x=\"Datetime\", y=\"Text\", data=tweet_ts_count)\n",
    "p.set_xlabel(\"Jours\", fontsize = 20)\n",
    "p.set_ylabel(\"Nombre tweet\", fontsize = 20)"
   ]
  },
  {
   "cell_type": "markdown",
   "metadata": {},
   "source": [
    "`` il semble avoir des variations sur la quantité de tweet selon la période``\n",
    "\n",
    "Nous allons créer un graphique interactif, regroupant plusieurs groupe de Twittos ainsi que des annonces et moments importants de l'année 2021.\n",
    "\n",
    "Nous etudierons si ces variations ont un lien avec les annonces"
   ]
  },
  {
   "cell_type": "markdown",
   "metadata": {},
   "source": [
    "#### **<span style=\"color:#8EA3EB\">4.3 Visualisation de l'évolution par groupe de Twittos</span>**"
   ]
  },
  {
   "cell_type": "markdown",
   "metadata": {},
   "source": [
    "##### **<span style=\"color:#6DEFA2\">4.3.1. Préparation de la viz</span>**"
   ]
  },
  {
   "cell_type": "code",
   "execution_count": 82,
   "metadata": {},
   "outputs": [
    {
     "name": "stderr",
     "output_type": "stream",
     "text": [
      "C:\\Users\\Bastien\\anaconda3\\lib\\site-packages\\ipykernel\\ipkernel.py:287: DeprecationWarning: `should_run_async` will not call `transform_cell` automatically in the future. Please pass the result to `transformed_cell` argument and any exception that happen during thetransform in `preprocessing_exc_tuple` in IPython 7.17 and above.\n",
      "  and should_run_async(code)\n"
     ]
    }
   ],
   "source": [
    "# création de Dataframe pour les listes que nous avons créées précédemment\n",
    "cols_sup = ['Unnamed: 0']\n",
    "\n",
    "df_tweets_base = pd.read_csv(r'Tweets_scrapé_base.csv', header=0)\n",
    "df_tweets_base = pd.DataFrame(df_tweets_base)\n",
    "df_tweets_base = df_tweets_base.drop(columns=cols_sup)\n",
    "\n",
    "df_tweets_gouv = pd.read_csv(r'Tweets_scrapé_gouv.csv', header=0)\n",
    "df_tweets_gouv = pd.DataFrame(df_tweets_gouv)\n",
    "df_tweets_gouv = df_tweets_gouv.drop(columns=cols_sup)\n",
    "\n",
    "df_tweets_influence = pd.read_csv(r'Tweets_scrapé_influence.csv', header=0)\n",
    "df_tweets_influence = pd.DataFrame(df_tweets_influence)\n",
    "df_tweets_influence = df_tweets_influence.drop(columns=cols_sup)\n",
    "\n",
    "df_tweets_like = pd.read_csv(r'Tweets_scrapé_like.csv', header=0)\n",
    "df_tweets_like = pd.DataFrame(df_tweets_like)\n",
    "df_tweets_like = df_tweets_like.drop(columns=cols_sup)"
   ]
  },
  {
   "cell_type": "code",
   "execution_count": 83,
   "metadata": {},
   "outputs": [
    {
     "name": "stderr",
     "output_type": "stream",
     "text": [
      "C:\\Users\\Bastien\\anaconda3\\lib\\site-packages\\ipykernel\\ipkernel.py:287: DeprecationWarning: `should_run_async` will not call `transform_cell` automatically in the future. Please pass the result to `transformed_cell` argument and any exception that happen during thetransform in `preprocessing_exc_tuple` in IPython 7.17 and above.\n",
      "  and should_run_async(code)\n"
     ]
    }
   ],
   "source": [
    "# création d'une copie de ces DataFrame pour l'utilisation dans le graphique\n",
    "df_fig_base = df_tweets_base.copy()\n",
    "df_fig_like = df_tweets_like.copy()\n",
    "df_fig_influence = df_tweets_influence.copy()\n",
    "df_fig_gouv = df_tweets_gouv.copy()"
   ]
  },
  {
   "cell_type": "code",
   "execution_count": 84,
   "metadata": {},
   "outputs": [
    {
     "name": "stderr",
     "output_type": "stream",
     "text": [
      "C:\\Users\\Bastien\\anaconda3\\lib\\site-packages\\ipykernel\\ipkernel.py:287: DeprecationWarning: `should_run_async` will not call `transform_cell` automatically in the future. Please pass the result to `transformed_cell` argument and any exception that happen during thetransform in `preprocessing_exc_tuple` in IPython 7.17 and above.\n",
      "  and should_run_async(code)\n"
     ]
    }
   ],
   "source": [
    "# groupement par semaine et initialisation des reglages de timeseries\n",
    "\n",
    "# TweetBase\n",
    "df_fig_base['Datetime'] = pd.to_datetime(df_fig_base['Datetime'])\n",
    "df_fig_base = pd.DataFrame(df_fig_base, index=df_fig_base.set_index('Datetime',inplace = True))\n",
    "df_fig_base_ok = df_fig_base.groupby([pd.Grouper(freq='W')]).count()\n",
    "# TweetGouv\n",
    "df_fig_gouv['Datetime'] = pd.to_datetime(df_fig_gouv['Datetime'])\n",
    "df_fig_gouv = pd.DataFrame(df_fig_gouv, index=df_fig_gouv.set_index('Datetime',inplace = True))\n",
    "df_fig_gouv_ok = df_fig_gouv.groupby([pd.Grouper(freq='W')]).count()\n",
    "# TweetBuzz\n",
    "df_fig_like['Datetime'] = pd.to_datetime(df_fig_like['Datetime'])\n",
    "df_fig_like = pd.DataFrame(df_fig_like, index=df_fig_like.set_index('Datetime',inplace = True))\n",
    "df_fig_like_ok = df_fig_like.groupby([pd.Grouper(freq='W')]).count()\n",
    "# TweetInfluence\n",
    "df_fig_influence['Datetime'] = pd.to_datetime(df_fig_influence['Datetime'])\n",
    "df_fig_influence = pd.DataFrame(df_fig_influence, index=df_fig_influence.set_index('Datetime',inplace = True))\n",
    "df_fig_influence_ok = df_fig_influence.groupby([pd.Grouper(freq='W')]).count()"
   ]
  },
  {
   "cell_type": "code",
   "execution_count": 85,
   "metadata": {},
   "outputs": [
    {
     "name": "stderr",
     "output_type": "stream",
     "text": [
      "C:\\Users\\Bastien\\anaconda3\\lib\\site-packages\\ipykernel\\ipkernel.py:287: DeprecationWarning: `should_run_async` will not call `transform_cell` automatically in the future. Please pass the result to `transformed_cell` argument and any exception that happen during thetransform in `preprocessing_exc_tuple` in IPython 7.17 and above.\n",
      "  and should_run_async(code)\n"
     ]
    }
   ],
   "source": [
    "# passage en string des counts de la colonne utilisées (utiles pour le graphique suivant)\n",
    "df_fig_gouv_ok['Text'] = df_fig_gouv_ok['Text'].astype(str)\n",
    "df_fig_base_ok['Text'] = df_fig_base_ok['Text'].astype(str)\n",
    "df_fig_like_ok['Text'] = df_fig_like_ok['Text'].astype(str)\n",
    "df_fig_influence_ok['Text'] = df_fig_influence_ok['Text'].astype(str)\n",
    "\n",
    "# passage en string de l'index datetime (utiles pour le graphique suivant)\n",
    "df_fig_gouv_ok.index = df_fig_gouv_ok.index.astype(str)\n",
    "df_fig_base_ok.index = df_fig_base_ok.index.astype(str)\n",
    "df_fig_like_ok.index = df_fig_like_ok.index.astype(str)\n",
    "df_fig_influence_ok.index = df_fig_influence_ok.index.astype(str)"
   ]
  },
  {
   "cell_type": "code",
   "execution_count": 86,
   "metadata": {},
   "outputs": [
    {
     "name": "stderr",
     "output_type": "stream",
     "text": [
      "C:\\Users\\Bastien\\anaconda3\\lib\\site-packages\\ipykernel\\ipkernel.py:287: DeprecationWarning: `should_run_async` will not call `transform_cell` automatically in the future. Please pass the result to `transformed_cell` argument and any exception that happen during thetransform in `preprocessing_exc_tuple` in IPython 7.17 and above.\n",
      "  and should_run_async(code)\n"
     ]
    }
   ],
   "source": [
    "# création de liste pour récupérer les valeurs (chiffre et date en string) de chaque groupe de Twittos\n",
    "base = list(df_fig_base_ok.Text)\n",
    "basedate = list(df_fig_base_ok.index)\n",
    "\n",
    "like = list(df_fig_like_ok.Text)\n",
    "likedate = list(df_fig_like_ok.index)\n",
    "\n",
    "influence = list(df_fig_influence_ok.Text)\n",
    "influencedate = list(df_fig_influence_ok.index)\n",
    "\n",
    "basegouv = list(df_fig_gouv_ok.index)\n",
    "gouv = list(df_fig_gouv_ok.Text)"
   ]
  },
  {
   "cell_type": "markdown",
   "metadata": {},
   "source": [
    "##### **<span style=\"color:#6DEFA2\">4.3.2. Visualisation</span>**"
   ]
  },
  {
   "cell_type": "code",
   "execution_count": 87,
   "metadata": {},
   "outputs": [
    {
     "name": "stderr",
     "output_type": "stream",
     "text": [
      "C:\\Users\\Bastien\\anaconda3\\lib\\site-packages\\ipykernel\\ipkernel.py:287: DeprecationWarning: `should_run_async` will not call `transform_cell` automatically in the future. Please pass the result to `transformed_cell` argument and any exception that happen during thetransform in `preprocessing_exc_tuple` in IPython 7.17 and above.\n",
      "  and should_run_async(code)\n"
     ]
    },
    {
     "data": {
      "application/vnd.plotly.v1+json": {
       "config": {
        "plotlyServerURL": "https://plot.ly"
       },
       "data": [
        {
         "hoverinfo": "name+x+text",
         "line": {
          "width": 0.5
         },
         "marker": {
          "size": 8
         },
         "mode": "lines+markers",
         "name": "TweetBase",
         "showlegend": false,
         "text": [
          "1990",
          "5349",
          "5911",
          "5723",
          "6525",
          "4966",
          "4433",
          "4266",
          "5052",
          "4813",
          "4429",
          "5919",
          "6106",
          "5499",
          "4168",
          "4549",
          "4259",
          "3891",
          "3359",
          "3023",
          "3028",
          "2759",
          "2626",
          "2623",
          "2417",
          "2501",
          "3213",
          "3967",
          "5074",
          "5371",
          "4379",
          "4331",
          "4153",
          "3622",
          "3809",
          "3313",
          "3002",
          "2814",
          "2380",
          "2469",
          "2201",
          "2097",
          "2325",
          "2254",
          "2482",
          "3288",
          "4131",
          "5556",
          "4421",
          "4233",
          "4934",
          "5622",
          "3826"
         ],
         "type": "scatter",
         "x": [
          "2021-01-03 00:00:00+00:00",
          "2021-01-10 00:00:00+00:00",
          "2021-01-17 00:00:00+00:00",
          "2021-01-24 00:00:00+00:00",
          "2021-01-31 00:00:00+00:00",
          "2021-02-07 00:00:00+00:00",
          "2021-02-14 00:00:00+00:00",
          "2021-02-21 00:00:00+00:00",
          "2021-02-28 00:00:00+00:00",
          "2021-03-07 00:00:00+00:00",
          "2021-03-14 00:00:00+00:00",
          "2021-03-21 00:00:00+00:00",
          "2021-03-28 00:00:00+00:00",
          "2021-04-04 00:00:00+00:00",
          "2021-04-11 00:00:00+00:00",
          "2021-04-18 00:00:00+00:00",
          "2021-04-25 00:00:00+00:00",
          "2021-05-02 00:00:00+00:00",
          "2021-05-09 00:00:00+00:00",
          "2021-05-16 00:00:00+00:00",
          "2021-05-23 00:00:00+00:00",
          "2021-05-30 00:00:00+00:00",
          "2021-06-06 00:00:00+00:00",
          "2021-06-13 00:00:00+00:00",
          "2021-06-20 00:00:00+00:00",
          "2021-06-27 00:00:00+00:00",
          "2021-07-04 00:00:00+00:00",
          "2021-07-11 00:00:00+00:00",
          "2021-07-18 00:00:00+00:00",
          "2021-07-25 00:00:00+00:00",
          "2021-08-01 00:00:00+00:00",
          "2021-08-08 00:00:00+00:00",
          "2021-08-15 00:00:00+00:00",
          "2021-08-22 00:00:00+00:00",
          "2021-08-29 00:00:00+00:00",
          "2021-09-05 00:00:00+00:00",
          "2021-09-12 00:00:00+00:00",
          "2021-09-19 00:00:00+00:00",
          "2021-09-26 00:00:00+00:00",
          "2021-10-03 00:00:00+00:00",
          "2021-10-10 00:00:00+00:00",
          "2021-10-17 00:00:00+00:00",
          "2021-10-24 00:00:00+00:00",
          "2021-10-31 00:00:00+00:00",
          "2021-11-07 00:00:00+00:00",
          "2021-11-14 00:00:00+00:00",
          "2021-11-21 00:00:00+00:00",
          "2021-11-28 00:00:00+00:00",
          "2021-12-05 00:00:00+00:00",
          "2021-12-12 00:00:00+00:00",
          "2021-12-19 00:00:00+00:00",
          "2021-12-26 00:00:00+00:00",
          "2022-01-02 00:00:00+00:00"
         ],
         "y": [
          "1990",
          "5349",
          "5911",
          "5723",
          "6525",
          "4966",
          "4433",
          "4266",
          "5052",
          "4813",
          "4429",
          "5919",
          "6106",
          "5499",
          "4168",
          "4549",
          "4259",
          "3891",
          "3359",
          "3023",
          "3028",
          "2759",
          "2626",
          "2623",
          "2417",
          "2501",
          "3213",
          "3967",
          "5074",
          "5371",
          "4379",
          "4331",
          "4153",
          "3622",
          "3809",
          "3313",
          "3002",
          "2814",
          "2380",
          "2469",
          "2201",
          "2097",
          "2325",
          "2254",
          "2482",
          "3288",
          "4131",
          "5556",
          "4421",
          "4233",
          "4934",
          "5622",
          "3826"
         ],
         "yaxis": "y"
        },
        {
         "hoverinfo": "name+x+text",
         "line": {
          "width": 0.5
         },
         "marker": {
          "size": 8
         },
         "mode": "lines+markers",
         "name": "TweetGouv",
         "showlegend": false,
         "text": [
          "1",
          "8",
          "6",
          "2",
          "1",
          "3",
          "0",
          "2",
          "6",
          "1",
          "2",
          "5",
          "4",
          "6",
          "10",
          "4",
          "5",
          "2",
          "7",
          "9",
          "2",
          "1",
          "4",
          "2",
          "2",
          "5",
          "3",
          "3",
          "7",
          "3",
          "4",
          "6",
          "8",
          "8",
          "3",
          "3",
          "2",
          "4",
          "7",
          "8",
          "3",
          "4",
          "3",
          "3",
          "0",
          "4",
          "3",
          "5",
          "3",
          "1",
          "6",
          "9",
          "4"
         ],
         "type": "scatter",
         "x": [
          "2021-01-03 00:00:00+00:00",
          "2021-01-10 00:00:00+00:00",
          "2021-01-17 00:00:00+00:00",
          "2021-01-24 00:00:00+00:00",
          "2021-01-31 00:00:00+00:00",
          "2021-02-07 00:00:00+00:00",
          "2021-02-14 00:00:00+00:00",
          "2021-02-21 00:00:00+00:00",
          "2021-02-28 00:00:00+00:00",
          "2021-03-07 00:00:00+00:00",
          "2021-03-14 00:00:00+00:00",
          "2021-03-21 00:00:00+00:00",
          "2021-03-28 00:00:00+00:00",
          "2021-04-04 00:00:00+00:00",
          "2021-04-11 00:00:00+00:00",
          "2021-04-18 00:00:00+00:00",
          "2021-04-25 00:00:00+00:00",
          "2021-05-02 00:00:00+00:00",
          "2021-05-09 00:00:00+00:00",
          "2021-05-16 00:00:00+00:00",
          "2021-05-23 00:00:00+00:00",
          "2021-05-30 00:00:00+00:00",
          "2021-06-06 00:00:00+00:00",
          "2021-06-13 00:00:00+00:00",
          "2021-06-20 00:00:00+00:00",
          "2021-06-27 00:00:00+00:00",
          "2021-07-04 00:00:00+00:00",
          "2021-07-11 00:00:00+00:00",
          "2021-07-18 00:00:00+00:00",
          "2021-07-25 00:00:00+00:00",
          "2021-08-01 00:00:00+00:00",
          "2021-08-08 00:00:00+00:00",
          "2021-08-15 00:00:00+00:00",
          "2021-08-22 00:00:00+00:00",
          "2021-08-29 00:00:00+00:00",
          "2021-09-05 00:00:00+00:00",
          "2021-09-12 00:00:00+00:00",
          "2021-09-19 00:00:00+00:00",
          "2021-09-26 00:00:00+00:00",
          "2021-10-03 00:00:00+00:00",
          "2021-10-10 00:00:00+00:00",
          "2021-10-17 00:00:00+00:00",
          "2021-10-24 00:00:00+00:00",
          "2021-10-31 00:00:00+00:00",
          "2021-11-07 00:00:00+00:00",
          "2021-11-14 00:00:00+00:00",
          "2021-11-21 00:00:00+00:00",
          "2021-11-28 00:00:00+00:00",
          "2021-12-05 00:00:00+00:00",
          "2021-12-12 00:00:00+00:00",
          "2021-12-19 00:00:00+00:00",
          "2021-12-26 00:00:00+00:00",
          "2022-01-02 00:00:00+00:00"
         ],
         "y": [
          "1",
          "8",
          "6",
          "2",
          "1",
          "3",
          "0",
          "2",
          "6",
          "1",
          "2",
          "5",
          "4",
          "6",
          "10",
          "4",
          "5",
          "2",
          "7",
          "9",
          "2",
          "1",
          "4",
          "2",
          "2",
          "5",
          "3",
          "3",
          "7",
          "3",
          "4",
          "6",
          "8",
          "8",
          "3",
          "3",
          "2",
          "4",
          "7",
          "8",
          "3",
          "4",
          "3",
          "3",
          "0",
          "4",
          "3",
          "5",
          "3",
          "1",
          "6",
          "9",
          "4"
         ],
         "yaxis": "y2"
        },
        {
         "hoverinfo": "name+x+text",
         "line": {
          "width": 0.5
         },
         "marker": {
          "size": 8
         },
         "mode": "lines+markers",
         "name": "TweetVerifié",
         "showlegend": false,
         "text": [
          "95",
          "470",
          "619",
          "575",
          "531",
          "430",
          "455",
          "474",
          "446",
          "475",
          "436",
          "548",
          "610",
          "505",
          "410",
          "422",
          "387",
          "414",
          "386",
          "314",
          "374",
          "340",
          "293",
          "297",
          "292",
          "295",
          "309",
          "389",
          "438",
          "461",
          "317",
          "341",
          "299",
          "234",
          "282",
          "288",
          "253",
          "273",
          "213",
          "223",
          "170",
          "197",
          "182",
          "209",
          "207",
          "285",
          "317",
          "490",
          "353",
          "336",
          "413",
          "493",
          "283"
         ],
         "type": "scatter",
         "x": [
          "2021-01-03 00:00:00+00:00",
          "2021-01-10 00:00:00+00:00",
          "2021-01-17 00:00:00+00:00",
          "2021-01-24 00:00:00+00:00",
          "2021-01-31 00:00:00+00:00",
          "2021-02-07 00:00:00+00:00",
          "2021-02-14 00:00:00+00:00",
          "2021-02-21 00:00:00+00:00",
          "2021-02-28 00:00:00+00:00",
          "2021-03-07 00:00:00+00:00",
          "2021-03-14 00:00:00+00:00",
          "2021-03-21 00:00:00+00:00",
          "2021-03-28 00:00:00+00:00",
          "2021-04-04 00:00:00+00:00",
          "2021-04-11 00:00:00+00:00",
          "2021-04-18 00:00:00+00:00",
          "2021-04-25 00:00:00+00:00",
          "2021-05-02 00:00:00+00:00",
          "2021-05-09 00:00:00+00:00",
          "2021-05-16 00:00:00+00:00",
          "2021-05-23 00:00:00+00:00",
          "2021-05-30 00:00:00+00:00",
          "2021-06-06 00:00:00+00:00",
          "2021-06-13 00:00:00+00:00",
          "2021-06-20 00:00:00+00:00",
          "2021-06-27 00:00:00+00:00",
          "2021-07-04 00:00:00+00:00",
          "2021-07-11 00:00:00+00:00",
          "2021-07-18 00:00:00+00:00",
          "2021-07-25 00:00:00+00:00",
          "2021-08-01 00:00:00+00:00",
          "2021-08-08 00:00:00+00:00",
          "2021-08-15 00:00:00+00:00",
          "2021-08-22 00:00:00+00:00",
          "2021-08-29 00:00:00+00:00",
          "2021-09-05 00:00:00+00:00",
          "2021-09-12 00:00:00+00:00",
          "2021-09-19 00:00:00+00:00",
          "2021-09-26 00:00:00+00:00",
          "2021-10-03 00:00:00+00:00",
          "2021-10-10 00:00:00+00:00",
          "2021-10-17 00:00:00+00:00",
          "2021-10-24 00:00:00+00:00",
          "2021-10-31 00:00:00+00:00",
          "2021-11-07 00:00:00+00:00",
          "2021-11-14 00:00:00+00:00",
          "2021-11-21 00:00:00+00:00",
          "2021-11-28 00:00:00+00:00",
          "2021-12-05 00:00:00+00:00",
          "2021-12-12 00:00:00+00:00",
          "2021-12-19 00:00:00+00:00",
          "2021-12-26 00:00:00+00:00",
          "2022-01-02 00:00:00+00:00"
         ],
         "y": [
          "95",
          "470",
          "619",
          "575",
          "531",
          "430",
          "455",
          "474",
          "446",
          "475",
          "436",
          "548",
          "610",
          "505",
          "410",
          "422",
          "387",
          "414",
          "386",
          "314",
          "374",
          "340",
          "293",
          "297",
          "292",
          "295",
          "309",
          "389",
          "438",
          "461",
          "317",
          "341",
          "299",
          "234",
          "282",
          "288",
          "253",
          "273",
          "213",
          "223",
          "170",
          "197",
          "182",
          "209",
          "207",
          "285",
          "317",
          "490",
          "353",
          "336",
          "413",
          "493",
          "283"
         ],
         "yaxis": "y3"
        }
       ],
       "layout": {
        "dragmode": "zoom",
        "height": 600,
        "hovermode": "x",
        "legend": {
         "traceorder": "reversed"
        },
        "margin": {
         "b": 100,
         "t": 100
        },
        "shapes": [
         {
          "fillcolor": "rgba(242,220,37,0.2)",
          "line": {
           "width": 0
          },
          "type": "rect",
          "x0": "2021-01-13",
          "x1": "2021-01-31",
          "xref": "x",
          "y0": 0,
          "y1": 1,
          "yref": "paper"
         },
         {
          "fillcolor": "rgba(234,92,26,0.2)",
          "line": {
           "width": 0
          },
          "type": "rect",
          "x0": "2021-03-20",
          "x1": "2021-04-03",
          "xref": "x",
          "y0": 0,
          "y1": 1,
          "yref": "paper"
         },
         {
          "fillcolor": "rgba(164,6,62,0.2)",
          "line": {
           "width": 0
          },
          "type": "rect",
          "x0": "2021-04-03",
          "x1": "2021-04-30",
          "xref": "x",
          "y0": 0,
          "y1": 1,
          "yref": "paper"
         },
         {
          "fillcolor": "rgba(234,92,26,0.2)",
          "line": {
           "width": 0
          },
          "type": "rect",
          "x0": "2021-04-30",
          "x1": "2021-06-10",
          "xref": "x",
          "y0": 0,
          "y1": 1,
          "yref": "paper"
         },
         {
          "fillcolor": "rgba(42,183,55,0.2)",
          "line": {
           "width": 0
          },
          "type": "rect",
          "x0": "2021-07-11",
          "x1": "2021-08-09",
          "xref": "x",
          "y0": 0,
          "y1": 1,
          "yref": "paper"
         },
         {
          "fillcolor": "rgba(42,112,183,0.2)",
          "line": {
           "width": 0
          },
          "type": "rect",
          "x0": "2021-11-07",
          "x1": "2021-11-30",
          "xref": "x",
          "y0": 0,
          "y1": 1,
          "yref": "paper"
         },
         {
          "fillcolor": "rgba(14,25,172,0.2)",
          "line": {
           "width": 0
          },
          "type": "rect",
          "x0": "2021-12-16",
          "x1": "2021-12-31",
          "xref": "x",
          "y0": 0,
          "y1": 1,
          "yref": "paper"
         }
        ],
        "template": {
         "data": {
          "bar": [
           {
            "error_x": {
             "color": "#2a3f5f"
            },
            "error_y": {
             "color": "#2a3f5f"
            },
            "marker": {
             "line": {
              "color": "white",
              "width": 0.5
             },
             "pattern": {
              "fillmode": "overlay",
              "size": 10,
              "solidity": 0.2
             }
            },
            "type": "bar"
           }
          ],
          "barpolar": [
           {
            "marker": {
             "line": {
              "color": "white",
              "width": 0.5
             },
             "pattern": {
              "fillmode": "overlay",
              "size": 10,
              "solidity": 0.2
             }
            },
            "type": "barpolar"
           }
          ],
          "carpet": [
           {
            "aaxis": {
             "endlinecolor": "#2a3f5f",
             "gridcolor": "#C8D4E3",
             "linecolor": "#C8D4E3",
             "minorgridcolor": "#C8D4E3",
             "startlinecolor": "#2a3f5f"
            },
            "baxis": {
             "endlinecolor": "#2a3f5f",
             "gridcolor": "#C8D4E3",
             "linecolor": "#C8D4E3",
             "minorgridcolor": "#C8D4E3",
             "startlinecolor": "#2a3f5f"
            },
            "type": "carpet"
           }
          ],
          "choropleth": [
           {
            "colorbar": {
             "outlinewidth": 0,
             "ticks": ""
            },
            "type": "choropleth"
           }
          ],
          "contour": [
           {
            "colorbar": {
             "outlinewidth": 0,
             "ticks": ""
            },
            "colorscale": [
             [
              0,
              "#0d0887"
             ],
             [
              0.1111111111111111,
              "#46039f"
             ],
             [
              0.2222222222222222,
              "#7201a8"
             ],
             [
              0.3333333333333333,
              "#9c179e"
             ],
             [
              0.4444444444444444,
              "#bd3786"
             ],
             [
              0.5555555555555556,
              "#d8576b"
             ],
             [
              0.6666666666666666,
              "#ed7953"
             ],
             [
              0.7777777777777778,
              "#fb9f3a"
             ],
             [
              0.8888888888888888,
              "#fdca26"
             ],
             [
              1,
              "#f0f921"
             ]
            ],
            "type": "contour"
           }
          ],
          "contourcarpet": [
           {
            "colorbar": {
             "outlinewidth": 0,
             "ticks": ""
            },
            "type": "contourcarpet"
           }
          ],
          "heatmap": [
           {
            "colorbar": {
             "outlinewidth": 0,
             "ticks": ""
            },
            "colorscale": [
             [
              0,
              "#0d0887"
             ],
             [
              0.1111111111111111,
              "#46039f"
             ],
             [
              0.2222222222222222,
              "#7201a8"
             ],
             [
              0.3333333333333333,
              "#9c179e"
             ],
             [
              0.4444444444444444,
              "#bd3786"
             ],
             [
              0.5555555555555556,
              "#d8576b"
             ],
             [
              0.6666666666666666,
              "#ed7953"
             ],
             [
              0.7777777777777778,
              "#fb9f3a"
             ],
             [
              0.8888888888888888,
              "#fdca26"
             ],
             [
              1,
              "#f0f921"
             ]
            ],
            "type": "heatmap"
           }
          ],
          "heatmapgl": [
           {
            "colorbar": {
             "outlinewidth": 0,
             "ticks": ""
            },
            "colorscale": [
             [
              0,
              "#0d0887"
             ],
             [
              0.1111111111111111,
              "#46039f"
             ],
             [
              0.2222222222222222,
              "#7201a8"
             ],
             [
              0.3333333333333333,
              "#9c179e"
             ],
             [
              0.4444444444444444,
              "#bd3786"
             ],
             [
              0.5555555555555556,
              "#d8576b"
             ],
             [
              0.6666666666666666,
              "#ed7953"
             ],
             [
              0.7777777777777778,
              "#fb9f3a"
             ],
             [
              0.8888888888888888,
              "#fdca26"
             ],
             [
              1,
              "#f0f921"
             ]
            ],
            "type": "heatmapgl"
           }
          ],
          "histogram": [
           {
            "marker": {
             "pattern": {
              "fillmode": "overlay",
              "size": 10,
              "solidity": 0.2
             }
            },
            "type": "histogram"
           }
          ],
          "histogram2d": [
           {
            "colorbar": {
             "outlinewidth": 0,
             "ticks": ""
            },
            "colorscale": [
             [
              0,
              "#0d0887"
             ],
             [
              0.1111111111111111,
              "#46039f"
             ],
             [
              0.2222222222222222,
              "#7201a8"
             ],
             [
              0.3333333333333333,
              "#9c179e"
             ],
             [
              0.4444444444444444,
              "#bd3786"
             ],
             [
              0.5555555555555556,
              "#d8576b"
             ],
             [
              0.6666666666666666,
              "#ed7953"
             ],
             [
              0.7777777777777778,
              "#fb9f3a"
             ],
             [
              0.8888888888888888,
              "#fdca26"
             ],
             [
              1,
              "#f0f921"
             ]
            ],
            "type": "histogram2d"
           }
          ],
          "histogram2dcontour": [
           {
            "colorbar": {
             "outlinewidth": 0,
             "ticks": ""
            },
            "colorscale": [
             [
              0,
              "#0d0887"
             ],
             [
              0.1111111111111111,
              "#46039f"
             ],
             [
              0.2222222222222222,
              "#7201a8"
             ],
             [
              0.3333333333333333,
              "#9c179e"
             ],
             [
              0.4444444444444444,
              "#bd3786"
             ],
             [
              0.5555555555555556,
              "#d8576b"
             ],
             [
              0.6666666666666666,
              "#ed7953"
             ],
             [
              0.7777777777777778,
              "#fb9f3a"
             ],
             [
              0.8888888888888888,
              "#fdca26"
             ],
             [
              1,
              "#f0f921"
             ]
            ],
            "type": "histogram2dcontour"
           }
          ],
          "mesh3d": [
           {
            "colorbar": {
             "outlinewidth": 0,
             "ticks": ""
            },
            "type": "mesh3d"
           }
          ],
          "parcoords": [
           {
            "line": {
             "colorbar": {
              "outlinewidth": 0,
              "ticks": ""
             }
            },
            "type": "parcoords"
           }
          ],
          "pie": [
           {
            "automargin": true,
            "type": "pie"
           }
          ],
          "scatter": [
           {
            "marker": {
             "colorbar": {
              "outlinewidth": 0,
              "ticks": ""
             }
            },
            "type": "scatter"
           }
          ],
          "scatter3d": [
           {
            "line": {
             "colorbar": {
              "outlinewidth": 0,
              "ticks": ""
             }
            },
            "marker": {
             "colorbar": {
              "outlinewidth": 0,
              "ticks": ""
             }
            },
            "type": "scatter3d"
           }
          ],
          "scattercarpet": [
           {
            "marker": {
             "colorbar": {
              "outlinewidth": 0,
              "ticks": ""
             }
            },
            "type": "scattercarpet"
           }
          ],
          "scattergeo": [
           {
            "marker": {
             "colorbar": {
              "outlinewidth": 0,
              "ticks": ""
             }
            },
            "type": "scattergeo"
           }
          ],
          "scattergl": [
           {
            "marker": {
             "colorbar": {
              "outlinewidth": 0,
              "ticks": ""
             }
            },
            "type": "scattergl"
           }
          ],
          "scattermapbox": [
           {
            "marker": {
             "colorbar": {
              "outlinewidth": 0,
              "ticks": ""
             }
            },
            "type": "scattermapbox"
           }
          ],
          "scatterpolar": [
           {
            "marker": {
             "colorbar": {
              "outlinewidth": 0,
              "ticks": ""
             }
            },
            "type": "scatterpolar"
           }
          ],
          "scatterpolargl": [
           {
            "marker": {
             "colorbar": {
              "outlinewidth": 0,
              "ticks": ""
             }
            },
            "type": "scatterpolargl"
           }
          ],
          "scatterternary": [
           {
            "marker": {
             "colorbar": {
              "outlinewidth": 0,
              "ticks": ""
             }
            },
            "type": "scatterternary"
           }
          ],
          "surface": [
           {
            "colorbar": {
             "outlinewidth": 0,
             "ticks": ""
            },
            "colorscale": [
             [
              0,
              "#0d0887"
             ],
             [
              0.1111111111111111,
              "#46039f"
             ],
             [
              0.2222222222222222,
              "#7201a8"
             ],
             [
              0.3333333333333333,
              "#9c179e"
             ],
             [
              0.4444444444444444,
              "#bd3786"
             ],
             [
              0.5555555555555556,
              "#d8576b"
             ],
             [
              0.6666666666666666,
              "#ed7953"
             ],
             [
              0.7777777777777778,
              "#fb9f3a"
             ],
             [
              0.8888888888888888,
              "#fdca26"
             ],
             [
              1,
              "#f0f921"
             ]
            ],
            "type": "surface"
           }
          ],
          "table": [
           {
            "cells": {
             "fill": {
              "color": "#EBF0F8"
             },
             "line": {
              "color": "white"
             }
            },
            "header": {
             "fill": {
              "color": "#C8D4E3"
             },
             "line": {
              "color": "white"
             }
            },
            "type": "table"
           }
          ]
         },
         "layout": {
          "annotationdefaults": {
           "arrowcolor": "#2a3f5f",
           "arrowhead": 0,
           "arrowwidth": 1
          },
          "autotypenumbers": "strict",
          "coloraxis": {
           "colorbar": {
            "outlinewidth": 0,
            "ticks": ""
           }
          },
          "colorscale": {
           "diverging": [
            [
             0,
             "#8e0152"
            ],
            [
             0.1,
             "#c51b7d"
            ],
            [
             0.2,
             "#de77ae"
            ],
            [
             0.3,
             "#f1b6da"
            ],
            [
             0.4,
             "#fde0ef"
            ],
            [
             0.5,
             "#f7f7f7"
            ],
            [
             0.6,
             "#e6f5d0"
            ],
            [
             0.7,
             "#b8e186"
            ],
            [
             0.8,
             "#7fbc41"
            ],
            [
             0.9,
             "#4d9221"
            ],
            [
             1,
             "#276419"
            ]
           ],
           "sequential": [
            [
             0,
             "#0d0887"
            ],
            [
             0.1111111111111111,
             "#46039f"
            ],
            [
             0.2222222222222222,
             "#7201a8"
            ],
            [
             0.3333333333333333,
             "#9c179e"
            ],
            [
             0.4444444444444444,
             "#bd3786"
            ],
            [
             0.5555555555555556,
             "#d8576b"
            ],
            [
             0.6666666666666666,
             "#ed7953"
            ],
            [
             0.7777777777777778,
             "#fb9f3a"
            ],
            [
             0.8888888888888888,
             "#fdca26"
            ],
            [
             1,
             "#f0f921"
            ]
           ],
           "sequentialminus": [
            [
             0,
             "#0d0887"
            ],
            [
             0.1111111111111111,
             "#46039f"
            ],
            [
             0.2222222222222222,
             "#7201a8"
            ],
            [
             0.3333333333333333,
             "#9c179e"
            ],
            [
             0.4444444444444444,
             "#bd3786"
            ],
            [
             0.5555555555555556,
             "#d8576b"
            ],
            [
             0.6666666666666666,
             "#ed7953"
            ],
            [
             0.7777777777777778,
             "#fb9f3a"
            ],
            [
             0.8888888888888888,
             "#fdca26"
            ],
            [
             1,
             "#f0f921"
            ]
           ]
          },
          "colorway": [
           "#636efa",
           "#EF553B",
           "#00cc96",
           "#ab63fa",
           "#FFA15A",
           "#19d3f3",
           "#FF6692",
           "#B6E880",
           "#FF97FF",
           "#FECB52"
          ],
          "font": {
           "color": "#2a3f5f"
          },
          "geo": {
           "bgcolor": "white",
           "lakecolor": "white",
           "landcolor": "white",
           "showlakes": true,
           "showland": true,
           "subunitcolor": "#C8D4E3"
          },
          "hoverlabel": {
           "align": "left"
          },
          "hovermode": "closest",
          "mapbox": {
           "style": "light"
          },
          "paper_bgcolor": "white",
          "plot_bgcolor": "white",
          "polar": {
           "angularaxis": {
            "gridcolor": "#EBF0F8",
            "linecolor": "#EBF0F8",
            "ticks": ""
           },
           "bgcolor": "white",
           "radialaxis": {
            "gridcolor": "#EBF0F8",
            "linecolor": "#EBF0F8",
            "ticks": ""
           }
          },
          "scene": {
           "xaxis": {
            "backgroundcolor": "white",
            "gridcolor": "#DFE8F3",
            "gridwidth": 2,
            "linecolor": "#EBF0F8",
            "showbackground": true,
            "ticks": "",
            "zerolinecolor": "#EBF0F8"
           },
           "yaxis": {
            "backgroundcolor": "white",
            "gridcolor": "#DFE8F3",
            "gridwidth": 2,
            "linecolor": "#EBF0F8",
            "showbackground": true,
            "ticks": "",
            "zerolinecolor": "#EBF0F8"
           },
           "zaxis": {
            "backgroundcolor": "white",
            "gridcolor": "#DFE8F3",
            "gridwidth": 2,
            "linecolor": "#EBF0F8",
            "showbackground": true,
            "ticks": "",
            "zerolinecolor": "#EBF0F8"
           }
          },
          "shapedefaults": {
           "line": {
            "color": "#2a3f5f"
           }
          },
          "ternary": {
           "aaxis": {
            "gridcolor": "#DFE8F3",
            "linecolor": "#A2B1C6",
            "ticks": ""
           },
           "baxis": {
            "gridcolor": "#DFE8F3",
            "linecolor": "#A2B1C6",
            "ticks": ""
           },
           "bgcolor": "white",
           "caxis": {
            "gridcolor": "#DFE8F3",
            "linecolor": "#A2B1C6",
            "ticks": ""
           }
          },
          "title": {
           "x": 0.05
          },
          "xaxis": {
           "automargin": true,
           "gridcolor": "#EBF0F8",
           "linecolor": "#EBF0F8",
           "ticks": "",
           "title": {
            "standoff": 15
           },
           "zerolinecolor": "#EBF0F8",
           "zerolinewidth": 2
          },
          "yaxis": {
           "automargin": true,
           "gridcolor": "#EBF0F8",
           "linecolor": "#EBF0F8",
           "ticks": "",
           "title": {
            "standoff": 15
           },
           "zerolinecolor": "#EBF0F8",
           "zerolinewidth": 2
          }
         }
        },
        "title": {
         "text": "Evolution de la quantité de Tweet assimilé au #covid en France, par groupe de Twittos, durant l'année 2021",
         "x": 0.5,
         "xanchor": "center",
         "y": 0.93,
         "yanchor": "top"
        },
        "xaxis": {
         "autorange": true,
         "range": [
          "2021-01-01 00:00:00.0000",
          "2021-12-31 00:00:00.0000"
         ],
         "rangeslider": {
          "autorange": true,
          "range": [
           "2021-01-01 00:00:00.0000",
           "2021-12-31 00:00:00.0000"
          ]
         },
         "type": "date"
        },
        "yaxis": {
         "anchor": "x",
         "autorange": true,
         "domain": [
          0,
          0.33
         ],
         "linecolor": "#5B42BF",
         "mirror": true,
         "range": [
          -60.0858369099,
          28.4406294707
         ],
         "showline": true,
         "side": "right",
         "tickfont": {
          "color": "#000000"
         },
         "tickmode": "auto",
         "ticks": "",
         "title": {
          "font": {
           "color": "#000000"
          }
         },
         "type": "linear",
         "zeroline": false
        },
        "yaxis2": {
         "anchor": "x",
         "autorange": true,
         "domain": [
          0.33,
          0.66
         ],
         "linecolor": "#E91E63",
         "mirror": true,
         "range": [
          29.3787777032,
          100.621222297
         ],
         "showline": true,
         "side": "right",
         "tickfont": {
          "color": "#000000"
         },
         "tickmode": "auto",
         "ticks": "",
         "title": {
          "font": {
           "color": "#000000"
          }
         },
         "type": "linear",
         "zeroline": false
        },
        "yaxis3": {
         "anchor": "x",
         "autorange": true,
         "domain": [
          0.66,
          1
         ],
         "linecolor": "#31CF3E",
         "mirror": true,
         "range": [
          29.3787777032,
          100.621222297
         ],
         "showline": true,
         "side": "right",
         "tickfont": {
          "color": "#000000"
         },
         "tickmode": "auto",
         "ticks": "",
         "title": {
          "font": {
           "color": "#000000"
          }
         },
         "type": "linear",
         "zeroline": false
        }
       }
      }
     },
     "metadata": {},
     "output_type": "display_data"
    }
   ],
   "source": [
    "# création de la figure\n",
    "fig = go.Figure()\n",
    "\n",
    "# création des tracés\n",
    "fig.add_trace(go.Scatter(\n",
    "    x=basedate,\n",
    "    y=base,\n",
    "    name=\"TweetBase\",\n",
    "    text=base,\n",
    "    yaxis=\"y\",\n",
    "))\n",
    "\n",
    "fig.add_trace(go.Scatter(\n",
    "    x=basegouv,\n",
    "    y=gouv,\n",
    "    name=\"TweetGouv\",\n",
    "    text=gouv,\n",
    "    yaxis=\"y2\",\n",
    "))\n",
    "\n",
    "fig.add_trace(go.Scatter(\n",
    "    x=influencedate,\n",
    "    y=influence,\n",
    "    name=\"TweetVerifié\",\n",
    "    text=influence,\n",
    "    yaxis=\"y3\",\n",
    "))\n",
    "\n",
    "# création du style des tracé\n",
    "fig.update_traces(\n",
    "    hoverinfo=\"name+x+text\",\n",
    "    line={\"width\": 0.5},\n",
    "    marker={\"size\": 8},\n",
    "    mode=\"lines+markers\",\n",
    "    showlegend=False\n",
    ")\n",
    "\n",
    "# fond transparent arrière\n",
    "fig.update_layout(\n",
    "    shapes=[\n",
    "        dict(\n",
    "            fillcolor=\"rgba(242,220,37,0.2)\",\n",
    "            line={\"width\": 0},\n",
    "            type=\"rect\",\n",
    "            x0=\"2021-01-13\",\n",
    "            x1=\"2021-01-31\",\n",
    "            xref=\"x\",\n",
    "            y0=0,\n",
    "            y1=1,\n",
    "            yref=\"paper\"\n",
    "        ),\n",
    "        dict(\n",
    "            fillcolor=\"rgba(234,92,26,0.2)\",\n",
    "            line={\"width\": 0},\n",
    "            type=\"rect\",\n",
    "            x0=\"2021-03-20\",\n",
    "            x1=\"2021-04-03\",\n",
    "            xref=\"x\",\n",
    "            y0=0,\n",
    "            y1=1,\n",
    "            yref=\"paper\"\n",
    "        ),\n",
    "        dict(\n",
    "            fillcolor=\"rgba(164,6,62,0.2)\",\n",
    "            line={\"width\": 0},\n",
    "            type=\"rect\",\n",
    "            x0=\"2021-04-03\",\n",
    "            x1=\"2021-04-30\",\n",
    "            xref=\"x\",\n",
    "            y0=0,\n",
    "            y1=1,\n",
    "            yref=\"paper\"\n",
    "        ),\n",
    "        dict(\n",
    "            fillcolor=\"rgba(234,92,26,0.2)\",\n",
    "            line={\"width\": 0},\n",
    "            type=\"rect\",\n",
    "            x0=\"2021-04-30\",\n",
    "            x1=\"2021-06-10\",\n",
    "            xref=\"x\",\n",
    "            y0=0,\n",
    "            y1=1,\n",
    "            yref=\"paper\"\n",
    "        ),\n",
    "        dict(\n",
    "            fillcolor=\"rgba(42,183,55,0.2)\",\n",
    "            line={\"width\": 0},\n",
    "            type=\"rect\",\n",
    "            x0=\"2021-07-11\",\n",
    "            x1=\"2021-08-09\",\n",
    "            xref=\"x\",\n",
    "            y0=0,\n",
    "            y1=1,\n",
    "            yref=\"paper\"\n",
    "        ),\n",
    "        dict(\n",
    "            fillcolor=\"rgba(42,112,183,0.2)\",\n",
    "            line={\"width\": 0},\n",
    "            type=\"rect\",\n",
    "            x0=\"2021-11-07\",\n",
    "            x1=\"2021-11-30\",\n",
    "            xref=\"x\",\n",
    "            y0=0,\n",
    "            y1=1,\n",
    "            yref=\"paper\"\n",
    "        ),\n",
    "        dict(\n",
    "            fillcolor=\"rgba(14,25,172,0.2)\",\n",
    "            line={\"width\": 0},\n",
    "            type=\"rect\",\n",
    "            x0=\"2021-12-16\",\n",
    "            x1=\"2021-12-31\",\n",
    "            xref=\"x\",\n",
    "            y0=0,\n",
    "            y1=1,\n",
    "            yref=\"paper\"\n",
    "        )\n",
    "    ]\n",
    ")\n",
    "\n",
    "# Axes\n",
    "fig.update_layout(\n",
    "    xaxis=dict(\n",
    "        autorange=True,\n",
    "        range=[\"2021-01-01 00:00:00.0000\", \"2021-12-31 00:00:00.0000\"],\n",
    "        rangeslider=dict(\n",
    "            autorange=True,\n",
    "            range=[\"2021-01-01 00:00:00.0000\", \"2021-12-31 00:00:00.0000\"]\n",
    "        ),\n",
    "        type=\"date\"\n",
    "    ),\n",
    "    yaxis=dict(\n",
    "        anchor=\"x\",\n",
    "        autorange=True,\n",
    "        domain=[0, 0.33],\n",
    "        linecolor=\"#5B42BF\",\n",
    "        mirror=True,\n",
    "        range=[-60.0858369099, 28.4406294707],\n",
    "        showline=True,\n",
    "        side=\"right\",\n",
    "        tickfont={\"color\": \"#000000\"},\n",
    "        tickmode=\"auto\",\n",
    "        ticks=\"\",\n",
    "        titlefont={\"color\": \"#000000\"},\n",
    "        type=\"linear\",\n",
    "        zeroline=False\n",
    "    ),\n",
    "    yaxis2=dict(\n",
    "        anchor=\"x\",\n",
    "        autorange=True,\n",
    "        domain=[0.33, 0.66],\n",
    "        linecolor=\"#E91E63\",\n",
    "        mirror=True,\n",
    "        range=[29.3787777032, 100.621222297],\n",
    "        showline=True,\n",
    "        side=\"right\",\n",
    "        tickfont={\"color\": \"#000000\"},\n",
    "        tickmode=\"auto\",\n",
    "        ticks=\"\",\n",
    "        titlefont={\"color\": \"#000000\"},\n",
    "        type=\"linear\",\n",
    "        zeroline=False\n",
    "    ),\n",
    "    yaxis3=dict(\n",
    "        anchor=\"x\",\n",
    "        autorange=True,\n",
    "        domain=[0.66, 1],\n",
    "        linecolor=\"#31CF3E\",\n",
    "        mirror=True,\n",
    "        range=[29.3787777032, 100.621222297],\n",
    "        showline=True,\n",
    "        side=\"right\",\n",
    "        tickfont={\"color\": \"#000000\"},\n",
    "        tickmode=\"auto\",\n",
    "        ticks=\"\",\n",
    "        titlefont={\"color\": \"#000000\"},\n",
    "        type=\"linear\",\n",
    "        zeroline=False\n",
    "    )\n",
    ")\n",
    "\n",
    "# mise à jour du ruban inférieur\n",
    "fig.update_layout(\n",
    "    dragmode=\"zoom\",\n",
    "    hovermode=\"x\",\n",
    "    legend=dict(traceorder=\"reversed\"),\n",
    "    height=600,\n",
    "    template=\"plotly_white\",\n",
    "    margin=dict(\n",
    "        t=100,\n",
    "        b=100\n",
    "    ),\n",
    ")\n",
    "\n",
    "# titre\n",
    "fig.update_layout(\n",
    "    title={\n",
    "        'text': \"Evolution de la quantité de Tweet assimilé au #covid en France, par groupe de Twittos, durant l'année 2021\",\n",
    "        'y':0.93,\n",
    "        'x':0.5,\n",
    "        'xanchor': 'center',\n",
    "        'yanchor': 'top'}\n",
    ")\n",
    "\n",
    "# sous titre axe\n",
    "\n",
    "fig.show()"
   ]
  },
  {
   "cell_type": "markdown",
   "metadata": {},
   "source": [
    "#### **<span style=\"color:#8EA3EB\">4.4 Analyse des hashtags</span>**"
   ]
  },
  {
   "cell_type": "markdown",
   "metadata": {},
   "source": [
    "##### **<span style=\"color:#6DEFA2\">4.4.1. Cleaning des #</span>**"
   ]
  },
  {
   "cell_type": "code",
   "execution_count": 88,
   "metadata": {},
   "outputs": [
    {
     "name": "stderr",
     "output_type": "stream",
     "text": [
      "C:\\Users\\Bastien\\anaconda3\\lib\\site-packages\\ipykernel\\ipkernel.py:287: DeprecationWarning:\n",
      "\n",
      "`should_run_async` will not call `transform_cell` automatically in the future. Please pass the result to `transformed_cell` argument and any exception that happen during thetransform in `preprocessing_exc_tuple` in IPython 7.17 and above.\n",
      "\n"
     ]
    }
   ],
   "source": [
    "# création de liste pour récupérer les tweets\n",
    "tweets_ht = []\n",
    "\n",
    "# création d'une boucle for pour analyser les tweets\n",
    "# paramètres (mots clef, date, langue etc)\n",
    "for i,tweet in enumerate(sntwitter.TwitterSearchScraper('#covid since:2021-01-01 until:2021-12-30 lang:fr').get_items()):\n",
    "    if i>1000000:\n",
    "        break\n",
    "\n",
    "    tweets_ht.append([tweet.date, tweet.id, tweet.content, tweet.hashtags])"
   ]
  },
  {
   "cell_type": "code",
   "execution_count": null,
   "metadata": {},
   "outputs": [
    {
     "name": "stderr",
     "output_type": "stream",
     "text": [
      "C:\\Users\\Bastien\\anaconda3\\lib\\site-packages\\ipykernel\\ipkernel.py:287: DeprecationWarning: `should_run_async` will not call `transform_cell` automatically in the future. Please pass the result to `transformed_cell` argument and any exception that happen during thetransform in `preprocessing_exc_tuple` in IPython 7.17 and above.\n",
      "  and should_run_async(code)\n"
     ]
    }
   ],
   "source": [
    "# création de la liste de colonne\n",
    "cols_name = ['Datetime', 'Tweet Id', 'Text', 'Hashtags']\n",
    "\n",
    "# création des DataFrame finaux\n",
    "df_tweets_ht = pd.DataFrame(tweets_ht, columns=cols_name)"
   ]
  },
  {
   "cell_type": "code",
   "execution_count": null,
   "metadata": {},
   "outputs": [
    {
     "name": "stderr",
     "output_type": "stream",
     "text": [
      "C:\\Users\\Bastien\\anaconda3\\lib\\site-packages\\ipykernel\\ipkernel.py:287: DeprecationWarning: `should_run_async` will not call `transform_cell` automatically in the future. Please pass the result to `transformed_cell` argument and any exception that happen during thetransform in `preprocessing_exc_tuple` in IPython 7.17 and above.\n",
      "  and should_run_async(code)\n"
     ]
    }
   ],
   "source": [
    "# cleaning des hashtags\n",
    "hashtag_list = df_tweets_ht[\"Hashtags\"]\n",
    "total = {}\n",
    "\n",
    "# on énumère la liste des #hashtags\n",
    "for i, items in enumerate(hashtag_list):\n",
    "    if str(items) not in \"nan\":\n",
    "        items = str(items).replace('[', '').replace(']', '').replace('\"', \"\").replace(\"'\", \"\")   # on clean le superflu des hashtags\n",
    "        for item in items.split(','):                                                            # pour chaque ligne de hashtag on les sépare par les virgule pour obtenir que des moys\n",
    "            item = item.lower().replace(\" \", \"\")                                                 # on met le tout en minuscule et on ajuste les espaces\n",
    "            item = item.replace(\"covid19\",\"covid\").replace(\"covid19france\",\"covid\").replace(\"covid_19\",\"covid\")\n",
    "            item = item.replace(\"passevaccinal\",\"passvaccinal\").replace(\"passvacinal\",\"passvaccinal\")\n",
    "            item = item.replace(\"passesanitaire\",\"passsanitaire\")\n",
    "            item = item.replace(\"vaccins\",\"vaccin\")\n",
    "            item = item.replace(\"vaccinationcovid\",\"vaccination\")\n",
    "            if item not in total:\n",
    "                total[item] = 0                                                                  # si il n'est pas présent dans la liste, on l'ajoute\n",
    "            total[item] += 1                                                                     "
   ]
  },
  {
   "cell_type": "code",
   "execution_count": null,
   "metadata": {},
   "outputs": [
    {
     "name": "stderr",
     "output_type": "stream",
     "text": [
      "C:\\Users\\Bastien\\anaconda3\\lib\\site-packages\\ipykernel\\ipkernel.py:287: DeprecationWarning: `should_run_async` will not call `transform_cell` automatically in the future. Please pass the result to `transformed_cell` argument and any exception that happen during thetransform in `preprocessing_exc_tuple` in IPython 7.17 and above.\n",
      "  and should_run_async(code)\n"
     ]
    }
   ],
   "source": [
    "total = {k: v for k, v in sorted(total.items(), key=lambda item: item[1], reverse=True)}\n",
    "\n",
    "# on initialise les colonnes du df\n",
    "df_total_hashtag = {\"name\": [], \"count\": []}\n",
    "\n",
    "\n",
    "for x, y in total.items():\n",
    "    df_total_hashtag[\"name\"].append(x)    # on récupère le x du dictionnaire (nom\n",
    "    df_total_hashtag[\"count\"].append(y)   # on récupère le y du dictionnaire (nombre)\n",
    "    \n",
    "df_total_hashtag = pd.DataFrame(df_total_hashtag)"
   ]
  },
  {
   "cell_type": "markdown",
   "metadata": {},
   "source": [
    "##### **<span style=\"color:#6DEFA2\">4.4.2. Fréquence des hashtags</span>**"
   ]
  },
  {
   "cell_type": "code",
   "execution_count": 178,
   "metadata": {},
   "outputs": [
    {
     "name": "stderr",
     "output_type": "stream",
     "text": [
      "C:\\Users\\Bastien\\anaconda3\\lib\\site-packages\\ipykernel\\ipkernel.py:287: DeprecationWarning: `should_run_async` will not call `transform_cell` automatically in the future. Please pass the result to `transformed_cell` argument and any exception that happen during thetransform in `preprocessing_exc_tuple` in IPython 7.17 and above.\n",
      "  and should_run_async(code)\n"
     ]
    },
    {
     "data": {
      "text/html": [
       "<style type=\"text/css\">\n",
       "#T_6eff5_row0_col1, #T_6eff5_row0_col2 {\n",
       "  background-color: #ffff00;\n",
       "  color: #000000;\n",
       "}\n",
       "#T_6eff5_row1_col1, #T_6eff5_row1_col2 {\n",
       "  background-color: #f3f3cd;\n",
       "  color: #000000;\n",
       "}\n",
       "#T_6eff5_row2_col1, #T_6eff5_row2_col2 {\n",
       "  background-color: #f3f3d2;\n",
       "  color: #000000;\n",
       "}\n",
       "#T_6eff5_row3_col1, #T_6eff5_row3_col2 {\n",
       "  background-color: #f2f2d6;\n",
       "  color: #000000;\n",
       "}\n",
       "#T_6eff5_row4_col1, #T_6eff5_row4_col2, #T_6eff5_row5_col1, #T_6eff5_row5_col2 {\n",
       "  background-color: #f2f2d8;\n",
       "  color: #000000;\n",
       "}\n",
       "#T_6eff5_row6_col1, #T_6eff5_row6_col2 {\n",
       "  background-color: #f2f2da;\n",
       "  color: #000000;\n",
       "}\n",
       "#T_6eff5_row7_col1, #T_6eff5_row7_col2 {\n",
       "  background-color: #f2f2db;\n",
       "  color: #000000;\n",
       "}\n",
       "#T_6eff5_row8_col1, #T_6eff5_row8_col2 {\n",
       "  background-color: #f2f2dc;\n",
       "  color: #000000;\n",
       "}\n",
       "#T_6eff5_row9_col1, #T_6eff5_row9_col2 {\n",
       "  background-color: #f2f2dd;\n",
       "  color: #000000;\n",
       "}\n",
       "</style>\n",
       "<table id=\"T_6eff5_\">\n",
       "  <thead>\n",
       "    <tr>\n",
       "      <th class=\"blank level0\" >&nbsp;</th>\n",
       "      <th class=\"col_heading level0 col0\" >name</th>\n",
       "      <th class=\"col_heading level0 col1\" >count</th>\n",
       "      <th class=\"col_heading level0 col2\" >Pourcentage</th>\n",
       "    </tr>\n",
       "  </thead>\n",
       "  <tbody>\n",
       "    <tr>\n",
       "      <th id=\"T_6eff5_level0_row0\" class=\"row_heading level0 row0\" >0</th>\n",
       "      <td id=\"T_6eff5_row0_col0\" class=\"data row0 col0\" >covid</td>\n",
       "      <td id=\"T_6eff5_row0_col1\" class=\"data row0 col1\" >238157</td>\n",
       "      <td id=\"T_6eff5_row0_col2\" class=\"data row0 col2\" >33.100301</td>\n",
       "    </tr>\n",
       "    <tr>\n",
       "      <th id=\"T_6eff5_level0_row1\" class=\"row_heading level0 row1\" >1</th>\n",
       "      <td id=\"T_6eff5_row1_col0\" class=\"data row1 col0\" >vaccin</td>\n",
       "      <td id=\"T_6eff5_row1_col1\" class=\"data row1 col1\" >20617</td>\n",
       "      <td id=\"T_6eff5_row1_col2\" class=\"data row1 col2\" >2.865458</td>\n",
       "    </tr>\n",
       "    <tr>\n",
       "      <th id=\"T_6eff5_level0_row2\" class=\"row_heading level0 row2\" >2</th>\n",
       "      <td id=\"T_6eff5_row2_col0\" class=\"data row2 col0\" >vaccination</td>\n",
       "      <td id=\"T_6eff5_row2_col1\" class=\"data row2 col1\" >14721</td>\n",
       "      <td id=\"T_6eff5_row2_col2\" class=\"data row2 col2\" >2.046001</td>\n",
       "    </tr>\n",
       "    <tr>\n",
       "      <th id=\"T_6eff5_level0_row3\" class=\"row_heading level0 row3\" >3</th>\n",
       "      <td id=\"T_6eff5_row3_col0\" class=\"data row3 col0\" >coronavirus</td>\n",
       "      <td id=\"T_6eff5_row3_col1\" class=\"data row3 col1\" >10412</td>\n",
       "      <td id=\"T_6eff5_row3_col2\" class=\"data row3 col2\" >1.447114</td>\n",
       "    </tr>\n",
       "    <tr>\n",
       "      <th id=\"T_6eff5_level0_row4\" class=\"row_heading level0 row4\" >4</th>\n",
       "      <td id=\"T_6eff5_row4_col0\" class=\"data row4 col0\" >passsanitaire</td>\n",
       "      <td id=\"T_6eff5_row4_col1\" class=\"data row4 col1\" >8492</td>\n",
       "      <td id=\"T_6eff5_row4_col2\" class=\"data row4 col2\" >1.180262</td>\n",
       "    </tr>\n",
       "    <tr>\n",
       "      <th id=\"T_6eff5_level0_row5\" class=\"row_heading level0 row5\" >5</th>\n",
       "      <td id=\"T_6eff5_row5_col0\" class=\"data row5 col0\" >macron</td>\n",
       "      <td id=\"T_6eff5_row5_col1\" class=\"data row5 col1\" >8435</td>\n",
       "      <td id=\"T_6eff5_row5_col2\" class=\"data row5 col2\" >1.172340</td>\n",
       "    </tr>\n",
       "    <tr>\n",
       "      <th id=\"T_6eff5_level0_row6\" class=\"row_heading level0 row6\" >6</th>\n",
       "      <td id=\"T_6eff5_row6_col0\" class=\"data row6 col0\" >france</td>\n",
       "      <td id=\"T_6eff5_row6_col1\" class=\"data row6 col1\" >7300</td>\n",
       "      <td id=\"T_6eff5_row6_col2\" class=\"data row6 col2\" >1.014592</td>\n",
       "    </tr>\n",
       "    <tr>\n",
       "      <th id=\"T_6eff5_level0_row7\" class=\"row_heading level0 row7\" >7</th>\n",
       "      <td id=\"T_6eff5_row7_col0\" class=\"data row7 col0\" >confinement</td>\n",
       "      <td id=\"T_6eff5_row7_col1\" class=\"data row7 col1\" >5598</td>\n",
       "      <td id=\"T_6eff5_row7_col2\" class=\"data row7 col2\" >0.778039</td>\n",
       "    </tr>\n",
       "    <tr>\n",
       "      <th id=\"T_6eff5_level0_row8\" class=\"row_heading level0 row8\" >8</th>\n",
       "      <td id=\"T_6eff5_row8_col0\" class=\"data row8 col0\" >covidfrance</td>\n",
       "      <td id=\"T_6eff5_row8_col1\" class=\"data row8 col1\" >3879</td>\n",
       "      <td id=\"T_6eff5_row8_col2\" class=\"data row8 col2\" >0.539124</td>\n",
       "    </tr>\n",
       "    <tr>\n",
       "      <th id=\"T_6eff5_level0_row9\" class=\"row_heading level0 row9\" >9</th>\n",
       "      <td id=\"T_6eff5_row9_col0\" class=\"data row9 col0\" >castex</td>\n",
       "      <td id=\"T_6eff5_row9_col1\" class=\"data row9 col1\" >2738</td>\n",
       "      <td id=\"T_6eff5_row9_col2\" class=\"data row9 col2\" >0.380542</td>\n",
       "    </tr>\n",
       "  </tbody>\n",
       "</table>\n"
      ],
      "text/plain": [
       "<pandas.io.formats.style.Styler at 0x2af1eab9700>"
      ]
     },
     "execution_count": 178,
     "metadata": {},
     "output_type": "execute_result"
    }
   ],
   "source": [
    "# comptages et classement des mots\n",
    "cm = sns.light_palette(\"yellow\", as_cmap=True)\n",
    "df_total_hashtag['Pourcentage'] = df_total_hashtag['count'] /df_total_hashtag['count'].sum() * 100\n",
    "df_total_hashtag.sort_values(by='count', ascending=False).head(10).style.background_gradient(cmap=cm)"
   ]
  },
  {
   "cell_type": "code",
   "execution_count": 171,
   "metadata": {},
   "outputs": [
    {
     "name": "stdout",
     "output_type": "stream",
     "text": [
      "Les 10 # les plus rencontrés représentent: \u001b[1m\u001b[92m 44.14 \u001b[0m % de tous les hashtags rencontrés\n"
     ]
    },
    {
     "name": "stderr",
     "output_type": "stream",
     "text": [
      "C:\\Users\\Bastien\\anaconda3\\lib\\site-packages\\ipykernel\\ipkernel.py:287: DeprecationWarning: `should_run_async` will not call `transform_cell` automatically in the future. Please pass the result to `transformed_cell` argument and any exception that happen during thetransform in `preprocessing_exc_tuple` in IPython 7.17 and above.\n",
      "  and should_run_async(code)\n"
     ]
    }
   ],
   "source": [
    "print('Les 10 # les plus rencontrés représentent:', color.BOLD + color.GREEN, round(df_total_hashtag['Pourcentage'][0:9].sum(),2), color.END, r'% de tous les hashtags rencontrés')"
   ]
  },
  {
   "cell_type": "markdown",
   "metadata": {},
   "source": [
    "`` 44.14 % des hashtags sont représentant par les 10 hashtags les plus utilisés``"
   ]
  },
  {
   "cell_type": "code",
   "execution_count": 181,
   "metadata": {},
   "outputs": [
    {
     "name": "stderr",
     "output_type": "stream",
     "text": [
      "C:\\Users\\Bastien\\anaconda3\\lib\\site-packages\\ipykernel\\ipkernel.py:287: DeprecationWarning: `should_run_async` will not call `transform_cell` automatically in the future. Please pass the result to `transformed_cell` argument and any exception that happen during thetransform in `preprocessing_exc_tuple` in IPython 7.17 and above.\n",
      "  and should_run_async(code)\n"
     ]
    }
   ],
   "source": [
    "# je filtre les hashtags représentant moins de 0.1% des hashtags totaux\n",
    "df_total_hashtag = df_total_hashtag[(df_total_hashtag['Pourcentage'] > 0.1)]"
   ]
  },
  {
   "cell_type": "code",
   "execution_count": 158,
   "metadata": {},
   "outputs": [
    {
     "name": "stderr",
     "output_type": "stream",
     "text": [
      "C:\\Users\\Bastien\\anaconda3\\lib\\site-packages\\ipykernel\\ipkernel.py:287: DeprecationWarning: `should_run_async` will not call `transform_cell` automatically in the future. Please pass the result to `transformed_cell` argument and any exception that happen during thetransform in `preprocessing_exc_tuple` in IPython 7.17 and above.\n",
      "  and should_run_async(code)\n"
     ]
    },
    {
     "data": {
      "text/html": [
       "<style type=\"text/css\">\n",
       "#T_867a0_row0_col1, #T_867a0_row0_col2 {\n",
       "  background-color: #ffff00;\n",
       "  color: #000000;\n",
       "}\n",
       "#T_867a0_row1_col1, #T_867a0_row1_col2 {\n",
       "  background-color: #f3f3cd;\n",
       "  color: #000000;\n",
       "}\n",
       "#T_867a0_row2_col1, #T_867a0_row2_col2 {\n",
       "  background-color: #f3f3d2;\n",
       "  color: #000000;\n",
       "}\n",
       "#T_867a0_row3_col1, #T_867a0_row3_col2 {\n",
       "  background-color: #f2f2d6;\n",
       "  color: #000000;\n",
       "}\n",
       "#T_867a0_row4_col1, #T_867a0_row4_col2, #T_867a0_row5_col1, #T_867a0_row5_col2 {\n",
       "  background-color: #f2f2d8;\n",
       "  color: #000000;\n",
       "}\n",
       "#T_867a0_row6_col1, #T_867a0_row6_col2 {\n",
       "  background-color: #f2f2da;\n",
       "  color: #000000;\n",
       "}\n",
       "#T_867a0_row7_col1, #T_867a0_row7_col2 {\n",
       "  background-color: #f2f2db;\n",
       "  color: #000000;\n",
       "}\n",
       "#T_867a0_row8_col1, #T_867a0_row8_col2 {\n",
       "  background-color: #f2f2dc;\n",
       "  color: #000000;\n",
       "}\n",
       "#T_867a0_row9_col1, #T_867a0_row9_col2 {\n",
       "  background-color: #f2f2dd;\n",
       "  color: #000000;\n",
       "}\n",
       "</style>\n",
       "<table id=\"T_867a0_\">\n",
       "  <thead>\n",
       "    <tr>\n",
       "      <th class=\"blank level0\" >&nbsp;</th>\n",
       "      <th class=\"col_heading level0 col0\" >name</th>\n",
       "      <th class=\"col_heading level0 col1\" >count</th>\n",
       "      <th class=\"col_heading level0 col2\" >Pourcentage</th>\n",
       "    </tr>\n",
       "  </thead>\n",
       "  <tbody>\n",
       "    <tr>\n",
       "      <th id=\"T_867a0_level0_row0\" class=\"row_heading level0 row0\" >0</th>\n",
       "      <td id=\"T_867a0_row0_col0\" class=\"data row0 col0\" >covid</td>\n",
       "      <td id=\"T_867a0_row0_col1\" class=\"data row0 col1\" >238157</td>\n",
       "      <td id=\"T_867a0_row0_col2\" class=\"data row0 col2\" >61.697586</td>\n",
       "    </tr>\n",
       "    <tr>\n",
       "      <th id=\"T_867a0_level0_row1\" class=\"row_heading level0 row1\" >1</th>\n",
       "      <td id=\"T_867a0_row1_col0\" class=\"data row1 col0\" >vaccin</td>\n",
       "      <td id=\"T_867a0_row1_col1\" class=\"data row1 col1\" >20617</td>\n",
       "      <td id=\"T_867a0_row1_col2\" class=\"data row1 col2\" >5.341095</td>\n",
       "    </tr>\n",
       "    <tr>\n",
       "      <th id=\"T_867a0_level0_row2\" class=\"row_heading level0 row2\" >2</th>\n",
       "      <td id=\"T_867a0_row2_col0\" class=\"data row2 col0\" >vaccination</td>\n",
       "      <td id=\"T_867a0_row2_col1\" class=\"data row2 col1\" >14721</td>\n",
       "      <td id=\"T_867a0_row2_col2\" class=\"data row2 col2\" >3.813661</td>\n",
       "    </tr>\n",
       "    <tr>\n",
       "      <th id=\"T_867a0_level0_row3\" class=\"row_heading level0 row3\" >3</th>\n",
       "      <td id=\"T_867a0_row3_col0\" class=\"data row3 col0\" >coronavirus</td>\n",
       "      <td id=\"T_867a0_row3_col1\" class=\"data row3 col1\" >10412</td>\n",
       "      <td id=\"T_867a0_row3_col2\" class=\"data row3 col2\" >2.697360</td>\n",
       "    </tr>\n",
       "    <tr>\n",
       "      <th id=\"T_867a0_level0_row4\" class=\"row_heading level0 row4\" >4</th>\n",
       "      <td id=\"T_867a0_row4_col0\" class=\"data row4 col0\" >passsanitaire</td>\n",
       "      <td id=\"T_867a0_row4_col1\" class=\"data row4 col1\" >8492</td>\n",
       "      <td id=\"T_867a0_row4_col2\" class=\"data row4 col2\" >2.199960</td>\n",
       "    </tr>\n",
       "    <tr>\n",
       "      <th id=\"T_867a0_level0_row5\" class=\"row_heading level0 row5\" >5</th>\n",
       "      <td id=\"T_867a0_row5_col0\" class=\"data row5 col0\" >macron</td>\n",
       "      <td id=\"T_867a0_row5_col1\" class=\"data row5 col1\" >8435</td>\n",
       "      <td id=\"T_867a0_row5_col2\" class=\"data row5 col2\" >2.185194</td>\n",
       "    </tr>\n",
       "    <tr>\n",
       "      <th id=\"T_867a0_level0_row6\" class=\"row_heading level0 row6\" >6</th>\n",
       "      <td id=\"T_867a0_row6_col0\" class=\"data row6 col0\" >france</td>\n",
       "      <td id=\"T_867a0_row6_col1\" class=\"data row6 col1\" >7300</td>\n",
       "      <td id=\"T_867a0_row6_col2\" class=\"data row6 col2\" >1.891157</td>\n",
       "    </tr>\n",
       "    <tr>\n",
       "      <th id=\"T_867a0_level0_row7\" class=\"row_heading level0 row7\" >7</th>\n",
       "      <td id=\"T_867a0_row7_col0\" class=\"data row7 col0\" >confinement</td>\n",
       "      <td id=\"T_867a0_row7_col1\" class=\"data row7 col1\" >5598</td>\n",
       "      <td id=\"T_867a0_row7_col2\" class=\"data row7 col2\" >1.450233</td>\n",
       "    </tr>\n",
       "    <tr>\n",
       "      <th id=\"T_867a0_level0_row8\" class=\"row_heading level0 row8\" >8</th>\n",
       "      <td id=\"T_867a0_row8_col0\" class=\"data row8 col0\" >covidfrance</td>\n",
       "      <td id=\"T_867a0_row8_col1\" class=\"data row8 col1\" >3879</td>\n",
       "      <td id=\"T_867a0_row8_col2\" class=\"data row8 col2\" >1.004904</td>\n",
       "    </tr>\n",
       "    <tr>\n",
       "      <th id=\"T_867a0_level0_row9\" class=\"row_heading level0 row9\" >9</th>\n",
       "      <td id=\"T_867a0_row9_col0\" class=\"data row9 col0\" >castex</td>\n",
       "      <td id=\"T_867a0_row9_col1\" class=\"data row9 col1\" >2738</td>\n",
       "      <td id=\"T_867a0_row9_col2\" class=\"data row9 col2\" >0.709314</td>\n",
       "    </tr>\n",
       "  </tbody>\n",
       "</table>\n"
      ],
      "text/plain": [
       "<pandas.io.formats.style.Styler at 0x2af1e2fcf40>"
      ]
     },
     "execution_count": 158,
     "metadata": {},
     "output_type": "execute_result"
    }
   ],
   "source": [
    "# je réétablis des pourcentages plus justes\n",
    "df_total_hashtag['Pourcentage'] = df_total_hashtag['count'] /df_total_hashtag['count'].sum() * 100\n",
    "df_total_hashtag.sort_values(by='count', ascending=False).head(10).style.background_gradient(cmap=cm)"
   ]
  },
  {
   "cell_type": "markdown",
   "metadata": {},
   "source": [
    "##### **<span style=\"color:#6DEFA2\">4.4.3. Visualisation des hashtags</span>**"
   ]
  },
  {
   "cell_type": "code",
   "execution_count": 183,
   "metadata": {},
   "outputs": [
    {
     "name": "stderr",
     "output_type": "stream",
     "text": [
      "C:\\Users\\Bastien\\anaconda3\\lib\\site-packages\\ipykernel\\ipkernel.py:287: DeprecationWarning: `should_run_async` will not call `transform_cell` automatically in the future. Please pass the result to `transformed_cell` argument and any exception that happen during thetransform in `preprocessing_exc_tuple` in IPython 7.17 and above.\n",
      "  and should_run_async(code)\n"
     ]
    },
    {
     "data": {
      "text/plain": [
       "<AxesSubplot:title={'center':'Nombre des 12 sur 63 hashtags les plus présents'}, xlabel='name'>"
      ]
     },
     "execution_count": 183,
     "metadata": {},
     "output_type": "execute_result"
    },
    {
     "data": {
      "image/png": "[encoded data removed]",
      "text/plain": [
       "<Figure size 1440x360 with 1 Axes>"
      ]
     },
     "metadata": {
      "needs_background": "light"
     },
     "output_type": "display_data"
    },
    {
     "data": {
      "image/png": "[encoded data removed]",
      "text/plain": [
       "<Figure size 1440x360 with 1 Axes>"
      ]
     },
     "metadata": {
      "needs_background": "light"
     },
     "output_type": "display_data"
    }
   ],
   "source": [
    "# visualisation des #\n",
    "p = df_total_hashtag[1:].head(12)\n",
    "c = df_total_hashtag.head(12)\n",
    "p.plot.bar(x='name', y='count', rot=0, figsize=(20, 5), title=\"Nombre des 12 sur 63 hashtags les plus présents hors 'covid'\", color='orange')\n",
    "c.plot.bar(x='name', y='count', rot=0, figsize=(20, 5), title=\"Nombre des 12 sur 63 hashtags les plus présents\", color='blue')"
   ]
  },
  {
   "cell_type": "markdown",
   "metadata": {},
   "source": [
    "#### **<span style=\"color:#8EA3EB\">4.5 Analyse des retweet</span>**"
   ]
  },
  {
   "cell_type": "markdown",
   "metadata": {},
   "source": [
    "##### **<span style=\"color:#6DEFA2\">4.5.1. Cleaning des retweets</span>**"
   ]
  },
  {
   "cell_type": "code",
   "execution_count": 160,
   "metadata": {},
   "outputs": [
    {
     "name": "stderr",
     "output_type": "stream",
     "text": [
      "C:\\Users\\Bastien\\anaconda3\\lib\\site-packages\\ipykernel\\ipkernel.py:287: DeprecationWarning: `should_run_async` will not call `transform_cell` automatically in the future. Please pass the result to `transformed_cell` argument and any exception that happen during thetransform in `preprocessing_exc_tuple` in IPython 7.17 and above.\n",
      "  and should_run_async(code)\n"
     ]
    }
   ],
   "source": [
    "# création de liste pour récupérer les tweets\n",
    "tweets_rt = []\n",
    "\n",
    "# création d'une boucle for pour analyser les tweets\n",
    "# paramètres (mots clef, date, langue etc)\n",
    "for i,tweet in enumerate(sntwitter.TwitterSearchScraper('#covid since:2021-01-01 until:2021-12-30 lang:fr').get_items()):\n",
    "    if i>1000000:\n",
    "        break\n",
    "\n",
    "    tweets_rt.append([tweet.date, tweet.id, tweet.content, tweet.retweetCount, tweet.retweetedTweet])"
   ]
  },
  {
   "cell_type": "code",
   "execution_count": 161,
   "metadata": {},
   "outputs": [
    {
     "name": "stderr",
     "output_type": "stream",
     "text": [
      "C:\\Users\\Bastien\\anaconda3\\lib\\site-packages\\ipykernel\\ipkernel.py:287: DeprecationWarning: `should_run_async` will not call `transform_cell` automatically in the future. Please pass the result to `transformed_cell` argument and any exception that happen during thetransform in `preprocessing_exc_tuple` in IPython 7.17 and above.\n",
      "  and should_run_async(code)\n"
     ]
    }
   ],
   "source": [
    "# création de la liste de colonne\n",
    "cols_name = ['Datetime', 'Tweet Id', 'Text', 'Nombre_retweet', 'Retweeté']\n",
    "\n",
    "# création des DataFrame finaux\n",
    "df_tweets_rt = pd.DataFrame(tweets_rt, columns=cols_name)"
   ]
  },
  {
   "cell_type": "code",
   "execution_count": 162,
   "metadata": {},
   "outputs": [
    {
     "name": "stderr",
     "output_type": "stream",
     "text": [
      "C:\\Users\\Bastien\\anaconda3\\lib\\site-packages\\ipykernel\\ipkernel.py:287: DeprecationWarning: `should_run_async` will not call `transform_cell` automatically in the future. Please pass the result to `transformed_cell` argument and any exception that happen during thetransform in `preprocessing_exc_tuple` in IPython 7.17 and above.\n",
      "  and should_run_async(code)\n",
      "<ipython-input-162-5ad5dd4e9c90>:9: SettingWithCopyWarning: \n",
      "A value is trying to be set on a copy of a slice from a DataFrame\n",
      "\n",
      "See the caveats in the documentation: https://pandas.pydata.org/pandas-docs/stable/user_guide/indexing.html#returning-a-view-versus-a-copy\n",
      "  df_tweets_rt['Retweeté'][i] = \"non\"\n",
      "<ipython-input-162-5ad5dd4e9c90>:7: SettingWithCopyWarning: \n",
      "A value is trying to be set on a copy of a slice from a DataFrame\n",
      "\n",
      "See the caveats in the documentation: https://pandas.pydata.org/pandas-docs/stable/user_guide/indexing.html#returning-a-view-versus-a-copy\n",
      "  df_tweets_rt['Retweeté'][i] = \"oui\"\n"
     ]
    }
   ],
   "source": [
    "# passage du nombre de retweet en int\n",
    "df_tweets_rt['Nombre_retweet'] = df_tweets_rt['Nombre_retweet'].astype(int)\n",
    "\n",
    "# création d'une nouvelle colonne pour classer les retweet ou non\n",
    "for i in range(len(df_tweets_rt['Text'])):\n",
    "    if df_tweets_rt['Nombre_retweet'][i] > 0:\n",
    "        df_tweets_rt['Retweeté'][i] = \"oui\"\n",
    "    else:\n",
    "        df_tweets_rt['Retweeté'][i] = \"non\""
   ]
  },
  {
   "cell_type": "markdown",
   "metadata": {},
   "source": [
    "##### **<span style=\"color:#6DEFA2\">4.5.2. Fréquences des retweets</span>**"
   ]
  },
  {
   "cell_type": "code",
   "execution_count": 163,
   "metadata": {},
   "outputs": [
    {
     "name": "stderr",
     "output_type": "stream",
     "text": [
      "C:\\Users\\Bastien\\anaconda3\\lib\\site-packages\\ipykernel\\ipkernel.py:287: DeprecationWarning: `should_run_async` will not call `transform_cell` automatically in the future. Please pass the result to `transformed_cell` argument and any exception that happen during thetransform in `preprocessing_exc_tuple` in IPython 7.17 and above.\n",
      "  and should_run_async(code)\n"
     ]
    }
   ],
   "source": [
    "# encodage pour compter les retweets\n",
    "encodage = pd.get_dummies(df_tweets_rt['Retweeté'])\n",
    "\n",
    "# filtre pour tirer la moyenne des retweetq\n",
    "df_moy_rt = df_tweets_rt[(df_tweets_rt['Nombre_retweet'].astype(int)) > 0.1]"
   ]
  },
  {
   "cell_type": "code",
   "execution_count": 164,
   "metadata": {},
   "outputs": [
    {
     "name": "stdout",
     "output_type": "stream",
     "text": [
      "% de tweet non retweeté =  62.95 %\n",
      "% de tweet non retweeté =  37.05 %\n",
      "moyenne de retweets pour un tweet retweeté =  14.1\n",
      "mediane de retweets pour un tweet retweeté =  2.0\n"
     ]
    },
    {
     "name": "stderr",
     "output_type": "stream",
     "text": [
      "C:\\Users\\Bastien\\anaconda3\\lib\\site-packages\\ipykernel\\ipkernel.py:287: DeprecationWarning: `should_run_async` will not call `transform_cell` automatically in the future. Please pass the result to `transformed_cell` argument and any exception that happen during thetransform in `preprocessing_exc_tuple` in IPython 7.17 and above.\n",
      "  and should_run_async(code)\n"
     ]
    }
   ],
   "source": [
    "print(r'% de tweet non retweeté = ', round(encodage['non'].sum() / len(encodage) * 100,2), \"%\")\n",
    "print(r'% de tweet non retweeté = ', round(encodage['oui'].sum() / len(encodage) * 100,2), \"%\")\n",
    "print(r'moyenne de retweets pour un tweet retweeté = ', round((df_moy_rt['Nombre_retweet']).mean(),2))\n",
    "print(r'mediane de retweets pour un tweet retweeté = ', round((df_moy_rt['Nombre_retweet']).median(),2))"
   ]
  },
  {
   "cell_type": "code",
   "execution_count": 165,
   "metadata": {},
   "outputs": [
    {
     "name": "stderr",
     "output_type": "stream",
     "text": [
      "C:\\Users\\Bastien\\anaconda3\\lib\\site-packages\\ipykernel\\ipkernel.py:287: DeprecationWarning: `should_run_async` will not call `transform_cell` automatically in the future. Please pass the result to `transformed_cell` argument and any exception that happen during thetransform in `preprocessing_exc_tuple` in IPython 7.17 and above.\n",
      "  and should_run_async(code)\n"
     ]
    },
    {
     "data": {
      "text/plain": [
       "<AxesSubplot:ylabel='Retweeté'>"
      ]
     },
     "execution_count": 165,
     "metadata": {},
     "output_type": "execute_result"
    },
    {
     "data": {
      "image/png": "[encoded data removed]",
      "text/plain": [
       "<Figure size 864x432 with 1 Axes>"
      ]
     },
     "metadata": {},
     "output_type": "display_data"
    }
   ],
   "source": [
    "# graphique du nombre de tweet retweeté ou non\n",
    "df_tweets_rt[\"Retweeté\"].value_counts().plot.pie(figsize=(12, 6), autopct='%1.1f%%', fontsize=20)"
   ]
  },
  {
   "cell_type": "code",
   "execution_count": null,
   "metadata": {},
   "outputs": [],
   "source": []
  }
 ],
 "metadata": {
  "interpreter": {
   "hash": "f4ee4bd3b9ef55712942e358269a46b5a81b5ecf1f44ce84f7904381c05bf1cc"
  },
  "kernelspec": {
   "display_name": "Python 3.8.8 64-bit ('base': conda)",
   "language": "python",
   "name": "python3"
  },
  "language_info": {
   "codemirror_mode": {
    "name": "ipython",
    "version": 3
   },
   "file_extension": ".py",
   "mimetype": "text/x-python",
   "name": "python",
   "nbconvert_exporter": "python",
   "pygments_lexer": "ipython3",
   "version": "3.8.8"
  },
  "orig_nbformat": 4
 },
 "nbformat": 4,
 "nbformat_minor": 2
}
